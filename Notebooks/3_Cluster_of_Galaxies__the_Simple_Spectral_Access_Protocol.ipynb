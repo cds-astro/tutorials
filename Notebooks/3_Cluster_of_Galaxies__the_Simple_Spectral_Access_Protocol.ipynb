{
 "cells": [
  {
   "attachments": {},
   "cell_type": "markdown",
   "metadata": {},
   "source": [
    "# Abell 1656: the Coma Cluster of Galaxies __ Simple Spectral Access Protocol (SSA)\n",
    "\n",
    "Stefania Amodeo¹, Thomas Boch¹, Caroline Bot¹, Giulia Iafrate², Katharina A. Lutz¹, Manon Marchand¹, Massimo Ramella², and Jenny G.Sorce³⁴⁵\n",
    "\n",
    "1. Université de Strasbourg, CNRS, Observatoire Astronomique de Strasbourg, UMR 7550, F-67000, Strasbourg, France\n",
    "2. INAF - Osservatorio Astronomico di Trieste\n",
    "3. Univ. Lille, CNRS, Centrale Lille, UMR 9189 CRIStAL, F-59000 Lille, France\n",
    "4. Université Paris-Saclay, CNRS, Institut d'Astrophysique Spatiale, 91405, Orsay, France\n",
    "5. Leibniz-Institut für Astrophysik (AIP), An der Sternwarte 16, D-14482 Potsdam, Germany\n",
    "\n",
    "\n",
    "The original form of this tutorial authored by Massimo Ramella & Giulia Iafrate can be found on the [EURO-VO tutorials page](http://www.euro-vo.org/?q=science/scientific-tutorials). The version here is an adaptation into a jupyter notebook by the Strasbourg astronomical Data Center (CDS) team. \n",
    "\n",
    "***\n",
    "\n",
    "## Introduction\n",
    "\n",
    "The Coma Cluster is an ensemble of over 1000 galaxies that takes its name from the constellation Coma Berenices. \n",
    "\n",
    "The goals of this notebook tutorial are to:\n",
    " 1. examine the Coma cluster of galaxies (Abell 1656) using services and data from the virtual observatory within a jupyter notebook. This allows a quick evaluation of the mean redshift and velocity dispersion of the cluster. Both measurements are important to study the evolution of galaxy clusters. To do so we use redshifts and photometry (Petrosian r magnitude) from the Sloan Digital Sky Survey ([SDSS](https://www.sdss.org/)) and then add redshifts from the Cluster And Infall Region Nearby Survey ([CAIRNS](https://iopscience.iop.org/article/10.1086/378599)) (Rines et al. 2003). This improves the completeness of the redshift sample,\n",
    " 2. research the Mikulski Archive for Space Telescopes ([MAST](https://archive.stsci.edu/)) for Hubble Space Telescope (HST) spectra in the region of the Coma cluster,\n",
    " 3. download a spectrum from MAST and do a quick analysis of the redshift of the emission lines in the spectrum. "
   ]
  },
  {
   "cell_type": "code",
   "execution_count": 1,
   "metadata": {},
   "outputs": [],
   "source": [
    "# Astronomy tools\n",
    "from astropy import units as u\n",
    "from astropy.coordinates import SkyCoord\n",
    "from astropy.io import fits\n",
    "from astropy.table import vstack\n",
    "\n",
    "# Access astronomical databases\n",
    "import pyvo\n",
    "from astroquery.simbad import Simbad\n",
    "from astroquery.vizier import Vizier\n",
    "from astroquery.xmatch import XMatch\n",
    "\n",
    "# Sky visualization\n",
    "from ipyaladin import Aladin\n",
    "\n",
    "# For plots\n",
    "import matplotlib.pyplot as plt\n",
    "\n",
    "# Data handling\n",
    "import numpy as np\n",
    "import specutils.analysis as spec_ana\n",
    "from scipy.optimize import curve_fit\n",
    "from specutils import SpectralRegion, Spectrum1D"
   ]
  },
  {
   "attachments": {},
   "cell_type": "markdown",
   "metadata": {},
   "source": [
    "## Step #1: Exploration of the Coma cluster\n",
    "\n",
    "### Display the region of Abell 1656 in Aladin lite\n",
    "\n",
    "[![Aladin](https://custom-icon-badges.demolab.com/badge/Aladin-gray.svg?logo=aladin&logoColor=purple&logoWidth=20)](https://aladin.cds.unistra.fr/aladin.gml \"https://aladin.cds.unistra.fr/aladin.gml\")\n",
    "\n",
    "We start by displaying the Coma Cluster in an Aladin Lite widget. We will display DSS2 color images (`survey='P/DSS2/color'`) centered on Abell 1656 (`target='A1656'`) and set the field of view to $0.7^\\circ$ (`fov=0.7`). \n",
    "At this distance, this field of view corresponds to approximately 1Mpc: this is large enough to look at the cluster. \n",
    "\n",
    "If you are using Jupyter lab you can open a second python3 notebook. On this new notebook click the \"Python 3\" button in the top-right corner of this notebook to switch kernel. A new window will pop up and you can then select this notebook (i.e. \"Abel1656...\") as a kernel. This will link the two notebooks such that they see the same variables. You may use the second notebook to look at Aladin Lite widget while doing the analysis in this notebook."
   ]
  },
  {
   "cell_type": "code",
   "execution_count": 2,
   "metadata": {},
   "outputs": [
    {
     "data": {
      "application/vnd.jupyter.widget-view+json": {
       "model_id": "330c715e7b034b9f8fbbf16c50629172",
       "version_major": 2,
       "version_minor": 0
      },
      "text/plain": [
       "Aladin(fov=0.7, options=['allow_full_zoomout', 'coo_frame', 'fov', 'full_screen', 'log', 'overlay_survey', 'ov…"
      ]
     },
     "execution_count": 2,
     "metadata": {},
     "output_type": "execute_result"
    }
   ],
   "source": [
    "aladin = Aladin(target=\"A1656\", fov=0.7, survey=\"P/DSS2/color\")\n",
    "aladin"
   ]
  },
  {
   "attachments": {},
   "cell_type": "markdown",
   "metadata": {},
   "source": [
    "You can already see galaxies composing the cluster, and a few stars, like for example the bright [HD112887 star](https://simbad.cds.unistra.fr/simbad/sim-coo?Coord=12+59+32.92000000000+%2B28+03+56.7300000000&Radius=10&Radius.unit=arcmin&submit=submit+query) (click for a surprise Simbad query). But there is more! As with any Aladin Lite implementation, you can interact with this widget. \n",
    " \n",
    " - to zoom in and out, place your mouse pointer on the image and scroll,\n",
    " - you can right-click on a point to grab it and center the reticule on it, \n",
    " - with ![layers](Data/images/ipyaladin_layer.png) you can select other image surveys,\n",
    " - if you would like to look at another target, you can use the search field ![search](Data/images/ipyaladin_search.png) to get there. \n",
    "\n",
    "We can also interact with the variable `aladin`. If, for example, after zooming in and out, you wanted to set the FoV (field of view) again to $0.7^\\circ$, run:"
   ]
  },
  {
   "cell_type": "code",
   "execution_count": 3,
   "metadata": {},
   "outputs": [],
   "source": [
    "aladin.fov = 0.4"
   ]
  },
  {
   "attachments": {},
   "cell_type": "markdown",
   "metadata": {},
   "source": [
    "and look back up ... or call the variable `aladin` again to pop a new widget window. You'll remark that the field of view and reticule position are synchronized, but not the survey if you change if manually with ![layers](Data/images/ipyaladin_layer.png). It can allow the exploration of the same region in two different wavelengths. "
   ]
  },
  {
   "cell_type": "code",
   "execution_count": 4,
   "metadata": {},
   "outputs": [
    {
     "data": {
      "application/vnd.jupyter.widget-view+json": {
       "model_id": "330c715e7b034b9f8fbbf16c50629172",
       "version_major": 2,
       "version_minor": 0
      },
      "text/plain": [
       "Aladin(fov=0.4, options=['allow_full_zoomout', 'coo_frame', 'fov', 'full_screen', 'log', 'overlay_survey', 'ov…"
      ]
     },
     "execution_count": 4,
     "metadata": {},
     "output_type": "execute_result"
    }
   ],
   "source": [
    "aladin"
   ]
  },
  {
   "attachments": {},
   "cell_type": "markdown",
   "metadata": {},
   "source": [
    "### Load the SDSS catalog and select galaxies\n",
    "\n",
    "[![Vizier](https://custom-icon-badges.demolab.com/badge/Vizier-gray.svg?logo=vizier&logoColor=orange&logoWidth=20)](https://vizier.cds.unistra.fr/viz-bin/VizieR \"https://vizier.cds.unistra.fr/viz-bin/VizieR\")\n",
    "\n",
    "In this section, we will access the SDSS DR12 catalog from the [VizieR](https://vizier.cds.unistra.fr/) catalog service. We will download all entries that are located within 40arcmin of the center of the cluster A1656. We start by querying VizieR for all catalogs that match the term `SDSS DR12`.\n",
    "\n",
    "Since this query takes a few seconds, we will store its results in the variable `catalog_list_sdss` for further analysis."
   ]
  },
  {
   "cell_type": "code",
   "execution_count": 5,
   "metadata": {},
   "outputs": [
    {
     "data": {
      "text/plain": [
       "OrderedDict([('V/147', </>),\n",
       "             ('J/ApJ/807/178', </>),\n",
       "             ('J/ApJ/835/161', </>),\n",
       "             ('J/ApJ/888/85', </>),\n",
       "             ('J/ApJ/901/93', </>),\n",
       "             ('J/ApJS/225/23', </>),\n",
       "             ('J/ApJS/228/9', </>),\n",
       "             ('J/ApJS/229/39', </>),\n",
       "             ('J/A+A/583/A86', </>),\n",
       "             ('J/A+A/596/A14', </>),\n",
       "             ('J/PASP/130/H4203', </>),\n",
       "             ('J/MNRAS/452/4153', </>),\n",
       "             ('J/MNRAS/455/3413', </>),\n",
       "             ('J/MNRAS/469/2102', </>)])"
      ]
     },
     "execution_count": 5,
     "metadata": {},
     "output_type": "execute_result"
    }
   ],
   "source": [
    "catalog_list_sdss = Vizier.find_catalogs(\"SDSS DR12\")\n",
    "catalog_list_sdss"
   ]
  },
  {
   "attachments": {},
   "cell_type": "markdown",
   "metadata": {},
   "source": [
    "The output is not easily readable. Let's inspect a bit more this object."
   ]
  },
  {
   "cell_type": "code",
   "execution_count": 6,
   "metadata": {},
   "outputs": [
    {
     "name": "stdout",
     "output_type": "stream",
     "text": [
      "The catalog is returned and stored in a <class 'collections.OrderedDict'>\n"
     ]
    }
   ],
   "source": [
    "print(f\"The catalog is returned and stored in a {type(catalog_list_sdss)}\")"
   ]
  },
  {
   "attachments": {},
   "cell_type": "markdown",
   "metadata": {},
   "source": [
    "To know how to deal with this ordered dictionary, we look at its first entry and list the methods applicable to the associated value."
   ]
  },
  {
   "cell_type": "code",
   "execution_count": 7,
   "metadata": {
    "scrolled": true,
    "tags": []
   },
   "outputs": [
    {
     "name": "stdout",
     "output_type": "stream",
     "text": [
      "['ID', '_ID', '__class__', '__delattr__', '__dict__', '__dir__', '__doc__', '__eq__', '__format__', '__ge__', '__getattribute__', '__gt__', '__hash__', '__init__', '__init_subclass__', '__le__', '__lt__', '__module__', '__ne__', '__new__', '__reduce__', '__reduce_ex__', '__repr__', '__setattr__', '__sizeof__', '__str__', '__subclasshook__', '__weakref__', '_add_coosys', '_add_definitions', '_add_group', '_add_info', '_add_link', '_add_param', '_add_resource', '_add_table', '_add_timesys', '_add_unknown_tag', '_attr_list', '_config', '_coordinate_systems', '_description', '_element_name', '_extra_attributes', '_groups', '_ignore_add', '_infos', '_links', '_name', '_params', '_pos', '_resources', '_tables', '_time_systems', '_type', '_utype', '_utype_in_v1_2', 'coordinate_systems', 'description', 'extra_attributes', 'groups', 'infos', 'iter_coosys', 'iter_fields_and_params', 'iter_info', 'iter_tables', 'iter_timesys', 'links', 'name', 'params', 'parse', 'resources', 'tables', 'time_systems', 'to_xml', 'type', 'utype']\n"
     ]
    }
   ],
   "source": [
    "# just selecting the value of the first item in the dictionnary\n",
    "first_entry_value = catalog_list_sdss[next(iter(catalog_list_sdss))]\n",
    "# the dir() function is built in python > 3. It lists all available methods for an object\n",
    "# it is a really useful tool when discovering a new python library\n",
    "print(dir(first_entry_value))"
   ]
  },
  {
   "attachments": {},
   "cell_type": "markdown",
   "metadata": {},
   "source": [
    "Among the possible methods, we chose to print the `description`, but feel free to explore the catalog list in any other way :)"
   ]
  },
  {
   "cell_type": "code",
   "execution_count": 8,
   "metadata": {
    "scrolled": true,
    "tags": []
   },
   "outputs": [
    {
     "name": "stdout",
     "output_type": "stream",
     "text": [
      "V/147 :  The SDSS Photometric Catalogue, Release 12 (Alam+, 2015)\n",
      "J/ApJ/807/178 :  Newly rich galaxy clusters identified in SDSS-DR12 (Wen+, 2015)\n",
      "J/ApJ/835/161 :  A cosmic void catalog of SDSS DR12 BOSS galaxies (Mao+, 2017)\n",
      "J/ApJ/888/85 :  Ghostly strong Lya absorbers in SDSS DR12 (Fathivavsari, 2020)\n",
      "J/ApJ/901/93 :  Model atmosphere analysis of hot WDs from SDSS DR12 (Bedard+, 2020)\n",
      "J/ApJS/225/23 :  Compact groups of galaxies from SDSS-DR12 (MLCG) (Sohn+, 2016)\n",
      "J/ApJS/228/9 :  Physical parameters of ~300000 SDSS-DR12 QSOs (Kozlowski, 2017)\n",
      "J/ApJS/229/39 :  Narrow line Seyfert 1 galaxies from SDSS-DR12 (Rakshit+, 2017)\n",
      "J/A+A/583/A86 :  DB white dwarfs in SDSS DR10 and DR12 (Koester+, 2015)\n",
      "J/A+A/596/A14 :  Group catalogues of the local universe (Saulder+, 2016)\n",
      "J/PASP/130/H4203 :  Newly spectroscopically confirmed DB white dwarfs (Kong+, 2018)\n",
      "J/MNRAS/452/4153 :  SDSS DR12 QSOs [OIII] doublet (Albareti+, 2015)\n",
      "J/MNRAS/455/3413 :  New white dwarf and subdwarf stars in SDSS DR12 (Kepler+, 2016)\n",
      "J/MNRAS/469/2102 :  White dwarf population from the SDSS DR12 (Anguiano+, 2017)\n"
     ]
    }
   ],
   "source": [
    "# Let's display a list of the catalogs' names and descriptions\n",
    "for key, catalog in catalog_list_sdss.items():\n",
    "    print(key, \": \", catalog.description)"
   ]
  },
  {
   "attachments": {},
   "cell_type": "markdown",
   "metadata": {},
   "source": [
    "In this list, the first item is the complete SDSS catalog, while the others are sub-catalogs produced from the full one that often adds information. These other catalogs are published in astronomical journals (ex: ApJ stands for the Astrophysical Journal) and are curated, formated, and included in the Vizier catalogs list by a team of documentalists and astronomes in the CDS. \n",
    "\n",
    "We are interested in data from the main SDSS DR12 photometric catalog: \"The SDSS Photometric Catalogue, Release 12 (Alam+, 2015)\". We query its content in 10arcmin around the center of the Coma Cluster."
   ]
  },
  {
   "cell_type": "code",
   "execution_count": 9,
   "metadata": {},
   "outputs": [
    {
     "name": "stdout",
     "output_type": "stream",
     "text": [
      "TableList with 1 tables:\n",
      "\t'0:V/147/sdss12' with 23 column(s) and 50 row(s) \n"
     ]
    }
   ],
   "source": [
    "results_test_sdss = Vizier.query_region(\"A1656\", radius=\"0d10m0s\", catalog=\"V/147\")\n",
    "print(results_test_sdss)"
   ]
  },
  {
   "attachments": {},
   "cell_type": "markdown",
   "metadata": {},
   "source": [
    "As you see, there is only one table in our resulting list of tables. Moreover, this table has only 50 rows, an extremely small number! It is actually due to the default limit in the number of rows of the `Vizier.query_region` function. For now, we will use this small table to see what columns could be interesting. We will query without a row limit once we know what we need. This is a general good practice and allows to avoid unneccesary manipulation of huge tables.\n",
    "\n",
    "To access the unique table in the list, we select the first table of the catalogue with `results_test_sdss[0]`. And we can again print the list of available methods for this object:"
   ]
  },
  {
   "cell_type": "code",
   "execution_count": 10,
   "metadata": {
    "scrolled": true,
    "tags": []
   },
   "outputs": [
    {
     "name": "stdout",
     "output_type": "stream",
     "text": [
      "['Column', 'ColumnClass', 'MaskedColumn', 'Row', 'TableColumns', 'TableFormatter', '__array__', '__bytes__', '__class__', '__copy__', '__deepcopy__', '__delattr__', '__delitem__', '__dict__', '__dir__', '__doc__', '__eq__', '__format__', '__ge__', '__getattribute__', '__getitem__', '__getstate__', '__gt__', '__hash__', '__init__', '__init_subclass__', '__ior__', '__le__', '__len__', '__lt__', '__module__', '__ne__', '__new__', '__or__', '__reduce__', '__reduce_ex__', '__repr__', '__setattr__', '__setitem__', '__setstate__', '__sizeof__', '__str__', '__subclasshook__', '__weakref__', '_base_repr_', '_check_names_dtype', '_column_class', '_convert_col_for_table', '_convert_data_to_col', '_convert_string_dtype', '_copy_indices', '_first_colname', '_get_col_cls_for_table', '_init_from_cols', '_init_from_dict', '_init_from_list', '_init_from_list_of_dicts', '_init_from_ndarray', '_init_indices', '_ipython_key_completions_', '_is_list_or_tuple_of_str', '_is_mixin_for_table', '_make_index_row_display_table', '_make_table_from_cols', '_mask', '_masked', '_meta', '_new_from_slice', '_replace_cols', '_replace_column_warnings', '_repr_html_', '_rows_equal', '_set_col_parent_table_and_mask', '_set_column_attribute', '_set_masked', '_set_of_names_in_colnames', '_set_row', 'add_column', 'add_columns', 'add_index', 'add_row', 'argsort', 'as_array', 'colnames', 'columns', 'convert_bytestring_to_unicode', 'convert_unicode_to_bytestring', 'copy', 'dtype', 'field', 'filled', 'formatter', 'from_pandas', 'group_by', 'groups', 'has_masked_columns', 'has_masked_values', 'has_mixin_columns', 'iloc', 'index_column', 'index_mode', 'indices', 'info', 'insert_row', 'items', 'itercols', 'iterrows', 'keep_columns', 'keys', 'loc', 'loc_indices', 'mask', 'masked', 'meta', 'more', 'pformat', 'pformat_all', 'pprint', 'pprint_all', 'pprint_exclude_names', 'pprint_include_names', 'primary_key', 'read', 'remove_column', 'remove_columns', 'remove_indices', 'remove_row', 'remove_rows', 'rename_column', 'rename_columns', 'replace_column', 'reverse', 'round', 'show_in_browser', 'show_in_notebook', 'sort', 'to_pandas', 'update', 'values', 'values_equal', 'write']\n"
     ]
    }
   ],
   "source": [
    "print(dir(results_test_sdss[0]))"
   ]
  },
  {
   "cell_type": "markdown",
   "metadata": {},
   "source": [
    "Let's see its columns:"
   ]
  },
  {
   "cell_type": "code",
   "execution_count": 11,
   "metadata": {
    "scrolled": true,
    "tags": []
   },
   "outputs": [
    {
     "name": "stdout",
     "output_type": "stream",
     "text": [
      "['RA_ICRS', 'DE_ICRS', 'mode', 'q_mode', 'class', 'SDSS12', 'm_SDSS12', '_tab1_18', 'Q', 'umag', 'e_umag', 'gmag', 'e_gmag', 'rmag', 'e_rmag', 'imag', 'e_imag', 'zmag', 'e_zmag', 'zsp', 'zph', 'e_zph', '__zph_']\n"
     ]
    }
   ],
   "source": [
    "print(results_test_sdss[0].colnames)"
   ]
  },
  {
   "cell_type": "markdown",
   "metadata": {},
   "source": [
    "But since the names don't mean a lot by themselves, let's also look at another method, the `info` one that gives more detailed information about each column. If these descriptions are still not clear, you can also have a look directly at the [SDSS DR12 webpage](https://www.sdss.org/dr12/)."
   ]
  },
  {
   "cell_type": "code",
   "execution_count": 12,
   "metadata": {
    "scrolled": true,
    "tags": []
   },
   "outputs": [
    {
     "name": "stdout",
     "output_type": "stream",
     "text": [
      "<Table length=50>\n",
      "  name    dtype  unit  format                                                                   description                                                                  n_bad\n",
      "-------- ------- ---- -------- --------------------------------------------------------------------------------------------------------------------------------------------- -----\n",
      " RA_ICRS float64  deg {:10.6f}                                                                                  Right Ascension of the object (ICRS) at Epoch=\"ObsDate\" (ra)     0\n",
      " DE_ICRS float64  deg {:10.6f}                                                                                     Declination of the object (ICRS) at Epoch=\"ObsDate\" (dec)     0\n",
      "    mode   uint8                                                                                  [1/2] 1: primary (469,053,874 sources), 2: secondary (324,960,094 sources)     0\n",
      "  q_mode    str1                                                                               [+] '+' indicates clean photometry (310,190,812 sources with mode 1+) (clean)     0\n",
      "   class   uint8                                                                                                                       Type of object (3=galaxy, 6=star) (1)     0\n",
      "  SDSS12   str19                                                                                                                     SDSS-DR12 name, based on J2000 position     0\n",
      "m_SDSS12    str1                                                                         [*] The asterisk indicates that 2 different SDSS objects share the same SDSS12 name     0\n",
      "_tab1_18 float64   yr  {:9.4f}                                                                                                                     Mean Observation date (6)     0\n",
      "       Q   uint8                                                                                                 [1/3] Quality of the observation: 1=bad 2=acceptable 3=good     0\n",
      "    umag float32  mag  {:6.3f}                                                                                         [4/38]? Model magnitude in u filter, AB scale (u) (5)     0\n",
      "  e_umag float32  mag  {:6.3f}                                                                                                                  ? Mean error on umag (err_u)     0\n",
      "    gmag float32  mag  {:6.3f}                                                                                         [5/40]? Model magnitude in g filter, AB scale (g) (5)     0\n",
      "  e_gmag float32  mag  {:6.3f}                                                                                                                  ? Mean error on gmag (err_g)     0\n",
      "    rmag float32  mag  {:6.3f}                                                                                         [4/39]? Model magnitude in r filter, AB scale (r) (5)     0\n",
      "  e_rmag float32  mag  {:6.3f}                                                                                                                  ? Mean error on rmag (err_r)     0\n",
      "    imag float32  mag  {:6.3f}                                                                                         [3/40]? Model magnitude in i filter, AB scale (i) (5)     0\n",
      "  e_imag float32  mag  {:6.3f}                                                                                                                  ? Mean error on imag (err_i)     0\n",
      "    zmag float32  mag  {:6.3f}                                                                                         [3/38]? Model magnitude in z filter, AB scale (z) (5)     0\n",
      "  e_zmag float32  mag  {:6.3f}                                                                                                                  ? Mean error on zmag (err_z)     0\n",
      "     zsp float64       {:8.5f}                                                                                      [-0.02/7.1]? Spectroscopic redshift (when SpObjID>0) (7)    47\n",
      "     zph float64      {:10.4f}                                          [-9999/]? Photometric redshift; estimated by robust fit to nearest neighbors in a reference set (12)    17\n",
      "   e_zph float64      {:10.4f}                                                                             [-9999/]? Estimated error of the photometric redshift (zErr) (12)    17\n",
      "  __zph_ float32       {:7.4f} [0.009/0.9]? average redshift of the nearest neighbors; if significantly different from zph this might be a better estimate than zph (nnAvgZ)    17\n",
      "\n"
     ]
    }
   ],
   "source": [
    "print(results_test_sdss[0].info)"
   ]
  },
  {
   "cell_type": "markdown",
   "metadata": {},
   "source": [
    "For our current goal, we will need the coordinates (`RA_ICRS` and `DE_ICRS`), r-band magnitudes (`rmag`),and redshifts (`zsp`) of the galaxies in the Coma cluster. Hence, we only keep these columns. \n",
    "\n",
    "SDSS furthermore provides information on the type of source (galaxies correspond to `class` = 3, see the `info` output above) so we'll want to keep these. \n",
    "\n",
    "Additionally, and this information is specific to the SDSS survey (see [their website](https://www.sdss.org/dr12/help/glossary/)), some objects are observed more than once because of the overlaps between plates. To avoid these duplicates, we select only the primary observation of each object (corresponding to `mode` = 1). \n",
    "\n",
    "A first way of obtaining unique records (`mode` = 1) for the galaxies (`class` = 3) would be to apply masks on the precedent test table:"
   ]
  },
  {
   "cell_type": "code",
   "execution_count": 13,
   "metadata": {
    "scrolled": true,
    "tags": []
   },
   "outputs": [
    {
     "name": "stdout",
     "output_type": "stream",
     "text": [
      " RA_ICRS    DE_ICRS    rmag    zsp   \n",
      "   deg        deg      mag           \n",
      "---------- ---------- ------ --------\n",
      "194.898322  27.824928 25.666       --\n",
      "194.866758  27.836941 18.788       --\n",
      "194.880537  27.835338 21.533       --\n",
      "194.882785  27.830918 20.872       --\n",
      "194.893763  27.823545 19.719       --\n",
      "194.893826  27.829963 23.613       --\n",
      "194.868513  27.834005 22.168       --\n",
      "194.883249  27.839735 22.061       --\n",
      "       ...        ...    ...      ...\n",
      "194.821035  27.872558 22.729       --\n",
      "194.826019  27.882583 22.282       --\n",
      "194.839031  27.866565 21.038  0.51578\n",
      "194.837992  27.862871 22.196       --\n",
      "194.836993  27.865032 24.383       --\n",
      "194.838772  27.871596 18.756       --\n",
      "194.844106  27.868562 21.546       --\n",
      "194.844697  27.869371 22.301       --\n",
      "Length = 33 rows\n"
     ]
    }
   ],
   "source": [
    "masked_sdss = results_test_sdss[0]\n",
    "masked_sdss = masked_sdss[(masked_sdss[\"mode\"] == 1) & (masked_sdss[\"class\"] == 3)]\n",
    "# note the important double [] here\n",
    "masked_sdss[[\"RA_ICRS\", \"DE_ICRS\", \"rmag\", \"zsp\"]].pprint()"
   ]
  },
  {
   "cell_type": "markdown",
   "metadata": {},
   "source": [
    "But here is a second option using a specialized instance of the Vizier class in which we will lift the restriction on the number of rows.\n",
    "\n",
    "To know how to do so, always use the magic help in jupyter notebooks:"
   ]
  },
  {
   "cell_type": "code",
   "execution_count": 14,
   "metadata": {
    "scrolled": true,
    "tags": [
     "output_scroll"
    ]
   },
   "outputs": [
    {
     "name": "stdout",
     "output_type": "stream",
     "text": [
      "Help on VizierClass in module astroquery.vizier.core object:\n",
      "\n",
      "class VizierClass(astroquery.query.BaseQuery)\n",
      " |  VizierClass(columns=['*'], column_filters={}, catalog=None, keywords=None, ucd='', timeout=60, vizier_server='vizier.u-strasbg.fr', row_limit=50)\n",
      " |  \n",
      " |  Method resolution order:\n",
      " |      VizierClass\n",
      " |      astroquery.query.BaseQuery\n",
      " |      builtins.object\n",
      " |  \n",
      " |  Methods defined here:\n",
      " |  \n",
      " |  __init__(self, columns=['*'], column_filters={}, catalog=None, keywords=None, ucd='', timeout=60, vizier_server='vizier.u-strasbg.fr', row_limit=50)\n",
      " |      Parameters\n",
      " |      ----------\n",
      " |      columns : list\n",
      " |          List of strings\n",
      " |      column_filters : dict\n",
      " |      catalog : str or None\n",
      " |      keywords : str or None\n",
      " |      ucd : string\n",
      " |          \"Unified Content Description\" column descriptions.  Specifying\n",
      " |          these will select only catalogs that have columns matching the\n",
      " |          column descriptions defined on the Vizier web pages.\n",
      " |          See http://vizier.u-strasbg.fr/vizier/vizHelp/1.htx#ucd and\n",
      " |          http://cds.u-strasbg.fr/w/doc/UCD/\n",
      " |      vizier_server : string\n",
      " |          Name of the VizieR mirror to use.\n",
      " |          (This parameter's default is set from a configuration object.)\n",
      " |      timeout : number\n",
      " |          timeout for connecting to server\n",
      " |          (This parameter's default is set from a configuration object.)\n",
      " |      row_limit : int\n",
      " |          Maximum number of rows that will be fetched from the result\n",
      " |          (set to -1 for unlimited).\n",
      " |          (This parameter's default is set from a configuration object.)\n",
      " |  \n",
      " |  find_catalogs(self, keywords, include_obsolete=False, verbose=False, max_catalogs=None, return_type='votable')\n",
      " |      Search Vizier for catalogs based on a set of keywords, e.g. author name\n",
      " |      \n",
      " |      Parameters\n",
      " |      ----------\n",
      " |      keywords : list or string\n",
      " |          List of keywords, or space-separated set of keywords.\n",
      " |          From `Vizier <http://vizier.u-strasbg.fr/doc/asu-summary.htx>`_:\n",
      " |          \"names or words of title of catalog. The words are and'ed, i.e.\n",
      " |          only the catalogues characterized by all the words are selected.\"\n",
      " |      include_obsolete : bool, optional\n",
      " |          If set to True, catalogs marked obsolete will also be returned.\n",
      " |      max_catalogs : int or None\n",
      " |          The maximum number of catalogs to return.  If ``None``, all\n",
      " |          catalogs will be returned.\n",
      " |      \n",
      " |      Returns\n",
      " |      -------\n",
      " |      resource_dict : dict\n",
      " |          Dictionary of the \"Resource\" name and the VOTable resource object.\n",
      " |          \"Resources\" are generally publications; one publication may contain\n",
      " |          many tables.\n",
      " |      \n",
      " |      Examples\n",
      " |      --------\n",
      " |      >>> from astroquery.vizier import Vizier\n",
      " |      >>> catalog_list = Vizier.find_catalogs('Kang W51')\n",
      " |      >>> print(catalog_list)\n",
      " |      {u'J/ApJ/706/83': <astropy.io.votable.tree.Resource at 0x108d4d490>,\n",
      " |       u'J/ApJS/191/232': <astropy.io.votable.tree.Resource at 0x108d50490>}\n",
      " |      >>> print({k:v.description for k,v in catalog_list.items()})\n",
      " |      {u'J/ApJ/706/83': u'Embedded YSO candidates in W51 (Kang+, 2009)',\n",
      " |       u'J/ApJS/191/232': u'CO survey of W51 molecular cloud (Bieging+, 2010)'}\n",
      " |  \n",
      " |  get_catalogs(self, *args, **kwargs)\n",
      " |      Queries the service and returns a table object.\n",
      " |      \n",
      " |      Query the Vizier service for a specific catalog\n",
      " |      \n",
      " |      Parameters\n",
      " |      ----------\n",
      " |      catalog : str, Resource, or list, optional\n",
      " |          The catalog(s) that will be retrieved\n",
      " |      \n",
      " |      Returns\n",
      " |      -------\n",
      " |      table : A `~astropy.table.Table` object.\n",
      " |  \n",
      " |  get_catalogs_async(self, catalog, verbose=False, return_type='votable', get_query_payload=False)\n",
      " |      Query the Vizier service for a specific catalog\n",
      " |      \n",
      " |      Parameters\n",
      " |      ----------\n",
      " |      catalog : str, Resource, or list, optional\n",
      " |          The catalog(s) that will be retrieved\n",
      " |      \n",
      " |      Returns\n",
      " |      -------\n",
      " |      response : `~requests.Response`\n",
      " |          Returned if asynchronous method used\n",
      " |  \n",
      " |  query_constraints(self, *args, **kwargs)\n",
      " |      Queries the service and returns a table object.\n",
      " |      \n",
      " |      Send a query to Vizier in which you specify constraints with\n",
      " |      keyword/value pairs.\n",
      " |      \n",
      " |      See `the vizier constraints page\n",
      " |      <http://vizier.cfa.harvard.edu/vizier/vizHelp/cst.htx>`_ for details.\n",
      " |      \n",
      " |      Parameters\n",
      " |      ----------\n",
      " |      catalog : str or list, optional\n",
      " |          The catalog(s) which must be searched for this identifier.\n",
      " |          If not specified, all matching catalogs will be searched.\n",
      " |      kwargs : dict\n",
      " |          Any key/value pairs besides \"catalog\" will be parsed\n",
      " |          as additional column filters.\n",
      " |      \n",
      " |      Examples\n",
      " |      --------\n",
      " |      >>> from astroquery.vizier import Vizier\n",
      " |      >>> # note that glon/glat constraints here *must* be floats\n",
      " |      >>> result = Vizier.query_constraints(catalog='J/ApJ/723/492/table1',\n",
      " |      ...                                   GLON='>49.0 & <51.0', GLAT='<0')\n",
      " |      >>> result[result.keys()[0]].pprint()\n",
      " |          GRSMC      GLON   GLAT   VLSR  ... RD09 _RA.icrs _DE.icrs\n",
      " |      ------------- ------ ------ ------ ... ---- -------- --------\n",
      " |      G049.49-00.41  49.49  -0.41  56.90 ... RD09   290.95    14.50\n",
      " |      G049.39-00.26  49.39  -0.26  50.94 ... RD09   290.77    14.48\n",
      " |      G049.44-00.06  49.44  -0.06  62.00 ... RD09   290.61    14.62\n",
      " |      G049.04-00.31  49.04  -0.31  66.25 ... RD09   290.64    14.15\n",
      " |      G049.74-00.56  49.74  -0.56  67.95 ... RD09   291.21    14.65\n",
      " |      G050.39-00.41  50.39  -0.41  41.17 ... RD09   291.39    15.29\n",
      " |      G050.24-00.61  50.24  -0.61  41.17 ... RD09   291.50    15.06\n",
      " |      G050.94-00.61  50.94  -0.61  40.32 ... RD09   291.85    15.68\n",
      " |      G049.99-00.16  49.99  -0.16  46.27 ... RD09   290.97    15.06\n",
      " |      G049.44-00.06  49.44  -0.06  46.27 ... RD09   290.61    14.62\n",
      " |      G049.54-00.01  49.54  -0.01  56.05 ... RD09   290.61    14.73\n",
      " |      G049.74-00.01  49.74  -0.01  48.39 ... RD09   290.71    14.91\n",
      " |      G049.54-00.91  49.54  -0.91  43.29 ... RD09   291.43    14.31\n",
      " |      G049.04-00.46  49.04  -0.46  58.60 ... RD09   290.78    14.08\n",
      " |      G049.09-00.06  49.09  -0.06  46.69 ... RD09   290.44    14.31\n",
      " |      G050.84-00.11  50.84  -0.11  50.52 ... RD09   291.34    15.83\n",
      " |      G050.89-00.11  50.89  -0.11  59.45 ... RD09   291.37    15.87\n",
      " |      G050.44-00.41  50.44  -0.41  64.12 ... RD09   291.42    15.34\n",
      " |      G050.84-00.76  50.84  -0.76  61.15 ... RD09   291.94    15.52\n",
      " |      G050.29-00.46  50.29  -0.46  14.81 ... RD09   291.39    15.18\n",
      " |      \n",
      " |      Returns\n",
      " |      -------\n",
      " |      table : A `~astropy.table.Table` object.\n",
      " |  \n",
      " |  query_constraints_async(self, catalog=None, return_type='votable', cache=True, get_query_payload=False, **kwargs)\n",
      " |      Send a query to Vizier in which you specify constraints with\n",
      " |      keyword/value pairs.\n",
      " |      \n",
      " |      See `the vizier constraints page\n",
      " |      <http://vizier.cfa.harvard.edu/vizier/vizHelp/cst.htx>`_ for details.\n",
      " |      \n",
      " |      Parameters\n",
      " |      ----------\n",
      " |      catalog : str or list, optional\n",
      " |          The catalog(s) which must be searched for this identifier.\n",
      " |          If not specified, all matching catalogs will be searched.\n",
      " |      kwargs : dict\n",
      " |          Any key/value pairs besides \"catalog\" will be parsed\n",
      " |          as additional column filters.\n",
      " |      \n",
      " |      Returns\n",
      " |      -------\n",
      " |      response : `requests.Response`\n",
      " |          The response of the HTTP request.\n",
      " |      \n",
      " |      Examples\n",
      " |      --------\n",
      " |      >>> from astroquery.vizier import Vizier\n",
      " |      >>> # note that glon/glat constraints here *must* be floats\n",
      " |      >>> result = Vizier.query_constraints(catalog='J/ApJ/723/492/table1',\n",
      " |      ...                                   GLON='>49.0 & <51.0', GLAT='<0')\n",
      " |      >>> result[result.keys()[0]].pprint()\n",
      " |          GRSMC      GLON   GLAT   VLSR  ... RD09 _RA.icrs _DE.icrs\n",
      " |      ------------- ------ ------ ------ ... ---- -------- --------\n",
      " |      G049.49-00.41  49.49  -0.41  56.90 ... RD09   290.95    14.50\n",
      " |      G049.39-00.26  49.39  -0.26  50.94 ... RD09   290.77    14.48\n",
      " |      G049.44-00.06  49.44  -0.06  62.00 ... RD09   290.61    14.62\n",
      " |      G049.04-00.31  49.04  -0.31  66.25 ... RD09   290.64    14.15\n",
      " |      G049.74-00.56  49.74  -0.56  67.95 ... RD09   291.21    14.65\n",
      " |      G050.39-00.41  50.39  -0.41  41.17 ... RD09   291.39    15.29\n",
      " |      G050.24-00.61  50.24  -0.61  41.17 ... RD09   291.50    15.06\n",
      " |      G050.94-00.61  50.94  -0.61  40.32 ... RD09   291.85    15.68\n",
      " |      G049.99-00.16  49.99  -0.16  46.27 ... RD09   290.97    15.06\n",
      " |      G049.44-00.06  49.44  -0.06  46.27 ... RD09   290.61    14.62\n",
      " |      G049.54-00.01  49.54  -0.01  56.05 ... RD09   290.61    14.73\n",
      " |      G049.74-00.01  49.74  -0.01  48.39 ... RD09   290.71    14.91\n",
      " |      G049.54-00.91  49.54  -0.91  43.29 ... RD09   291.43    14.31\n",
      " |      G049.04-00.46  49.04  -0.46  58.60 ... RD09   290.78    14.08\n",
      " |      G049.09-00.06  49.09  -0.06  46.69 ... RD09   290.44    14.31\n",
      " |      G050.84-00.11  50.84  -0.11  50.52 ... RD09   291.34    15.83\n",
      " |      G050.89-00.11  50.89  -0.11  59.45 ... RD09   291.37    15.87\n",
      " |      G050.44-00.41  50.44  -0.41  64.12 ... RD09   291.42    15.34\n",
      " |      G050.84-00.76  50.84  -0.76  61.15 ... RD09   291.94    15.52\n",
      " |      G050.29-00.46  50.29  -0.46  14.81 ... RD09   291.39    15.18\n",
      " |  \n",
      " |  query_object(self, *args, **kwargs)\n",
      " |      Queries the service and returns a table object.\n",
      " |      \n",
      " |      Serves the same purpose as `query_object` but only\n",
      " |      returns the HTTP response rather than the parsed result.\n",
      " |      \n",
      " |      Parameters\n",
      " |      ----------\n",
      " |      object_name : str\n",
      " |          The name of the identifier.\n",
      " |      catalog : str or list, optional\n",
      " |          The catalog(s) which must be searched for this identifier.\n",
      " |          If not specified, all matching catalogs will be searched.\n",
      " |      radius : `~astropy.units.Quantity` or None\n",
      " |          A degree-equivalent radius (optional).\n",
      " |      coordinate_system : str or None\n",
      " |          If the object name is given as a coordinate, you *should* use\n",
      " |          `~astroquery.vizier.VizierClass.query_region`, but you can\n",
      " |          specify a coordinate frame here instead (today, J2000, B1975,\n",
      " |          B1950, B1900, B1875, B1855, Galactic, Supergal., Ecl.J2000, )\n",
      " |      \n",
      " |      \n",
      " |      Returns\n",
      " |      -------\n",
      " |      table : A `~astropy.table.Table` object.\n",
      " |  \n",
      " |  query_object_async(self, object_name, catalog=None, radius=None, coordinate_frame=None, get_query_payload=False, return_type='votable', cache=True)\n",
      " |      Serves the same purpose as `query_object` but only\n",
      " |      returns the HTTP response rather than the parsed result.\n",
      " |      \n",
      " |      Parameters\n",
      " |      ----------\n",
      " |      object_name : str\n",
      " |          The name of the identifier.\n",
      " |      catalog : str or list, optional\n",
      " |          The catalog(s) which must be searched for this identifier.\n",
      " |          If not specified, all matching catalogs will be searched.\n",
      " |      radius : `~astropy.units.Quantity` or None\n",
      " |          A degree-equivalent radius (optional).\n",
      " |      coordinate_system : str or None\n",
      " |          If the object name is given as a coordinate, you *should* use\n",
      " |          `~astroquery.vizier.VizierClass.query_region`, but you can\n",
      " |          specify a coordinate frame here instead (today, J2000, B1975,\n",
      " |          B1950, B1900, B1875, B1855, Galactic, Supergal., Ecl.J2000, )\n",
      " |      \n",
      " |      Returns\n",
      " |      -------\n",
      " |      response : `~requests.Response`\n",
      " |          The response of the HTTP request.\n",
      " |  \n",
      " |  query_region(self, *args, **kwargs)\n",
      " |      Queries the service and returns a table object.\n",
      " |      \n",
      " |      Serves the same purpose as `query_region` but only\n",
      " |      returns the HTTP response rather than the parsed result.\n",
      " |      \n",
      " |      Parameters\n",
      " |      ----------\n",
      " |      coordinates : str, `astropy.coordinates` object, or `~astropy.table.Table`\n",
      " |          The target around which to search. It may be specified as a\n",
      " |          string in which case it is resolved using online services or as\n",
      " |          the appropriate `astropy.coordinates` object. ICRS coordinates\n",
      " |          may also be entered as a string.  If a table is used, each of\n",
      " |          its rows will be queried, as long as it contains two columns\n",
      " |          named ``_RAJ2000`` and ``_DEJ2000`` with proper angular units.\n",
      " |      radius : convertible to `~astropy.coordinates.Angle`\n",
      " |          The radius of the circular region to query.\n",
      " |      inner_radius : convertible to `~astropy.coordinates.Angle`\n",
      " |          When set in addition to ``radius``, the queried region becomes\n",
      " |          annular, with outer radius ``radius`` and inner radius\n",
      " |          ``inner_radius``.\n",
      " |      width : convertible to `~astropy.coordinates.Angle`\n",
      " |          The width of the square region to query.\n",
      " |      height : convertible to `~astropy.coordinates.Angle`\n",
      " |          When set in addition to ``width``, the queried region becomes\n",
      " |          rectangular, with the specified ``width`` and ``height``.\n",
      " |      catalog : str or list, optional\n",
      " |          The catalog(s) which must be searched for this identifier.\n",
      " |          If not specified, all matching catalogs will be searched.\n",
      " |      column_filters: dict, optional\n",
      " |          Constraints on columns of the result. The dictionary contains\n",
      " |          the column name as keys, and the constraints as values.\n",
      " |      frame : str, optional\n",
      " |          The frame to use for the request. It should be 'fk5', 'icrs',\n",
      " |          or 'galactic'. This choice influences the the orientation of\n",
      " |          box requests.\n",
      " |      \n",
      " |      \n",
      " |      Returns\n",
      " |      -------\n",
      " |      table : A `~astropy.table.Table` object.\n",
      " |  \n",
      " |  query_region_async(self, coordinates, radius=None, inner_radius=None, width=None, height=None, catalog=None, get_query_payload=False, cache=True, return_type='votable', column_filters={}, frame='fk5')\n",
      " |      Serves the same purpose as `query_region` but only\n",
      " |      returns the HTTP response rather than the parsed result.\n",
      " |      \n",
      " |      Parameters\n",
      " |      ----------\n",
      " |      coordinates : str, `astropy.coordinates` object, or `~astropy.table.Table`\n",
      " |          The target around which to search. It may be specified as a\n",
      " |          string in which case it is resolved using online services or as\n",
      " |          the appropriate `astropy.coordinates` object. ICRS coordinates\n",
      " |          may also be entered as a string.  If a table is used, each of\n",
      " |          its rows will be queried, as long as it contains two columns\n",
      " |          named ``_RAJ2000`` and ``_DEJ2000`` with proper angular units.\n",
      " |      radius : convertible to `~astropy.coordinates.Angle`\n",
      " |          The radius of the circular region to query.\n",
      " |      inner_radius : convertible to `~astropy.coordinates.Angle`\n",
      " |          When set in addition to ``radius``, the queried region becomes\n",
      " |          annular, with outer radius ``radius`` and inner radius\n",
      " |          ``inner_radius``.\n",
      " |      width : convertible to `~astropy.coordinates.Angle`\n",
      " |          The width of the square region to query.\n",
      " |      height : convertible to `~astropy.coordinates.Angle`\n",
      " |          When set in addition to ``width``, the queried region becomes\n",
      " |          rectangular, with the specified ``width`` and ``height``.\n",
      " |      catalog : str or list, optional\n",
      " |          The catalog(s) which must be searched for this identifier.\n",
      " |          If not specified, all matching catalogs will be searched.\n",
      " |      column_filters: dict, optional\n",
      " |          Constraints on columns of the result. The dictionary contains\n",
      " |          the column name as keys, and the constraints as values.\n",
      " |      frame : str, optional\n",
      " |          The frame to use for the request. It should be 'fk5', 'icrs',\n",
      " |          or 'galactic'. This choice influences the the orientation of\n",
      " |          box requests.\n",
      " |      \n",
      " |      Returns\n",
      " |      -------\n",
      " |      response : `requests.Response`\n",
      " |          The response of the HTTP request.\n",
      " |  \n",
      " |  ----------------------------------------------------------------------\n",
      " |  Readonly properties defined here:\n",
      " |  \n",
      " |  valid_keywords\n",
      " |  \n",
      " |  ----------------------------------------------------------------------\n",
      " |  Data descriptors defined here:\n",
      " |  \n",
      " |  catalog\n",
      " |      The default catalog to search.  If left empty, will search all\n",
      " |      catalogs.\n",
      " |  \n",
      " |  column_filters\n",
      " |      Filters to run on the individual columns. See the Vizier website\n",
      " |      for details.\n",
      " |  \n",
      " |  columns\n",
      " |      Columns to include.  The special keyword 'all' will return ALL\n",
      " |      columns from ALL retrieved tables.\n",
      " |  \n",
      " |  keywords\n",
      " |      The set of keywords to filter the Vizier search\n",
      " |  \n",
      " |  ucd\n",
      " |      UCD criteria: see http://vizier.u-strasbg.fr/vizier/vizHelp/1.htx#ucd\n",
      " |      \n",
      " |      Examples\n",
      " |      --------\n",
      " |      >>> Vizier.ucd = '(spect.dopplerVeloc*|phys.veloc*)'\n",
      " |  \n",
      " |  ----------------------------------------------------------------------\n",
      " |  Data and other attributes defined here:\n",
      " |  \n",
      " |  __abstractmethods__ = frozenset()\n",
      " |  \n",
      " |  ----------------------------------------------------------------------\n",
      " |  Methods inherited from astroquery.query.BaseQuery:\n",
      " |  \n",
      " |  __call__(self, *args, **kwargs)\n",
      " |      init a fresh copy of self\n",
      " |  \n",
      " |  ----------------------------------------------------------------------\n",
      " |  Data descriptors inherited from astroquery.query.BaseQuery:\n",
      " |  \n",
      " |  __dict__\n",
      " |      dictionary for instance variables (if defined)\n",
      " |  \n",
      " |  __weakref__\n",
      " |      list of weak references to the object (if defined)\n",
      "\n"
     ]
    }
   ],
   "source": [
    "help(Vizier)"
   ]
  },
  {
   "cell_type": "markdown",
   "metadata": {},
   "source": [
    "Where we can directly read that we should give the `columns` names as a list, the `column_filters` as a dictionary, and the `row_limit` as an int. It is even specified that `row_limit` = -1 puts no limit on the number of rows. So let us do this:"
   ]
  },
  {
   "cell_type": "code",
   "execution_count": 15,
   "metadata": {},
   "outputs": [],
   "source": [
    "vizier_instance = Vizier(\n",
    "    columns=[\"RA_ICRS\", \"DE_ICRS\", \"rmag\", \"zsp\"],\n",
    "    column_filters={\"class\": \"==3\", \"mode\": \"==1\"},\n",
    "    row_limit=-1,\n",
    ")"
   ]
  },
  {
   "cell_type": "markdown",
   "metadata": {},
   "source": [
    "Now that we have prepared everything, we can query VizieR for all galaxies, which are primary sources and within 40arcmin of the center of the Coma cluster. Note that VizieR knows that `A1656` is the center of the Coma cluster. If you wanted to search at some other place in the sky, you could also give coordinates (in the form of Astropy's `SkyCoord`) instead of `'A1656'`."
   ]
  },
  {
   "cell_type": "code",
   "execution_count": 16,
   "metadata": {},
   "outputs": [
    {
     "name": "stdout",
     "output_type": "stream",
     "text": [
      "TableList with 1 tables:\n",
      "\t'0:V/147/sdss12' with 4 column(s) and 23770 row(s) \n"
     ]
    }
   ],
   "source": [
    "results_coma_sdss = vizier_instance.query_region(\n",
    "    \"A1656\",\n",
    "    radius=\"0d40m0s\",\n",
    "    catalog=\"V/147\",\n",
    ")\n",
    "print(results_coma_sdss)"
   ]
  },
  {
   "cell_type": "markdown",
   "metadata": {},
   "source": [
    "As you can see, the result of our query includes data from one catalog for 23770 objects (*i.e.* the table has 23770 rows). The output from this query is again a list of Astropy Table objects. We assign the table to the variable `sdss` and work with this from here on. "
   ]
  },
  {
   "cell_type": "code",
   "execution_count": 17,
   "metadata": {
    "scrolled": true,
    "tags": [
     "output_scroll"
    ]
   },
   "outputs": [
    {
     "data": {
      "text/html": [
       "<div><i>Table length=23770</i>\n",
       "<table id=\"table140406619234912\" class=\"table-striped table-bordered table-condensed\">\n",
       "<thead><tr><th>RA_ICRS</th><th>DE_ICRS</th><th>rmag</th><th>zsp</th></tr></thead>\n",
       "<thead><tr><th>deg</th><th>deg</th><th>mag</th><th></th></tr></thead>\n",
       "<thead><tr><th>float64</th><th>float64</th><th>float32</th><th>float64</th></tr></thead>\n",
       "<tr><td>195.208103</td><td>27.362136</td><td>22.487</td><td>--</td></tr>\n",
       "<tr><td>195.211488</td><td>27.368132</td><td>21.056</td><td>--</td></tr>\n",
       "<tr><td>195.234870</td><td>27.366292</td><td>20.244</td><td>--</td></tr>\n",
       "<tr><td>195.217532</td><td>27.366354</td><td>22.695</td><td>--</td></tr>\n",
       "<tr><td>195.220894</td><td>27.375381</td><td>22.440</td><td>--</td></tr>\n",
       "<tr><td>195.221253</td><td>27.372262</td><td>22.266</td><td>--</td></tr>\n",
       "<tr><td>195.240371</td><td>27.366851</td><td>21.962</td><td>--</td></tr>\n",
       "<tr><td>...</td><td>...</td><td>...</td><td>...</td></tr>\n",
       "<tr><td>194.716719</td><td>28.611990</td><td>20.690</td><td>--</td></tr>\n",
       "<tr><td>194.725021</td><td>28.614682</td><td>19.639</td><td>--</td></tr>\n",
       "<tr><td>194.728944</td><td>28.611492</td><td>21.789</td><td>--</td></tr>\n",
       "<tr><td>194.739441</td><td>28.611392</td><td>21.153</td><td>--</td></tr>\n",
       "<tr><td>194.708830</td><td>28.603833</td><td>22.000</td><td>--</td></tr>\n",
       "<tr><td>194.726138</td><td>28.595851</td><td>22.754</td><td>--</td></tr>\n",
       "<tr><td>194.722736</td><td>28.606983</td><td>23.570</td><td>--</td></tr>\n",
       "<tr><td>194.742907</td><td>28.611415</td><td>22.426</td><td>--</td></tr>\n",
       "</table></div>"
      ],
      "text/plain": [
       "<Table length=23770>\n",
       " RA_ICRS    DE_ICRS     rmag    zsp  \n",
       "   deg        deg       mag          \n",
       " float64    float64   float32 float64\n",
       "---------- ---------- ------- -------\n",
       "195.208103  27.362136  22.487      --\n",
       "195.211488  27.368132  21.056      --\n",
       "195.234870  27.366292  20.244      --\n",
       "195.217532  27.366354  22.695      --\n",
       "195.220894  27.375381  22.440      --\n",
       "195.221253  27.372262  22.266      --\n",
       "195.240371  27.366851  21.962      --\n",
       "       ...        ...     ...     ...\n",
       "194.716719  28.611990  20.690      --\n",
       "194.725021  28.614682  19.639      --\n",
       "194.728944  28.611492  21.789      --\n",
       "194.739441  28.611392  21.153      --\n",
       "194.708830  28.603833  22.000      --\n",
       "194.726138  28.595851  22.754      --\n",
       "194.722736  28.606983  23.570      --\n",
       "194.742907  28.611415  22.426      --"
      ]
     },
     "execution_count": 17,
     "metadata": {},
     "output_type": "execute_result"
    }
   ],
   "source": [
    "sdss = results_coma_sdss[0]\n",
    "sdss"
   ]
  },
  {
   "attachments": {},
   "cell_type": "markdown",
   "metadata": {},
   "source": [
    "By navigating this table, you'll remark that very few entries have a spectroscopic redshift `zsp`. Thus we will complete the results later with information from another table. But we'll first ensure the validity of the entries here. "
   ]
  },
  {
   "cell_type": "markdown",
   "metadata": {},
   "source": [
    "### Identify the brightest sources as stars contaminating the sample\n",
    "\n",
    "<img src=Data/images/logos/aladin.svg alt=\"aladin's logo\" style=\"height:100px; display: inline-block;\"/>\n",
    "We have already restricted our sample to sources that are classified as galaxies (`class` = 3). However, for very bright sources, stars might be confused with galaxies. To test this and exclude any contamination from stars, we now take a closer look at the brightest sources. To do so we select sources brighter than 11.5 mag in r-band (`rmag < 11.5`) and check with the Aladin widget what these sources look like."
   ]
  },
  {
   "cell_type": "code",
   "execution_count": 18,
   "metadata": {},
   "outputs": [
    {
     "data": {
      "application/vnd.jupyter.widget-view+json": {
       "model_id": "330c715e7b034b9f8fbbf16c50629172",
       "version_major": 2,
       "version_minor": 0
      },
      "text/plain": [
       "Aladin(fov=0.4, options=['allow_full_zoomout', 'coo_frame', 'fov', 'full_screen', 'log', 'overlay_survey', 'ov…"
      ]
     },
     "execution_count": 18,
     "metadata": {},
     "output_type": "execute_result"
    }
   ],
   "source": [
    "aladin"
   ]
  },
  {
   "cell_type": "code",
   "execution_count": 19,
   "metadata": {},
   "outputs": [
    {
     "name": "stdout",
     "output_type": "stream",
     "text": [
      "Our sample contains 11 really bright sources with a magnitude below 11.5.\n"
     ]
    }
   ],
   "source": [
    "limit_magnitude = 11.5\n",
    "stars = sdss[sdss[\"rmag\"] < limit_magnitude]\n",
    "aladin.add_table(stars[\"RA_ICRS\", \"DE_ICRS\"])\n",
    "print(\n",
    "    f\"Our sample contains {len(stars)} really bright sources with a magnitude below {limit_magnitude}.\",\n",
    ")\n",
    "aladin.fov = 9"
   ]
  },
  {
   "attachments": {},
   "cell_type": "markdown",
   "metadata": {},
   "source": [
    "With `aladin.add_table(stars)`, we have added symbols to the Aladin Lite widget at the location of the brightest sources (*i.e.* stars). You will be able to find all the brightest sources. By looking at each source you will find that these are indeed stars. Feel free to change the limit magnitude or other parameters to see if you can find better filters, this one is pretty rudimentary.\n",
    "\n",
    "You can choose to hide or show the symbols for the table entries in the ![layer](Data/images/ipyaladin_layer.png) options, the tableappears as `catalog`"
   ]
  },
  {
   "cell_type": "markdown",
   "metadata": {},
   "source": [
    "### Build a subset of galaxies with photometry and redshift in SDSS\n",
    "\n",
    "Now on to exploring the galaxies in our sample. \n",
    "We again build a subset, this time for all sources fainter than 11.5mag (to leave out the stars identified in the section above) but brighter than 17.77mag, which is the [completeness limit of the SDSS spectroscopic sample](https://www.sdss.org/dr12/algorithms/legacy_target_selection/). "
   ]
  },
  {
   "cell_type": "code",
   "execution_count": 20,
   "metadata": {
    "scrolled": true,
    "tags": [
     "output_scroll"
    ]
   },
   "outputs": [
    {
     "data": {
      "text/html": [
       "<div><i>Table length=632</i>\n",
       "<table id=\"table140406619360464\" class=\"table-striped table-bordered table-condensed\">\n",
       "<thead><tr><th>RA_ICRS</th><th>DE_ICRS</th><th>rmag</th><th>zsp</th></tr></thead>\n",
       "<thead><tr><th>deg</th><th>deg</th><th>mag</th><th></th></tr></thead>\n",
       "<thead><tr><th>float64</th><th>float64</th><th>float32</th><th>float64</th></tr></thead>\n",
       "<tr><td>195.275800</td><td>27.397826</td><td>15.842</td><td>0.02706</td></tr>\n",
       "<tr><td>194.905631</td><td>27.336047</td><td>16.011</td><td>0.02326</td></tr>\n",
       "<tr><td>195.121706</td><td>27.333216</td><td>16.015</td><td>1.33693</td></tr>\n",
       "<tr><td>195.074226</td><td>27.387516</td><td>15.367</td><td>0.03678</td></tr>\n",
       "<tr><td>195.074954</td><td>27.385966</td><td>17.653</td><td>--</td></tr>\n",
       "<tr><td>195.219915</td><td>27.384368</td><td>17.561</td><td>--</td></tr>\n",
       "<tr><td>195.208010</td><td>27.405782</td><td>13.926</td><td>0.02198</td></tr>\n",
       "<tr><td>...</td><td>...</td><td>...</td><td>...</td></tr>\n",
       "<tr><td>194.980971</td><td>28.629172</td><td>16.499</td><td>--</td></tr>\n",
       "<tr><td>194.917201</td><td>28.630802</td><td>15.066</td><td>0.01784</td></tr>\n",
       "<tr><td>194.916887</td><td>28.633825</td><td>17.413</td><td>--</td></tr>\n",
       "<tr><td>194.824699</td><td>28.624001</td><td>16.550</td><td>0.03470</td></tr>\n",
       "<tr><td>194.346049</td><td>28.369145</td><td>17.729</td><td>0.06847</td></tr>\n",
       "<tr><td>194.508327</td><td>28.456361</td><td>16.738</td><td>0.16127</td></tr>\n",
       "<tr><td>194.619247</td><td>28.526825</td><td>15.438</td><td>0.06149</td></tr>\n",
       "<tr><td>194.562768</td><td>28.521783</td><td>16.358</td><td>0.02304</td></tr>\n",
       "</table></div>"
      ],
      "text/plain": [
       "<Table length=632>\n",
       " RA_ICRS    DE_ICRS     rmag    zsp   \n",
       "   deg        deg       mag           \n",
       " float64    float64   float32 float64 \n",
       "---------- ---------- ------- --------\n",
       "195.275800  27.397826  15.842  0.02706\n",
       "194.905631  27.336047  16.011  0.02326\n",
       "195.121706  27.333216  16.015  1.33693\n",
       "195.074226  27.387516  15.367  0.03678\n",
       "195.074954  27.385966  17.653       --\n",
       "195.219915  27.384368  17.561       --\n",
       "195.208010  27.405782  13.926  0.02198\n",
       "       ...        ...     ...      ...\n",
       "194.980971  28.629172  16.499       --\n",
       "194.917201  28.630802  15.066  0.01784\n",
       "194.916887  28.633825  17.413       --\n",
       "194.824699  28.624001  16.550  0.03470\n",
       "194.346049  28.369145  17.729  0.06847\n",
       "194.508327  28.456361  16.738  0.16127\n",
       "194.619247  28.526825  15.438  0.06149\n",
       "194.562768  28.521783  16.358  0.02304"
      ]
     },
     "execution_count": 20,
     "metadata": {},
     "output_type": "execute_result"
    }
   ],
   "source": [
    "sdss_sample = sdss[(sdss[\"rmag\"] > 11.5) & (sdss[\"rmag\"] < 17.77)]\n",
    "sdss_sample"
   ]
  },
  {
   "cell_type": "markdown",
   "metadata": {},
   "source": [
    "### Improve the completeness with other sources of redshifts in Vizier\n",
    "\n",
    "\n",
    "[![Vizier](https://custom-icon-badges.demolab.com/badge/Vizier-gray.svg?logo=vizier&logoColor=orange&logoWidth=20)](https://vizier.cds.unistra.fr/viz-bin/VizieR \"https://vizier.cds.unistra.fr/viz-bin/VizieR\")\n",
    "\n",
    "As you can see in the table above, not all galaxies in our zsp17 sample have redshift measurements (some rows have '--' in the 'zsp' column, i.e. they are masked). So to improve the completeness of our sample we will now use Vizier to search for redshifts in the Rines et al (2003) catalog. First, find all catalogs that match the search terms 'redshifts Rines 2003':"
   ]
  },
  {
   "cell_type": "code",
   "execution_count": 21,
   "metadata": {},
   "outputs": [
    {
     "name": "stdout",
     "output_type": "stream",
     "text": [
      "J/ApJ/700/331 :  Light curves of type Ia supernovae (CfA3) (Hicken+, 2009)\n",
      "J/ApJ/757/22 :  Strong and weak lensing analysis of A2261 (Coe+, 2012)\n",
      "J/ApJ/767/15 :  Hectospec Cluster Survey (HeCS) (Rines+, 2013)\n",
      "J/ApJ/783/52 :  Redshifts in the field of A383 (Geller+, 2014)\n",
      "J/ApJ/797/106 :  Redshifts in nine galaxy cluster fields (Hwang+, 2014)\n",
      "J/ApJ/819/63 :  Hectospec survey of SZ clusters (HeCS-SZ) (Rines+, 2016)\n",
      "J/ApJ/855/100 :  The HectoMAP cluster survey. II. X-ray clusters (Sohn+, 2018)\n",
      "J/ApJ/856/172 :  The HectoMAP cluster survey. I. (Sohn+, 2018)\n",
      "J/ApJ/862/172 :  HeCS-red: Hectospec surveys of redMaPPer clusters (Rines+, 2018)\n",
      "J/ApJ/871/129 :  A redshift catalog of the galaxy cluster A2029 (Sohn+, 2019)\n",
      "J/ApJ/891/129 :  The HeCS-omnibus catalog: SDSS & MMT sp. obs. (Sohn+, 2020)\n",
      "J/ApJS/229/20 :  MMT/Hectospec redshift survey for Abell 2029 (Sohn+, 2017)\n",
      "J/AJ/120/2338 :  Abell 576 redshifts (Rines+, 2000)\n",
      "J/AJ/124/1266 :  Redshift survey around Abell 2199 (Rines+, 2002)\n",
      "J/AJ/126/2152 :  Cluster And Infall Region Nearby Survey. I (Rines+, 2003)\n",
      "J/AJ/128/1078 :  Cluster and Infall Region Nearby Survey. II (Rines+, 2004)\n",
      "J/AJ/131/527 :  UBVRI light curves of 44 type Ia supernovae (Jha+, 2006)\n",
      "J/AJ/132/1275 :  CIRS (Cluster Infall Regions in the SDSS). I. (Rines+, 2006)\n",
      "J/AJ/135/1598 :  Optical spectroscopy of type Ia supernovae (Matheson+, 2008)\n",
      "J/AJ/135/1837 :  Spectroscopy in A2199 and Virgo clusters (Rines+, 2008)\n"
     ]
    }
   ],
   "source": [
    "catalog_list_rines = Vizier.find_catalogs(\"Rines 2003\")\n",
    "for k, v in catalog_list_rines.items():\n",
    "    print(k, \": \", v.description)"
   ]
  },
  {
   "cell_type": "markdown",
   "metadata": {},
   "source": [
    "Among these, we find the 'J/AJ/126/2152' catalog:  Cluster And Infall Region Nearby Survey. I (Rines+, 2003): the one we'd like to read.\n",
    "\n",
    "So again, let's take a quick look at this catalog. "
   ]
  },
  {
   "cell_type": "code",
   "execution_count": 22,
   "metadata": {},
   "outputs": [
    {
     "name": "stdout",
     "output_type": "stream",
     "text": [
      "TableList with 2 tables:\n",
      "\t'0:J/AJ/126/2152/clusters' with 10 column(s) and 1 row(s) \n",
      "\t'1:J/AJ/126/2152/galaxies' with 6 column(s) and 50 row(s) \n"
     ]
    }
   ],
   "source": [
    "results_test_rines = Vizier.query_region(\n",
    "    \"A1656\",\n",
    "    radius=\"0d10m0s\",\n",
    "    catalog=\"J/AJ/126/2152\",\n",
    ")\n",
    "print(results_test_rines)"
   ]
  },
  {
   "cell_type": "code",
   "execution_count": 23,
   "metadata": {
    "scrolled": true,
    "tags": []
   },
   "outputs": [
    {
     "data": {
      "text/html": [
       "<div><i>Table length=1</i>\n",
       "<table id=\"table140406582156288\" class=\"table-striped table-bordered table-condensed\">\n",
       "<thead><tr><th>Cluster</th><th>n_Cluster</th><th>RAJ2000</th><th>DEJ2000</th><th>cz</th><th>sigmap_3s_</th><th>sigmap_ca_</th><th>LX</th><th>TX</th><th>R</th></tr></thead>\n",
       "<thead><tr><th></th><th></th><th></th><th></th><th>km / s</th><th>km / s</th><th>km / s</th><th>1e+36 W</th><th>keV</th><th></th></tr></thead>\n",
       "<thead><tr><th>str5</th><th>str1</th><th>str10</th><th>str9</th><th>int32</th><th>int16</th><th>int16</th><th>float32</th><th>float32</th><th>uint8</th></tr></thead>\n",
       "<tr><td>A1656</td><td>g</td><td>12 59 31.9</td><td>+27 54 10</td><td>6973</td><td>1042</td><td>957</td><td>18.0</td><td>8.0</td><td>2</td></tr>\n",
       "</table></div>"
      ],
      "text/plain": [
       "<Table length=1>\n",
       "Cluster n_Cluster  RAJ2000    DEJ2000    cz   sigmap_3s_ sigmap_ca_    LX      TX     R  \n",
       "                                       km / s   km / s     km / s   1e+36 W   keV        \n",
       "  str5     str1     str10       str9   int32    int16      int16    float32 float32 uint8\n",
       "------- --------- ---------- --------- ------ ---------- ---------- ------- ------- -----\n",
       "  A1656         g 12 59 31.9 +27 54 10   6973       1042        957    18.0     8.0     2"
      ]
     },
     "execution_count": 23,
     "metadata": {},
     "output_type": "execute_result"
    }
   ],
   "source": [
    "results_test_rines[0]"
   ]
  },
  {
   "cell_type": "code",
   "execution_count": 24,
   "metadata": {
    "scrolled": true,
    "tags": [
     "output_scroll"
    ]
   },
   "outputs": [
    {
     "data": {
      "text/html": [
       "<div><i>Table length=50</i>\n",
       "<table id=\"table140406582157920\" class=\"table-striped table-bordered table-condensed\">\n",
       "<thead><tr><th>RAJ2000</th><th>DEJ2000</th><th>cz</th><th>e_cz</th><th>r_cz</th><th>Cluster</th></tr></thead>\n",
       "<thead><tr><th></th><th></th><th>km / s</th><th>km / s</th><th></th><th></th></tr></thead>\n",
       "<thead><tr><th>str11</th><th>str11</th><th>int32</th><th>int32</th><th>uint8</th><th>str5</th></tr></thead>\n",
       "<tr><td>12 59 03.85</td><td>+27 57 32.6</td><td>6978</td><td>6</td><td>2</td><td>A1656</td></tr>\n",
       "<tr><td>12 59 05.83</td><td>+27 59 49.5</td><td>7699</td><td>27</td><td>1</td><td>A1656</td></tr>\n",
       "<tr><td>12 59 09.43</td><td>+28 02 27.0</td><td>7220</td><td>31</td><td>2</td><td>A1656</td></tr>\n",
       "<tr><td>12 59 11.51</td><td>+28 00 33.1</td><td>6942</td><td>30</td><td>2</td><td>A1656</td></tr>\n",
       "<tr><td>12 59 13.00</td><td>+27 58 39.0</td><td>6747</td><td>64</td><td>1</td><td>A1656</td></tr>\n",
       "<tr><td>12 59 13.83</td><td>+28 04 36.0</td><td>7805</td><td>28</td><td>1</td><td>A1656</td></tr>\n",
       "<tr><td>12 59 14.36</td><td>+27 55 58.2</td><td>58669</td><td>75</td><td>2</td><td>A1656</td></tr>\n",
       "<tr><td>...</td><td>...</td><td>...</td><td>...</td><td>...</td><td>...</td></tr>\n",
       "<tr><td>12 59 30.27</td><td>+28 01 14.6</td><td>7166</td><td>173</td><td>2</td><td>A1656</td></tr>\n",
       "<tr><td>12 59 30.50</td><td>+27 56 24.0</td><td>123</td><td>28</td><td>2</td><td>A1656</td></tr>\n",
       "<tr><td>12 59 30.80</td><td>+27 53 03.0</td><td>4741</td><td>25</td><td>1</td><td>A1656</td></tr>\n",
       "<tr><td>12 59 31.32</td><td>+28 02 49.4</td><td>6935</td><td>21</td><td>1</td><td>A1656</td></tr>\n",
       "<tr><td>12 59 31.57</td><td>+28 06 02.1</td><td>7420</td><td>36</td><td>2</td><td>A1656</td></tr>\n",
       "<tr><td>12 59 31.87</td><td>+27 51 40.7</td><td>4640</td><td>34</td><td>2</td><td>A1656</td></tr>\n",
       "<tr><td>12 59 32.05</td><td>+27 55 15.2</td><td>6815</td><td>107</td><td>2</td><td>A1656</td></tr>\n",
       "<tr><td>12 59 32.32</td><td>+27 51 02.2</td><td>8184</td><td>90</td><td>2</td><td>A1656</td></tr>\n",
       "</table></div>"
      ],
      "text/plain": [
       "<Table length=50>\n",
       "  RAJ2000     DEJ2000     cz    e_cz   r_cz Cluster\n",
       "                        km / s km / s              \n",
       "   str11       str11    int32  int32  uint8   str5 \n",
       "----------- ----------- ------ ------ ----- -------\n",
       "12 59 03.85 +27 57 32.6   6978      6     2   A1656\n",
       "12 59 05.83 +27 59 49.5   7699     27     1   A1656\n",
       "12 59 09.43 +28 02 27.0   7220     31     2   A1656\n",
       "12 59 11.51 +28 00 33.1   6942     30     2   A1656\n",
       "12 59 13.00 +27 58 39.0   6747     64     1   A1656\n",
       "12 59 13.83 +28 04 36.0   7805     28     1   A1656\n",
       "12 59 14.36 +27 55 58.2  58669     75     2   A1656\n",
       "        ...         ...    ...    ...   ...     ...\n",
       "12 59 30.27 +28 01 14.6   7166    173     2   A1656\n",
       "12 59 30.50 +27 56 24.0    123     28     2   A1656\n",
       "12 59 30.80 +27 53 03.0   4741     25     1   A1656\n",
       "12 59 31.32 +28 02 49.4   6935     21     1   A1656\n",
       "12 59 31.57 +28 06 02.1   7420     36     2   A1656\n",
       "12 59 31.87 +27 51 40.7   4640     34     2   A1656\n",
       "12 59 32.05 +27 55 15.2   6815    107     2   A1656\n",
       "12 59 32.32 +27 51 02.2   8184     90     2   A1656"
      ]
     },
     "execution_count": 24,
     "metadata": {},
     "output_type": "execute_result"
    }
   ],
   "source": [
    "results_test_rines[1]"
   ]
  },
  {
   "cell_type": "code",
   "execution_count": 25,
   "metadata": {},
   "outputs": [
    {
     "name": "stdout",
     "output_type": "stream",
     "text": [
      "<Table length=50>\n",
      "  name  dtype  unit                        description                      \n",
      "------- ----- ------ -------------------------------------------------------\n",
      "RAJ2000 str11                                Hour of right ascension (J2000)\n",
      "DEJ2000 str11                                  Degree of declination (J2000)\n",
      "     cz int32 km / s                                                Redshift\n",
      "   e_cz int32 km / s ? Error in cz [NULL integer written as an empty string]\n",
      "   r_cz uint8                                   [1/2] Redshift reference (1)\n",
      "Cluster  str5                                  Abell cluster name, or \"Both\"\n"
     ]
    }
   ],
   "source": [
    "results_test_rines[1].info()"
   ]
  },
  {
   "cell_type": "markdown",
   "metadata": {},
   "source": [
    "[![Xmatch](https://custom-icon-badges.demolab.com/badge/Xmatch-gray.svg?logo=xmatch&logoColor=blue&logoWidth=20)](http://cdsxmatch.u-strasbg.fr/ \"http://cdsxmatch.u-strasbg.fr/\")\n",
    "\n",
    "After inspecting the result of the test query, we see that the first table describes the cluster as an ensemble. The second one describes individual galaxies in the cluster. The later, named `1:J/AJ/126/2152/galaxies` contains the information we want.\n",
    "\n",
    "To see which of the galaxies in the `1:J/AJ/126/2152/galaxies` table could fill in the gaps in our SDSS table, we first isolate the galaxies without redshifts in `zsp17`. Then we spatially crossmatch the two tables using the [CDS XMatch service](http://cdsxmatch.u-strasbg.fr/xmatch) via the `astroquery.XMatch.query` module. "
   ]
  },
  {
   "cell_type": "code",
   "execution_count": 26,
   "metadata": {
    "scrolled": true,
    "tags": [
     "output_scroll"
    ]
   },
   "outputs": [
    {
     "data": {
      "text/html": [
       "<div><i>Table length=143</i>\n",
       "<table id=\"table140406582149232\" class=\"table-striped table-bordered table-condensed\">\n",
       "<thead><tr><th>RA_ICRS</th><th>DE_ICRS</th><th>rmag</th><th>zsp</th></tr></thead>\n",
       "<thead><tr><th>deg</th><th>deg</th><th>mag</th><th></th></tr></thead>\n",
       "<thead><tr><th>float64</th><th>float64</th><th>float32</th><th>float64</th></tr></thead>\n",
       "<tr><td>195.074954</td><td>27.385966</td><td>17.653</td><td>--</td></tr>\n",
       "<tr><td>195.219915</td><td>27.384368</td><td>17.561</td><td>--</td></tr>\n",
       "<tr><td>195.152531</td><td>27.575845</td><td>17.521</td><td>--</td></tr>\n",
       "<tr><td>194.563614</td><td>27.464697</td><td>17.736</td><td>--</td></tr>\n",
       "<tr><td>194.482062</td><td>27.490099</td><td>17.555</td><td>--</td></tr>\n",
       "<tr><td>194.437268</td><td>27.576120</td><td>17.760</td><td>--</td></tr>\n",
       "<tr><td>194.724123</td><td>27.388636</td><td>17.521</td><td>--</td></tr>\n",
       "<tr><td>...</td><td>...</td><td>...</td><td>...</td></tr>\n",
       "<tr><td>194.952762</td><td>28.593333</td><td>17.666</td><td>--</td></tr>\n",
       "<tr><td>194.945711</td><td>28.621988</td><td>17.545</td><td>--</td></tr>\n",
       "<tr><td>195.084836</td><td>28.636674</td><td>16.414</td><td>--</td></tr>\n",
       "<tr><td>195.043583</td><td>28.625246</td><td>17.696</td><td>--</td></tr>\n",
       "<tr><td>194.973721</td><td>28.632739</td><td>14.688</td><td>--</td></tr>\n",
       "<tr><td>194.977572</td><td>28.633385</td><td>15.845</td><td>--</td></tr>\n",
       "<tr><td>194.980971</td><td>28.629172</td><td>16.499</td><td>--</td></tr>\n",
       "<tr><td>194.916887</td><td>28.633825</td><td>17.413</td><td>--</td></tr>\n",
       "</table></div>"
      ],
      "text/plain": [
       "<Table length=143>\n",
       " RA_ICRS    DE_ICRS     rmag    zsp  \n",
       "   deg        deg       mag          \n",
       " float64    float64   float32 float64\n",
       "---------- ---------- ------- -------\n",
       "195.074954  27.385966  17.653      --\n",
       "195.219915  27.384368  17.561      --\n",
       "195.152531  27.575845  17.521      --\n",
       "194.563614  27.464697  17.736      --\n",
       "194.482062  27.490099  17.555      --\n",
       "194.437268  27.576120  17.760      --\n",
       "194.724123  27.388636  17.521      --\n",
       "       ...        ...     ...     ...\n",
       "194.952762  28.593333  17.666      --\n",
       "194.945711  28.621988  17.545      --\n",
       "195.084836  28.636674  16.414      --\n",
       "195.043583  28.625246  17.696      --\n",
       "194.973721  28.632739  14.688      --\n",
       "194.977572  28.633385  15.845      --\n",
       "194.980971  28.629172  16.499      --\n",
       "194.916887  28.633825  17.413      --"
      ]
     },
     "execution_count": 26,
     "metadata": {},
     "output_type": "execute_result"
    }
   ],
   "source": [
    "# mask zsp17 for entries with a nan value in the zsp column\n",
    "sdss_sample_without_zsp = sdss_sample[np.isnan(sdss_sample[\"zsp\"])]\n",
    "sdss_sample_with_zsp = sdss_sample[~np.isnan(sdss_sample[\"zsp\"])]\n",
    "sdss_sample_without_zsp"
   ]
  },
  {
   "cell_type": "code",
   "execution_count": 27,
   "metadata": {
    "scrolled": true,
    "tags": [
     "output_scroll"
    ]
   },
   "outputs": [
    {
     "data": {
      "text/html": [
       "<div><i>Table length=25</i>\n",
       "<table id=\"table140406582162096\" class=\"table-striped table-bordered table-condensed\">\n",
       "<thead><tr><th>angDist</th><th>RA_ICRS</th><th>DE_ICRS</th><th>rmag</th><th>zsp</th><th>_RAJ2000</th><th>_DEJ2000</th><th>RAJ2000</th><th>DEJ2000</th><th>cz</th><th>e_cz</th><th>r_cz</th><th>Cluster</th></tr></thead>\n",
       "<thead><tr><th>float64</th><th>float64</th><th>float64</th><th>float64</th><th>int64</th><th>float64</th><th>float64</th><th>str11</th><th>str11</th><th>int64</th><th>int64</th><th>int64</th><th>str5</th></tr></thead>\n",
       "<tr><td>4.756129</td><td>195.074954</td><td>27.385966</td><td>17.653</td><td>--</td><td>195.0743333</td><td>27.3871667</td><td>13 00 17.84</td><td>+27 23 13.8</td><td>11114</td><td>9</td><td>2</td><td>A1656</td></tr>\n",
       "<tr><td>0.268487</td><td>194.563614</td><td>27.464697</td><td>17.736</td><td>--</td><td>194.5636667</td><td>27.4646389</td><td>12 58 15.28</td><td>+27 27 52.7</td><td>7625</td><td>27</td><td>2</td><td>A1656</td></tr>\n",
       "<tr><td>0.089868</td><td>194.724123</td><td>27.388636</td><td>17.521</td><td>--</td><td>194.724125</td><td>27.3886111</td><td>12 58 53.79</td><td>+27 23 19.0</td><td>7654</td><td>50</td><td>2</td><td>A1656</td></tr>\n",
       "<tr><td>0.284257</td><td>194.860237</td><td>27.856882</td><td>17.548</td><td>--</td><td>194.8601667</td><td>27.8568333</td><td>12 59 26.44</td><td>+27 51 24.6</td><td>5007</td><td>75</td><td>2</td><td>A1656</td></tr>\n",
       "<tr><td>1.346011</td><td>194.7349</td><td>27.803568</td><td>17.533</td><td>--</td><td>194.7349167</td><td>27.8031944</td><td>12 58 56.38</td><td>+27 48 11.5</td><td>7864</td><td>64</td><td>2</td><td>A1656</td></tr>\n",
       "<tr><td>0.271796</td><td>195.213773</td><td>27.689156</td><td>17.643</td><td>--</td><td>195.21375</td><td>27.6890833</td><td>13 00 51.30</td><td>+27 41 20.7</td><td>8184</td><td>75</td><td>2</td><td>A1656</td></tr>\n",
       "<tr><td>0.993647</td><td>195.466883</td><td>27.636194</td><td>17.703</td><td>--</td><td>195.46675</td><td>27.6359444</td><td>13 01 52.02</td><td>+27 38 09.4</td><td>17437</td><td>27</td><td>2</td><td>A1656</td></tr>\n",
       "<tr><td>0.503127</td><td>195.118402</td><td>27.761221</td><td>17.495</td><td>--</td><td>195.118375</td><td>27.7610833</td><td>13 00 28.41</td><td>+27 45 39.9</td><td>6835</td><td>75</td><td>2</td><td>A1656</td></tr>\n",
       "<tr><td>...</td><td>...</td><td>...</td><td>...</td><td>...</td><td>...</td><td>...</td><td>...</td><td>...</td><td>...</td><td>...</td><td>...</td><td>...</td></tr>\n",
       "<tr><td>0.815348</td><td>195.177341</td><td>28.116305</td><td>17.018</td><td>--</td><td>195.1772083</td><td>28.1161111</td><td>13 00 42.53</td><td>+28 06 58.0</td><td>6206</td><td>75</td><td>2</td><td>A1656</td></tr>\n",
       "<tr><td>0.843958</td><td>195.082099</td><td>28.121521</td><td>17.696</td><td>--</td><td>195.0818333</td><td>28.1215278</td><td>13 00 19.64</td><td>+28 07 17.5</td><td>6659</td><td>65</td><td>2</td><td>A1656</td></tr>\n",
       "<tr><td>4.3169</td><td>195.549769</td><td>28.173223</td><td>16.363</td><td>--</td><td>195.5487917</td><td>28.1723889</td><td>13 02 11.71</td><td>+28 10 20.6</td><td>8950</td><td>11</td><td>2</td><td>A1656</td></tr>\n",
       "<tr><td>0.546321</td><td>194.629479</td><td>27.895503</td><td>17.676</td><td>--</td><td>194.6293333</td><td>27.8955833</td><td>12 58 31.04</td><td>+27 53 44.1</td><td>6804</td><td>83</td><td>2</td><td>A1656</td></tr>\n",
       "<tr><td>0.518468</td><td>194.562693</td><td>28.125907</td><td>14.632</td><td>--</td><td>194.5628333</td><td>28.1258333</td><td>12 58 15.08</td><td>+28 07 33.0</td><td>7428</td><td>23</td><td>1</td><td>A1656</td></tr>\n",
       "<tr><td>4.509648</td><td>194.869572</td><td>28.085779</td><td>16.586</td><td>--</td><td>194.8683333</td><td>28.0851667</td><td>12 59 28.40</td><td>+28 05 06.6</td><td>3650</td><td>100</td><td>2</td><td>A1656</td></tr>\n",
       "<tr><td>2.489322</td><td>194.91736</td><td>28.179347</td><td>17.323</td><td>--</td><td>194.9165833</td><td>28.17925</td><td>12 59 39.98</td><td>+28 10 45.3</td><td>5437</td><td>--</td><td>2</td><td>A1656</td></tr>\n",
       "<tr><td>1.210618</td><td>195.169506</td><td>28.519893</td><td>15.869</td><td>--</td><td>195.169125</td><td>28.5198611</td><td>13 00 40.59</td><td>+28 31 11.5</td><td>8901</td><td>4</td><td>2</td><td>A1656</td></tr>\n",
       "</table></div>"
      ],
      "text/plain": [
       "<Table length=25>\n",
       "angDist   RA_ICRS    DE_ICRS    rmag   zsp    _RAJ2000   _DEJ2000    RAJ2000     DEJ2000     cz   e_cz  r_cz Cluster\n",
       "float64   float64    float64  float64 int64   float64    float64      str11       str11    int64 int64 int64   str5 \n",
       "-------- ---------- --------- ------- ----- ----------- ---------- ----------- ----------- ----- ----- ----- -------\n",
       "4.756129 195.074954 27.385966  17.653    -- 195.0743333 27.3871667 13 00 17.84 +27 23 13.8 11114     9     2   A1656\n",
       "0.268487 194.563614 27.464697  17.736    -- 194.5636667 27.4646389 12 58 15.28 +27 27 52.7  7625    27     2   A1656\n",
       "0.089868 194.724123 27.388636  17.521    --  194.724125 27.3886111 12 58 53.79 +27 23 19.0  7654    50     2   A1656\n",
       "0.284257 194.860237 27.856882  17.548    -- 194.8601667 27.8568333 12 59 26.44 +27 51 24.6  5007    75     2   A1656\n",
       "1.346011   194.7349 27.803568  17.533    -- 194.7349167 27.8031944 12 58 56.38 +27 48 11.5  7864    64     2   A1656\n",
       "0.271796 195.213773 27.689156  17.643    --   195.21375 27.6890833 13 00 51.30 +27 41 20.7  8184    75     2   A1656\n",
       "0.993647 195.466883 27.636194  17.703    --   195.46675 27.6359444 13 01 52.02 +27 38 09.4 17437    27     2   A1656\n",
       "0.503127 195.118402 27.761221  17.495    --  195.118375 27.7610833 13 00 28.41 +27 45 39.9  6835    75     2   A1656\n",
       "     ...        ...       ...     ...   ...         ...        ...         ...         ...   ...   ...   ...     ...\n",
       "0.815348 195.177341 28.116305  17.018    -- 195.1772083 28.1161111 13 00 42.53 +28 06 58.0  6206    75     2   A1656\n",
       "0.843958 195.082099 28.121521  17.696    -- 195.0818333 28.1215278 13 00 19.64 +28 07 17.5  6659    65     2   A1656\n",
       "  4.3169 195.549769 28.173223  16.363    -- 195.5487917 28.1723889 13 02 11.71 +28 10 20.6  8950    11     2   A1656\n",
       "0.546321 194.629479 27.895503  17.676    -- 194.6293333 27.8955833 12 58 31.04 +27 53 44.1  6804    83     2   A1656\n",
       "0.518468 194.562693 28.125907  14.632    -- 194.5628333 28.1258333 12 58 15.08 +28 07 33.0  7428    23     1   A1656\n",
       "4.509648 194.869572 28.085779  16.586    -- 194.8683333 28.0851667 12 59 28.40 +28 05 06.6  3650   100     2   A1656\n",
       "2.489322  194.91736 28.179347  17.323    -- 194.9165833   28.17925 12 59 39.98 +28 10 45.3  5437    --     2   A1656\n",
       "1.210618 195.169506 28.519893  15.869    --  195.169125 28.5198611 13 00 40.59 +28 31 11.5  8901     4     2   A1656"
      ]
     },
     "execution_count": 27,
     "metadata": {},
     "output_type": "execute_result"
    }
   ],
   "source": [
    "xmatch_sdss_rines = XMatch.query(\n",
    "    cat1=sdss_sample_without_zsp,\n",
    "    cat2=\"vizier:J/AJ/126/2152/galaxies\",\n",
    "    max_distance=5 * u.arcsec,\n",
    "    colRA1=\"RA_ICRS\",\n",
    "    colDec1=\"DE_ICRS\",\n",
    ")\n",
    "xmatch_sdss_rines"
   ]
  },
  {
   "cell_type": "markdown",
   "metadata": {},
   "source": [
    "### Build the final catalog including the Rines et al. (2003) redshifts\n",
    "\n",
    "The resulting table of the cross-match above contains 25 rows, so we have found recession velocity ('cz') measurements for 25 galaxies. Now let's add these data to the zsp17_with table."
   ]
  },
  {
   "cell_type": "code",
   "execution_count": 28,
   "metadata": {
    "scrolled": true,
    "tags": [
     "output_scroll"
    ]
   },
   "outputs": [
    {
     "data": {
      "text/html": [
       "<div><i>Table length=514</i>\n",
       "<table id=\"table140406582165120\" class=\"table-striped table-bordered table-condensed\">\n",
       "<thead><tr><th>RA_ICRS</th><th>DE_ICRS</th><th>rmag</th><th>cz</th></tr></thead>\n",
       "<thead><tr><th>deg</th><th>deg</th><th>mag</th><th>km / s</th></tr></thead>\n",
       "<thead><tr><th>float64</th><th>float64</th><th>float64</th><th>float64</th></tr></thead>\n",
       "<tr><td>195.275800</td><td>27.397826</td><td>15.842</td><td>8112.588000000001</td></tr>\n",
       "<tr><td>194.905631</td><td>27.336047</td><td>16.011</td><td>6973.348</td></tr>\n",
       "<tr><td>195.121706</td><td>27.333216</td><td>16.015</td><td>400811.614</td></tr>\n",
       "<tr><td>195.074226</td><td>27.387516</td><td>15.367</td><td>11026.644</td></tr>\n",
       "<tr><td>195.208010</td><td>27.405782</td><td>13.926</td><td>6589.604</td></tr>\n",
       "<tr><td>195.053832</td><td>27.396513</td><td>17.553</td><td>89469.314</td></tr>\n",
       "<tr><td>195.046668</td><td>27.460084</td><td>17.625</td><td>6841.436</td></tr>\n",
       "<tr><td>...</td><td>...</td><td>...</td><td>...</td></tr>\n",
       "<tr><td>195.177341</td><td>28.116305</td><td>17.018</td><td>6206.0</td></tr>\n",
       "<tr><td>195.082099</td><td>28.121521</td><td>17.696</td><td>6659.0</td></tr>\n",
       "<tr><td>195.549769</td><td>28.173223</td><td>16.363</td><td>8950.0</td></tr>\n",
       "<tr><td>194.629479</td><td>27.895503</td><td>17.676</td><td>6804.0</td></tr>\n",
       "<tr><td>194.562693</td><td>28.125907</td><td>14.632</td><td>7428.0</td></tr>\n",
       "<tr><td>194.869572</td><td>28.085779</td><td>16.586</td><td>3650.0</td></tr>\n",
       "<tr><td>194.917360</td><td>28.179347</td><td>17.323</td><td>5437.0</td></tr>\n",
       "<tr><td>195.169506</td><td>28.519893</td><td>15.869</td><td>8901.0</td></tr>\n",
       "</table></div>"
      ],
      "text/plain": [
       "<Table length=514>\n",
       " RA_ICRS    DE_ICRS     rmag          cz       \n",
       "   deg        deg       mag         km / s     \n",
       " float64    float64   float64      float64     \n",
       "---------- ---------- ------- -----------------\n",
       "195.275800  27.397826  15.842 8112.588000000001\n",
       "194.905631  27.336047  16.011          6973.348\n",
       "195.121706  27.333216  16.015        400811.614\n",
       "195.074226  27.387516  15.367         11026.644\n",
       "195.208010  27.405782  13.926          6589.604\n",
       "195.053832  27.396513  17.553         89469.314\n",
       "195.046668  27.460084  17.625          6841.436\n",
       "       ...        ...     ...               ...\n",
       "195.177341  28.116305  17.018            6206.0\n",
       "195.082099  28.121521  17.696            6659.0\n",
       "195.549769  28.173223  16.363            8950.0\n",
       "194.629479  27.895503  17.676            6804.0\n",
       "194.562693  28.125907  14.632            7428.0\n",
       "194.869572  28.085779  16.586            3650.0\n",
       "194.917360  28.179347  17.323            5437.0\n",
       "195.169506  28.519893  15.869            8901.0"
      ]
     },
     "execution_count": 28,
     "metadata": {},
     "output_type": "execute_result"
    }
   ],
   "source": [
    "# converts redshift into velocity\n",
    "c = 2.998e5  # km/s speed of light\n",
    "sdss_sample_with_zsp[\"cz\"] = sdss_sample_with_zsp[\"zsp\"] * c\n",
    "# from the cross math result, only keep columns that are in sdss_sample_with_zsp\n",
    "columns = [\"RA_ICRS\", \"DE_ICRS\", \"rmag\", \"cz\"]\n",
    "# put together the two tables\n",
    "complete_sample = vstack(\n",
    "    [sdss_sample_with_zsp[columns], xmatch_sdss_rines[columns]],\n",
    "    metadata_conflicts=\"silent\",\n",
    ")\n",
    "# don't forget to set the unit of the newly created column\n",
    "complete_sample[\"cz\"].unit = u.km / u.s\n",
    "complete_sample"
   ]
  },
  {
   "cell_type": "markdown",
   "metadata": {},
   "source": [
    "Now we have a table with all galaxies that either have a redshift measurement in SDSS or a velocity value obtained by (Rines *et al.* 2003).\n",
    "\n",
    "Overall, this sample within 40arcmin of the center of the Coma cluster contains 514 galaxies.\n",
    "\n",
    "Before we start the analysis of the data, let's look at the galaxies in the sample by loading the table into the Aladin Lite widget. They will appear as `catalog_1` and with a different color than the bright stars we added before. "
   ]
  },
  {
   "cell_type": "code",
   "execution_count": 29,
   "metadata": {},
   "outputs": [],
   "source": [
    "aladin.add_table(complete_sample)"
   ]
  },
  {
   "attachments": {},
   "cell_type": "markdown",
   "metadata": {},
   "source": [
    "scroll up to the aladin widget to see the table"
   ]
  },
  {
   "cell_type": "markdown",
   "metadata": {},
   "source": [
    "### Determine velocity distribution, cluster average velocity, and velocity dispersion\n",
    "\n",
    "Based on the 514 galaxies, we can now analyze the recession velocity and velocity dispersion of the Abell 1656 galaxy cluster. First, we visualize the recession velocity distribution of the entire sample:"
   ]
  },
  {
   "cell_type": "code",
   "execution_count": 30,
   "metadata": {},
   "outputs": [
    {
     "data": {
      "image/png": "[encoded data removed]",
      "text/plain": [
       "<Figure size 640x480 with 1 Axes>"
      ]
     },
     "metadata": {},
     "output_type": "display_data"
    }
   ],
   "source": [
    "# bins is the number of bars in the histogram\n",
    "plt.hist(data=complete_sample, x=\"cz\", bins=50);"
   ]
  },
  {
   "attachments": {},
   "cell_type": "markdown",
   "metadata": {},
   "source": [
    "Note how there is a large range of recession velocities in our sample. We are only interested in the range of recession velocities of the Coma cluster. These are around the peak at low velocities. Thus, we restrict our sample to a subset `df_Coma` to recession velocities between 3000 and 11000 km/s:"
   ]
  },
  {
   "cell_type": "code",
   "execution_count": 31,
   "metadata": {},
   "outputs": [
    {
     "data": {
      "image/png": "[encoded data removed]",
      "text/plain": [
       "<Figure size 640x480 with 1 Axes>"
      ]
     },
     "metadata": {},
     "output_type": "display_data"
    }
   ],
   "source": [
    "Coma = complete_sample[\n",
    "    (complete_sample[\"cz\"] > 3000.0) & (complete_sample[\"cz\"] < 11000.0)\n",
    "]  # here we apply a mask with two conditions to the sample based on criteria about the column \"cz\"\n",
    "\n",
    "plt.hist(data=Coma, x=\"cz\")\n",
    "plt.xlabel(\n",
    "    r\"$cz~(\\mathrm{km/s})$\"\n",
    ");  # the r before the string allows to write the label in LaTex"
   ]
  },
  {
   "cell_type": "markdown",
   "metadata": {},
   "source": [
    "This subset corresponds to galaxies in the vicinity of the cluster (both spatially and in recession velocity). Let's calculate the mean recession velocity of the cluster and its velocity dispersion:"
   ]
  },
  {
   "cell_type": "code",
   "execution_count": 32,
   "metadata": {},
   "outputs": [
    {
     "name": "stdout",
     "output_type": "stream",
     "text": [
      "The mean velocity in Coma is 6974.036149625936 km/s. Its velocity dispersion (i.e. standard deviation) is 1138.227427194869 km/s.\n"
     ]
    }
   ],
   "source": [
    "print(\n",
    "    f\"The mean velocity in Coma is {Coma['cz'].mean()} km/s.\"\n",
    "    f\" Its velocity dispersion (i.e. standard deviation) is {Coma['cz'].std()} km/s.\",\n",
    ")"
   ]
  },
  {
   "cell_type": "markdown",
   "metadata": {},
   "source": [
    "It is in agreement with more refined analyses (e.g. [Sohn et al. 2017, ApJS, 229, 20](https://iopscience.iop.org/article/10.3847/1538-4365/aa653e)).\n",
    "\n",
    "When looking back at the query results for the Rines et al. (2003) catalog, you can check again the table that describes the full cluster. The mean recession velocity `cz` = 6973km/s and dispersion `sigmap_3s_` = 1042km/s for the Coma cluster are is also in good agreement with our results. "
   ]
  },
  {
   "cell_type": "code",
   "execution_count": 33,
   "metadata": {
    "tags": [
     "output_scroll"
    ]
   },
   "outputs": [
    {
     "data": {
      "text/html": [
       "<div><i>Table length=1</i>\n",
       "<table id=\"table140406582156288\" class=\"table-striped table-bordered table-condensed\">\n",
       "<thead><tr><th>Cluster</th><th>n_Cluster</th><th>RAJ2000</th><th>DEJ2000</th><th>cz</th><th>sigmap_3s_</th><th>sigmap_ca_</th><th>LX</th><th>TX</th><th>R</th></tr></thead>\n",
       "<thead><tr><th></th><th></th><th></th><th></th><th>km / s</th><th>km / s</th><th>km / s</th><th>1e+36 W</th><th>keV</th><th></th></tr></thead>\n",
       "<thead><tr><th>str5</th><th>str1</th><th>str10</th><th>str9</th><th>int32</th><th>int16</th><th>int16</th><th>float32</th><th>float32</th><th>uint8</th></tr></thead>\n",
       "<tr><td>A1656</td><td>g</td><td>12 59 31.9</td><td>+27 54 10</td><td>6973</td><td>1042</td><td>957</td><td>18.0</td><td>8.0</td><td>2</td></tr>\n",
       "</table></div>"
      ],
      "text/plain": [
       "<Table length=1>\n",
       "Cluster n_Cluster  RAJ2000    DEJ2000    cz   sigmap_3s_ sigmap_ca_    LX      TX     R  \n",
       "                                       km / s   km / s     km / s   1e+36 W   keV        \n",
       "  str5     str1     str10       str9   int32    int16      int16    float32 float32 uint8\n",
       "------- --------- ---------- --------- ------ ---------- ---------- ------- ------- -----\n",
       "  A1656         g 12 59 31.9 +27 54 10   6973       1042        957    18.0     8.0     2"
      ]
     },
     "execution_count": 33,
     "metadata": {},
     "output_type": "execute_result"
    }
   ],
   "source": [
    "results_test_rines[0]"
   ]
  },
  {
   "cell_type": "markdown",
   "metadata": {},
   "source": [
    "## Search for Hubble Space Telescope (HST) spectra from the Coma Cluster\n",
    "\n",
    "We now want to find out whether there are HST spectra available for the galaxies that had neither a redshift in SDSS nor a velocity in the catalog Rines *et al.* (2003).\n",
    "\n",
    "We use the [Simple Spectral Access (SSA) protocol from the IVOA](http://www.ivoa.net/documents/SSA/) to query the Mikulski Archive for Space Telescopes (MAST). Once again, we look at an area of 40arcmin around the center of the Coma Cluster. "
   ]
  },
  {
   "cell_type": "code",
   "execution_count": 34,
   "metadata": {
    "scrolled": true,
    "tags": [
     "output_scroll"
    ]
   },
   "outputs": [
    {
     "data": {
      "text/plain": [
       "<Table length=21>\n",
       "   ra_obs    dec_obs           coord_targ                 coord_obs                                       url                                  object    datalen ...     fluxsi     spectralunit       fluxunit                 fluxucd             fluxcal    ang_sep\n",
       "    deg        deg                deg                        deg                                                                                                 ...                                                                                                  \n",
       "  float64    float64           float64[2]                 float64[2]                                     object                                object     int64  ...     object        object           object                   object              object    float64\n",
       "----------- ---------- -------------------------- ------------------------- --------------------------------------------------------------- ------------ ------- ... -------------- ------------ -------------------- --------------------------- ------------ -------\n",
       "195.2537375 28.3289472 195.2537375 .. 28.32894722 195.2537375 .. 28.3289472 http://archive.stsci.edu/pub/vospectra/ghrs2/z2nn0204t_vop.fits         WAVE    2000 ...         1. T-1     angstrom              count/s arith.rate;phot.count;em.wl UNCALIBRATED  26.271\n",
       "195.2537375 28.3289472 195.2537375 .. 28.32894722 195.2537375 .. 28.3289472 http://archive.stsci.edu/pub/vospectra/ghrs2/z2nn0205n_vop.fits QSO-1258+285    2065 ... 1.0E+7 ML-1T-3     angstrom erg/cm**2/s/angstrom     phot.flux.density;em.wl     ABSOLUTE  26.271\n",
       "195.2537375 28.3289472 195.2537375 .. 28.32894722 195.2537375 .. 28.3289472 http://archive.stsci.edu/pub/vospectra/ghrs2/z2nn0206t_vop.fits QSO-1258+285    2065 ... 1.0E+7 ML-1T-3     angstrom erg/cm**2/s/angstrom     phot.flux.density;em.wl     ABSOLUTE  26.271\n",
       "195.2537375 28.3289472 195.2537375 .. 28.32894722 195.2537375 .. 28.3289472 http://archive.stsci.edu/pub/vospectra/ghrs2/z2nn0207t_vop.fits QSO-1258+285    2065 ... 1.0E+7 ML-1T-3     angstrom erg/cm**2/s/angstrom     phot.flux.density;em.wl     ABSOLUTE  26.271\n",
       "195.2537375 28.3289472 195.2537375 .. 28.32894722 195.2537375 .. 28.3289472 http://archive.stsci.edu/pub/vospectra/ghrs2/z2nn0208t_vop.fits QSO-1258+285    2065 ... 1.0E+7 ML-1T-3     angstrom erg/cm**2/s/angstrom     phot.flux.density;em.wl     ABSOLUTE  26.271\n",
       "195.2537375 28.3289472 195.2537375 .. 28.32894722 195.2537375 .. 28.3289472 http://archive.stsci.edu/pub/vospectra/ghrs2/z2nn0209t_vop.fits         WAVE    2000 ...         1. T-1     angstrom              count/s arith.rate;phot.count;em.wl UNCALIBRATED  26.271\n",
       "195.2537375 28.3289472 195.2537375 .. 28.32894722 195.2537375 .. 28.3289472 http://archive.stsci.edu/pub/vospectra/ghrs2/z2nn020at_vop.fits QSO-1258+285    2066 ... 1.0E+7 ML-1T-3     angstrom erg/cm**2/s/angstrom     phot.flux.density;em.wl     ABSOLUTE  26.271\n",
       "        ...        ...                        ...                       ...                                                             ...          ...     ... ...            ...          ...                  ...                         ...          ...     ...\n",
       "195.2537375 28.3289472 195.2537375 .. 28.32894722 195.2537375 .. 28.3289472 http://archive.stsci.edu/pub/vospectra/ghrs2/z2nn020ht_vop.fits QSO-1258+285    2066 ... 1.0E+7 ML-1T-3     angstrom erg/cm**2/s/angstrom     phot.flux.density;em.wl     ABSOLUTE  26.271\n",
       "195.2537375 28.3289472 195.2537375 .. 28.32894722 195.2537375 .. 28.3289472 http://archive.stsci.edu/pub/vospectra/ghrs2/z2nn020it_vop.fits QSO-1258+285    2066 ... 1.0E+7 ML-1T-3     angstrom erg/cm**2/s/angstrom     phot.flux.density;em.wl     ABSOLUTE  26.271\n",
       "195.2537375 28.3289472 195.2537375 .. 28.32894722 195.2537375 .. 28.3289472 http://archive.stsci.edu/pub/vospectra/ghrs2/z2nn020jt_vop.fits         WAVE    2000 ...         1. T-1     angstrom              count/s arith.rate;phot.count;em.wl UNCALIBRATED  26.271\n",
       "195.2537375 28.3289472 195.2537375 .. 28.32894722 195.2537375 .. 28.3289472 http://archive.stsci.edu/pub/vospectra/ghrs2/z2nn020kt_vop.fits QSO-1258+285    2066 ... 1.0E+7 ML-1T-3     angstrom erg/cm**2/s/angstrom     phot.flux.density;em.wl     ABSOLUTE  26.271\n",
       "195.2537375 28.3289472 195.2537375 .. 28.32894722 195.2537375 .. 28.3289472 http://archive.stsci.edu/pub/vospectra/ghrs2/z2nn020lt_vop.fits QSO-1258+285    2022 ... 1.0E+7 ML-1T-3     angstrom erg/cm**2/s/angstrom     phot.flux.density;em.wl     ABSOLUTE  26.271\n",
       "195.2537375 28.3289472 195.2537375 .. 28.32894722 195.2537375 .. 28.3289472  http://archive.stsci.edu/pub/vospectra/fos2/y2nn0104t_vop.fits QSO-1258+285    2064 ... 1.0E+7 ML-1T-3     angstrom erg/cm**2/s/angstrom     phot.flux.density;em.wl     ABSOLUTE  26.271\n",
       "195.2537375 28.3289472 195.2537375 .. 28.32894722 195.2537375 .. 28.3289472  http://archive.stsci.edu/pub/vospectra/fos2/y2nn0105t_vop.fits QSO-1258+285    2064 ... 1.0E+7 ML-1T-3     angstrom erg/cm**2/s/angstrom     phot.flux.density;em.wl     ABSOLUTE  26.271\n",
       "   195.0925    28.4005        195.0925 .. 28.4005       195.0925 .. 28.4005  http://archive.stsci.edu/pub/vospectra/fos2/y1hi1402t_vop.fits    1257+2840    2064 ... 1.0E+7 ML-1T-3     angstrom erg/cm**2/s/angstrom     phot.flux.density;em.wl     ABSOLUTE  26.255"
      ]
     },
     "execution_count": 34,
     "metadata": {},
     "output_type": "execute_result"
    }
   ],
   "source": [
    "mast_ssa_service = pyvo.dal.SSAService(\n",
    "    \"https://archive.stsci.edu/ssap/search2.php?id=HST&\",\n",
    ")\n",
    "diameter = u.Quantity(2 * 40.0, unit=\"arcmin\")\n",
    "position = SkyCoord.from_name(\"A1656\")\n",
    "mast_hst_results = mast_ssa_service.search(pos=position, diameter=diameter)\n",
    "mast_hst_results"
   ]
  },
  {
   "cell_type": "markdown",
   "metadata": {},
   "source": [
    "Note that `mast_hst_results` is not a list of tables as we had for `astroquery` queries. This time, we get a pyvo `resultset`. Thus the methods to handle the `resultset` are slightly different but can still be printed out with the `dir()` function which is generic in python. Let's find out which columns are available:"
   ]
  },
  {
   "cell_type": "code",
   "execution_count": 35,
   "metadata": {
    "scrolled": true,
    "tags": []
   },
   "outputs": [
    {
     "name": "stdout",
     "output_type": "stream",
     "text": [
      "--- Available methods:  ['__class__', '__delattr__', '__dict__', '__dir__', '__doc__', '__eq__', '__format__', '__ge__', '__getattribute__', '__getitem__', '__gt__', '__hash__', '__init__', '__init_subclass__', '__iter__', '__le__', '__len__', '__lt__', '__module__', '__ne__', '__new__', '__reduce__', '__reduce_ex__', '__repr__', '__setattr__', '__sizeof__', '__str__', '__subclasshook__', '__weakref__', '_adhocservices', '_findinfos', '_findresultsresource', '_findresultstable', '_findstatus', '_findstatusinfo', '_fldnames', '_from_result_url', '_infos', '_resultstable', '_session', '_status', '_url', '_votable', 'broadcast_samp', 'cursor', 'fielddescs', 'fieldname_with_ucd', 'fieldname_with_utype', 'fieldnames', 'from_result_url', 'get_adhocservice_by_id', 'get_adhocservice_by_ivoid', 'getcolumn', 'getdesc', 'getrecord', 'getvalue', 'iter_adhocservices', 'iter_datalinks', 'queryurl', 'resultstable', 'status', 'table', 'to_table', 'votable']\n",
      "--- Name of columns:  ('ra_obs', 'dec_obs', 'coord_targ', 'coord_obs', 'url', 'object', 'datalen', 'exposure', 'date_obs', 'tstart', 'tmid', 'tstop', 'format', 'radecsys', 'equinox', 'preview', 'representative', 'min_wavelength', 'max_wavelength', 'title', 'timesys', 'specsys', 'vover', 'vodate', 'author', 'collection', 'ds_ident', 'cr_ident', 'date', 'version', 'instrume', 'dssource', 'specband', 'der_snr', 'spec_val', 'spec_bw', 'spec_fil', 'spec_rp', 's_fov', 'aperture', 'telescop', 'fluxavg', 'fluxmax2', 'min_flux', 'max_flux', 'min_error', 'max_error', 'filesize', 'spectralaxisname', 'fluxaxisname', 'spectralsi', 'fluxsi', 'spectralunit', 'fluxunit', 'fluxucd', 'fluxcal', 'ang_sep')\n"
     ]
    }
   ],
   "source": [
    "print(\"--- Available methods: \", dir(mast_hst_results))\n",
    "print(\"--- Name of columns: \", mast_hst_results.fieldnames)"
   ]
  },
  {
   "cell_type": "code",
   "execution_count": 36,
   "metadata": {
    "scrolled": true,
    "tags": []
   },
   "outputs": [
    {
     "name": "stdout",
     "output_type": "stream",
     "text": [
      "WAVE\n",
      "QSO-1258+285\n",
      "QSO-1258+285\n",
      "QSO-1258+285\n",
      "QSO-1258+285\n",
      "WAVE\n",
      "QSO-1258+285\n",
      "QSO-1258+285\n",
      "QSO-1258+285\n",
      "QSO-1258+285\n",
      "WAVE\n",
      "QSO-1258+285\n",
      "QSO-1258+285\n",
      "QSO-1258+285\n",
      "QSO-1258+285\n",
      "WAVE\n",
      "QSO-1258+285\n",
      "QSO-1258+285\n",
      "QSO-1258+285\n",
      "QSO-1258+285\n",
      "1257+2840\n"
     ]
    }
   ],
   "source": [
    "for observation in mast_hst_results:\n",
    "    print(observation[\"object\"])"
   ]
  },
  {
   "cell_type": "markdown",
   "metadata": {},
   "source": [
    "\n",
    "[![Simbad](https://custom-icon-badges.demolab.com/badge/Simbad-gray.svg?logo=simbad&logoColor=lightblue&logoWidth=20)](https://simbad.u-strasbg.fr/simbad/ \"https://simbad.u-strasbg.fr/simbad/\")\n",
    "\n",
    "Often Quasars are further away than the Coma cluster, so let's check quickly on Simbad whether this source is interesting for further analysis. Usually a Simbad query would only return information on the object's identifier and coordinates. We are, however, also interested in its redshift, so we first create a customised Simbad query (as we did above for VizieR, for more details see [here](https://astroquery.readthedocs.io/en/latest/simbad/simbad.html#customizing-the-default-settings)) and then submit the query."
   ]
  },
  {
   "cell_type": "code",
   "execution_count": 37,
   "metadata": {
    "scrolled": true,
    "tags": [
     "output_scroll"
    ]
   },
   "outputs": [
    {
     "data": {
      "text/html": [
       "<div><i>Table length=1</i>\n",
       "<table id=\"table140406581623392\" class=\"table-striped table-bordered table-condensed\">\n",
       "<thead><tr><th>MAIN_ID</th><th>RA</th><th>DEC</th><th>RA_PREC</th><th>DEC_PREC</th><th>COO_ERR_MAJA</th><th>COO_ERR_MINA</th><th>COO_ERR_ANGLE</th><th>COO_QUAL</th><th>COO_WAVELENGTH</th><th>COO_BIBCODE</th><th>Z_VALUE</th><th>SCRIPT_NUMBER_ID</th></tr></thead>\n",
       "<thead><tr><th></th><th>&quot;h:m:s&quot;</th><th>&quot;d:m:s&quot;</th><th></th><th></th><th>mas</th><th>mas</th><th>deg</th><th></th><th></th><th></th><th></th><th></th></tr></thead>\n",
       "<thead><tr><th>object</th><th>str13</th><th>str13</th><th>int16</th><th>int16</th><th>float32</th><th>float32</th><th>int16</th><th>str1</th><th>str1</th><th>object</th><th>float64</th><th>int32</th></tr></thead>\n",
       "<tr><td>QSO B1258+2835</td><td>13 01 00.8675</td><td>+28 19 44.741</td><td>14</td><td>14</td><td>0.049</td><td>0.040</td><td>90</td><td>A</td><td>O</td><td>2020yCat.1350....0G</td><td>1.3610200</td><td>1</td></tr>\n",
       "</table></div>"
      ],
      "text/plain": [
       "<Table length=1>\n",
       "   MAIN_ID           RA           DEC      RA_PREC DEC_PREC COO_ERR_MAJA COO_ERR_MINA COO_ERR_ANGLE COO_QUAL COO_WAVELENGTH     COO_BIBCODE      Z_VALUE  SCRIPT_NUMBER_ID\n",
       "                  \"h:m:s\"       \"d:m:s\"                         mas          mas           deg                                                                            \n",
       "    object         str13         str13      int16   int16     float32      float32        int16       str1        str1             object        float64       int32      \n",
       "-------------- ------------- ------------- ------- -------- ------------ ------------ ------------- -------- -------------- ------------------- --------- ----------------\n",
       "QSO B1258+2835 13 01 00.8675 +28 19 44.741      14       14        0.049        0.040            90        A              O 2020yCat.1350....0G 1.3610200                1"
      ]
     },
     "execution_count": 37,
     "metadata": {},
     "output_type": "execute_result"
    }
   ],
   "source": [
    "custom_Simbad = Simbad()\n",
    "custom_Simbad.add_votable_fields(\"z_value\")\n",
    "qso_table = custom_Simbad.query_object(\"QSO 1258+285\")\n",
    "qso_table"
   ]
  },
  {
   "attachments": {},
   "cell_type": "markdown",
   "metadata": {},
   "source": [
    "As you can see in the column before last, the Quasar is at a redshift of 1.36. This is far beyond the Coma Cluster. Therefore, we focus on the source '1257+2840' for now. 1257+2840 is the last source in the list: we assign it to a new variable (`interesting_observation`). Then we exploit the functionalities of `resultset` to find out where the data is and what kind of file it is. "
   ]
  },
  {
   "cell_type": "code",
   "execution_count": 38,
   "metadata": {},
   "outputs": [
    {
     "name": "stdout",
     "output_type": "stream",
     "text": [
      "http://archive.stsci.edu/pub/vospectra/fos2/y1hi1402t_vop.fits\n"
     ]
    }
   ],
   "source": [
    "interesting_observation = mast_hst_results[-1]\n",
    "observation_url = interesting_observation.getdataurl()\n",
    "print(observation_url)"
   ]
  },
  {
   "cell_type": "markdown",
   "metadata": {},
   "source": [
    "### A quick analysis of the discovered spectrum\n",
    "\n",
    "With the previous step, we obtained a link to a fits file which we can download and open with `astropy`.  "
   ]
  },
  {
   "cell_type": "code",
   "execution_count": 39,
   "metadata": {},
   "outputs": [
    {
     "data": {
      "text/plain": [
       "[<astropy.io.fits.hdu.image.PrimaryHDU object at 0x7fb2f46bfc40>, <astropy.io.fits.hdu.table.BinTableHDU object at 0x7fb2f46419f0>]"
      ]
     },
     "execution_count": 39,
     "metadata": {},
     "output_type": "execute_result"
    }
   ],
   "source": [
    "spectrum_fits = fits.open(observation_url)\n",
    "spectrum_fits"
   ]
  },
  {
   "attachments": {},
   "cell_type": "markdown",
   "metadata": {},
   "source": [
    "we see that `spectrum_fits` is a list of two astropy HDU (Header Data Unit) objects. Let's look at the second one (with index 1) "
   ]
  },
  {
   "cell_type": "code",
   "execution_count": 40,
   "metadata": {
    "scrolled": true,
    "tags": [
     "output_scroll"
    ]
   },
   "outputs": [
    {
     "data": {
      "text/plain": [
       "XTENSION= 'BINTABLE'           /Binary table written by MWRFITS v1.4b           \n",
       "BITPIX  =                    8 /Required value                                  \n",
       "NAXIS   =                    2 /Required value                                  \n",
       "NAXIS1  =                24768 /Number of bytes per row                         \n",
       "NAXIS2  =                    1 /Number of rows                                  \n",
       "PCOUNT  =                    0 /Normally 0 (no varying arrays)                  \n",
       "GCOUNT  =                    1 /Required value                                  \n",
       "TFIELDS =                    3 /Number of columns in table                      \n",
       "COMMENT                                                                         \n",
       "COMMENT  *** Column names ***                                                   \n",
       "COMMENT                                                                         \n",
       "TTYPE1  = 'WAVE    '           /                                                \n",
       "TTYPE2  = 'FLUX    '           /                                                \n",
       "TTYPE3  = 'SIGMA   '           /                                                \n",
       "COMMENT                                                                         \n",
       "COMMENT  *** Column formats ***                                                 \n",
       "COMMENT                                                                         \n",
       "TFORM1  = '2064E   '           /                                                \n",
       "TFORM2  = '2064E   '           /                                                \n",
       "TFORM3  = '2064E   '           /                                                \n",
       "COMMENT                                                                         \n",
       "COMMENT   *** Column units ***                                                  \n",
       "COMMENT                                                                         \n",
       "TUNIT1  = 'angstrom'           / wavelength unit is Angstrom                    \n",
       "TUNIT2  = 'erg/cm**2/s/angstrom' / flux units                                   \n",
       "TUNIT3  = 'erg/cm**2/s/angstrom' / sigma units                                  \n",
       "COMMENT                                                                         \n",
       "COMMENT   *** Column limits ***                                                 \n",
       "COMMENT                                                                         \n",
       "TDMIN1  =              1087.14 / [angstrom] Min Value for Field 1               \n",
       "TDMAX1  =              1605.76 / [angstrom] Max Value for Field 1               \n",
       "TDMIN2  =         -3.26402E-14 / [erg/cm**2/s/angstrom] Min Value for Field 2   \n",
       "TDMAX2  =          1.39739E-13 / [erg/cm**2/s/angstrom] Max Value for Field 2   \n",
       "TDMIN3  =          0.00000E+00 / [erg/cm**2/s/angstrom] Min Value for Field 3   \n",
       "TDMAX3  =          5.63300E-14 / [erg/cm**2/s/angstrom] Max Value for Field 3   \n",
       "COMMENT                                                                         \n",
       "COMMENT   *** Column UCDs, UTYPEs ***                                           \n",
       "COMMENT                                                                         \n",
       "TUCD1   = 'em.wl'              / Wavelength UCD                                 \n",
       "TUCD2   = 'phot.flux.density;em.wl' / Flux UCD                                  \n",
       "TUCD3   = 'stat.error;em.wl'   / Sigma UCD                                      \n",
       "TUTYP1  = 'Spectrum.Data.SpectralAxis.Value' / Wavelength UTYPE                 \n",
       "TUTYP2  = 'Spectrum.Data.FluxAxis.Value' / Flux UTYPE                           \n",
       "TUTYP3  = 'Spectrum.Data.FluxAxis.Accuracy.StatError' / Sigma UTYPE             \n",
       "                                                                                \n",
       "          GENERAL KEYWORDS                                                      \n",
       "                                                                                \n",
       "EXTNAME = 'Spectral Container' / HST VO spectral container format               \n",
       "EQUINOX =              2000.00 / Coordinates precessed to J2000                 \n",
       "RADECSYS= 'FK4'                /                                                \n",
       "TIMESYS = 'UTC'                / Time system                                    \n",
       "MJDREF  =              0.00000 / [d] MJD zero point for times                   \n",
       "SPECSYS = 'TOPOCENT'           / no velocity corrections applied                \n",
       "VOCLASS = 'SPECTRUM V1.0'      / VO Data Model                                  \n",
       "VOSEGT  = 'SPECTRUM'           / Segment type                                   \n",
       "DATALEN =                 2064 / [ ] Number of points in spectrum               \n",
       "DSSOURCE= 'POINTED'            / Survey or Pointed                              \n",
       "                                                                                \n",
       "          DATA ID KEYWORDS                                                      \n",
       "                                                                                \n",
       "DATE    = '2008-06-28'         / Processing-Creation Date                       \n",
       "VODATE  = '2010-08-12'         / Curation Date                                  \n",
       "VOREF   = 'http://archive.stsci.edu/vodocs/hst/fos' / URL for Documentation     \n",
       "DS_IDENT= 'ads/sa.hst#y1hi1402t' / Publishers Data Set ID                       \n",
       "VERSION = '1.0'                / Processing Version                             \n",
       "COLLECT = 'HST/FOS'            / Data Set Collection                            \n",
       "INSTRUME= 'FOS'                / Instrument                                     \n",
       "TELESCOP= 'HST'                / Telescope                                      \n",
       "FILENAME= 'y1hi1402t_vop.fits' / File Name                                      \n",
       "CR_IDENT= 'y1hi1402t'          / Internal dataset ID                            \n",
       "CRETYPE = 'Archival'           / Not an on-the-fly dataset                      \n",
       "                                                                                \n",
       "          CURATION KEYWORDS                                                     \n",
       "                                                                                \n",
       "VOPUB   = 'MAST'               / VO Publishing Authority                        \n",
       "AUTHOR  = 'HST project'        / Creator                                        \n",
       "VOPUBID = 'ivo://mast.stsci.edu' / URI for VO Publisher                         \n",
       "VOLOGO  = 'http://archive.stsci.edu/images/100.mastlogo.gif' / MAST logo        \n",
       "VOVER   = '1.0'                / VO Curation version                            \n",
       "VORIGHTS= 'PUBLIC'             / Data is public                                 \n",
       "CONTRIB1=                 4952 / PEP proposal identifier                        \n",
       "CONTACT = 'archive help desk'  /                                                \n",
       "EMAIL   = 'archive@stsci.edu'  /                                                \n",
       "                                                                                \n",
       "          TARGET KEYWORDS                                                       \n",
       "                                                                                \n",
       "OBJECT  = '1257+2840'          / proposer's target name                         \n",
       "TITLE   = 'y1hi1402t, 1257+2840' / filename, object                             \n",
       "RA_TARG =       195.0925000000 / right ascension of target                      \n",
       "DEC_TARG=        28.4005000000 / declination of target                          \n",
       "                                                                                \n",
       "          WCS Paper 3 Keywords                                                  \n",
       "                                                                                \n",
       "1S2_1   = 'WAVE'               / Column name with spectral coordinates          \n",
       "1CYTP2  = 'WAVE-TAB'           / Spectral coordinate is wavelength              \n",
       "1S3_1   = 'WAVE'               / Column name with spectral coordinates          \n",
       "1CYTP3  = 'WAVE-TAB'           / Spectral coordinate is wavelength              \n",
       "                                                                                \n",
       "          COVERAGE: SPATIAL                                                     \n",
       "                                                                                \n",
       "RA      =       195.0925000000 / right ascension of aperture                    \n",
       "DEC     =        28.4005000000 / declination of aperture                        \n",
       "APERTURE= '4.3x4.3'            / [arcsec] Aperture (width or lengthxwidth)      \n",
       "LONGSTRN= 'OGIP 1.0'           / The OGIP long string convention may be used.'  \n",
       "COMMENT   This FITS file may contain long string keyword values that are        \n",
       "COMMENT   continued over multiple keywords.  This convention uses the  '&'      \n",
       "COMMENT   character at the end of a string which is then continued              \n",
       "COMMENT   on subsequent keywords whose name = 'CONTINUE'.                       \n",
       "FTPRT_AP= 'Polygon J2000 195.09191171 28.40116854 195.09174013 28.39998032 &' / \n",
       "CONTINUE= '195.09308871 28.39983280 195.09325945 28.40101834' / aperture footpri\n",
       "                                                                                \n",
       "          COVERAGE: TEMPORAL                                                    \n",
       "                                                                                \n",
       "DATE-OBS= '1993-07-15T04:07:11' / UT observation start time                     \n",
       "EXPOSURE=             759.9844 / [s] exposure duration                          \n",
       "TSTART  =       49183.16861829 / [d] MJD exposure start time                    \n",
       "TSTOP   =       49183.17779164 / [d] MJD exposure stop time                     \n",
       "TMID    =       49183.17320497 / [d] MJD exposure mid time                      \n",
       "                                                                                \n",
       "          COVERAGE: SPECTRAL                                                    \n",
       "                                                                                \n",
       "SPECSDIM= '1.0E-10 L'          /                                                \n",
       "SPEC_CAL= 'ABSOLUTE'           / Calibrated spectral coordinate                 \n",
       "SPEC_ERR=                  0.2 / [angstrom] Wavelength statistical error        \n",
       "SPECBAND= 'Far-UV'             / Spectral Band(s)                               \n",
       "SPEC_VAL=             1346.450 / [angstrom] Mean Wavelength                     \n",
       "SPEC_BW =              518.618 / [angstrom] Bandpass Width Wmax - Wmin          \n",
       "SPEC_FIL=                 1.00 / [ ] No gaps between points                     \n",
       "SPEC_RP =               1300.0 / [ ] average resolving power W/dW               \n",
       "                                                                                \n",
       "          COVERAGE: OBSERVABLE                                                  \n",
       "                                                                                \n",
       "FLUXSDIM= '1.0E+7 ML-1T-3'     / Flux SI Dimensions                             \n",
       "FLUX_CAL= 'ABSOLUTE'           / Calibrated or uncalibrated Fluxes              \n",
       "STAT_ERR=                    3 / [ ] flux error in percent                      \n",
       "DER_SNR =                 1.15 / [ ] Mean signal-to-noise ratio                 \n",
       "FLUXAVG =           4.6306E-15 / [erg/cm**2/s/angstrom] Average Flux            \n",
       "FLUXMAX2=           8.7484E-14 / [erg/cm**2/s/angstrom] 98% Maximum Flux        \n",
       "SPECDISP=                0.251 / [angstrom/pixel] Dispersion                    \n",
       "                                                                                "
      ]
     },
     "execution_count": 40,
     "metadata": {},
     "output_type": "execute_result"
    }
   ],
   "source": [
    "spectrum_fits[1].header"
   ]
  },
  {
   "cell_type": "markdown",
   "metadata": {},
   "source": [
    "From the fits information and the header, it appears that we have three columns (listed in one axis though): \n",
    "- wavelength in Angstrom, \n",
    "- flux and flux error in $\\mathrm{erg \\cdot cm}^{-2} \\mathrm{s}^{-1} \\mathrm{\\r{A}}^{-1}$.\n",
    "\n",
    "For a first quick look we can plot the spectrum:"
   ]
  },
  {
   "cell_type": "code",
   "execution_count": 41,
   "metadata": {},
   "outputs": [
    {
     "data": {
      "text/plain": [
       "Text(0, 0.5, 'Flux ($\\\\mathrm{erg \\\\cdot cm}^{-2} \\\\mathrm{s}^{-1} \\\\mathrm{\\\\AA}^{-1}$)')"
      ]
     },
     "execution_count": 41,
     "metadata": {},
     "output_type": "execute_result"
    },
    {
     "data": {
      "image/png": "[encoded data removed]",
      "text/plain": [
       "<Figure size 1000x800 with 1 Axes>"
      ]
     },
     "metadata": {},
     "output_type": "display_data"
    }
   ],
   "source": [
    "fig = plt.figure(figsize=(10.0, 8.0))\n",
    "ax = fig.add_axes([0.17, 0.17, 0.77, 0.77])\n",
    "ax.plot(spectrum_fits[1].data[0][0], spectrum_fits[1].data[0][1])\n",
    "ax.set_xlabel(r\"Wavelength ($\\mathrm{\\AA}$)\", fontsize=14)\n",
    "ax.set_ylabel(\n",
    "    r\"Flux ($\\mathrm{erg \\cdot cm}^{-2} \\mathrm{s}^{-1} \\mathrm{\\AA}^{-1}$)\",\n",
    "    fontsize=14,\n",
    ")"
   ]
  },
  {
   "cell_type": "markdown",
   "metadata": {},
   "source": [
    "It is a spectrum in the ultraviolet with two visible emission lines, one around $1220\\mathrm{\\r{A}}$ and one around $1330\\mathrm{\\r{A}}$. We know that wavelength at rest of the Lyman $\\alpha$ line is at $1216\\mathrm{\\r{A}}$. This spectrum might thus show Ly$\\alpha$ (atomic hydrogen, HI) emission of the Milky Way (hardly redshifted) and a redshifted extragalactic source. \n",
    "\n",
    "To investigate this further, we use the `specutils` package. First, we define a 1D spectrum: the data format that `specutils` accepts. "
   ]
  },
  {
   "cell_type": "code",
   "execution_count": 42,
   "metadata": {},
   "outputs": [
    {
     "data": {
      "text/plain": [
       "<Spectrum1D(flux=<Quantity [ 0.0000000e+00,  0.0000000e+00,  0.0000000e+00, ...,\n",
       "           -5.2580507e-16,  0.0000000e+00,  0.0000000e+00] erg / (Angstrom s cm2)>, spectral_axis=<SpectralAxis [1087.1409, 1087.3932, 1087.6455, ..., 1605.2651, 1605.5122, 1605.7592] Angstrom>)>"
      ]
     },
     "execution_count": 42,
     "metadata": {},
     "output_type": "execute_result"
    }
   ],
   "source": [
    "flux_unit = u.erg / u.cm**2 / u.s / u.Angstrom\n",
    "spectrum = Spectrum1D(\n",
    "    spectral_axis=spectrum_fits[1].data[0][0] * u.Angstrom,\n",
    "    flux=spectrum_fits[1].data[0][1] * flux_unit,\n",
    ")\n",
    "spectrum"
   ]
  },
  {
   "cell_type": "markdown",
   "metadata": {},
   "source": [
    "Now we can use `specutils_analysis` functions to analyze the spectrum. Let's find the centroid of the two lines."
   ]
  },
  {
   "cell_type": "code",
   "execution_count": 43,
   "metadata": {},
   "outputs": [
    {
     "name": "stdout",
     "output_type": "stream",
     "text": [
      "The centroid of the first peak is located at:  1216.476806640625 Angstrom\n",
      "The centroid of the second peak is located at:  1332.959228515625 Angstrom\n"
     ]
    }
   ],
   "source": [
    "# find the first peak, between 1200 and 1260 Angstrom\n",
    "centroid_Milky_Way = spec_ana.centroid(\n",
    "    spectrum,\n",
    "    SpectralRegion(1200 * u.Angstrom, 1260 * u.Angstrom),\n",
    ")\n",
    "# find the second peak, between 1300 and 1370 Angstrom\n",
    "centroid_second_peak = spec_ana.centroid(\n",
    "    spectrum,\n",
    "    SpectralRegion(1300 * u.Angstrom, 1370 * u.Angstrom),\n",
    ")\n",
    "print(\"The centroid of the first peak is located at: \", centroid_Milky_Way)\n",
    "print(\"The centroid of the second peak is located at: \", centroid_second_peak)"
   ]
  },
  {
   "cell_type": "markdown",
   "metadata": {},
   "source": [
    "Indeed the first peak is centered around the rest wavelength of the Ly$\\alpha$ line. We may thus assume that this is the HI emission from the Milky Way in the foreground. Now assuming that the second line is also Ly$\\alpha$ emission, let's calculate the redshift and recession velocity:"
   ]
  },
  {
   "cell_type": "code",
   "execution_count": 44,
   "metadata": {},
   "outputs": [
    {
     "name": "stdout",
     "output_type": "stream",
     "text": [
      "The source has a redshift of 0.096 and a recession velocity of 28835.84 km/s\n"
     ]
    }
   ],
   "source": [
    "rest_Ly_alpha = 1216.0\n",
    "redshift_z = (centroid_second_peak.value - rest_Ly_alpha) / rest_Ly_alpha\n",
    "cz = redshift_z * c  # speed of light in km/s, defined before\n",
    "print(\n",
    "    f\"The source has a redshift of {round(redshift_z, 3)}\"\n",
    "    f\" and a recession velocity of {round(cz, 2)} km/s\",\n",
    ")"
   ]
  },
  {
   "cell_type": "markdown",
   "metadata": {},
   "source": [
    "Although this source is much closer than the Quasar, it is still further away than the Coma Cluster and thus not a member of the Cluster. \n",
    "\n",
    "An alternative to using `specutils` we can also use more generic python packages and fit the emission lines with simple Gaussians. Let's define the Gaussian:"
   ]
  },
  {
   "cell_type": "code",
   "execution_count": 45,
   "metadata": {},
   "outputs": [],
   "source": [
    "def gauss(x, height, peak_position, sigma):\n",
    "    \"\"\"Gaussian 1d function.\n",
    "\n",
    "    Parameters\n",
    "    ----------\n",
    "    x : numpy 1d array or a list\n",
    "        list or array of wavelengths\n",
    "    height : float\n",
    "        multiplicative factor for the height of the gaussian function\n",
    "    peak_position : float\n",
    "        wavelength corresponding to the peak position\n",
    "    sigma : float\n",
    "        standard deviation that controlls with of the peak\n",
    "\n",
    "    Returns\n",
    "    -------\n",
    "    numpy array\n",
    "    \"\"\"\n",
    "    return height * np.exp(\n",
    "        -((np.asarray(x) - peak_position) ** 2.0) / (2 * sigma**2.0),\n",
    "    )"
   ]
  },
  {
   "cell_type": "markdown",
   "metadata": {},
   "source": [
    "Next, we select the two parts of the spectrum where the emission lines are:"
   ]
  },
  {
   "cell_type": "code",
   "execution_count": 46,
   "metadata": {},
   "outputs": [],
   "source": [
    "# separate wavelengths and fluxes in different objects\n",
    "spectrum_wavelengths = spectrum_fits[1].data[0][0]\n",
    "spectrum_flux = spectrum_fits[1].data[0][1]\n",
    "\n",
    "# make a mask to select wavelengths between 1190 and 1240 Angstrom\n",
    "mask_Milky_Way = np.where(\n",
    "    (spectrum_wavelengths < 1240.0) & (spectrum_wavelengths > 1190),\n",
    ")\n",
    "wavelengths_Milky_Way = spectrum_wavelengths[mask_Milky_Way]\n",
    "flux_Milky_Way = spectrum_flux[mask_Milky_Way]\n",
    "\n",
    "# make a mask to select wavelengths between 1300 and 1380 Angstrom\n",
    "mask_second_peak = np.where(\n",
    "    (spectrum_wavelengths < 1380) & (spectrum_wavelengths > 1300),\n",
    ")\n",
    "wavelengths_second_peak = spectrum_wavelengths[mask_second_peak]\n",
    "flux_second_peak = spectrum_flux[mask_second_peak]"
   ]
  },
  {
   "cell_type": "markdown",
   "metadata": {},
   "source": [
    "The Gaussian fit is done with the `curve_fit` function of the `scipy.optimize` library."
   ]
  },
  {
   "cell_type": "code",
   "execution_count": 47,
   "metadata": {},
   "outputs": [
    {
     "name": "stdout",
     "output_type": "stream",
     "text": [
      "The first peak, attributed to the Milky Way, has a  central wavelength of 1215.38  +/- 0.13 km/s.\n",
      "The first peak for the other object has a central wavelength of 1329.18  +/- 0.6 km/s.\n"
     ]
    }
   ],
   "source": [
    "popt_Milky_Way_line, pcov_Milky_Way_line = curve_fit(\n",
    "    gauss,\n",
    "    wavelengths_Milky_Way,\n",
    "    flux_Milky_Way,\n",
    "    p0=[1.25e-13, 1220.0, 10.0],\n",
    ")\n",
    "print(\n",
    "    \"The first peak, attributed to the Milky Way, has a\",\n",
    "    f\" central wavelength of {round(popt_Milky_Way_line[1], 2)} \",\n",
    "    f\"+/- {round(np.sqrt(np.diag(pcov_Milky_Way_line))[1], 2)} km/s.\",\n",
    ")\n",
    "\n",
    "\n",
    "popt_second_line, pcov_second_line = curve_fit(\n",
    "    gauss,\n",
    "    wavelengths_second_peak,\n",
    "    flux_second_peak,\n",
    "    p0=[0.2e-13, 1330.0, 10.0],\n",
    ")\n",
    "print(\n",
    "    \"The first peak for the other object has a\",\n",
    "    f\"central wavelength of {round(popt_second_line[1], 2)}\",\n",
    "    f\" +/- {round(np.sqrt(np.diag(pcov_second_line))[1], 2)} km/s.\",\n",
    ")"
   ]
  },
  {
   "cell_type": "markdown",
   "metadata": {},
   "source": [
    "These values are close to the results from the `specutils` package. \n",
    "\n",
    "To further check the fitting results, we plot the data, our model, and residuals:"
   ]
  },
  {
   "cell_type": "code",
   "execution_count": 48,
   "metadata": {},
   "outputs": [
    {
     "data": {
      "text/plain": [
       "Text(0, 0.5, 'Residual')"
      ]
     },
     "execution_count": 48,
     "metadata": {},
     "output_type": "execute_result"
    },
    {
     "data": {
      "image/png": "[encoded data removed]",
      "text/plain": [
       "<Figure size 640x480 with 2 Axes>"
      ]
     },
     "metadata": {},
     "output_type": "display_data"
    }
   ],
   "source": [
    "fig, axes = plt.subplots(2, 1)\n",
    "\n",
    "# First plot is the data and models\n",
    "axes[0].plot(wavelengths_Milky_Way, flux_Milky_Way)\n",
    "axes[0].plot(\n",
    "    wavelengths_Milky_Way,\n",
    "    gauss(wavelengths_Milky_Way, *popt_Milky_Way_line),\n",
    "    ls=\"-\",\n",
    "    color=\"k\",\n",
    ")\n",
    "axes[0].plot(wavelengths_second_peak, flux_second_peak)\n",
    "axes[0].plot(\n",
    "    wavelengths_second_peak,\n",
    "    gauss(wavelengths_second_peak, *popt_second_line),\n",
    "    ls=\"-\",\n",
    "    color=\"k\",\n",
    "    label=\"gaussian fits\",\n",
    ")\n",
    "axes[0].legend()\n",
    "axes[0].set_ylabel(r\"Flux [erg cm$^{-2}$ s$^{-1}$ $\\AA^{-1}$]\")\n",
    "\n",
    "\n",
    "# Second plot is the residuals = data - model\n",
    "axes[1].plot(\n",
    "    wavelengths_Milky_Way,\n",
    "    flux_Milky_Way - gauss(wavelengths_Milky_Way, *popt_Milky_Way_line),\n",
    ")\n",
    "axes[1].plot(\n",
    "    wavelengths_second_peak,\n",
    "    flux_second_peak - gauss(wavelengths_second_peak, *popt_second_line),\n",
    ")\n",
    "axes[1].axhline(0, ls=\"--\", c=\"k\")\n",
    "axes[1].set_xlabel(r\"Wavelength [$\\mathrm{\\AA}$]\")\n",
    "axes[1].set_ylabel(\"Residual\")"
   ]
  },
  {
   "cell_type": "markdown",
   "metadata": {},
   "source": [
    "While fitting a Gaussian to the emission lines provides very good results with regard to the central wavelength (and thus redshift) of the observed objects, the residuals show that the emission from the Milky Way is much more complicated. "
   ]
  },
  {
   "cell_type": "code",
   "execution_count": 49,
   "metadata": {},
   "outputs": [],
   "source": [
    "# End of the tutorial\n",
    "spectrum_fits.close()"
   ]
  }
 ],
 "metadata": {
  "kernelspec": {
   "display_name": "Python 3 (ipykernel)",
   "language": "python",
   "name": "python3"
  },
  "language_info": {
   "codemirror_mode": {
    "name": "ipython",
    "version": 3
   },
   "file_extension": ".py",
   "mimetype": "text/x-python",
   "name": "python",
   "nbconvert_exporter": "python",
   "pygments_lexer": "ipython3",
   "version": "3.10.11"
  },
  "vscode": {
   "interpreter": {
    "hash": "18fabf4b7284864439f771ae90661426265feb3ce932d65d859d3ebdb8aac045"
   }
  },
  "widgets": {
   "application/vnd.jupyter.widget-state+json": {
    "state": {
     "330c715e7b034b9f8fbbf16c50629172": {
      "model_module": "ipyaladin",
      "model_module_version": "^0.2.5",
      "model_name": "AladinModel",
      "state": {
       "_model_module_version": "^0.2.5",
       "_view_module_version": "^0.2.5",
       "allow_full_zoomout": false,
       "color_map_flag": true,
       "color_map_name": "",
       "coo_frame": "J2000",
       "fov": 9,
       "full_screen": false,
       "height": 400,
       "layout": "IPY_MODEL_886138cd150749eebe4b1c66447309dd",
       "listener_flag": true,
       "listener_type": "",
       "log": true,
       "moc_URL": "",
       "moc_dict": {},
       "moc_from_URL_flag": true,
       "moc_from_dict_flag": true,
       "moc_options": {},
       "options": [
        "allow_full_zoomout",
        "coo_frame",
        "fov",
        "full_screen",
        "log",
        "overlay_survey",
        "overlay_survey_opacity",
        "reticle_color",
        "reticle_size",
        "show_catalog",
        "show_context_menu",
        "show_coo_grid",
        "show_frame",
        "show_fullscreen_control",
        "show_goto_control",
        "show_layers_control",
        "show_reticle",
        "show_share_control",
        "show_simbad_pointer_control",
        "show_zoom_control",
        "survey",
        "target"
       ],
       "overlay_from_stcs_flag": true,
       "overlay_options": {},
       "overlay_survey": "",
       "overlay_survey_opacity": 0,
       "rectangular_selection_flag": true,
       "reticle_color": "rgb(178, 50, 178)",
       "reticle_size": 22,
       "show_catalog": true,
       "show_context_menu": true,
       "show_coo_grid": false,
       "show_frame": true,
       "show_fullscreen_control": false,
       "show_goto_control": true,
       "show_layers_control": true,
       "show_reticle": true,
       "show_share_control": false,
       "show_simbad_pointer_control": true,
       "show_zoom_control": true,
       "stc_string": "",
       "survey": "P/DSS2/color",
       "table_columns": [
        [
         195.2758,
         27.397826,
         15.842000007629395,
         8112.588000000001
        ],
        [
         194.905631,
         27.336047,
         16.01099967956543,
         6973.348
        ],
        [
         195.121706,
         27.333216,
         16.014999389648438,
         400811.614
        ],
        [
         195.074226,
         27.387516,
         15.366999626159668,
         11026.644
        ],
        [
         195.20801,
         27.405782,
         13.925999641418457,
         6589.604
        ],
        [
         195.053832,
         27.396513,
         17.55299949645996,
         89469.314
        ],
        [
         195.046668,
         27.460084,
         17.625,
         6841.436
        ],
        [
         195.046028,
         27.480776,
         17.33799934387207,
         47035.622
        ],
        [
         195.016883,
         27.512688,
         17.23900032043457,
         38137.558
        ],
        [
         195.139784,
         27.504124,
         16.117000579833984,
         5579.278
        ],
        [
         195.111897,
         27.515591,
         15.034000396728516,
         7779.81
        ],
        [
         195.121804,
         27.514842,
         15.661999702453613,
         398551.12200000003
        ],
        [
         195.079593,
         27.553721,
         14.678000450134277,
         5888.072
        ],
        [
         195.104915,
         27.55226,
         16.44300079345703,
         7267.152
        ],
        [
         195.148648,
         27.574225,
         15.128999710083008,
         5096.6
        ],
        [
         194.585544,
         27.429383,
         16.924999237060547,
         7542.968
        ],
        [
         194.503139,
         27.453988,
         16.639999389648438,
         7680.876
        ],
        [
         194.506495,
         27.489666,
         14.416000366210938,
         7623.914000000001
        ],
        [
         194.461482,
         27.490864,
         17.416000366210938,
         7351.0960000000005
        ],
        [
         194.476511,
         27.490633,
         14.998000144958496,
         4979.678
        ],
        [
         194.430132,
         27.577594,
         16.256999969482422,
         7228.178
        ],
        [
         194.414208,
         27.606077,
         16.700000762939453,
         21006.985999999997
        ],
        [
         194.785835,
         27.367136,
         17.37700080871582,
         41816.104
        ],
        [
         194.807102,
         27.402569,
         14.383999824523926,
         5654.227999999999
        ],
        [
         194.83459,
         27.435237,
         17.29800033569336,
         7695.865999999999
        ],
        [
         194.852451,
         27.517338,
         17.211999893188477,
         5891.070000000001
        ],
        [
         194.657624,
         27.463954,
         15.84000015258789,
         6268.818
        ],
        [
         194.633601,
         27.456334,
         15.059000015258789,
         7021.316
        ],
        [
         194.776318,
         27.493631,
         17.66699981689453,
         8163.554
        ],
        [
         194.826872,
         27.513511,
         16.110000610351562,
         6040.97
        ],
        [
         194.756773,
         27.536929,
         15.576000213623047,
         934530.5639999999
        ],
        [
         194.938451,
         27.451048,
         17.327999114990234,
         36284.794
        ],
        [
         194.915871,
         27.576468,
         15.746000289916992,
         5009.657999999999
        ],
        [
         195.043379,
         27.594998,
         15.585000038146973,
         5594.268
        ],
        [
         195.083842,
         27.615706,
         17.445999145507812,
         43468.002
        ],
        [
         195.093245,
         27.623552,
         16.23900032043457,
         7602.928
        ],
        [
         195.010186,
         27.612838,
         17.493000030517578,
         33799.452000000005
        ],
        [
         195.026051,
         27.685293,
         15.36400032043457,
         7545.966
        ],
        [
         194.827255,
         27.593594,
         16.649999618530273,
         5228.512000000001
        ],
        [
         194.792935,
         27.619857,
         15.222000122070312,
         5741.17
        ],
        [
         194.865752,
         27.636292,
         15.53600025177002,
         -188.874
        ],
        [
         194.922146,
         27.659826,
         15.038999557495117,
         6748.498
        ],
        [
         194.907439,
         27.702587,
         17.464000701904297,
         38110.576
        ],
        [
         194.883653,
         27.720455,
         17.608999252319336,
         7677.878000000001
        ],
        [
         194.946451,
         27.710301,
         13.805000305175781,
         8388.404
        ],
        [
         194.937274,
         27.737204,
         16.642000198364258,
         24487.664
        ],
        [
         194.942831,
         27.74625,
         17.506000518798828,
         9716.518
        ],
        [
         194.660042,
         27.5441,
         15.255000114440918,
         5969.018
        ],
        [
         194.54041,
         27.549421,
         16.454999923706055,
         6976.346
        ],
        [
         194.548607,
         27.542482,
         17.19099998474121,
         7120.25
        ],
        [
         194.618366,
         27.559378,
         15.592000007629395,
         7572.948
        ],
        [
         194.742097,
         27.594702,
         14.918999671936035,
         6010.99
        ],
        [
         194.646608,
         27.596409,
         13.503000259399414,
         7686.872
        ],
        [
         194.697503,
         27.674716,
         13.734999656677246,
         8382.408
        ],
        [
         194.528443,
         27.576876,
         16.343000411987305,
         7497.9980000000005
        ],
        [
         194.484286,
         27.58135,
         15.815999984741211,
         4961.69
        ],
        [
         194.477996,
         27.615904,
         14.725000381469727,
         20344.428
        ],
        [
         194.428534,
         27.621354,
         16.115999221801758,
         20389.398
        ],
        [
         194.429425,
         27.60786,
         17.006999969482422,
         20506.32
        ],
        [
         194.460665,
         27.643733,
         16.785999298095703,
         6811.456
        ],
        [
         194.514367,
         27.633305,
         15.609999656677246,
         20395.393999999997
        ],
        [
         194.514658,
         27.682448,
         16.402000427246094,
         7234.174
        ],
        [
         194.631666,
         27.67349,
         15.588000297546387,
         6916.386
        ],
        [
         194.640701,
         27.674647,
         17.57900047302246,
         56593.246
        ],
        [
         194.570087,
         27.729674,
         16.243999481201172,
         20458.352
        ],
        [
         194.579923,
         27.762067,
         15.932999610900879,
         5450.3640000000005
        ],
        [
         194.772062,
         27.644404,
         14.312999725341797,
         5435.374
        ],
        [
         194.826472,
         27.715732,
         16.736000061035156,
         6673.548
        ],
        [
         194.781212,
         27.767765,
         14.651000022888184,
         6361.755999999999
        ],
        [
         194.752252,
         27.767425,
         17.677000045776367,
         68528.284
        ],
        [
         194.853878,
         27.738832,
         15.055000305175781,
         6031.976
        ],
        [
         194.907624,
         27.776824,
         15.41100025177002,
         6802.4619999999995
        ],
        [
         194.863773,
         27.785053,
         16.788999557495117,
         6580.610000000001
        ],
        [
         194.877705,
         27.791424,
         15.576000213623047,
         7767.817999999999
        ],
        [
         194.806238,
         27.774592,
         14.420000076293945,
         6826.446
        ],
        [
         194.784166,
         27.784118,
         13.930000305175781,
         7030.3099999999995
        ],
        [
         194.778525,
         27.772455,
         16.483999252319336,
         6244.834000000001
        ],
        [
         194.872526,
         27.850157,
         14.435999870300293,
         6787.472
        ],
        [
         194.677455,
         27.760495,
         16.889999389648438,
         401510.148
        ],
        [
         194.689761,
         27.753879,
         16.698999404907227,
         6625.580000000001
        ],
        [
         194.740101,
         27.785426,
         15.491000175476074,
         6940.37
        ],
        [
         194.717063,
         27.785051,
         14.515999794006348,
         5654.227999999999
        ],
        [
         194.721057,
         27.813426,
         15.574000358581543,
         5522.316
        ],
        [
         194.727648,
         27.795617,
         16.450000762939453,
         6469.683999999999
        ],
        [
         194.703029,
         27.810435,
         13.946999549865723,
         5918.052000000001
        ],
        [
         194.658997,
         27.822583,
         17.3439998626709,
         5393.402
        ],
        [
         194.669717,
         27.826917,
         16.32900047302246,
         6169.884
        ],
        [
         194.769418,
         27.791819,
         17.68400001525879,
         25378.07
        ],
        [
         194.733085,
         27.833372,
         14.156000137329102,
         7524.9800000000005
        ],
        [
         194.735868,
         27.821985,
         16.652999877929688,
         8709.19
        ],
        [
         194.834057,
         27.885992,
         15.178000450134277,
         6481.676
        ],
        [
         194.783102,
         27.854962,
         14.446999549865723,
         6574.6140000000005
        ],
        [
         194.790166,
         27.867393,
         16.28700065612793,
         6913.388
        ],
        [
         194.81092,
         27.895591,
         17.319000244140625,
         6409.724
        ],
        [
         194.689411,
         27.879958,
         17.666000366210938,
         8466.352
        ],
        [
         194.692141,
         27.860865,
         17.66699981689453,
         8775.146
        ],
        [
         194.769324,
         27.91098,
         15.251999855041504,
         6403.728
        ],
        [
         194.787813,
         27.897552,
         16.83099937438965,
         7839.7699999999995
        ],
        [
         194.747813,
         27.934522,
         16.534000396728516,
         5750.164
        ],
        [
         195.497889,
         27.531602,
         16.48900032043457,
         20047.626
        ],
        [
         195.418947,
         27.548932,
         17.667999267578125,
         6499.664000000001
        ],
        [
         195.539032,
         27.589357,
         16.988000869750977,
         6454.694
        ],
        [
         195.574367,
         27.659084,
         17.724000930786133,
         20566.28
        ],
        [
         195.532831,
         27.648298,
         14.274999618530273,
         6898.398
        ],
        [
         195.255565,
         27.520426,
         17.216999053955078,
         0
        ],
        [
         195.301202,
         27.604476,
         15.477999687194824,
         7551.962
        ],
        [
         195.408072,
         27.591183,
         16.56100082397461,
         38083.594000000005
        ],
        [
         195.446831,
         27.621792,
         16.54199981689453,
         7788.804
        ],
        [
         195.451563,
         27.603962,
         15.244000434875488,
         8229.51
        ],
        [
         195.36076,
         27.643655,
         17.2189998626709,
         20458.352
        ],
        [
         195.243238,
         27.652088,
         14.777999877929688,
         5207.526
        ],
        [
         195.140293,
         27.637748,
         14.812999725341797,
         7483.008
        ],
        [
         195.313343,
         27.669224,
         16.452999114990234,
         7063.2880000000005
        ],
        [
         195.365769,
         27.693234,
         17.700000762939453,
         63911.364
        ],
        [
         195.274233,
         27.708883,
         17.75200080871582,
         8733.173999999999
        ],
        [
         195.296754,
         27.742505,
         17.38599967956543,
         7369.084000000001
        ],
        [
         195.473879,
         27.624446,
         12.755000114440918,
         7857.758
        ],
        [
         195.504322,
         27.652969,
         14.993000030517578,
         7090.27
        ],
        [
         195.518084,
         27.69955,
         16.847999572753906,
         7006.325999999999
        ],
        [
         195.402158,
         27.707932,
         16.71299934387207,
         7911.722
        ],
        [
         195.4512,
         27.728445,
         17.47800064086914,
         5483.342000000001
        ],
        [
         195.525034,
         27.765117,
         17.013999938964844,
         7237.1720000000005
        ],
        [
         195.500588,
         27.782713,
         14.906000137329102,
         7117.252
        ],
        [
         195.428649,
         27.747563,
         16.674999237060547,
         10618.916
        ],
        [
         195.323316,
         27.809071,
         13.66100025177002,
         7300.13
        ],
        [
         195.382518,
         27.8475,
         13.458000183105469,
         5462.356
        ],
        [
         195.459256,
         27.893544,
         14.515000343322754,
         7548.964
        ],
        [
         195.644955,
         27.949109,
         14.746000289916992,
         5780.143999999999
        ],
        [
         195.632822,
         27.935536,
         15.805999755859375,
         6619.584
        ],
        [
         195.563798,
         27.917556,
         17.040000915527344,
         48375.728
        ],
        [
         195.604294,
         27.972258,
         17.29400062561035,
         8220.516
        ],
        [
         195.63455,
         28.021377,
         17.457000732421875,
         48141.884
        ],
        [
         195.692423,
         28.034973,
         17.406999588012695,
         28858.748
        ],
        [
         195.684985,
         28.045338,
         13.6899995803833,
         6223.848
        ],
        [
         195.660181,
         28.114571,
         14.696999549865723,
         7459.023999999999
        ],
        [
         195.673,
         28.1363,
         17.06599998474121,
         49305.108
        ],
        [
         195.115212,
         27.625208,
         16.45800018310547,
         5873.082
        ],
        [
         195.05284,
         27.719827,
         17.756999969482422,
         43599.914000000004
        ],
        [
         195.124692,
         27.770252,
         17.277999877929688,
         8358.423999999999
        ],
        [
         195.135484,
         27.766142,
         15.407999992370605,
         6673.548
        ],
        [
         195.212901,
         27.742985,
         16.795000076293945,
         8133.5740000000005
        ],
        [
         195.188355,
         27.747017,
         17.56100082397461,
         9332.774000000001
        ],
        [
         195.233588,
         27.790852,
         12.946999549865723,
         7971.682
        ],
        [
         195.225501,
         27.783704,
         15.059000015258789,
         8298.464
        ],
        [
         195.218754,
         27.80496,
         17.70199966430664,
         6832.442
        ],
        [
         195.228213,
         27.842008,
         16.253000259399414,
         7084.274
        ],
        [
         195.219678,
         27.825628,
         17.461000442504883,
         135995.276
        ],
        [
         195.189104,
         27.835489,
         16.905000686645508,
         8775.146
        ],
        [
         195.027781,
         27.721109,
         17.618000030517578,
         43632.892
        ],
        [
         195.006214,
         27.731263,
         16.520000457763672,
         8070.616
        ],
        [
         195.02621,
         27.775764,
         14.699999809265137,
         6178.878
        ],
        [
         195.03358,
         27.773318,
         16.898000717163086,
         8670.216
        ],
        [
         195.052609,
         27.781821,
         15.48900032043457,
         7006.325999999999
        ],
        [
         195.073137,
         27.78442,
         16.854000091552734,
         6970.35
        ],
        [
         195.077386,
         27.815523,
         16.232999801635742,
         5363.422
        ],
        [
         194.983802,
         27.746312,
         16.17099952697754,
         8922.048
        ],
        [
         194.978598,
         27.796,
         16.070999145507812,
         8247.498
        ],
        [
         195.022925,
         27.807595,
         14.73900032043457,
         6574.6140000000005
        ],
        [
         195.13902,
         27.824244,
         15.807999610900879,
         8199.53
        ],
        [
         195.171538,
         27.895,
         16.524999618530273,
         18281.804
        ],
        [
         195.08404,
         27.843494,
         16.895999908447266,
         7869.75
        ],
        [
         195.038093,
         27.866477,
         15.475000381469727,
         5315.454
        ],
        [
         195.042653,
         27.863948,
         15.937000274658203,
         9926.378
        ],
        [
         195.056811,
         27.867177,
         16.136999130249023,
         7399.064
        ],
        [
         195.090288,
         27.898538,
         16.648000717163086,
         4874.748
        ],
        [
         195.103426,
         27.926622,
         16.552000045776367,
         7953.694
        ],
        [
         195.288477,
         27.818304,
         14.89799976348877,
         5921.05
        ],
        [
         195.294605,
         27.802887,
         14.835000038146973,
         6691.536
        ],
        [
         195.330495,
         27.860456,
         17.014999389648438,
         8217.518
        ],
        [
         195.35885,
         27.885973,
         12.711999893188477,
         5471.349999999999
        ],
        [
         195.246911,
         27.899816,
         14.461000442504883,
         6889.404
        ],
        [
         195.306789,
         27.914253,
         15.569000244140625,
         5849.098
        ],
        [
         195.270103,
         27.891744,
         16.520999908447266,
         5804.128
        ],
        [
         195.391025,
         27.911102,
         16.715999603271484,
         6562.622
        ],
        [
         195.368603,
         27.926544,
         16.707000732421875,
         7527.978
        ],
        [
         195.333292,
         27.961016,
         17.586000442504883,
         7875.746
        ],
        [
         195.363104,
         27.999196,
         15.611000061035156,
         7644.9
        ],
        [
         195.233046,
         27.8985,
         16.388999938964844,
         6019.984
        ],
        [
         195.19752,
         27.922157,
         15.086999893188477,
         8565.286
        ],
        [
         195.165671,
         27.923934,
         14.012999534606934,
         7500.996
        ],
        [
         195.143448,
         27.934692,
         16.698999404907227,
         8763.154
        ],
        [
         195.178482,
         27.963083,
         14.720000267028809,
         8421.382
        ],
        [
         195.147593,
         27.942744,
         16.708999633789062,
         6970.35
        ],
        [
         195.178133,
         27.971262,
         13.930000305175781,
         6373.7480000000005
        ],
        [
         195.226908,
         28.007634,
         13.052000045776367,
         4982.6759999999995
        ],
        [
         195.170195,
         27.996604,
         14.430999755859375,
         7087.272
        ],
        [
         195.28931,
         28.033118,
         16.10300064086914,
         7024.313999999999
        ],
        [
         195.306932,
         28.083123,
         16.93000030517578,
         5807.125999999999
        ],
        [
         195.273564,
         28.062057,
         17.18000030517578,
         7432.0419999999995
        ],
        [
         194.962503,
         27.832951,
         16.402000427246094,
         7896.732
        ],
        [
         194.904041,
         27.825804,
         16.222999572753906,
         6256.826
        ],
        [
         194.942174,
         27.857228,
         14.819999694824219,
         8091.602
        ],
        [
         194.897021,
         27.863631,
         16.52199935913086,
         6292.802000000001
        ],
        [
         194.917094,
         27.854937,
         15.718000411987305,
         3798.4660000000003
        ],
        [
         194.914489,
         27.854598,
         16.194000244140625,
         9395.732
        ],
        [
         194.934219,
         27.867678,
         16.45400047302246,
         6238.838
        ],
        [
         194.878434,
         27.884207,
         14.097000122070312,
         4709.857999999999
        ],
        [
         194.882884,
         27.861297,
         16.979000091552734,
         4661.89
        ],
        [
         194.936228,
         27.889762,
         17.05699920654297,
         6808.4580000000005
        ],
        [
         194.958769,
         27.924836,
         15.925999641418457,
         9833.44
        ],
        [
         194.959091,
         27.912635,
         17.48200035095215,
         7246.166
        ],
        [
         194.90795,
         27.907319,
         14.550999641418457,
         8007.658
        ],
        [
         194.926265,
         27.924733,
         15.269000053405762,
         6907.392000000001
        ],
        [
         194.935019,
         27.912455,
         14.164999961853027,
         6700.53
        ],
        [
         195.023672,
         27.926464,
         17.743999481201172,
         7953.694
        ],
        [
         195.07823,
         27.937037,
         15.4399995803833,
         5282.476
        ],
        [
         195.04312,
         27.959068,
         17.51099967956543,
         6328.778
        ],
        [
         195.068829,
         27.967507,
         14.604000091552734,
         4637.906
        ],
        [
         195.0754,
         27.956573,
         14.645999908447266,
         6367.7519999999995
        ],
        [
         194.986047,
         27.930025,
         15.052000045776367,
         7707.858
        ],
        [
         194.997788,
         27.940571,
         17.250999450683594,
         6106.9259999999995
        ],
        [
         195.00404,
         27.945431,
         16.87700080871582,
         6841.436
        ],
        [
         195.015613,
         27.964706,
         16.400999069213867,
         5330.444
        ],
        [
         195.033862,
         27.976941,
         11.52400016784668,
         6445.7
        ],
        [
         195.025435,
         27.978301,
         14.175000190734863,
         7632.908
        ],
        [
         195.031143,
         27.95807,
         17.06999969482422,
         6211.856
        ],
        [
         195.018502,
         27.987578,
         13.946999549865723,
         6370.750000000001
        ],
        [
         195.026606,
         28.004117,
         15.85200023651123,
         7270.150000000001
        ],
        [
         195.022457,
         28.024439,
         15.430999755859375,
         5903.062
        ],
        [
         194.844255,
         27.896873,
         15.206999778747559,
         5153.562
        ],
        [
         194.84755,
         27.919566,
         17.658000946044922,
         6928.378
        ],
        [
         194.85557,
         27.934487,
         16.871000289916992,
         7587.938
        ],
        [
         194.892163,
         27.946836,
         14.279999732971191,
         7180.21
        ],
        [
         194.915234,
         27.953905,
         15.479999542236328,
         8031.642000000001
        ],
        [
         194.917791,
         27.968233,
         15.661999702453613,
         7575.946
        ],
        [
         194.934177,
         27.958413,
         15.829999923706055,
         6904.393999999999
        ],
        [
         194.874842,
         27.956428,
         13.96500015258789,
         6796.465999999999
        ],
        [
         194.886634,
         27.9836,
         14.052000045776367,
         5825.114
        ],
        [
         194.898771,
         27.959263,
         11.989999771118164,
         7168.218
        ],
        [
         194.832148,
         27.9735,
         16.77400016784668,
         7234.174
        ],
        [
         194.813531,
         27.970726,
         14.354999542236328,
         4820.784000000001
        ],
        [
         194.804612,
         27.976975,
         15.824000358581543,
         6781.476000000001
        ],
        [
         194.817596,
         27.986326,
         17.308000564575195,
         47488.32000000001
        ],
        [
         194.813044,
         27.965404,
         17.674999237060547,
         84753.46
        ],
        [
         194.839209,
         27.973564,
         16.374000549316406,
         6058.958
        ],
        [
         194.856189,
         27.973203,
         15.29800033569336,
         6094.934
        ],
        [
         194.855528,
         27.967929,
         15.45300006866455,
         7707.858
        ],
        [
         194.8608,
         27.998469,
         15.572999954223633,
         6667.552
        ],
        [
         194.854357,
         27.996729,
         16.878999710083008,
         5480.344
        ],
        [
         194.944907,
         27.973845,
         14.63599967956543,
         9419.715999999999
        ],
        [
         194.945554,
         27.991912,
         17.570999145507812,
         8412.388
        ],
        [
         194.932182,
         27.994683,
         14.942999839782715,
         6670.549999999999
        ],
        [
         194.909649,
         27.987194,
         15.097000122070312,
         6817.452
        ],
        [
         194.983379,
         28.034715,
         14.013999938964844,
         8151.562
        ],
        [
         194.990049,
         28.065098,
         16.606000900268555,
         5840.104
        ],
        [
         194.881004,
         28.046599,
         14.401000022888184,
         6919.384
        ],
        [
         194.869681,
         28.040514,
         15.437000274658203,
         5624.248
        ],
        [
         194.965661,
         28.098526,
         16.409000396728516,
         7647.898
        ],
        [
         194.964421,
         28.073481,
         16.33099937438965,
         7492.0019999999995
        ],
        [
         194.949036,
         28.097886,
         17.750999450683594,
         6373.7480000000005
        ],
        [
         195.116533,
         27.955969,
         15.079000473022461,
         7003.3279999999995
        ],
        [
         195.118294,
         27.972391,
         14.803999900817871,
         7716.852
        ],
        [
         195.161501,
         28.014526,
         14.663999557495117,
         7599.93
        ],
        [
         195.171636,
         28.04512,
         17.334999084472656,
         8625.246000000001
        ],
        [
         195.157753,
         28.057967,
         14.993000030517578,
         7653.894
        ],
        [
         195.078668,
         28.009307,
         17.048999786376953,
         6199.8640000000005
        ],
        [
         195.09223,
         28.047007,
         14.371999740600586,
         8175.545999999999
        ],
        [
         195.061433,
         28.041297,
         14.668000221252441,
         5732.176
        ],
        [
         195.055934,
         28.053287,
         17.58300018310547,
         8142.568
        ],
        [
         195.070941,
         28.063911,
         15.27400016784668,
         6136.906
        ],
        [
         195.076427,
         28.059288,
         17.451000213623047,
         9968.35
        ],
        [
         195.128979,
         28.108394,
         17.224000930786133,
         5180.544
        ],
        [
         195.213151,
         28.047139,
         15.85099983215332,
         6343.768000000001
        ],
        [
         195.202695,
         28.090736,
         13.85200023651123,
         6967.352
        ],
        [
         195.185976,
         28.100636,
         15.321999549865723,
         6598.597999999999
        ],
        [
         195.280675,
         28.121567,
         17.628000259399414,
         45596.582
        ],
        [
         195.148218,
         28.146125,
         14.734999656677246,
         5462.356
        ],
        [
         195.203326,
         28.158343,
         13.291999816894531,
         5807.125999999999
        ],
        [
         195.033291,
         28.078567,
         14.602999687194824,
         7237.1720000000005
        ],
        [
         195.053597,
         28.075496,
         14.946999549865723,
         7503.994
        ],
        [
         195.046407,
         28.065246,
         16.985000610351562,
         7357.092
        ],
        [
         195.077274,
         28.097154,
         16.701000213623047,
         7818.784
        ],
        [
         194.979547,
         28.128356,
         15.065999984741211,
         7563.954
        ],
        [
         195.037977,
         28.170392,
         14.70300006866455,
         6751.495999999999
        ],
        [
         195.03636,
         28.159854,
         15.491999626159668,
         7462.022
        ],
        [
         195.017693,
         28.155107,
         17.111000061035156,
         6571.616
        ],
        [
         195.125788,
         28.160047,
         17.374000549316406,
         7069.284
        ],
        [
         195.183037,
         28.192228,
         17.61400032043457,
         56836.084
        ],
        [
         195.074697,
         28.202398,
         13.006999969482422,
         8526.312
        ],
        [
         195.135268,
         28.256051,
         16.71500015258789,
         6283.808
        ],
        [
         195.092452,
         28.247091,
         16.884000778198242,
         7518.984
        ],
        [
         195.489891,
         28.005836,
         13.343000411987305,
         7719.849999999999
        ],
        [
         195.405522,
         28.015769,
         17.045000076293945,
         7147.232
        ],
        [
         195.403178,
         28.057783,
         17.285999298095703,
         29533.298
        ],
        [
         195.445895,
         28.095001,
         14.092000007629395,
         5801.13
        ],
        [
         195.55973,
         28.101597,
         16.02199935913086,
         5948.032
        ],
        [
         195.533971,
         28.151026,
         17.19499969482422,
         4907.726
        ],
        [
         195.547339,
         28.172457,
         16.92300033569336,
         8958.024
        ],
        [
         195.542861,
         28.191818,
         15.522000312805176,
         5738.1720000000005
        ],
        [
         195.324347,
         28.097074,
         17.489999771118164,
         8040.636
        ],
        [
         195.329407,
         28.128138,
         16.87299919128418,
         6808.4580000000005
        ],
        [
         195.396839,
         28.146949,
         17.011999130249023,
         5273.482000000001
        ],
        [
         195.363801,
         28.182137,
         16.98200035095215,
         48789.452
        ],
        [
         195.466007,
         28.139017,
         16.929000854492188,
         28843.758
        ],
        [
         195.453551,
         28.171948,
         15.869999885559082,
         7620.916
        ],
        [
         195.475492,
         28.193977,
         16.19499969482422,
         28822.772
        ],
        [
         195.434066,
         28.214359,
         16.427000045776367,
         7824.780000000001
        ],
        [
         195.629268,
         28.145448,
         17.327999114990234,
         48525.628000000004
        ],
        [
         195.589669,
         28.23077,
         14.319000244140625,
         5570.284
        ],
        [
         195.553278,
         28.214837,
         15.086999893188477,
         8187.5380000000005
        ],
        [
         195.590233,
         28.255979,
         14.545000076293945,
         6811.456
        ],
        [
         195.491178,
         28.303286,
         17.350000381469727,
         48564.602
        ],
        [
         195.559644,
         28.352645,
         14.77400016784668,
         8649.23
        ],
        [
         195.326873,
         28.172372,
         17.66200065612793,
         25536.964
        ],
        [
         195.344907,
         28.196036,
         14.770999908447266,
         7602.928
        ],
        [
         195.359801,
         28.220779,
         17.341999053955078,
         45659.54
        ],
        [
         195.412867,
         28.245877,
         16.562000274658203,
         7596.932000000001
        ],
        [
         195.430341,
         28.297787,
         17.493999481201172,
         7692.8679999999995
        ],
        [
         195.178356,
         28.302926,
         16.756000518798828,
         28912.712
        ],
        [
         195.184284,
         28.337265,
         14.437000274658203,
         7917.718
        ],
        [
         195.297446,
         28.337905,
         17.607999801635742,
         66579.584
        ],
        [
         195.287645,
         28.359782,
         15.093000411987305,
         6898.398
        ],
        [
         195.242798,
         28.36132,
         17.22800064086914,
         43042.286
        ],
        [
         195.217014,
         28.366127,
         13.635000228881836,
         7638.9039999999995
        ],
        [
         195.243781,
         28.393121,
         17.666000366210938,
         27329.768
        ],
        [
         195.536084,
         28.387108,
         14.055000305175781,
         7575.946
        ],
        [
         195.485726,
         28.38866,
         17.209999084472656,
         48723.496
        ],
        [
         195.471431,
         28.417507,
         17.39699935913086,
         66645.54
        ],
        [
         195.361207,
         28.435894,
         16.204999923706055,
         5762.156
        ],
        [
         195.371607,
         28.516019,
         16.950000762939453,
         20551.29
        ],
        [
         194.386816,
         27.610347,
         13.473999977111816,
         6034.973999999999
        ],
        [
         194.331644,
         27.613785,
         16.993999481201172,
         7764.82
        ],
        [
         194.364627,
         27.636255,
         16.63599967956543,
         8040.636
        ],
        [
         194.307773,
         27.639511,
         17.66900062561035,
         20212.516
        ],
        [
         194.358832,
         27.6594,
         17.260000228881836,
         5054.628
        ],
        [
         194.267667,
         27.73004,
         16.075000762939453,
         8886.072
        ],
        [
         194.404662,
         27.634498,
         17.27199935913086,
         20821.11
        ],
        [
         194.471376,
         27.707306,
         16.34000015258789,
         6448.698
        ],
        [
         194.449859,
         27.726541,
         16.38599967956543,
         20956.02
        ],
        [
         194.367264,
         27.700766,
         17.01300048828125,
         6460.69
        ],
        [
         194.442322,
         27.757028,
         14.869000434875488,
         6130.91
        ],
        [
         194.40876,
         27.749029,
         16.518999099731445,
         25677.870000000003
        ],
        [
         194.467957,
         27.739634,
         17.374000549316406,
         6925.38
        ],
        [
         194.568853,
         27.802553,
         17.334999084472656,
         5693.202
        ],
        [
         194.449426,
         27.769443,
         16.06100082397461,
         5780.143999999999
        ],
        [
         194.427638,
         27.796225,
         17.11400032043457,
         25557.95
        ],
        [
         194.502862,
         27.803306,
         17.194000244140625,
         33589.592
        ],
        [
         194.488521,
         27.809298,
         16.80500030517578,
         33688.526
        ],
        [
         194.514624,
         27.814948,
         14.741999626159668,
         7126.246
        ],
        [
         194.51012,
         27.850469,
         16.57900047302246,
         19651.89
        ],
        [
         194.507133,
         27.853559,
         16.084999084472656,
         5690.204
        ],
        [
         194.313779,
         27.729827,
         17.06100082397461,
         5762.156
        ],
        [
         194.326051,
         27.747358,
         16.766000747680664,
         6859.424
        ],
        [
         194.347771,
         27.766279,
         14.803000450134277,
         9125.912
        ],
        [
         194.263972,
         27.779096,
         17.518999099731445,
         25216.178
        ],
        [
         194.268936,
         27.773011,
         15.682999610900879,
         7533.974
        ],
        [
         194.324193,
         27.810922,
         15.496999740600586,
         7144.234
        ],
        [
         194.447097,
         27.833309,
         14.835000038146973,
         6052.9619999999995
        ],
        [
         194.462155,
         27.846002,
         17.43600082397461,
         57102.906
        ],
        [
         194.450278,
         27.883057,
         14.298999786376953,
         5855.094
        ],
        [
         194.460981,
         27.879485,
         15.105999946594238,
         6946.366
        ],
        [
         194.340586,
         27.88043,
         15.335000038146973,
         7438.038
        ],
        [
         194.338341,
         27.858469,
         16.288000106811523,
         25327.104
        ],
        [
         194.43876,
         27.905977,
         17.58300018310547,
         8100.596
        ],
        [
         194.6204,
         27.814803,
         17.014999389648438,
         25357.084
        ],
        [
         194.56841,
         27.827027,
         16.232999801635742,
         25593.926
        ],
        [
         194.575873,
         27.848489,
         17.034000396728516,
         7578.944
        ],
        [
         194.632083,
         27.852872,
         17.45800018310547,
         62814.096000000005
        ],
        [
         194.635524,
         27.849727,
         17.739999771118164,
         47584.256
        ],
        [
         194.640713,
         27.836769,
         17.076000213623047,
         4505.994
        ],
        [
         194.653129,
         27.849482,
         17.2549991607666,
         6163.888
        ],
        [
         194.650332,
         27.872888,
         17.39699935913086,
         7096.266
        ],
        [
         194.546304,
         27.860265,
         17.3439998626709,
         7003.3279999999995
        ],
        [
         194.548548,
         27.893662,
         17.562999725341797,
         5741.17
        ],
        [
         194.591637,
         27.892283,
         16.024999618530273,
         7300.13
        ],
        [
         194.592827,
         27.884778,
         17.108999252319336,
         4359.092000000001
        ],
        [
         194.693614,
         27.901795,
         16.39699935913086,
         47344.416000000005
        ],
        [
         194.705761,
         27.910765,
         17.316999435424805,
         47206.507999999994
        ],
        [
         194.669748,
         27.920415,
         17.18600082397461,
         50153.542
        ],
        [
         194.67466,
         27.922174,
         17.47599983215332,
         47677.194
        ],
        [
         194.750292,
         27.967474,
         15.59000015258789,
         8319.45
        ],
        [
         194.730217,
         27.964702,
         15.27400016784668,
         5663.222
        ],
        [
         194.662269,
         27.953869,
         16.60300064086914,
         5993.002
        ],
        [
         194.660772,
         27.943263,
         17.672000885009766,
         46858.74
        ],
        [
         194.711489,
         27.995547,
         17.202999114990234,
         6700.53
        ],
        [
         194.54763,
         27.939948,
         16.058000564575195,
         8508.324
        ],
        [
         194.513035,
         27.970543,
         15.437999725341797,
         20575.273999999998
        ],
        [
         194.51194,
         27.97835,
         17.14299964904785,
         6565.62
        ],
        [
         194.52229,
         28.010928,
         17.381999969482422,
         20680.204
        ],
        [
         194.486651,
         27.991752,
         17.027999877929688,
         4565.954
        ],
        [
         194.590959,
         27.96778,
         14.059000015258789,
         6010.99
        ],
        [
         194.625853,
         28.014753,
         13.784000396728516,
         7147.232
        ],
        [
         194.632953,
         28.049613,
         15.517999649047852,
         5705.1939999999995
        ],
        [
         194.572522,
         28.04008,
         16.927000045776367,
         6190.870000000001
        ],
        [
         194.575458,
         28.070532,
         17.257999420166016,
         47173.53
        ],
        [
         194.582201,
         28.094842,
         17.19499969482422,
         7171.216
        ],
        [
         194.221408,
         27.929497,
         15.119000434875488,
         6118.918000000001
        ],
        [
         194.380146,
         28.018424,
         17.42300033569336,
         7048.298
        ],
        [
         194.404966,
         28.040383,
         16.94300079345703,
         6430.71
        ],
        [
         194.401851,
         28.077043,
         15.854000091552734,
         6742.5019999999995
        ],
        [
         194.490495,
         28.06178,
         15.390999794006348,
         8136.572
        ],
        [
         194.444608,
         28.140785,
         15.753000259399414,
         6412.722
        ],
        [
         194.301193,
         28.095375,
         17.56599998474121,
         387869.248
        ],
        [
         194.302935,
         28.133655,
         17.674999237060547,
         6967.352
        ],
        [
         194.407393,
         28.145787,
         17.336999893188477,
         45152.878
        ],
        [
         194.452787,
         28.180438,
         14.593999862670898,
         7228.178
        ],
        [
         194.459317,
         28.170359,
         17.06599998474121,
         6919.384
        ],
        [
         194.374967,
         28.188072,
         13.987000465393066,
         6934.374000000001
        ],
        [
         194.368464,
         28.176427,
         14.61400032043457,
         8169.55
        ],
        [
         194.401131,
         28.233401,
         17.030000686645508,
         6820.45
        ],
        [
         194.307751,
         28.217606,
         17.5939998626709,
         77939.006
        ],
        [
         194.270202,
         28.209683,
         17.631999969482422,
         5150.564
        ],
        [
         194.289602,
         28.228074,
         16.506000518798828,
         20443.362
        ],
        [
         194.281797,
         28.259994,
         17.268999099731445,
         46238.154
        ],
        [
         194.767307,
         27.959141,
         15.942999839782715,
         7033.308000000001
        ],
        [
         194.775095,
         27.996698,
         14.175000190734863,
         7665.8859999999995
        ],
        [
         194.798102,
         28.009267,
         16.573999404907227,
         6895.4
        ],
        [
         194.789426,
         28.040932,
         16.288999557495117,
         7210.19
        ],
        [
         194.807989,
         28.076243,
         14.097999572753906,
         7809.79
        ],
        [
         194.700641,
         28.018727,
         16.940000534057617,
         7081.276
        ],
        [
         194.708581,
         28.053988,
         17.398000717163086,
         45644.549999999996
        ],
        [
         194.769895,
         28.050385,
         16.29800033569336,
         8061.622
        ],
        [
         194.868559,
         28.085382,
         17.187999725341797,
         3720.5179999999996
        ],
        [
         194.832832,
         28.084296,
         13.461999893188477,
         4580.944
        ],
        [
         194.834155,
         28.074282,
         16.017000198364258,
         7162.222000000001
        ],
        [
         194.881667,
         28.100537,
         17.610000610351562,
         7429.044
        ],
        [
         194.857573,
         28.186981,
         16.479999542236328,
         7722.848000000001
        ],
        [
         194.683963,
         28.048963,
         17.55500030517578,
         8871.082
        ],
        [
         194.711519,
         28.084012,
         15.145999908447266,
         6073.948
        ],
        [
         194.758627,
         28.115665,
         15.133000373840332,
         9416.718
        ],
        [
         194.722664,
         28.126068,
         15.154999732971191,
         7009.3240000000005
        ],
        [
         194.651453,
         28.113734,
         14.152000427246094,
         6805.46
        ],
        [
         194.606369,
         28.128924,
         15.663000106811523,
         8202.528
        ],
        [
         194.673441,
         28.185491,
         17.125,
         8043.634
        ],
        [
         194.76625,
         28.123698,
         13.170999526977539,
         7929.71
        ],
        [
         194.791285,
         28.164498,
         17.59600067138672,
         8595.266
        ],
        [
         194.823357,
         28.184585,
         17.183000564575195,
         47818.1
        ],
        [
         194.83418,
         28.197924,
         15.477999687194824,
         9461.688
        ],
        [
         194.720641,
         28.233827,
         17.194000244140625,
         6067.952
        ],
        [
         194.726911,
         28.222966,
         17.673999786376953,
         7084.274
        ],
        [
         194.757545,
         28.225356,
         14.012999534606934,
         8019.65
        ],
        [
         194.959523,
         28.144374,
         16.496000289916992,
         6775.48
        ],
        [
         194.906189,
         28.166132,
         16.298999786376953,
         5720.184
        ],
        [
         194.91987,
         28.185169,
         16.819000244140625,
         29683.198
        ],
        [
         194.919698,
         28.144609,
         17.66200065612793,
         7689.87
        ],
        [
         194.933938,
         28.176314,
         17.07200050354004,
         8307.457999999999
        ],
        [
         194.9441,
         28.274966,
         17.5049991607666,
         27269.808
        ],
        [
         194.990611,
         28.246664,
         13.336000442504883,
         6706.526000000001
        ],
        [
         195.012507,
         28.24031,
         16.23699951171875,
         7701.862
        ],
        [
         195.02565,
         28.252183,
         17.18400001525879,
         6361.755999999999
        ],
        [
         194.865946,
         28.230087,
         17.040000915527344,
         29752.152
        ],
        [
         194.812434,
         28.251018,
         16.05299949645996,
         7435.04
        ],
        [
         194.858943,
         28.287542,
         15.86400032043457,
         7998.664
        ],
        [
         194.850516,
         28.347201,
         16.341999053955078,
         20299.458000000002
        ],
        [
         194.59044,
         28.148753,
         14.515999794006348,
         7878.744000000001
        ],
        [
         194.592319,
         28.152134,
         15.192999839782715,
         6676.546
        ],
        [
         194.628988,
         28.233622,
         15.986000061035156,
         7282.142
        ],
        [
         194.539735,
         28.18497,
         17.6200008392334,
         13236.17
        ],
        [
         194.557509,
         28.182545,
         14.508999824523926,
         7180.21
        ],
        [
         194.713295,
         28.248341,
         17.347000122070312,
         49919.698
        ],
        [
         194.682939,
         28.282672,
         16.354000091552734,
         7629.91
        ],
        [
         194.723207,
         28.288989,
         17.20800018310547,
         7845.766
        ],
        [
         194.650069,
         28.271841,
         16.61199951171875,
         29392.392
        ],
        [
         194.622956,
         28.301121,
         15.812000274658203,
         5906.0599999999995
        ],
        [
         194.523282,
         28.242592,
         13.741000175476074,
         7192.202
        ],
        [
         194.598763,
         28.328806,
         16.851999282836914,
         8184.54
        ],
        [
         194.634529,
         28.377972,
         17.180999755859375,
         5882.075999999999
        ],
        [
         194.524303,
         28.370958,
         15.692000389099121,
         7629.91
        ],
        [
         194.751377,
         28.40606,
         17.052000045776367,
         26112.579999999998
        ],
        [
         194.83755,
         28.441477,
         16.909000396728516,
         6562.622
        ],
        [
         194.904027,
         28.480646,
         17.270999908447266,
         43102.246
        ],
        [
         194.846474,
         28.488599,
         15.807999610900879,
         7000.33
        ],
        [
         194.733757,
         28.463629,
         15.552000045776367,
         5912.0560000000005
        ],
        [
         194.696196,
         28.469949,
         17.527000427246094,
         25483.000000000004
        ],
        [
         194.631853,
         28.464994,
         16.219999313354492,
         28759.814000000002
        ],
        [
         194.758988,
         28.468409,
         17.58300018310547,
         55061.268
        ],
        [
         194.703919,
         28.539998,
         17.194000244140625,
         6286.806
        ],
        [
         195.128196,
         28.346364,
         13.574999809265137,
         5957.026
        ],
        [
         195.092327,
         28.400726,
         16.378000259399414,
         27332.766
        ],
        [
         195.122312,
         28.455643,
         17.3799991607666,
         7231.1759999999995
        ],
        [
         195.198941,
         28.406146,
         17.28499984741211,
         18575.608
        ],
        [
         195.202404,
         28.414317,
         16.836000442504883,
         43069.268000000004
        ],
        [
         195.211504,
         28.41994,
         17.735000610351562,
         66441.676
        ],
        [
         195.182795,
         28.416333,
         16.10300064086914,
         6274.814
        ],
        [
         195.171933,
         28.455008,
         17.474000930786133,
         43342.086
        ],
        [
         195.007641,
         28.434816,
         16.208999633789062,
         8091.602
        ],
        [
         195.059241,
         28.458066,
         17.746999740600586,
         7824.780000000001
        ],
        [
         195.094589,
         28.574475,
         15.850000381469727,
         6472.682000000001
        ],
        [
         195.312319,
         28.521755,
         17.117000579833984,
         8433.374
        ],
        [
         194.922106,
         28.507195,
         15.010000228881836,
         8238.504
        ],
        [
         194.89863,
         28.551365,
         14.960000038146973,
         7584.94
        ],
        [
         195.018295,
         28.603482,
         15.449000358581543,
         6817.452
        ],
        [
         195.065276,
         28.604893,
         16.63800048828125,
         53682.188
        ],
        [
         194.917201,
         28.630802,
         15.065999984741211,
         5348.432000000001
        ],
        [
         194.824699,
         28.624001,
         16.549999237060547,
         10403.060000000001
        ],
        [
         194.346049,
         28.369145,
         17.729000091552734,
         20527.306
        ],
        [
         194.508327,
         28.456361,
         16.738000869750977,
         48348.746
        ],
        [
         194.619247,
         28.526825,
         15.437999725341797,
         18434.702
        ],
        [
         194.562768,
         28.521783,
         16.357999801635742,
         6907.392000000001
        ],
        [
         195.074954,
         27.385966,
         17.653,
         11114
        ],
        [
         194.563614,
         27.464697,
         17.736,
         7625
        ],
        [
         194.724123,
         27.388636,
         17.521,
         7654
        ],
        [
         194.860237,
         27.856882,
         17.548,
         5007
        ],
        [
         194.7349,
         27.803568,
         17.533,
         7864
        ],
        [
         195.213773,
         27.689156,
         17.643,
         8184
        ],
        [
         195.466883,
         27.636194,
         17.703,
         17437
        ],
        [
         195.118402,
         27.761221,
         17.495,
         6835
        ],
        [
         195.442461,
         27.9578,
         15.158,
         4706
        ],
        [
         195.245136,
         28.026851,
         17.642,
         42190
        ],
        [
         195.214755,
         28.042873,
         13.603,
         8748
        ],
        [
         194.926075,
         27.858867,
         16.959,
         16911
        ],
        [
         194.899868,
         27.906112,
         17.639,
         9054
        ],
        [
         195.073669,
         27.955262,
         13.772,
         6899
        ],
        [
         195.044832,
         27.990943,
         14.771,
         23078
        ],
        [
         194.847414,
         27.911604,
         13.451,
         6899
        ],
        [
         195.160575,
         28.01606,
         16.203,
         7594
        ],
        [
         195.177341,
         28.116305,
         17.018,
         6206
        ],
        [
         195.082099,
         28.121521,
         17.696,
         6659
        ],
        [
         195.549769,
         28.173223,
         16.363,
         8950
        ],
        [
         194.629479,
         27.895503,
         17.676,
         6804
        ],
        [
         194.562693,
         28.125907,
         14.632,
         7428
        ],
        [
         194.869572,
         28.085779,
         16.586,
         3650
        ],
        [
         194.91736,
         28.179347,
         17.323,
         5437
        ],
        [
         195.169506,
         28.519893,
         15.869,
         8901
        ]
       ],
       "table_flag": true,
       "table_keys": [
        "RA_ICRS",
        "DE_ICRS",
        "rmag",
        "cz"
       ],
       "target": "A1656",
       "thumbnail_flag": true,
       "votable_URL": "",
       "votable_from_URL_flag": true,
       "votable_options": {}
      }
     },
     "886138cd150749eebe4b1c66447309dd": {
      "model_module": "@jupyter-widgets/base",
      "model_module_version": "2.0.0",
      "model_name": "LayoutModel",
      "state": {}
     }
    },
    "version_major": 2,
    "version_minor": 0
   }
  }
 },
 "nbformat": 4,
 "nbformat_minor": 4
}
