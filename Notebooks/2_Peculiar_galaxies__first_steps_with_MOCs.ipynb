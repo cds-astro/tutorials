{
 "cells": [
  {
   "attachments": {},
   "cell_type": "markdown",
   "metadata": {},
   "source": [
    "# Arp peculiars galaxies catalog __ First steps with Multi-Order Coverage map's\n",
    "\n",
    "Stefania Amodeo¹, Katarina A. Lutz¹, Manon Marchand¹\n",
    "\n",
    "1. Université de Strasbourg, CNRS, Observatoire Astronomique de Strasbourg, UMR 7550, F-67000, Strasbourg, France\n",
    "\n",
    "***\n",
    "\n",
    "## Introduction\n",
    "\n",
    "In this tutorial, we will explore Arp's Catalog of peculiar galaxies. Using Multi-Order Coverage maps, we will find in seconds wich galaxies are present in the Sloan Digital Sky Survey ([SDSS](https://www.sdss.org/ \"https://www.sdss.org/\")) and have been observed by the Galaxy Evolution Explorer ([GALEX](https://galex.stsci.edu/GR6/ \"https://galex.stsci.edu/GR6/\")) satellite.\n",
    "\n",
    "![<img src=\"Data/images/joachim_dietrich_02.jpg\" width=\"20\"/>](Data/images/joachim_dietrich_02.jpg)\n",
    "\n",
    "Figure: Arp147 taken by Joachim Dietrich. Credit: NASA & ESA"
   ]
  },
  {
   "cell_type": "code",
   "execution_count": 1,
   "metadata": {},
   "outputs": [],
   "source": [
    "# Astronomy tools\n",
    "import astropy.units as u\n",
    "from astropy.coordinates import SkyCoord\n",
    "\n",
    "# Access astronomical databases\n",
    "import pyvo\n",
    "from astroquery.mocserver import MOCServer\n",
    "from astroquery.vizier import Vizier\n",
    "\n",
    "# Sky visualization\n",
    "from ipyaladin import Aladin"
   ]
  },
  {
   "attachments": {},
   "cell_type": "markdown",
   "metadata": {},
   "source": [
    "## Find and download tables from VizieR\n",
    "\n",
    "[![Vizier](https://custom-icon-badges.demolab.com/badge/Vizier-gray.svg?logo=vizier&logoColor=orange&logoWidth=20)](https://vizier.cds.unistra.fr/viz-bin/VizieR \"https://vizier.cds.unistra.fr/viz-bin/VizieR\")\n",
    "\n",
    "We use the `Vizier` sub-module from the `astroquery` module. \n",
    "\n",
    "We will explore the [Arp's Catalog of Peculiar Galaxies](http://arpgalaxy.com/) compiled by [Halton C. Arp](https://www.haltonarp.com/) and published by Denis Webb.\n",
    "\n",
    "Hence, we ask `Vizier` to find all catalogues that have a match with the keywords 'Arp Galaxies' and write the result into the variable `catalog_list_arp` (first line of code). Then we tell Python to `print` out the query result in a readable way (second line of code).  "
   ]
  },
  {
   "cell_type": "code",
   "execution_count": 2,
   "metadata": {
    "scrolled": true,
    "tags": []
   },
   "outputs": [
    {
     "name": "stdout",
     "output_type": "stream",
     "text": [
      "VI/76 :  Simulation Atlas of Tidal Features in Galaxies (Howard+ 1993)\n",
      "VII/74A :  Atlas of Peculiar Galaxies (Arp 1966)\n",
      "VII/170 :  Catalogue of Southern Peculiar Galaxies and Associations (Arp+, 1987)\n",
      "VII/192 :  Arp's Peculiar Galaxies (Webb 1996)\n",
      "VII/198 :  Mark III Catalog of Galaxy Peculiar Velocities (Willick+ 1997)\n",
      "J/ApJ/645/228 :  Velocities of satellites of external disk galaxies (Azzaro+ 2006)\n",
      "J/ApJ/663/734 :  Interacting Galaxies in GEMS and GOODS (Elmegreen+, 2007)\n",
      "J/ApJ/769/39 :  SN Ibn PS1-12sk optical and NIR light curves (Sanders+, 2013)\n",
      "J/ApJ/897/183 :  Chemical abundances of 3 stars in Grus II galaxy (Hansen+, 2020)\n",
      "J/ApJ/903/110 :  Radial velocity and g-i color in M85 globular clusters (Ko+, 2020)\n",
      "J/ApJ/921/91 :  Catastrophic cooling in superwinds. II. (Danehkar+, 2021)\n",
      "J/ApJS/81/413 :  Southern sky survey of 1355 spiral galaxies (Mathewson+, 1992)\n",
      "J/ApJS/106/1 :  EFAR cluster and galaxy selection (Wegner+, 1996)\n",
      "J/A+A/397/463 :  The Hamburg/SAO Survey for BCGs. I. (Ugryumov+, 2003)\n",
      "J/A+A/422/941 :  Gas content in 1038 interacting galaxies (Casasola+, 2004)\n",
      "J/A+A/423/867 :  Abundances of distant luminous infrared galaxies (Liang+, 2004)\n",
      "J/A+A/447/473 :  R I CN TiO photometry of DDO190 carbon stars (Battinelli+, 2006)\n",
      "J/A+A/465/71 :  21cm observations of 452 galaxies (Theureau+, 2007)\n",
      "J/A+A/482/53 :  Radial velocities of four LSB galaxies (Pizzella+, 2008)\n",
      "J/A+A/543/A131 :  NGC1316 globular cluster candidates photometry (Richtler+, 2012)\n",
      "J/A+A/550/A41 :  CO line survey in 0.2<z<1 of galaxies (Combes+, 2013)\n",
      "J/A+A/554/A11 :  CO observations of polar ring galaxies (Combes+, 2013)\n",
      "J/A+A/569/A41 :  Radial velocities of NGC1316 globular clusters (Richtler+, 2014)\n",
      "J/A+A/582/A21 :  Merging galaxies (mis)alignments (Barrera-Ballesteros+, 2015)\n",
      "J/A+A/588/A77 :  NGC 3923 MegaCam image (Bilek+, 2016)\n",
      "J/A+A/592/A122 :  Starburst galaxies in the COSMOS field (Hinojosa-Goni+, 2016)\n",
      "J/A+A/597/A134 :  Kohonen selected E+A galaxies from SDSS DR7 (Meusinger+, 2017)\n",
      "J/A+A/605/A54 :  ESO 435-02/ESO 435-016 ATCA HI images (Kim+, 2017)\n",
      "J/A+A/611/A95 :  Diffuse ionized gas in the Antennae galaxy (Weilbacher+, 2018)\n",
      "J/A+A/617/A113 :  GalMer S0 remnants morphological properties (Eliche-Moral+, 2018)\n",
      "J/A+A/621/A25 :  Arp 240 Fabry-Perot interferometry (Fuentes-Carrera+, 2019)\n",
      "J/A+A/640/A30 :  Galaxies in the Perseus cluster field (Meusinger+, 2020)\n",
      "J/A+A/645/A97 :  ALMA cube and GMC catalog of J1023+1952 (Querejeta+, 2021)\n",
      "J/A+A/682/A18 :  121 compact extragalactic radio sources (Meusinger+, 2024)\n",
      "J/A+A/687/A229 :  Element abundances of 4 metal-poor stars (Mishenina+, 2024)\n",
      "J/A+A/689/A301 :  ILTJ001121.28+321638.8 GMRT, LOFAR and XMM images (Kumari+, 2024)\n",
      "J/A+AS/129/357 :  Morphology of peculiar ring galaxies (Faundez-Abans+ 1998)\n",
      "J/A+AS/136/519 :  Mg2 indices for early-type galaxies (Golev+, 1999)\n",
      "J/AJ/104/2078 :  cD Galaxy in Abell 2107 (Oegerle+ 1992)\n",
      "J/AJ/128/62 :  Catalog of double nucleus disk galaxies (Gimeno+, 2004)\n",
      "J/AJ/128/163 :  Galaxy morphological classification (Lotz+, 2004)\n",
      "J/MNRAS/292/499 :  EFAR photometric data (Saglia+, 1997)\n",
      "J/MNRAS/305/259 :  EFAR galaxies redshifts & velocity dispersions (Wegner+, 1999)\n",
      "J/MNRAS/321/277 :  EFAR Catalog. VII. (Colless+, 2001)\n",
      "J/MNRAS/368/651 :  A3653 galaxies redshift catalogue (Pimbblet+, 2006)\n",
      "J/MNRAS/402/1005 :  Stellar cluster dynamical masses in NGC3310 (Hagele+, 2010)\n",
      "J/MNRAS/406/382 :  Early-type galaxies in the SDSS Stripe82 (Kaviraj, 2010)\n",
      "J/MNRAS/418/1526 :  Dark matter in dSph galaxies (Charbonnier+, 2011)\n",
      "J/MNRAS/442/2216 :  Redshifts of galaxies in Abell 1351 field (Barrena+, 2014)\n",
      "J/MNRAS/443/3528 :  SDSS peculiar galaxy pairs list (Shamir+, 2014)\n",
      "J/MNRAS/444/2428 :  Disturbance levels of SNe host galaxies (Hakobyan+, 2014)\n",
      "J/MNRAS/445/2677 :  Peculiar velocities in 6dFGS (Springob+, 2014)\n",
      "J/MNRAS/446/2330 :  Overmassive black holes (Savorgnan+, 2015)\n",
      "J/MNRAS/456/2829 :  Radial velocities of galaxies in A523 field (Girardi+, 2016)\n",
      "J/MNRAS/465/316 :  Lyman continuum LAEs and LBGs in SSA22 field (Micheva+, 2017)\n",
      "J/MNRAS/487/2061 :  Distances for 2062 nearby spiral galaxies (Hong+, 2019)\n",
      "J/MNRAS/492/468 :  Chemical abundances of Seyfert 2 AGNs - I (Dors+, 2020)\n",
      "J/MNRAS/496/2902 :  Lithium and beryllium in Gaia-Enceladus galaxy (Molaro+, 2020)\n",
      "J/MNRAS/497/672 :  Abundance determination in HII regions (Arellano-Cordova+, 2020)\n",
      "J/MNRAS/498/2575 :  Rapidly evolving transients discovered by DES (Wiseman+, 2020)\n",
      "J/MNRAS/499/2327 :  Ages and abundances from spectral fitting (Goncalves+, 2020)\n",
      "J/MNRAS/500/889 :  S2 stream. Shreds of a primitive dwarf galaxy (Aguado+, 2021)\n",
      "J/MNRAS/500/1261 :  Resolved molecular gas in nearby galaxies (Chown+, 2021)\n",
      "J/MNRAS/501/1370 :  Chemical abundances of Seyfert 2 AGNs IV (Dors+, 2021)\n",
      "J/other/RMxAA/44.161 :  HII regions in NGC 5055 (Rozas+, 2008)\n",
      "J/other/BSAO/50.5 :  Velocities of RFGC galaxies (Karachentsev+, 2000)\n",
      "J/other/Ap/49.450 :  Peculiar velocities of 2MFGC spirals (Karachentsev+, 2006)\n"
     ]
    }
   ],
   "source": [
    "catalog_list_arp = Vizier.find_catalogs(\"peculiar galaxies\")\n",
    "for name, item in catalog_list_arp.items():\n",
    "    print(name, \": \", item.description)"
   ]
  },
  {
   "attachments": {},
   "cell_type": "markdown",
   "metadata": {},
   "source": [
    "The catalogue that we are interested in today is `VII/192` and its description is \"Arp's Peculiar Galaxies (Webb 1996)\".\n",
    "\n",
    "In oder to get the full catalogue with `astroquery`, we first set the row limit to infinite (*i.e.* `-1` in the notation of this package) and then ask `Vizier` to write the content of the catalogue into the variable `catalogs_arp`:"
   ]
  },
  {
   "cell_type": "code",
   "execution_count": 3,
   "metadata": {},
   "outputs": [
    {
     "data": {
      "text/plain": [
       "TableList with 2 tables:\n",
       "\t'0:VII/192/arpord' with 12 column(s) and 338 row(s) \n",
       "\t'1:VII/192/arplist' with 13 column(s) and 592 row(s) "
      ]
     },
     "execution_count": 3,
     "metadata": {},
     "output_type": "execute_result"
    }
   ],
   "source": [
    "catalogs_arp = Vizier(row_limit=-1).get_catalogs(\"VII/192\")\n",
    "catalogs_arp"
   ]
  },
  {
   "attachments": {},
   "cell_type": "markdown",
   "metadata": {},
   "source": [
    "Now let's inspect, what we got:"
   ]
  },
  {
   "cell_type": "code",
   "execution_count": 4,
   "metadata": {},
   "outputs": [
    {
     "name": "stdout",
     "output_type": "stream",
     "text": [
      "VII_192_arpord: list of Arp views with imaging data\n",
      "VII_192_arplist: list and info for involved galaxies\n"
     ]
    }
   ],
   "source": [
    "for catalog in catalogs_arp:\n",
    "    print(f\"{catalog.meta['ID']}: {catalog.meta['description']}\")"
   ]
  },
  {
   "attachments": {},
   "cell_type": "markdown",
   "metadata": {},
   "source": [
    "As we have seen in the first part of the tutorial, the catalogue \"Arp's Peculiar Galaxies (Webb 1996)\" comes with two tables: arpord and arplist. As you can see from the printout `Vizier` has downloaded both of them. However, we are still only interested in the arplist (index `1` in the TableList). Therefore, we write only the arplist table into a new variable `table_arplist` (first line) and then display the table (second line):"
   ]
  },
  {
   "cell_type": "code",
   "execution_count": 5,
   "metadata": {
    "scrolled": true,
    "tags": [
     "output_scroll"
    ]
   },
   "outputs": [
    {
     "data": {
      "text/html": [
       "<div><i>Table length=592</i>\n",
       "<table id=\"table140325236817552\" class=\"table-striped table-bordered table-condensed\">\n",
       "<thead><tr><th>Arp</th><th>Name</th><th>VT</th><th>u_VT</th><th>dim1</th><th>dim2</th><th>u_dim2</th><th>MType</th><th>Uchart</th><th>RAJ2000</th><th>DEJ2000</th><th>Simbad</th><th>NED</th></tr></thead>\n",
       "<thead><tr><th></th><th></th><th>mag</th><th></th><th>arcmin</th><th>arcmin</th><th></th><th></th><th></th><th></th><th></th><th></th><th></th></tr></thead>\n",
       "<thead><tr><th>int16</th><th>str16</th><th>float32</th><th>str1</th><th>float32</th><th>float32</th><th>str1</th><th>str14</th><th>int16</th><th>str10</th><th>str9</th><th>str6</th><th>str3</th></tr></thead>\n",
       "<tr><td>249</td><td>UGC 12891</td><td>16.2</td><td></td><td>--</td><td>--</td><td></td><td></td><td>--</td><td>00 00 19.3</td><td>+22 59 26</td><td>Simbad</td><td>NED</td></tr>\n",
       "<tr><td>249</td><td>UGC 12891</td><td>16.2</td><td></td><td>1.3</td><td>0.5</td><td></td><td></td><td>--</td><td>00 00 21.6</td><td>+22 59 42</td><td>Simbad</td><td>NED</td></tr>\n",
       "<tr><td>112</td><td>NGC 7805</td><td>13.3</td><td></td><td>1.2</td><td>0.9</td><td></td><td>SAB0^0: pec</td><td>89</td><td>00 01 26.9</td><td>+31 26 02</td><td>Simbad</td><td>NED</td></tr>\n",
       "<tr><td>112</td><td>NGC 7806</td><td>13.5</td><td></td><td>1.1</td><td>0.8</td><td></td><td>SA(rs)bc? pec</td><td>89</td><td>00 01 30.2</td><td>+31 26 33</td><td>Simbad</td><td>NED</td></tr>\n",
       "<tr><td>130</td><td>IC 5378</td><td>15.6</td><td></td><td>0.5</td><td>--</td><td></td><td>SBc</td><td>--</td><td>00 02 37.7</td><td>+16 39 08</td><td>Simbad</td><td>NED</td></tr>\n",
       "<tr><td>130</td><td>IC 5378</td><td>15.3</td><td></td><td>--</td><td>--</td><td></td><td>E</td><td>--</td><td>00 02 37.8</td><td>+16 38 37</td><td>Simbad</td><td>NED</td></tr>\n",
       "<tr><td>51</td><td>MGC-02-01-24</td><td>15.0</td><td></td><td>0.8</td><td>--</td><td></td><td></td><td>--</td><td>00 06 16.8</td><td>-13 26 53</td><td>Simbad</td><td>NED</td></tr>\n",
       "<tr><td>144</td><td>NGC 7828</td><td>14.4</td><td></td><td>0.9</td><td>0.5</td><td></td><td>Ring A</td><td>260</td><td>00 06 27.1</td><td>-13 24 58</td><td>Simbad</td><td>NED</td></tr>\n",
       "<tr><td>144</td><td>NGC 7829</td><td>14.6</td><td></td><td>0.7</td><td>--</td><td></td><td>Ring B pec</td><td>260</td><td>00 06 29.0</td><td>-13 25 15</td><td>Simbad</td><td>NED</td></tr>\n",
       "<tr><td>...</td><td>...</td><td>...</td><td>...</td><td>...</td><td>...</td><td>...</td><td>...</td><td>...</td><td>...</td><td>...</td><td>...</td><td>...</td></tr>\n",
       "<tr><td>295</td><td>ARP 295</td><td>14.6</td><td></td><td>0.9</td><td>0.5</td><td>?</td><td>Sb pec</td><td>--</td><td>23 42 04.1</td><td>-03 35 21</td><td>Simbad</td><td>NED</td></tr>\n",
       "<tr><td>86</td><td>NGC 7752</td><td>14.3</td><td></td><td>0.8</td><td>0.5</td><td>?</td><td>I0:</td><td>89</td><td>23 46 58.5</td><td>+29 27 32</td><td>Simbad</td><td>NED</td></tr>\n",
       "<tr><td>86</td><td>NGC 7753</td><td>12.0</td><td></td><td>3.3</td><td>2.1</td><td></td><td>SAB(rs)bc I</td><td>89</td><td>23 47 04.7</td><td>+29 29 01</td><td>Simbad</td><td>NED</td></tr>\n",
       "<tr><td>68</td><td>NGC 7757</td><td>12.7</td><td></td><td>2.5</td><td>1.8</td><td></td><td>SAB(rs)c</td><td>215</td><td>23 48 45.1</td><td>+04 10 24</td><td>Simbad</td><td>NED</td></tr>\n",
       "<tr><td>323</td><td>NGC 7783</td><td>13.0</td><td></td><td>1.3</td><td>0.6</td><td></td><td>S0^0: sp</td><td>215</td><td>23 54 10.0</td><td>+00 22 58</td><td>Simbad</td><td>NED</td></tr>\n",
       "<tr><td>323</td><td>NGC 7783B</td><td>14.0</td><td></td><td>0.4</td><td>0.3</td><td></td><td>S0</td><td>215</td><td>23 54 12.0</td><td>+00 22 38</td><td>Simbad</td><td>NED</td></tr>\n",
       "<tr><td>262</td><td>MCG+03-01-003</td><td>14.6</td><td></td><td>0.5</td><td>0.4</td><td></td><td>S</td><td>125</td><td>23 56 43.8</td><td>+16 48 27</td><td>Simbad</td><td>NED</td></tr>\n",
       "<tr><td>262</td><td>UGC 12856</td><td>13.2</td><td></td><td>2.4</td><td>--</td><td></td><td>IB(s)m</td><td>125</td><td>23 56 44.9</td><td>+16 48 45</td><td>Simbad</td><td>NED</td></tr>\n",
       "<tr><td>50</td><td>IC 1520</td><td>14.0</td><td></td><td>0.5</td><td>0.5</td><td></td><td></td><td>--</td><td>23 57 58.0</td><td>-14 01 48</td><td>Simbad</td><td>NED</td></tr>\n",
       "</table></div>"
      ],
      "text/plain": [
       "<Table length=592>\n",
       " Arp       Name        VT   u_VT   dim1  ...  RAJ2000    DEJ2000  Simbad NED \n",
       "                      mag         arcmin ...                                 \n",
       "int16     str16     float32 str1 float32 ...   str10       str9    str6  str3\n",
       "----- ------------- ------- ---- ------- ... ---------- --------- ------ ----\n",
       "  249     UGC 12891    16.2           -- ... 00 00 19.3 +22 59 26 Simbad  NED\n",
       "  249     UGC 12891    16.2          1.3 ... 00 00 21.6 +22 59 42 Simbad  NED\n",
       "  112      NGC 7805    13.3          1.2 ... 00 01 26.9 +31 26 02 Simbad  NED\n",
       "  112      NGC 7806    13.5          1.1 ... 00 01 30.2 +31 26 33 Simbad  NED\n",
       "  130       IC 5378    15.6          0.5 ... 00 02 37.7 +16 39 08 Simbad  NED\n",
       "  130       IC 5378    15.3           -- ... 00 02 37.8 +16 38 37 Simbad  NED\n",
       "   51  MGC-02-01-24    15.0          0.8 ... 00 06 16.8 -13 26 53 Simbad  NED\n",
       "  144      NGC 7828    14.4          0.9 ... 00 06 27.1 -13 24 58 Simbad  NED\n",
       "  144      NGC 7829    14.6          0.7 ... 00 06 29.0 -13 25 15 Simbad  NED\n",
       "  ...           ...     ...  ...     ... ...        ...       ...    ...  ...\n",
       "  295       ARP 295    14.6          0.9 ... 23 42 04.1 -03 35 21 Simbad  NED\n",
       "   86      NGC 7752    14.3          0.8 ... 23 46 58.5 +29 27 32 Simbad  NED\n",
       "   86      NGC 7753    12.0          3.3 ... 23 47 04.7 +29 29 01 Simbad  NED\n",
       "   68      NGC 7757    12.7          2.5 ... 23 48 45.1 +04 10 24 Simbad  NED\n",
       "  323      NGC 7783    13.0          1.3 ... 23 54 10.0 +00 22 58 Simbad  NED\n",
       "  323     NGC 7783B    14.0          0.4 ... 23 54 12.0 +00 22 38 Simbad  NED\n",
       "  262 MCG+03-01-003    14.6          0.5 ... 23 56 43.8 +16 48 27 Simbad  NED\n",
       "  262     UGC 12856    13.2          2.4 ... 23 56 44.9 +16 48 45 Simbad  NED\n",
       "   50       IC 1520    14.0          0.5 ... 23 57 58.0 -14 01 48 Simbad  NED"
      ]
     },
     "execution_count": 5,
     "metadata": {},
     "output_type": "execute_result"
    }
   ],
   "source": [
    "table_arplist = catalogs_arp[1]\n",
    "table_arplist"
   ]
  },
  {
   "attachments": {},
   "cell_type": "markdown",
   "metadata": {},
   "source": [
    "Nice, we got the data we want. Before moving on, let's have a look at how to use `pyVO` to get the same table with a Table Access Protocol ([TAP](https://ivoa.net/documents/TAP/20190927/index.html \"https://ivoa.net/documents/TAP/20190927/index.html\")) query. \n",
    "\n",
    "First, we set the `TAPService` of `pyvo` to the server of Vizier that will receive our TAP query.\n",
    "\n",
    "Then we write a simple query telling VizieR that we want all the rows and all (all is written `*` in SQL) the columns from the table `VII/192/arplist`. Note that we have to encompass the table name with quotation marks due to the special character `/` in the table name. "
   ]
  },
  {
   "cell_type": "code",
   "execution_count": 6,
   "metadata": {
    "scrolled": true,
    "tags": [
     "output_scroll"
    ]
   },
   "outputs": [
    {
     "data": {
      "text/html": [
       "<div><i>Table length=592</i>\n",
       "<table id=\"table140325237162448\" class=\"table-striped table-bordered table-condensed\">\n",
       "<thead><tr><th>recno</th><th>Arp</th><th>Name</th><th>VT</th><th>u_VT</th><th>dim1</th><th>dim2</th><th>u_dim2</th><th>MType</th><th>Uchart</th><th>RAJ2000</th><th>DEJ2000</th></tr></thead>\n",
       "<thead><tr><th></th><th></th><th></th><th>mag</th><th></th><th>arcmin</th><th>arcmin</th><th></th><th></th><th></th><th>deg</th><th>deg</th></tr></thead>\n",
       "<thead><tr><th>int32</th><th>int16</th><th>object</th><th>float64</th><th>str1</th><th>float64</th><th>float64</th><th>str1</th><th>object</th><th>int16</th><th>float64</th><th>float64</th></tr></thead>\n",
       "<tr><td>112</td><td>333</td><td>NGC 1024</td><td>12.1</td><td></td><td>3.9</td><td>1.4</td><td></td><td>(R&apos;)SA(r)ab</td><td>175</td><td>39.80083333333333</td><td>10.847222222222221</td></tr>\n",
       "<tr><td>120</td><td>200</td><td>NGC 1134</td><td>12.1</td><td></td><td>2.5</td><td>0.9</td><td></td><td>S?</td><td>175</td><td>43.42124999999999</td><td>13.015277777777776</td></tr>\n",
       "<tr><td>119</td><td>190</td><td>UGC 02320</td><td>15.2</td><td></td><td>0.5</td><td>0.3</td><td></td><td>Multiple Sys</td><td>--</td><td>42.58291666666666</td><td>12.889444444444443</td></tr>\n",
       "<tr><td>89</td><td>290</td><td>IC 0195</td><td>14.3</td><td></td><td>1.6</td><td>0.8</td><td></td><td>S0</td><td>--</td><td>30.935833333333328</td><td>14.708611111111109</td></tr>\n",
       "<tr><td>90</td><td>290</td><td>IC 0196</td><td>14.2</td><td></td><td>2.8</td><td>1.4</td><td></td><td>S0-</td><td>--</td><td>30.95833333333333</td><td>14.73972222222222</td></tr>\n",
       "<tr><td>111</td><td>258</td><td>UGC 02140A</td><td>15.5</td><td></td><td>0.9</td><td>0.2</td><td></td><td>SB.0*/</td><td>--</td><td>39.78874999999999</td><td>18.367499999999996</td></tr>\n",
       "<tr><td>110</td><td>258</td><td>UGC 02140</td><td>15.4</td><td></td><td>1.7</td><td>0.7</td><td></td><td>IBS9P</td><td>--</td><td>39.77583333333333</td><td>18.382777777777775</td></tr>\n",
       "<tr><td>109</td><td>258</td><td>Hickson 18C</td><td>16.1</td><td></td><td>--</td><td>--</td><td></td><td>S?</td><td>--</td><td>39.774583333333325</td><td>18.388333333333332</td></tr>\n",
       "<tr><td>108</td><td>258</td><td>Hickson 18D</td><td>14.6</td><td></td><td>--</td><td>--</td><td></td><td>S?</td><td>--</td><td>39.76916666666666</td><td>18.393888888888885</td></tr>\n",
       "<tr><td>...</td><td>...</td><td>...</td><td>...</td><td>...</td><td>...</td><td>...</td><td>...</td><td>...</td><td>...</td><td>...</td><td>...</td></tr>\n",
       "<tr><td>464</td><td>261</td><td>ARP 261</td><td>--</td><td></td><td>--</td><td>--</td><td></td><td></td><td>--</td><td>222.38624999999996</td><td>-10.163055555555554</td></tr>\n",
       "<tr><td>463</td><td>261</td><td>ARP 261</td><td>--</td><td></td><td>--</td><td>--</td><td></td><td></td><td>--</td><td>222.38624999999996</td><td>-10.156666666666665</td></tr>\n",
       "<tr><td>549</td><td>14</td><td>NGC 7314</td><td>10.9</td><td></td><td>4.6</td><td>2.1</td><td></td><td>SAB(rs)c: II</td><td>347</td><td>338.94041666666664</td><td>-26.05083333333333</td></tr>\n",
       "<tr><td>547</td><td>93</td><td>NGC 7284</td><td>11.9</td><td></td><td>2.1</td><td>1.5</td><td></td><td>SB(s)0^0 pec</td><td>347</td><td>337.15</td><td>-24.844166666666663</td></tr>\n",
       "<tr><td>548</td><td>93</td><td>NGC 7285</td><td>11.9</td><td></td><td>2.4</td><td>1.4</td><td></td><td>SB(rs)a pec</td><td>347</td><td>337.1583333333333</td><td>-24.84083333333333</td></tr>\n",
       "<tr><td>546</td><td>226</td><td>NGC 7252</td><td>11.4</td><td></td><td>2.0</td><td>1.6</td><td></td><td>SAB0^0? pec</td><td>347</td><td>335.1866666666666</td><td>-24.678611111111106</td></tr>\n",
       "<tr><td>541</td><td>325</td><td>ESO 601- G 018</td><td>16.1</td><td></td><td>--</td><td>--</td><td></td><td></td><td>--</td><td>331.6008333333333</td><td>-21.079166666666662</td></tr>\n",
       "<tr><td>540</td><td>325</td><td>ESO 601- G 018</td><td>17.9</td><td></td><td>--</td><td>--</td><td></td><td></td><td>--</td><td>331.59666666666664</td><td>-21.077499999999997</td></tr>\n",
       "<tr><td>539</td><td>325</td><td>ESO 601- G 018</td><td>18.1</td><td></td><td>1.7</td><td>0.7</td><td></td><td></td><td>--</td><td>331.5925</td><td>-21.072499999999998</td></tr>\n",
       "</table></div>"
      ],
      "text/plain": [
       "<Table length=592>\n",
       "recno  Arp       Name      ... Uchart      RAJ2000             DEJ2000      \n",
       "                           ...               deg                 deg        \n",
       "int32 int16     object     ... int16       float64             float64      \n",
       "----- ----- -------------- ... ------ ------------------ -------------------\n",
       "  112   333       NGC 1024 ...    175  39.80083333333333  10.847222222222221\n",
       "  120   200       NGC 1134 ...    175  43.42124999999999  13.015277777777776\n",
       "  119   190      UGC 02320 ...     --  42.58291666666666  12.889444444444443\n",
       "   89   290        IC 0195 ...     -- 30.935833333333328  14.708611111111109\n",
       "   90   290        IC 0196 ...     --  30.95833333333333   14.73972222222222\n",
       "  111   258     UGC 02140A ...     --  39.78874999999999  18.367499999999996\n",
       "  110   258      UGC 02140 ...     --  39.77583333333333  18.382777777777775\n",
       "  109   258    Hickson 18C ...     -- 39.774583333333325  18.388333333333332\n",
       "  108   258    Hickson 18D ...     --  39.76916666666666  18.393888888888885\n",
       "  ...   ...            ... ...    ...                ...                 ...\n",
       "  464   261        ARP 261 ...     -- 222.38624999999996 -10.163055555555554\n",
       "  463   261        ARP 261 ...     -- 222.38624999999996 -10.156666666666665\n",
       "  549    14       NGC 7314 ...    347 338.94041666666664  -26.05083333333333\n",
       "  547    93       NGC 7284 ...    347             337.15 -24.844166666666663\n",
       "  548    93       NGC 7285 ...    347  337.1583333333333  -24.84083333333333\n",
       "  546   226       NGC 7252 ...    347  335.1866666666666 -24.678611111111106\n",
       "  541   325 ESO 601- G 018 ...     --  331.6008333333333 -21.079166666666662\n",
       "  540   325 ESO 601- G 018 ...     -- 331.59666666666664 -21.077499999999997\n",
       "  539   325 ESO 601- G 018 ...     --           331.5925 -21.072499999999998"
      ]
     },
     "execution_count": 6,
     "metadata": {},
     "output_type": "execute_result"
    }
   ],
   "source": [
    "tap_vizier = pyvo.dal.TAPService(\"https://tapvizier.cds.unistra.fr/TAPVizieR/tap/\")\n",
    "query = \"\"\"SELECT  *  FROM \"VII/192/arplist\" \"\"\"\n",
    "table_arplist = tap_vizier.search(query).to_table()\n",
    "table_arplist"
   ]
  },
  {
   "attachments": {},
   "cell_type": "markdown",
   "metadata": {},
   "source": [
    "There we go, we now know two nifty ways to get VizieR tables with Python. Obviously there are many other things you can do with this tools. For example if you set your TAP endpoint to `https://simbad.cds.unistra.fr/simbad/sim-tap` instead of the VizieR endpoint, you can query SIMBAD just like that.\n",
    "\n",
    "If you want to learn more about the TAP interface, you can have a look at [VizieR's documentation](https://cds.unistra.fr/help/documentation/vizier-more/adql-vizier/). "
   ]
  },
  {
   "attachments": {},
   "cell_type": "markdown",
   "metadata": {},
   "source": [
    "[![Aladin](https://custom-icon-badges.demolab.com/badge/Aladin-gray.svg?logo=aladin&logoColor=purple&logoWidth=20)](https://aladin.cds.unistra.fr/aladin.gml \"https://aladin.cds.unistra.fr/aladin.gml\")\n",
    "\n",
    "Note that not all rows but only the first and last 10 rows for all columns are shown in the display. To finish off this little excursion, we now want to visualise the location of the entries of this table in an Aladin Lite widget. To do so, we tell Python to take the variable `aladin` and add the table `table_arplist` to it:"
   ]
  },
  {
   "cell_type": "code",
   "execution_count": 7,
   "metadata": {},
   "outputs": [
    {
     "data": {
      "application/vnd.jupyter.widget-view+json": {
       "model_id": "23ef79d0c1ff425e9fa88b1b83c75030",
       "version_major": 2,
       "version_minor": 1
      },
      "text/plain": [
       "Aladin()"
      ]
     },
     "execution_count": 7,
     "metadata": {},
     "output_type": "execute_result"
    }
   ],
   "source": [
    "aladin = Aladin(height=600)\n",
    "aladin"
   ]
  },
  {
   "cell_type": "code",
   "execution_count": 8,
   "metadata": {},
   "outputs": [],
   "source": [
    "aladin.add_table(table_arplist)"
   ]
  },
  {
   "attachments": {},
   "cell_type": "markdown",
   "metadata": {},
   "source": [
    "Now explore the Aladin Lite widget. You will find that the location of the sources in the arplist table are marked with coloured symbols. You can zoom in and out to look at the different sources and check their peculiarity. If you click on one of the colour symbols, you will be able to see the corresponding row in the bottom of the Aladin Lite widget. \n",
    "\n",
    "Note if you are using Jupyter Lab instead of single Jupyter notebooks, you can open two notebooks that share a kernel. Then one notebook could contain your working environment, where you get and work on your tables ect. The other notebook could contain the Aladin Lite widget, and just remain visible all the time. This way there would be no need to scroll up and down. \n",
    "\n",
    "## MOCs in Python\n",
    "\n",
    "We can use MOCs to find out whether any of these galaxies have been observed both by SDSS and GALEX. For this task we use the `mocserver` module of `astroquery` and the functionalities of `MOCpy` to get the intersection of the MOCs. First let's query the MOC server for all things SDSS and all things GALEX."
   ]
  },
  {
   "cell_type": "code",
   "execution_count": 9,
   "metadata": {
    "scrolled": true
   },
   "outputs": [
    {
     "data": {
      "text/html": [
       "<div><i>Table length=14</i>\n",
       "<table id=\"table140325236653136\" class=\"table-striped table-bordered table-condensed\">\n",
       "<thead><tr><th>ID</th></tr></thead>\n",
       "<thead><tr><th>str25</th></tr></thead>\n",
       "<tr><td>CDS/J/ApJ/749/10/SDSS-obs</td></tr>\n",
       "<tr><td>CDS/P/HLA/SDSSg</td></tr>\n",
       "<tr><td>CDS/P/HLA/SDSSr</td></tr>\n",
       "<tr><td>CDS/P/HLA/SDSSz</td></tr>\n",
       "<tr><td>CDS/P/HST/SDSSg</td></tr>\n",
       "<tr><td>CDS/P/HST/SDSSr</td></tr>\n",
       "<tr><td>CDS/P/HST/SDSSz</td></tr>\n",
       "<tr><td>CDS/P/SDSS9/color</td></tr>\n",
       "<tr><td>CDS/P/SDSS9/color-alt</td></tr>\n",
       "<tr><td>CDS/P/SDSS9/g</td></tr>\n",
       "<tr><td>CDS/P/SDSS9/i</td></tr>\n",
       "<tr><td>CDS/P/SDSS9/r</td></tr>\n",
       "<tr><td>CDS/P/SDSS9/u</td></tr>\n",
       "<tr><td>CDS/P/SDSS9/z</td></tr>\n",
       "</table></div>"
      ],
      "text/plain": [
       "<Table length=14>\n",
       "            ID           \n",
       "          str25          \n",
       "-------------------------\n",
       "CDS/J/ApJ/749/10/SDSS-obs\n",
       "          CDS/P/HLA/SDSSg\n",
       "          CDS/P/HLA/SDSSr\n",
       "          CDS/P/HLA/SDSSz\n",
       "          CDS/P/HST/SDSSg\n",
       "          CDS/P/HST/SDSSr\n",
       "          CDS/P/HST/SDSSz\n",
       "        CDS/P/SDSS9/color\n",
       "    CDS/P/SDSS9/color-alt\n",
       "            CDS/P/SDSS9/g\n",
       "            CDS/P/SDSS9/i\n",
       "            CDS/P/SDSS9/r\n",
       "            CDS/P/SDSS9/u\n",
       "            CDS/P/SDSS9/z"
      ]
     },
     "execution_count": 9,
     "metadata": {},
     "output_type": "execute_result"
    }
   ],
   "source": [
    "info_sdss = MOCServer.query_region(\n",
    "    criteria=\"ID=*SDSS*\"\n",
    ")  # if we don't give a region to query_region, it looks in the whole sky\n",
    "info_sdss[[\"ID\"]]"
   ]
  },
  {
   "cell_type": "code",
   "execution_count": 10,
   "metadata": {},
   "outputs": [
    {
     "data": {
      "text/html": [
       "<div><i>Table length=6</i>\n",
       "<table id=\"table140325233364384\" class=\"table-striped table-bordered table-condensed\">\n",
       "<thead><tr><th>ID</th></tr></thead>\n",
       "<thead><tr><th>str24</th></tr></thead>\n",
       "<tr><td>CDS/P/GALEXGR6/AIS/FUV</td></tr>\n",
       "<tr><td>CDS/P/GALEXGR6/AIS/NUV</td></tr>\n",
       "<tr><td>CDS/P/GALEXGR6/AIS/color</td></tr>\n",
       "<tr><td>CDS/P/GALEXGR6_7/FUV</td></tr>\n",
       "<tr><td>CDS/P/GALEXGR6_7/NUV</td></tr>\n",
       "<tr><td>CDS/P/GALEXGR6_7/color</td></tr>\n",
       "</table></div>"
      ],
      "text/plain": [
       "<Table length=6>\n",
       "           ID           \n",
       "         str24          \n",
       "------------------------\n",
       "  CDS/P/GALEXGR6/AIS/FUV\n",
       "  CDS/P/GALEXGR6/AIS/NUV\n",
       "CDS/P/GALEXGR6/AIS/color\n",
       "    CDS/P/GALEXGR6_7/FUV\n",
       "    CDS/P/GALEXGR6_7/NUV\n",
       "  CDS/P/GALEXGR6_7/color"
      ]
     },
     "execution_count": 10,
     "metadata": {},
     "output_type": "execute_result"
    }
   ],
   "source": [
    "info_galex = MOCServer.query_region(criteria=\"ID=*GALEX*\")\n",
    "info_galex[[\"ID\"]]"
   ]
  },
  {
   "attachments": {},
   "cell_type": "markdown",
   "metadata": {},
   "source": [
    "Now that we know what the relevant data sets are called, we can move on to download the corresponding MOCs,"
   ]
  },
  {
   "cell_type": "code",
   "execution_count": 11,
   "metadata": {},
   "outputs": [],
   "source": [
    "moc_sdss = MOCServer.query_region(criteria=\"ID=CDS/P/SDSS9/color\", return_moc=True)\n",
    "moc_galex = MOCServer.query_region(\n",
    "    criteria=\"ID=CDS/P/GALEXGR6/AIS/color\", return_moc=True\n",
    ")"
   ]
  },
  {
   "attachments": {},
   "cell_type": "markdown",
   "metadata": {},
   "source": [
    "and calculate the intersection of these two MOCs."
   ]
  },
  {
   "cell_type": "code",
   "execution_count": 12,
   "metadata": {
    "scrolled": true
   },
   "outputs": [
    {
     "name": "stdout",
     "output_type": "stream",
     "text": [
      "The intersection of SDSS and GALEX covers 31.2% of the sky\n"
     ]
    }
   ],
   "source": [
    "moc_intersection = moc_sdss & moc_galex\n",
    "print(\n",
    "    f\"The intersection of SDSS and GALEX covers\"\n",
    "    f\" {round(moc_intersection.sky_fraction *100., 1)}% of the sky\",\n",
    ")"
   ]
  },
  {
   "attachments": {},
   "cell_type": "markdown",
   "metadata": {},
   "source": [
    "Now we can use this MOC to filter our table of Peculiar Galaxies. "
   ]
  },
  {
   "cell_type": "code",
   "execution_count": 13,
   "metadata": {},
   "outputs": [
    {
     "name": "stdout",
     "output_type": "stream",
     "text": [
      "Among the 592 peculiar galaxies, 420 are observed by both GALEX and SDSS!\n"
     ]
    }
   ],
   "source": [
    "coords = SkyCoord(\n",
    "    ra=table_arplist[\"RAJ2000\"],\n",
    "    dec=table_arplist[\"DEJ2000\"],\n",
    "    unit=(u.deg, u.deg),\n",
    ")\n",
    "mask = moc_intersection.contains_skycoords(coords)\n",
    "print(\n",
    "    f\"Among the {len(table_arplist)} peculiar galaxies, {len(table_arplist[mask])} are observed by both GALEX and SDSS!\",\n",
    ")"
   ]
  },
  {
   "attachments": {},
   "cell_type": "markdown",
   "metadata": {},
   "source": [
    "`mask` is a boolean table that is `True` where a peculiar galaxy is contained in the intersection of SDSS and GALEX MOCs. Doing `table_arplist[mask]` results in a smaller table corresponding to the lines that are `True` in `mask`.\n",
    "\n",
    "To visualise only the galaxies within the MOC, we can add the filtered table to the AladinLite widget. This table will show up in a different colour than the first one we visualised."
   ]
  },
  {
   "cell_type": "code",
   "execution_count": 14,
   "metadata": {},
   "outputs": [],
   "source": [
    "aladin.add_table(\n",
    "    table_arplist[mask],\n",
    "    color=\"lightblue\",\n",
    "    name=\"observed_by_GALEX_and_SDSS\",\n",
    "    shape=\"circle\",\n",
    "    source_size=13,\n",
    ")"
   ]
  },
  {
   "attachments": {},
   "cell_type": "markdown",
   "metadata": {},
   "source": [
    "The last thing to do with our MOC is to visualise it. We can either plot it using `matplotlib` (see [MOCPy's documentation](https://cds-astro.github.io/mocpy/examples/user_documentation.html#smoc-a-k-a-moc-spatial-coverages)) or add it to our ipyaladin widget:"
   ]
  },
  {
   "cell_type": "code",
   "execution_count": 15,
   "metadata": {},
   "outputs": [],
   "source": [
    "aladin.add_moc(moc_intersection, color=\"pink\", opacity=0.45)"
   ]
  },
  {
   "attachments": {},
   "cell_type": "markdown",
   "metadata": {},
   "source": [
    "Before leaving the tutorial, don't forget to scroll back up and look at the results in the Aladin widget where you can check that the peculiar galaxies are indeed in the MOC ;)"
   ]
  }
 ],
 "metadata": {
  "kernelspec": {
   "display_name": "cds-tutos-dev",
   "language": "python",
   "name": "python3"
  },
  "language_info": {
   "codemirror_mode": {
    "name": "ipython",
    "version": 3
   },
   "file_extension": ".py",
   "mimetype": "text/x-python",
   "name": "python",
   "nbconvert_exporter": "python",
   "pygments_lexer": "ipython3",
   "version": "3.12.7"
  }
 },
 "nbformat": 4,
 "nbformat_minor": 4
}
