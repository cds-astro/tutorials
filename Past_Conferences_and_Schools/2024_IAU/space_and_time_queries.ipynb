{
 "cells": [
  {
   "cell_type": "code",
   "execution_count": 1,
   "metadata": {
    "editable": true,
    "slideshow": {
     "slide_type": ""
    },
    "tags": []
   },
   "outputs": [],
   "source": [
    "# Libraries to access external data\n",
    "# PyVO provides generic access to VO protocols (ex: TAP)\n",
    "import pyvo\n",
    "# astroquery modules are specific to astronomy services, there are not necessarily VO,\n",
    "# but more and more do switch to using VO protocols behind the scenes these days\n",
    "# here we import the MOCServer and Vizier modules\n",
    "from astroquery.mocserver import MOCServer\n",
    "\n",
    "# The mocpy library is an astropy-affiliated library\n",
    "# It allows to manipulate MOCs\n",
    "from mocpy import STMOC, MOC, TimeMOC\n",
    "\n",
    "# General astropy utility methods and classes\n",
    "from astropy.coordinates import Longitude, Latitude, Angle, SkyCoord\n",
    "from astropy.time import Time, TimeDelta\n",
    "import astropy.units as u\n",
    "\n",
    "# For visualization\n",
    "import matplotlib.pyplot as plt\n",
    "from ipyaladin import Aladin\n"
   ]
  },
  {
   "cell_type": "markdown",
   "metadata": {},
   "source": [
    "# Accessing data through space and time criteria\n",
    "\n",
    "## This notebook focuses on the use of the Multi-Order Coverage (MOC) and Space-Time MOC (STMOC) for querying and analyzing astronomical data. \n",
    "\n",
    "### Key words:\n",
    "\n",
    "**Hierarchical Progressive Survey (HiPS)**: HiPS describes a generic method for packaging, storing, querying, and describing astronomical data. It stores data in a folder structure that mimics the [HEALPix tesselation of the sky](https://healpix.jpl.nasa.gov/pdf/intro.pdf).\n",
    "\n",
    "**Multi-Order Coverage (MOC)**: MOC is a data structure used to describe arbitrary regions of the sky with variable resolution. It is particularly useful for handling large-scale astronomical surveys and for efficiently querying regions of interest.\n",
    "\n",
    "**Space-Time MOC (STMOC)**: STMOC extends the concept of MOC to include the temporal dimension, allowing for the representation of regions of the sky that change over time. This is useful for time-domain astronomy, where the visibility of sources varies.\n",
    "\n",
    "### Scientific Motivation:\n",
    "\n",
    "Gamma-Ray Bursts (GRBs) are among the most energetic and mysterious phenomena in the universe. These brief but intense flashes of gamma rays are believed to originate from cataclysmic events such as the collapse of massive stars or the merger of neutron stars. Observing GRBs across multiple wavelengths and with different telescopes provides crucial insights into their nature and origins. In this study, we focus on GRBs observed by the Fermi Gamma-ray Space Telescope and the XMM-Newton X-ray Observatory, and demonstrate how the use of Space-Time Multi-Order Coverage (STMOC) can help identify and analyze these fascinating events.\n",
    "\n",
    "## The HEALPix grid and its link to HiPS surveys\n",
    "\n",
    "HiPS is a way of storing data sets (it can be catalogs, or images for example) that follows the HEALPix tesselation of the sky. This is particularly optimized for visualization.\n",
    "\n",
    "![HiPS_and_the_HEALPix_grid](HiPS_and_the_HEALPix_grid.png)\n",
    "\n",
    "Figure 1: Standards to represent the sky, or parts of the sky. (a) The HEALPix grid (b) The HiPS standard (c) Visualization in ipyaladin (d), and a MOC.\n",
    "\n",
    "### The HEALPix grid\n",
    "\n",
    "With the HEALPix grid, the sphere is mapped by equal-area tiles. In **Figure 1a**, we show an orthographic representation of the 12 tiles at order zero and of the 768 tiles at order 3. This is extracted from [Gorski *et.al.*](https://iopscience.iop.org/article/10.1086/427976/pdf).\n",
    "\n",
    "`mocpy` is a python library that allows to manipulate MOCs. MOCs are made of HEALPix cells (see **Figure 1d** and the next parts where we'll look at MOCs in more details), so mocpy has a few methods that allow to get information about the HEALPix tesselation."
   ]
  },
  {
   "cell_type": "code",
   "execution_count": 2,
   "metadata": {},
   "outputs": [
    {
     "data": {
      "text/plain": [
       "12"
      ]
     },
     "execution_count": 2,
     "metadata": {},
     "output_type": "execute_result"
    }
   ],
   "source": [
    "# we can check the number of cells at order 0 in the HEALPix tesselation\n",
    "MOC.n_cells(0)"
   ]
  },
  {
   "cell_type": "code",
   "execution_count": 3,
   "metadata": {},
   "outputs": [
    {
     "data": {
      "text/plain": [
       "768"
      ]
     },
     "execution_count": 3,
     "metadata": {},
     "output_type": "execute_result"
    }
   ],
   "source": [
    "# or at an other order\n",
    "MOC.n_cells(3)"
   ]
  },
  {
   "cell_type": "code",
   "execution_count": 4,
   "metadata": {},
   "outputs": [
    {
     "data": {
      "text/plain": [
       "768"
      ]
     },
     "execution_count": 4,
     "metadata": {},
     "output_type": "execute_result"
    }
   ],
   "source": [
    "# we could also have calculated the order 3 by knowing that\n",
    "# each cell is subdivised in four parts at the next order\n",
    "n_cells_order3 = MOC.n_cells(0) * 4**3\n",
    "n_cells_order3"
   ]
  },
  {
   "cell_type": "markdown",
   "metadata": {},
   "source": [
    "Let's visualize the HEALPix grid in the ipyaladin widget, see **Figure 1c** to see where to find the parameter. If you zoom in and out and move like crazy (or if you have a slower internet connection), you'll see the images that appear as they are downloaded by ipyaladin. They have the shape of HEALPix cells. The more you zoom in, the more precise (meaning higher resolution) the printed image will be."
   ]
  },
  {
   "cell_type": "code",
   "execution_count": 5,
   "metadata": {},
   "outputs": [
    {
     "data": {
      "application/vnd.jupyter.widget-view+json": {
       "model_id": "47417532c67545a8b878eba3912014d2",
       "version_major": 2,
       "version_minor": 0
      },
      "text/plain": [
       "Aladin(init_options=['_fov', '_target', 'background_color', 'coo_frame', 'full_screen', 'grid_color', 'grid_op…"
      ]
     },
     "execution_count": 5,
     "metadata": {},
     "output_type": "execute_result"
    }
   ],
   "source": [
    "aladin = Aladin()\n",
    "aladin"
   ]
  },
  {
   "cell_type": "markdown",
   "metadata": {},
   "source": [
    "We can duplicate this view by right clicking on the cell and selecting `Create new view for cell output`. The view can then be dragged anywhere you prefer. This allows to always have an eye on the widget while exploring the data.\n",
    "In the `Output View`, it is also quite nice to use the `fullscreen` button, the one in the top right corner of the widget.\n",
    "\n",
    "If you zoom in **a lot**, you will see that the pixels correspond to the tiles of the HEALPix grid at order 18 for the DSS survey that is displayed by default in `ipyaladin`. You can find out which resolution it corresponds to with an other of `mocpy`'s methods:"
   ]
  },
  {
   "cell_type": "code",
   "execution_count": 6,
   "metadata": {},
   "outputs": [
    {
     "data": {
      "text/latex": [
       "$3.90368e-06\\;\\mathrm{rad}$"
      ],
      "text/plain": [
       "<Angle 3.90368159e-06 rad>"
      ]
     },
     "execution_count": 6,
     "metadata": {},
     "output_type": "execute_result"
    }
   ],
   "source": [
    "MOC.order_to_spatial_resolution(18)"
   ]
  },
  {
   "cell_type": "markdown",
   "metadata": {},
   "source": [
    "Which we can also convert to arcseconds (or any other angle unit, try it out!)"
   ]
  },
  {
   "cell_type": "code",
   "execution_count": 7,
   "metadata": {},
   "outputs": [
    {
     "data": {
      "text/latex": [
       "$0.805192\\mathrm{{}^{\\prime\\prime}}$"
      ],
      "text/plain": [
       "<Angle 0.80519213 arcsec>"
      ]
     },
     "execution_count": 7,
     "metadata": {},
     "output_type": "execute_result"
    }
   ],
   "source": [
    "MOC.order_to_spatial_resolution(18).to(\"arcsec\")"
   ]
  },
  {
   "cell_type": "markdown",
   "metadata": {},
   "source": [
    "### The HiPS standard\n",
    "\n",
    "The images displayed by Aladin follow the HiPS standard, in which a folder corresponds to a HEALPix order, see **figure1b**. In figure 1b, the example images are from a SDO/AIA observation of the Sun. At all orders, the images have the same number of pixels (here 512*512), but they represent a different sky fraction. On the figure, we see that the pixel 0 at order 3 contains the pixel 0 and 1 of the more precise order.\n",
    "\n",
    "### Finding HiPS surveys\n",
    "\n",
    "#### Fermi\n",
    "\n",
    "More and more astronomical data centers start to offer HiPS surveys for sky visualizations.\n",
    "\n",
    "One way of finding HiPS surveys is to use `ipyaladin`'s interface, see **Figure2**, and follow the steps to get the two MeerKAT HiPS.\n",
    "\n",
    "![finding_HiPS](finding_hips_with_ipyaladin.png)\n",
    "**Figure 2**: Finding a HiPS with `ipyaladin`'s interface.\n",
    "\n",
    "Nothing appears? Let's move the target to the galactic center and zoom in a bit:"
   ]
  },
  {
   "cell_type": "code",
   "execution_count": 8,
   "metadata": {},
   "outputs": [],
   "source": [
    "aladin.target = \"Galactic Center\"\n",
    "aladin.fov = Angle(5, unit=\"deg\") # the Angle object is from astropy"
   ]
  },
  {
   "cell_type": "markdown",
   "metadata": {},
   "source": [
    "And you should see the MeerKat survey! \n",
    "\n",
    "Note that `fov`, the field of view argument, fixes the angle on the x axis.\n",
    "\n",
    "#### Finding HiPS programmatically\n",
    "\n",
    "The `Browse HiPS` button calls one of the less known services of the CDS, the MOCServer. Its name is a bit misleading, as it does not only hosts MOCs, but also HiPSs. The search bar in `ipyaladin` only works if you already know more or less the name of the survey. For more control on search parameters, we will use the module `mocserver` from the `astroquery` library that give a direct access the the [MOCServer](https://astroquery.readthedocs.io/en/latest/mocserver/mocserver.html#module-astroquery.mocserver).\n",
    "\n",
    "Here we query the MOC server to find HiPS datasets related to Fermi observations. Fermi cameras are sensitive to sources that emit in gamma-rays. GRBs are the ideal candidate for Fermi."
   ]
  },
  {
   "cell_type": "code",
   "execution_count": 9,
   "metadata": {},
   "outputs": [],
   "source": [
    "fermi_hips = MOCServer.find_datasets(meta_data=\"obs_description=*Fermi*&&hips_*=*\", casesensitive=False)\n",
    "#fermi_hips"
   ]
  },
  {
   "cell_type": "code",
   "execution_count": 10,
   "metadata": {},
   "outputs": [
    {
     "data": {
      "text/plain": [
       "9"
      ]
     },
     "execution_count": 10,
     "metadata": {},
     "output_type": "execute_result"
    }
   ],
   "source": [
    "len(fermi_hips)"
   ]
  },
  {
   "cell_type": "markdown",
   "metadata": {},
   "source": [
    "We found nine HiPS surveys with the word `Fermi` in their descriptions. The object that we got from astroquery is a table containing information about the HiPS surveys. Let's inspect its column names to see what it contains."
   ]
  },
  {
   "cell_type": "code",
   "execution_count": 11,
   "metadata": {},
   "outputs": [
    {
     "data": {
      "text/plain": [
       "['creator_did',\n",
       " 'client_category',\n",
       " 'hips_creation_date',\n",
       " 'obs_copyright_url',\n",
       " 'hips_doi',\n",
       " 'dataproduct_type',\n",
       " 't_min',\n",
       " 'obs_regime',\n",
       " 'hips_pixel_scale',\n",
       " 'hips_initial_ra',\n",
       " 'moc_type',\n",
       " 'hips_initial_fov',\n",
       " 'obs_initial_ra',\n",
       " 'hips_order_min',\n",
       " 'obs_ack',\n",
       " 'hipsgen_params_3',\n",
       " 'obs_initial_fov',\n",
       " 'hips_rgb_blue',\n",
       " 'hips_rgb_green',\n",
       " 'obs_description',\n",
       " 'hips_service_url_3',\n",
       " 'bib_reference',\n",
       " 'hips_builder',\n",
       " 'hips_initial_dec',\n",
       " 'hips_rgb_red',\n",
       " 'moc_access_url',\n",
       " 'hipsgen_params_1',\n",
       " 'hips_pixel_cut',\n",
       " 'moc_time_range',\n",
       " 'bib_reference_url',\n",
       " 'client_sort_key',\n",
       " 'hips_estsize',\n",
       " 'hips_release_date',\n",
       " 'ID',\n",
       " 'hips_status_2',\n",
       " 'moc_time_order',\n",
       " 'hips_service_url',\n",
       " 'moc_sky_fraction',\n",
       " 'hipsgen_date',\n",
       " 'client_application',\n",
       " 'hipsgen_params_2',\n",
       " 'hips_creator',\n",
       " 'hips_version',\n",
       " 'hips_tile_width',\n",
       " 'hipsgen_params',\n",
       " 'hips_service_url_1',\n",
       " 'em_max',\n",
       " 'em_min',\n",
       " 'TIMESTAMP',\n",
       " 'hips_data_range',\n",
       " 'hips_status_3',\n",
       " 'hips_frame',\n",
       " 'moc_order',\n",
       " 'hips_status_1',\n",
       " 'hips_copyright',\n",
       " 'hipsgen_date_2',\n",
       " 'hips_service_url_2',\n",
       " 'hipsgen_date_3',\n",
       " 'obs_copyright',\n",
       " 'obs_initial_dec',\n",
       " 'hipsgen_date_1',\n",
       " 'hips_tile_format',\n",
       " 'dataproduct_subtype',\n",
       " 'hipsgen_date_4',\n",
       " 'hips_order',\n",
       " 'hips_pixel_bitpix',\n",
       " 'prov_progenitor',\n",
       " 't_max',\n",
       " 'hips_status',\n",
       " 'hipsgen_params_4',\n",
       " 'obs_title',\n",
       " 'obs_collection']"
      ]
     },
     "execution_count": 11,
     "metadata": {},
     "output_type": "execute_result"
    }
   ],
   "source": [
    "fermi_hips.colnames"
   ]
  },
  {
   "cell_type": "markdown",
   "metadata": {},
   "source": [
    "We can check the descriptions of the surveys, for example"
   ]
  },
  {
   "cell_type": "code",
   "execution_count": 12,
   "metadata": {
    "scrolled": true
   },
   "outputs": [
    {
     "data": {
      "text/html": [
       "<div><i>Table length=9</i>\n",
       "<table id=\"table139763665126016\" class=\"table-striped table-bordered table-condensed\">\n",
       "<thead><tr><th>obs_description</th><th>ID</th></tr></thead>\n",
       "<thead><tr><th>object</th><th>str20</th></tr></thead>\n",
       "<tr><td>Launched on June 11, 2008, the Fermi Gamma-ray Space Telescope observes the cosmos using the highest-energy form of light. This survey sums all data observed by the Fermi mission up to week 396. This version of the Fermi survey are intensity maps where the summed counts maps are divided by the exposure for each pixel. We anticipate using the HEASARC&apos;s Hera capabilities to update this survey on a roughly quarterly basis. Data is broken into 5 energy bands : 30-100 MeV Band 1, 100-300 MeV Band 2, 300-1000 MeV Band 3, 1-3 GeV Band 4 , 3-300 GeV Band 5. The SkyView data are based upon a Cartesian projection of the counts divided by the exposure maps. In the Cartesian projection pixels near the pole have a much smaller area than pixels on the equator, so these pixels have smaller integrated flux. When creating large scale images in other projections users may wish to make sure to compensate for this effect the flux conserving clip-resampling option.</td><td>CDS/P/Fermi/3</td></tr>\n",
       "<tr><td>Launched on June 11, 2008, the Fermi Gamma-ray Space Telescope observes the cosmos using the highest-energy form of light. This survey sums all data observed by the Fermi mission up to week 396. This version of the Fermi survey are intensity maps where the summed counts maps are divided by the exposure for each pixel. We anticipate using the HEASARC&apos;s Hera capabilities to update this survey on a roughly quarterly basis. Data is broken into 5 energy bands : 30-100 MeV Band 1, 100-300 MeV Band 2, 300-1000 MeV Band 3, 1-3 GeV Band 4 , 3-300 GeV Band 5. The SkyView data are based upon a Cartesian projection of the counts divided by the exposure maps. In the Cartesian projection pixels near the pole have a much smaller area than pixels on the equator, so these pixels have smaller integrated flux. When creating large scale images in other projections users may wish to make sure to compensate for this effect the flux conserving clip-resampling option.</td><td>CDS/P/Fermi/4</td></tr>\n",
       "<tr><td>Launched on June 11, 2008, the Fermi Gamma-ray Space Telescope observes the cosmos using the highest-energy form of light. This survey sums all data observed by the Fermi mission up to week 396. This version of the Fermi survey are intensity maps where the summed counts maps are divided by the exposure for each pixel. We anticipate using the HEASARC&apos;s Hera capabilities to update this survey on a roughly quarterly basis. Data is broken into 5 energy bands : 30-100 MeV Band 1, 100-300 MeV Band 2, 300-1000 MeV Band 3, 1-3 GeV Band 4 , 3-300 GeV Band 5. The SkyView data are based upon a Cartesian projection of the counts divided by the exposure maps. In the Cartesian projection pixels near the pole have a much smaller area than pixels on the equator, so these pixels have smaller integrated flux. When creating large scale images in other projections users may wish to make sure to compensate for this effect the flux conserving clip-resampling option.</td><td>CDS/P/Fermi/5</td></tr>\n",
       "<tr><td>Launched on June 11, 2008, the Fermi Gamma-ray Space Telescope observes the cosmos using the highest-energy form of light. This survey sums all data observed by the Fermi mission up to week 396. This version of the Fermi survey are intensity maps where the summed counts maps are divided by the exposure for each pixel. We anticipate using the HEASARC&apos;s Hera capabilities to update this survey on a roughly quarterly basis. Data is broken into 5 energy bands : 30-100 MeV Band 1, 100-300 MeV Band 2, 300-1000 MeV Band 3, 1-3 GeV Band 4 , 3-300 GeV Band 5. The SkyView data are based upon a Cartesian projection of the counts divided by the exposure maps. In the Cartesian projection pixels near the pole have a much smaller area than pixels on the equator, so these pixels have smaller integrated flux. When creating large scale images in other projections users may wish to make sure to compensate for this effect the flux conserving clip-resampling option.</td><td>CDS/P/Fermi/color</td></tr>\n",
       "<tr><td>Fermi-LAT all-sky survey in Band 1 (30-100 MeV), at an angular resolution of 3 degrees. Units are cnts/s/cm^2/sr. Healpix map built by D. Paradis (IRAP/CADE)</td><td>ov-gso/P/Fermi/Band1</td></tr>\n",
       "<tr><td>Fermi-LAT all-sky survey in Band 2 (100-300 MeV), at an angular resolution of 2 degrees. Units are cnts/s/cm^2/sr. Healpix map built by D. Paradis (IRAP/CADE)</td><td>ov-gso/P/Fermi/Band2</td></tr>\n",
       "<tr><td>Fermi-LAT all-sky survey in Band 3 (300-1000 MeV), at an angular resolution of 1 degree. Units are cnts/s/cm^2/sr. Healpix map built by D. Paradis (IRAP/CADE)</td><td>ov-gso/P/Fermi/Band3</td></tr>\n",
       "<tr><td>[&apos;Fermi-LAT all-sky survey in Band 4 (1-3 GeV), at an angular resolution of 0.4 degrees. Units are cnts/s/cm^2/sr. Healpix map built by D. Paradis (IRAP/CADE)&apos;, &apos;Fermi-LAT all-sky survey in Band 4 (1-3 GeV), at an angular resolution of 0.4 degrees. Units are cnts/s/cm^2/sr. Healpix map built by D. Paradis (IRAP/CADE)&apos;]</td><td>ov-gso/P/Fermi/Band4</td></tr>\n",
       "<tr><td>Fermi-LAT all-sky survey in Band 5 (3-300 GeV), at an angular resolution of 0.2 degrees. Units are cnts/s/cm^2/sr. Healpix map built by D. Paradis (IRAP/CADE)</td><td>ov-gso/P/Fermi/Band5</td></tr>\n",
       "</table></div>"
      ],
      "text/plain": [
       "<Table length=9>\n",
       "                                                                                                                                                                                                                                                                                                                                                                                                                                                                                       obs_description                                                                                                                                                                                                                                                                                                                                                                                                                                                                                         ...\n",
       "                                                                                                                                                                                                                                                                                                                                                                                                                                                                                            object                                                                                                                                                                                                                                                                                                                                                                                                                                                                                             ...\n",
       "---------------------------------------------------------------------------------------------------------------------------------------------------------------------------------------------------------------------------------------------------------------------------------------------------------------------------------------------------------------------------------------------------------------------------------------------------------------------------------------------------------------------------------------------------------------------------------------------------------------------------------------------------------------------------------------------------------------------------------------------------------------------------------------------------------------------------------------------------------------------------------------------------------------------------------------------------------------------------------------------- ...\n",
       "Launched on June 11, 2008, the Fermi Gamma-ray Space Telescope observes the cosmos using the highest-energy form of light. This survey sums all data observed by the Fermi mission up to week 396. This version of the Fermi survey are intensity maps where the summed counts maps are divided by the exposure for each pixel. We anticipate using the HEASARC's Hera capabilities to update this survey on a roughly quarterly basis. Data is broken into 5 energy bands : 30-100 MeV Band 1, 100-300 MeV Band 2, 300-1000 MeV Band 3, 1-3 GeV Band 4 , 3-300 GeV Band 5. The SkyView data are based upon a Cartesian projection of the counts divided by the exposure maps. In the Cartesian projection pixels near the pole have a much smaller area than pixels on the equator, so these pixels have smaller integrated flux. When creating large scale images in other projections users may wish to make sure to compensate for this effect the flux conserving clip-resampling option. ...\n",
       "Launched on June 11, 2008, the Fermi Gamma-ray Space Telescope observes the cosmos using the highest-energy form of light. This survey sums all data observed by the Fermi mission up to week 396. This version of the Fermi survey are intensity maps where the summed counts maps are divided by the exposure for each pixel. We anticipate using the HEASARC's Hera capabilities to update this survey on a roughly quarterly basis. Data is broken into 5 energy bands : 30-100 MeV Band 1, 100-300 MeV Band 2, 300-1000 MeV Band 3, 1-3 GeV Band 4 , 3-300 GeV Band 5. The SkyView data are based upon a Cartesian projection of the counts divided by the exposure maps. In the Cartesian projection pixels near the pole have a much smaller area than pixels on the equator, so these pixels have smaller integrated flux. When creating large scale images in other projections users may wish to make sure to compensate for this effect the flux conserving clip-resampling option. ...\n",
       "Launched on June 11, 2008, the Fermi Gamma-ray Space Telescope observes the cosmos using the highest-energy form of light. This survey sums all data observed by the Fermi mission up to week 396. This version of the Fermi survey are intensity maps where the summed counts maps are divided by the exposure for each pixel. We anticipate using the HEASARC's Hera capabilities to update this survey on a roughly quarterly basis. Data is broken into 5 energy bands : 30-100 MeV Band 1, 100-300 MeV Band 2, 300-1000 MeV Band 3, 1-3 GeV Band 4 , 3-300 GeV Band 5. The SkyView data are based upon a Cartesian projection of the counts divided by the exposure maps. In the Cartesian projection pixels near the pole have a much smaller area than pixels on the equator, so these pixels have smaller integrated flux. When creating large scale images in other projections users may wish to make sure to compensate for this effect the flux conserving clip-resampling option. ...\n",
       "Launched on June 11, 2008, the Fermi Gamma-ray Space Telescope observes the cosmos using the highest-energy form of light. This survey sums all data observed by the Fermi mission up to week 396. This version of the Fermi survey are intensity maps where the summed counts maps are divided by the exposure for each pixel. We anticipate using the HEASARC's Hera capabilities to update this survey on a roughly quarterly basis. Data is broken into 5 energy bands : 30-100 MeV Band 1, 100-300 MeV Band 2, 300-1000 MeV Band 3, 1-3 GeV Band 4 , 3-300 GeV Band 5. The SkyView data are based upon a Cartesian projection of the counts divided by the exposure maps. In the Cartesian projection pixels near the pole have a much smaller area than pixels on the equator, so these pixels have smaller integrated flux. When creating large scale images in other projections users may wish to make sure to compensate for this effect the flux conserving clip-resampling option. ...\n",
       "                                                                                                                                                                                                                                                                                                                                                                                                                                                                                                                                                                                                                                                                                                                                                                                                                                 Fermi-LAT all-sky survey in Band 1 (30-100 MeV), at an angular resolution of 3 degrees. Units are cnts/s/cm^2/sr. Healpix map built by D. Paradis (IRAP/CADE) ...\n",
       "                                                                                                                                                                                                                                                                                                                                                                                                                                                                                                                                                                                                                                                                                                                                                                                                                                Fermi-LAT all-sky survey in Band 2 (100-300 MeV), at an angular resolution of 2 degrees. Units are cnts/s/cm^2/sr. Healpix map built by D. Paradis (IRAP/CADE) ...\n",
       "                                                                                                                                                                                                                                                                                                                                                                                                                                                                                                                                                                                                                                                                                                                                                                                                                                Fermi-LAT all-sky survey in Band 3 (300-1000 MeV), at an angular resolution of 1 degree. Units are cnts/s/cm^2/sr. Healpix map built by D. Paradis (IRAP/CADE) ...\n",
       "                                                                                                                                                                                                                                                                                                                                                                                                                                                                                                                                                                                                                                                              ['Fermi-LAT all-sky survey in Band 4 (1-3 GeV), at an angular resolution of 0.4 degrees. Units are cnts/s/cm^2/sr. Healpix map built by D. Paradis (IRAP/CADE)', 'Fermi-LAT all-sky survey in Band 4 (1-3 GeV), at an angular resolution of 0.4 degrees. Units are cnts/s/cm^2/sr. Healpix map built by D. Paradis (IRAP/CADE)'] ...\n",
       "                                                                                                                                                                                                                                                                                                                                                                                                                                                                                                                                                                                                                                                                                                                                                                                                                                Fermi-LAT all-sky survey in Band 5 (3-300 GeV), at an angular resolution of 0.2 degrees. Units are cnts/s/cm^2/sr. Healpix map built by D. Paradis (IRAP/CADE) ..."
      ]
     },
     "execution_count": 12,
     "metadata": {},
     "output_type": "execute_result"
    }
   ],
   "source": [
    "fermi_hips[[\"obs_description\", \"ID\"]]"
   ]
  },
  {
   "cell_type": "markdown",
   "metadata": {},
   "source": [
    "#### XMM-Newton\n",
    "\n",
    "GRBs can be studied in conjunction with other instruments spanning wide range of wavelengths in order to understand the various properties of the GRB. The bursts of gamma-rays produced by the GRBs collide with each other and also the interstellar medium and produce what we call the \"after glow\". The \"after glow\" contains electromagnetic radiations ranging from X-rays to radio. Let's explore the GRBs also detected in X-rays. As shown above, we can obtain HiPs for the XMM-Newton Telescope. XMM-Newton is a powerful telescope that observes the X-ray Universe.\n",
    "\n",
    "We will repeat the process we used to find Fermi HiPS, but for XMM-Newton:"
   ]
  },
  {
   "cell_type": "code",
   "execution_count": 13,
   "metadata": {},
   "outputs": [
    {
     "data": {
      "text/html": [
       "<div><i>Table length=4</i>\n",
       "<table id=\"table139764497675216\" class=\"table-striped table-bordered table-condensed\">\n",
       "<thead><tr><th>hips_nb_tiles</th><th>creator_did</th><th>client_category</th><th>obs_copyright_url</th><th>obs_regime</th><th>dataproduct_type</th><th>hips_initial_ra</th><th>t_min</th><th>hips_pixel_scale</th><th>hips_creation_date</th><th>hips_overlay</th><th>dataproduct_subtype</th><th>hips_initial_fov</th><th>obs_initial_ra</th><th>hips_order_min</th><th>obs_ack</th><th>hips_rgb_blue</th><th>obs_initial_fov</th><th>hips_rgb_green</th><th>hips_sampling</th><th>obs_description</th><th>bib_reference</th><th>hips_progenitor_url</th><th>hips_builder</th><th>hips_initial_dec</th><th>hips_rgb_red</th><th>hips_pixel_cut</th><th>moc_time_range</th><th>bib_reference_url</th><th>hips_hierarchy</th><th>hips_estsize</th><th>hips_release_date</th><th>hips_check_code</th><th>ID</th><th>hips_status_2</th><th>moc_time_order</th><th>hips_service_url</th><th>moc_sky_fraction</th><th>hipsgen_date</th><th>client_application</th><th>s_pixel_scale</th><th>hips_creator</th><th>hips_version</th><th>hips_tile_width</th><th>hipsgen_params</th><th>hips_service_url_1</th><th>em_max</th><th>em_min</th><th>TIMESTAMP</th><th>hips_data_range</th><th>data_pixel_bitpix</th><th>hips_frame</th><th>moc_type</th><th>hips_status_1</th><th>hips_copyright</th><th>moc_order</th><th>hips_service_url_2</th><th>obs_copyright</th><th>obs_initial_dec</th><th>hips_tile_format</th><th>hips_order</th><th>hips_pixel_bitpix</th><th>prov_progenitor</th><th>t_max</th><th>hips_status</th><th>obs_title</th><th>obs_collection</th></tr></thead>\n",
       "<thead><tr><th>float64</th><th>str27</th><th>str15</th><th>str27</th><th>str5</th><th>str5</th><th>float64</th><th>float64</th><th>float64</th><th>str17</th><th>object</th><th>str5</th><th>float64</th><th>float64</th><th>float64</th><th>str42</th><th>str31</th><th>float64</th><th>str32</th><th>object</th><th>str153</th><th>str19</th><th>str43</th><th>str22</th><th>float64</th><th>str30</th><th>str13</th><th>float64</th><th>str64</th><th>str6</th><th>float64</th><th>str17</th><th>str30</th><th>str21</th><th>str24</th><th>float64</th><th>str33</th><th>float64</th><th>str17</th><th>str10</th><th>float64</th><th>str38</th><th>float64</th><th>float64</th><th>str214</th><th>str55</th><th>float64</th><th>float64</th><th>float64</th><th>str18</th><th>object</th><th>str10</th><th>str5</th><th>str24</th><th>str30</th><th>float64</th><th>str58</th><th>str24</th><th>float64</th><th>str8</th><th>float64</th><th>object</th><th>str55</th><th>float64</th><th>str26</th><th>str62</th><th>str14</th></tr></thead>\n",
       "<tr><td>--</td><td>ivo://xcatdb/P/XMM/PN/color</td><td>Image/X-ray/XMM</td><td>https://xmmssc.irap.omp.eu/</td><td>X-ray</td><td>image</td><td>23.4621</td><td>51577.0</td><td>0.0008946</td><td>2023-06-05T14:24Z</td><td>overlayMean mergeOverwriteTile treeMedian</td><td>color</td><td>1.0</td><td>23.4621</td><td>0.0</td><td>Galhecos-Team (Strasbourg), SSC XMM-Newton</td><td>test [1.0E-6 NaN 4.0E-4 Linear]</td><td>0.4580648549089874</td><td>green [1.0E-6 NaN 4.0E-4 Linear]</td><td>--</td><td>Colored image made with all PN images of the 4xmmdr12: Red=0.5-1Kev Green=1-2Kev  Blue=2-4.5Kev - Healpixilized by Michel L. [Observatoire de Strasbourg]</td><td>2020A&amp;A...641A.136W</td><td>--</td><td>Aladin/HipsGen v12.060</td><td>30.65994167</td><td>red [1.0E-6 NaN 4.0E-4 Linear]</td><td>--</td><td>1.0</td><td>https://ui.adsabs.harvard.edu/abs/2020A%26A...641A.136W/abstract</td><td>--</td><td>--</td><td>2023-06-05T14:31Z</td><td>--</td><td>xcatdb/P/XMM/PN/color</td><td>public mirror unclonable</td><td>25.0</td><td>https://xcatdb.unistra.fr/PNColor</td><td>0.09202</td><td>2023-06-05T14:24Z</td><td>AladinLite</td><td>--</td><td>L. Michel [Observatoire de Strasbourg]</td><td>1.4</td><td>512.0</td><td>inRed=/bigarchesbox/michel/xmm_hips/hips_red inGreen=/bigarchesbox/michel/xmm_hips/hips_green/ inBlue=/bigarchesbox/michel/xmm_hips/hips_blue out=/bigarchesbox/michel/xmm_hips/RGB RGB id=ivo://xcatdb/P/XMM/PN/color</td><td>https://alasky.cds.unistra.fr/SSC/xcatdb_P_XMM_PN_color</td><td>6.1992e-10</td><td>2.7552e-10</td><td>1721288671225.0</td><td>--</td><td>--</td><td>equatorial</td><td>stmoc</td><td>public mirror unclonable</td><td>(c) Observatoire de Strasbourg</td><td>7.0</td><td>https://alaskybis.cds.unistra.fr/SSC/xcatdb_P_XMM_PN_color</td><td>(c) ESA / SSC XMM-Newton</td><td>30.65994167</td><td>png</td><td>7.0</td><td>--</td><td>XMM-Newton 4XMM PN images and exposure maps</td><td>59912.0</td><td>public master clonableOnce</td><td>False color X-ray images (Red=0.5-1 Green=1-2 Blue=2-4.5 Kev )</td><td>XMM PN colored</td></tr>\n",
       "<tr><td>71326.0</td><td>ivo://xcatdb/P/XMM/PN/eb2</td><td>Image/X-ray/XMM</td><td>https://xmmssc.irap.omp.eu/</td><td>X-ray</td><td>image</td><td>23.4621</td><td>51577.0</td><td>0.0008946</td><td>2023-06-05T13:26Z</td><td>[&apos;mean&apos;, &apos;overlayMean mergeOverwriteTile treeMean&apos;]</td><td>--</td><td>1.0</td><td>23.4621</td><td>0.0</td><td>Galhecos-Team (Strasbourg), SSC XMM-Newton</td><td>--</td><td>0.4580648549089874</td><td>--</td><td>[&apos;bilinear&apos;, &apos;bilinear&apos;]</td><td>Image made with all PN images of the 4xmmdr13 in band 0.5-1Kev - Healpixilized by L. Michel [Observatoire de Strasbourg]</td><td>2020A&amp;A...641A.136W</td><td>https://xcatdb.unistra.fr/PNRed/HpxFinder</td><td>Aladin/HipsGen v12.060</td><td>30.65994167</td><td>--</td><td>1.0E-6 4.0E-4</td><td>1.0</td><td>https://ui.adsabs.harvard.edu/abs/2020A%26A...641A.136W/abstract</td><td>median</td><td>73959916.0</td><td>2023-06-05T13:27Z</td><td>png:2167619521 fits:1120067023</td><td>xcatdb/P/XMM/PN/eb2</td><td>public mirror unclonable</td><td>25.0</td><td>https://xcatdb.unistra.fr/PNRed</td><td>0.09202</td><td>2023-06-05T13:26Z</td><td>--</td><td>0.001111</td><td>L. Michel [Observatoire de Strasbourg]</td><td>1.4</td><td>512.0</td><td>in=/bigarchesbox/michel/xmm_hips/red out=/bigarchesbox/michel/xmm_hips/hips_red/ blank=-1 id=blue/test &quot;pixelCut=0.000001 0.0004 log&quot;</td><td>https://alasky.cds.unistra.fr/SSC/xcatdb_P_XMM_PN_eb2</td><td>6.1992e-10</td><td>2.7552e-10</td><td>1721288671037.0</td><td>-0.002862 0.008587</td><td>[&apos;-64&apos;, &apos;-64&apos;]</td><td>equatorial</td><td>stmoc</td><td>public mirror unclonable</td><td>(c) Observatoire de Strasbourg</td><td>7.0</td><td>https://alaskybis.cds.unistra.fr/SSC/xcatdb_P_XMM_PN_eb2</td><td>(c) ESA / SSC XMM-Newton</td><td>30.65994167</td><td>png fits</td><td>7.0</td><td>[&apos;-64&apos;, &apos;-64&apos;]</td><td>XMM-Newton 4XMM PN images, exposure and background maps</td><td>59912.0</td><td>public master clonableOnce</td><td>X-ray images on band 0.5-1Kev</td><td>4XMM PN eb2</td></tr>\n",
       "<tr><td>71326.0</td><td>ivo://xcatdb/P/XMM/PN/eb3</td><td>Image/X-ray/XMM</td><td>https://xmmssc.irap.omp.eu/</td><td>X-ray</td><td>image</td><td>23.4621</td><td>51577.0</td><td>0.0008946</td><td>2023-06-05T10:50Z</td><td>[&apos;mean&apos;, &apos;overlayMean mergeOverwriteTile treeMean&apos;]</td><td>--</td><td>1.0</td><td>23.4621</td><td>0.0</td><td>Galhecos-Team (Strasbourg), SSC XMM-Newton</td><td>--</td><td>0.4580648549089874</td><td>--</td><td>[&apos;bilinear&apos;, &apos;bilinear&apos;]</td><td>Image made with all PN images of the 4xmmdr13 in band 1-2Kev - Healpixilized by L. Michel [Observatoire de Strasbourg]</td><td>2020A&amp;A...641A.136W</td><td>https://xcatdb.unistra.fr/PNGreen/HpxFinder</td><td>Aladin/HipsGen v12.060</td><td>30.65994167</td><td>--</td><td>1.0E-6 4.0E-4</td><td>1.0</td><td>https://ui.adsabs.harvard.edu/abs/2020A%26A...641A.136W/abstract</td><td>median</td><td>73976311.0</td><td>2023-06-05T10:50Z</td><td>png:1070156449 fits:1120067023</td><td>xcatdb/P/XMM/PN/eb3</td><td>--</td><td>25.0</td><td>https://xcatdb.unistra.fr/PNGreen</td><td>0.09202</td><td>2023-06-05T10:50Z</td><td>--</td><td>0.001111</td><td>L. Michel [Observatoire de Strasbourg]</td><td>1.4</td><td>512.0</td><td>in=/bigarchesbox/michel/xmm_hips/green out=/bigarchesbox/michel/xmm_hips/hips_green/ blank=-1 id=blue/test &quot;pixelCut=0.000001 0.0004 log&quot;</td><td>--</td><td>6.1992e-10</td><td>2.7552e-10</td><td>1699344392295.0</td><td>-3.069E-4 9.209E-4</td><td>[&apos;-64&apos;, &apos;-64&apos;]</td><td>equatorial</td><td>stmoc</td><td>--</td><td>(c) Observatoire de Strasbourg</td><td>7.0</td><td>--</td><td>(c) ESA / SSC XMM-Newton</td><td>30.65994167</td><td>png fits</td><td>7.0</td><td>[&apos;-64&apos;, &apos;-64&apos;]</td><td>XMM-Newton 4XMM PN images, exposure and background maps</td><td>59912.0</td><td>public master clonableOnce</td><td>X-ray images on band 1-2Kev</td><td>4XMM PN eb3</td></tr>\n",
       "<tr><td>71326.0</td><td>ivo://xcatdb/P/XMM/PN/eb4</td><td>Image/X-ray/XMM</td><td>https://xmmssc.irap.omp.eu/</td><td>X-ray</td><td>image</td><td>23.4621</td><td>51577.0</td><td>0.0008946</td><td>2023-06-05T08:40Z</td><td>[&apos;mean&apos;, &apos;overlayMean mergeOverwriteTile treeMean&apos;]</td><td>--</td><td>1.0</td><td>23.4621</td><td>0.0</td><td>Galhecos-Team (Strasbourg), SSC XMM-Newton</td><td>--</td><td>0.4580648549089874</td><td>--</td><td>[&apos;bilinear&apos;, &apos;bilinear&apos;]</td><td>Image made with all PN images of the 4xmmdr13 in band 2-4.5Kev - Healpixilized by L. Michel [Observatoire de Strasbourg]</td><td>2020A&amp;A...641A.136W</td><td>https://xcatdb.unistra.fr/PNBlue/HpxFinder</td><td>Aladin/HipsGen v12.060</td><td>30.65994167</td><td>--</td><td>1.0E-6 4.0E-4</td><td>1.0</td><td>https://ui.adsabs.harvard.edu/abs/2020A%26A...641A.136W/abstract</td><td>median</td><td>73978459.0</td><td>2023-06-05T08:41Z</td><td>png:3066494227 fits:1120067023</td><td>xcatdb/P/XMM/PN/eb4</td><td>--</td><td>25.0</td><td>https://xcatdb.unistra.fr/PNBlue</td><td>0.09202</td><td>2023-06-05T08:40Z</td><td>--</td><td>0.001111</td><td>L. Michel [Observatoire de Strasbourg]</td><td>1.4</td><td>512.0</td><td>in=/bigarchesbox/michel/xmm_hips/blue/ out=/bigarchesbox/michel/xmm_hips/hips_blue/ blank=-1 id=blue/test &quot;pixelCut=0.000001 0.0004 log&quot;</td><td>--</td><td>6.1992e-10</td><td>2.7552e-10</td><td>1699344392343.0</td><td>-2.654E-4 7.962E-4</td><td>[&apos;-64&apos;, &apos;-64&apos;]</td><td>equatorial</td><td>stmoc</td><td>--</td><td>(c) Observatoire de Strasbourg</td><td>7.0</td><td>--</td><td>(c) ESA / SSC XMM-Newton</td><td>30.65994167</td><td>png fits</td><td>7.0</td><td>[&apos;-64&apos;, &apos;-64&apos;]</td><td>XMM-Newton 4XMM PN images, exposure and background maps</td><td>59912.0</td><td>public master clonableOnce</td><td>X-ray images on band 2-4.5Kev</td><td>4XMM PN eb4</td></tr>\n",
       "</table></div>"
      ],
      "text/plain": [
       "<Table length=4>\n",
       "hips_nb_tiles         creator_did         ... obs_collection\n",
       "   float64               str27            ...     str14     \n",
       "------------- --------------------------- ... --------------\n",
       "           -- ivo://xcatdb/P/XMM/PN/color ... XMM PN colored\n",
       "      71326.0   ivo://xcatdb/P/XMM/PN/eb2 ...    4XMM PN eb2\n",
       "      71326.0   ivo://xcatdb/P/XMM/PN/eb3 ...    4XMM PN eb3\n",
       "      71326.0   ivo://xcatdb/P/XMM/PN/eb4 ...    4XMM PN eb4"
      ]
     },
     "execution_count": 13,
     "metadata": {},
     "output_type": "execute_result"
    }
   ],
   "source": [
    "xmm_hips = MOCServer.find_datasets(meta_data=\"obs_description=*xmm*&&hips_*=*\", casesensitive=False)\n",
    "xmm_hips"
   ]
  },
  {
   "cell_type": "code",
   "execution_count": 14,
   "metadata": {},
   "outputs": [
    {
     "data": {
      "text/html": [
       "&lt;MaskedColumn name=&apos;ID&apos; dtype=&apos;str21&apos; length=4&gt;\n",
       "<table>\n",
       "<tr><td>xcatdb/P/XMM/PN/color</td></tr>\n",
       "<tr><td>xcatdb/P/XMM/PN/eb2</td></tr>\n",
       "<tr><td>xcatdb/P/XMM/PN/eb3</td></tr>\n",
       "<tr><td>xcatdb/P/XMM/PN/eb4</td></tr>\n",
       "</table>"
      ],
      "text/plain": [
       "<MaskedColumn name='ID' dtype='str21' length=4>\n",
       "xcatdb/P/XMM/PN/color\n",
       "  xcatdb/P/XMM/PN/eb2\n",
       "  xcatdb/P/XMM/PN/eb3\n",
       "  xcatdb/P/XMM/PN/eb4"
      ]
     },
     "execution_count": 14,
     "metadata": {},
     "output_type": "execute_result"
    }
   ],
   "source": [
    "xmm_hips[\"ID\"]"
   ]
  },
  {
   "cell_type": "markdown",
   "metadata": {},
   "source": [
    "Let's have a closer look at `CDS/P/Fermi/color`, and `xcatdb/P/XMM/PN/color`"
   ]
  },
  {
   "cell_type": "markdown",
   "metadata": {},
   "source": [
    "#### Setting surveys in ipyaladin from python"
   ]
  },
  {
   "cell_type": "code",
   "execution_count": 15,
   "metadata": {},
   "outputs": [],
   "source": [
    "aladin.survey = \"CDS/P/Fermi/color\""
   ]
  },
  {
   "cell_type": "code",
   "execution_count": 16,
   "metadata": {},
   "outputs": [],
   "source": [
    "aladin.coo_frame = \"galactic\""
   ]
  },
  {
   "cell_type": "code",
   "execution_count": 17,
   "metadata": {},
   "outputs": [],
   "source": [
    "aladin.overlay_survey=\"xcatdb/P/XMM/PN/color\""
   ]
  },
  {
   "cell_type": "code",
   "execution_count": 18,
   "metadata": {},
   "outputs": [],
   "source": [
    "aladin.overlay_survey_opacity = 0.8"
   ]
  },
  {
   "cell_type": "markdown",
   "metadata": {},
   "source": [
    "That's great, we now have superposed two surveys in `ipyaladin`.\n",
    "HiPS surveys are built out of mosaic images. We see from the XMM example that they do not necessarily cover the whole sky, but can also be constructed for partial coverages.\n",
    "\n",
    "We will not build a HiPS catalog now, but if one day you'd like to build and publish your own, you can look at [this very nice HiPS building tutorial](https://aladin.cds.unistra.fr/tutorials/OV-France-2024/)\n",
    "\n",
    "Let's now see how we can retrieve GRB events that could have been observed by these telescopes.\n",
    "\n",
    "## Interacting with databases programmatically\n",
    "\n",
    "There are two main ways to interact with astronomical databases from python.\n",
    "- with `pyVO`, the python module that offers Virtual Observatory protocols,\n",
    "- with `astroquery` modules. If there is one that exists for your database, then it is often really nice to use. But **it is less general than pyVO that works for every VO database**. We used this second approach for the MOCServer, `astroquery.mocserver` was an astroquery module specially written for the MOCServer.\n",
    "\n",
    "Here, we will focus on the `pyVO` approach, to stick to VO protocols. But most [CDS's python tutorials](https://github.com/cds-astro/tutorials/notebooks) will illustrate the modules `astroquery.vizier`, `astroquery.xmatch`and `astroquery.simbad`, if you are interested.\n",
    "\n",
    "### Using the Table Access Protocol (TAP) with pyVO\n",
    "\n",
    "TAP is a VO standard that allows to interrogate tables that have relations with each other with the Astronomical Data Query Language (ADQL).\n",
    "\n",
    "A database that offers TAP access always have:\n",
    "- an url that allows to instantiate a TAP service\n",
    "- a description of its content that is always in the same tables with standardized names. Here we will use **tables**, and **columns**.\n",
    "\n",
    "#### SIMBAD\n",
    "\n",
    "![tap_simbad](tap_simbad.png)\n",
    "Figure 3: (a) Finding the SIMBAD TAP URL, (b) The SIMBAD tables `basic` and `otypedef` have a common column: `otype`, (c) Once a TAP result is added to `ipyaladin`, one can click on the symbols or select subsets to inspect the results further.\n",
    "\n",
    "Let's try to find GRBs with SIMBAD's TAP access.\n",
    "First, we need SIMBAD's TAP URL. It can be found on [SIMBAD's webpage](http://simbad.cds.unistra.fr/simbad/), see **Figure 3a**."
   ]
  },
  {
   "cell_type": "code",
   "execution_count": 19,
   "metadata": {},
   "outputs": [],
   "source": [
    "tap_simbad = pyvo.dal.TAPService(\"https://simbad.cds.unistra.fr/simbad/sim-tap/\")"
   ]
  },
  {
   "cell_type": "markdown",
   "metadata": {},
   "source": [
    "The queries written in ADQL should be written in a string and called with the `search` method. Let's look at the tables available through TAP. `*` means that we want to get everything, and `FROM tables` restricts is to the table named `tables`."
   ]
  },
  {
   "cell_type": "code",
   "execution_count": 20,
   "metadata": {},
   "outputs": [
    {
     "data": {
      "text/html": [
       "<div><i>Table length=35</i>\n",
       "<table id=\"table139764497667200\" class=\"table-striped table-bordered table-condensed\">\n",
       "<thead><tr><th>table_index</th><th>schema_name</th><th>table_name</th><th>table_type</th><th>description</th><th>utype</th></tr></thead>\n",
       "<thead><tr><th>int32</th><th>object</th><th>object</th><th>object</th><th>object</th><th>object</th></tr></thead>\n",
       "<tr><td>-1</td><td>public</td><td>basic</td><td>table</td><td>General data about an astronomical object</td><td></td></tr>\n",
       "<tr><td>-1</td><td>public</td><td>ids</td><td>view</td><td>all names concatenated with pipe</td><td></td></tr>\n",
       "<tr><td>-1</td><td>public</td><td>alltypes</td><td>view</td><td>all object types concatenated with pipe</td><td></td></tr>\n",
       "<tr><td>-1</td><td>public</td><td>ident</td><td>table</td><td>Identifiers of an astronomical object</td><td></td></tr>\n",
       "<tr><td>-1</td><td>public</td><td>cat</td><td>table</td><td>Catalogues name</td><td></td></tr>\n",
       "<tr><td>-1</td><td>public</td><td>flux</td><td>table</td><td>Magnitude/Flux information about an astronomical object</td><td></td></tr>\n",
       "<tr><td>-1</td><td>public</td><td>allfluxes</td><td>view</td><td>all flux/magnitudes U,B,V,I,J,H,K,u_,g_,r_,i_,z_</td><td></td></tr>\n",
       "<tr><td>-1</td><td>public</td><td>filter</td><td>table</td><td>Description of a flux filter</td><td></td></tr>\n",
       "<tr><td>-1</td><td>public</td><td>has_ref</td><td>table</td><td>Associations between astronomical objects and their bibliographic references</td><td></td></tr>\n",
       "<tr><td>...</td><td>...</td><td>...</td><td>...</td><td>...</td><td>...</td></tr>\n",
       "<tr><td>-1</td><td>public</td><td>mesDiameter</td><td>table</td><td>Collection of stellar diameters.</td><td></td></tr>\n",
       "<tr><td>-1</td><td>public</td><td>mesDistance</td><td>table</td><td>Collection of distances (pc, kpc or Mpc) by several means.</td><td></td></tr>\n",
       "<tr><td>29</td><td>TAP_SCHEMA</td><td>TAP_SCHEMA.schemas</td><td>table</td><td>List of schemas published in this TAP service.</td><td></td></tr>\n",
       "<tr><td>30</td><td>TAP_SCHEMA</td><td>TAP_SCHEMA.tables</td><td>table</td><td>List of tables published in this TAP service.</td><td></td></tr>\n",
       "<tr><td>31</td><td>TAP_SCHEMA</td><td>TAP_SCHEMA.columns</td><td>table</td><td>List of columns of all tables listed in TAP_SCHEMA.TABLES and published in this TAP service.</td><td></td></tr>\n",
       "<tr><td>32</td><td>TAP_SCHEMA</td><td>TAP_SCHEMA.keys</td><td>table</td><td>List all foreign keys but provides just the tables linked by the foreign key. To know which columns of these tables are linked, see in TAP_SCHEMA.key_columns using the key_id.</td><td></td></tr>\n",
       "<tr><td>33</td><td>TAP_SCHEMA</td><td>TAP_SCHEMA.key_columns</td><td>table</td><td>List all foreign keys but provides just the columns linked by the foreign key. To know the table of these columns, see in TAP_SCHEMA.keys using the key_id.</td><td></td></tr>\n",
       "<tr><td>-1</td><td>public</td><td>otypes</td><td>table</td><td>List of all object types associated with an object</td><td></td></tr>\n",
       "<tr><td>-1</td><td>public</td><td>mesSpT</td><td>table</td><td>Collection of spectral types.</td><td></td></tr>\n",
       "<tr><td>-1</td><td>public</td><td>journals</td><td>view</td><td>Description of all used journals in the database</td><td></td></tr>\n",
       "</table></div>"
      ],
      "text/plain": [
       "<Table length=35>\n",
       "table_index schema_name ... utype \n",
       "   int32       object   ... object\n",
       "----------- ----------- ... ------\n",
       "         -1      public ...       \n",
       "         -1      public ...       \n",
       "         -1      public ...       \n",
       "         -1      public ...       \n",
       "         -1      public ...       \n",
       "         -1      public ...       \n",
       "         -1      public ...       \n",
       "         -1      public ...       \n",
       "         -1      public ...       \n",
       "        ...         ... ...    ...\n",
       "         -1      public ...       \n",
       "         -1      public ...       \n",
       "         29  TAP_SCHEMA ...       \n",
       "         30  TAP_SCHEMA ...       \n",
       "         31  TAP_SCHEMA ...       \n",
       "         32  TAP_SCHEMA ...       \n",
       "         33  TAP_SCHEMA ...       \n",
       "         -1      public ...       \n",
       "         -1      public ...       \n",
       "         -1      public ...       "
      ]
     },
     "execution_count": 20,
     "metadata": {},
     "output_type": "execute_result"
    }
   ],
   "source": [
    "tap_simbad.search(\"SELECT * FROM tables\").to_table()"
   ]
  },
  {
   "cell_type": "markdown",
   "metadata": {},
   "source": [
    "This ADQL query (`SELECT * FROM tables`) will work in every TAP service, since `tables` is one of the mandatory tables.\n",
    "\n",
    "Here, we find that SIMBAD is actually made of 35 tables. Some of them have a name that start by `TAP_SCHEMA`. These are the mandatory tables that describe the TAP service.\n",
    "\n",
    "An other query that will always work is to get the columns in one of the tables of a TAP service, since `columns` is also one of the mandatory tables. Let's retrieve the descriptions of the columns of the `basic` table."
   ]
  },
  {
   "cell_type": "code",
   "execution_count": 21,
   "metadata": {},
   "outputs": [
    {
     "data": {
      "text/html": [
       "<div><i>Table length=67</i>\n",
       "<table id=\"table139764497674352\" class=\"table-striped table-bordered table-condensed\">\n",
       "<thead><tr><th>column_index</th><th>table_name</th><th>column_name</th><th>datatype</th><th>arraysize</th><th>size</th><th>description</th><th>utype</th><th>unit</th><th>ucd</th><th>indexed</th><th>principal</th><th>std</th></tr></thead>\n",
       "<thead><tr><th>int32</th><th>object</th><th>object</th><th>object</th><th>int32</th><th>int32</th><th>object</th><th>object</th><th>object</th><th>object</th><th>int32</th><th>int32</th><th>int32</th></tr></thead>\n",
       "<tr><td>999</td><td>basic</td><td>otype_txt</td><td>VARCHAR</td><td>-1</td><td>-1</td><td>Object type</td><td></td><td></td><td>src.class</td><td>0</td><td>1</td><td>0</td></tr>\n",
       "<tr><td>1</td><td>basic</td><td>main_id</td><td>VARCHAR</td><td>-1</td><td>-1</td><td>Main identifier for an object</td><td></td><td></td><td>meta.id;meta.main</td><td>0</td><td>1</td><td>0</td></tr>\n",
       "<tr><td>6</td><td>basic</td><td>ra</td><td>DOUBLE</td><td>-1</td><td>-1</td><td>Right ascension</td><td></td><td>deg</td><td>pos.eq.ra;meta.main</td><td>0</td><td>1</td><td>0</td></tr>\n",
       "<tr><td>8</td><td>basic</td><td>dec</td><td>DOUBLE</td><td>-1</td><td>-1</td><td>Declination</td><td></td><td>deg</td><td>pos.eq.dec;meta.main</td><td>0</td><td>1</td><td>0</td></tr>\n",
       "<tr><td>37</td><td>basic</td><td>plx_prec</td><td>SMALLINT</td><td>-1</td><td>-1</td><td>Parallax precision</td><td></td><td></td><td></td><td>0</td><td>0</td><td>0</td></tr>\n",
       "<tr><td>76</td><td>basic</td><td>galdim_wavelength</td><td>CHAR</td><td>-1</td><td>1</td><td>Wavelength class for the origin of the Galaxy dimension</td><td></td><td></td><td>instr.bandpass;phys.angSize</td><td>0</td><td>0</td><td>0</td></tr>\n",
       "<tr><td>999</td><td>basic</td><td>rvz_wavelength</td><td>CHAR</td><td>-1</td><td>1</td><td>Wavelength class for the origin of the radial velocity/reshift</td><td></td><td></td><td>instr.bandpass;spect.dopplerVeloc.opt</td><td>0</td><td>0</td><td>0</td></tr>\n",
       "<tr><td>900</td><td>basic</td><td>oid</td><td>BIGINT</td><td>-1</td><td>-1</td><td>Object internal identifier</td><td></td><td></td><td>meta.record;meta.id</td><td>0</td><td>0</td><td>0</td></tr>\n",
       "<tr><td>2</td><td>basic</td><td>nbref</td><td>INTEGER</td><td>-1</td><td>-1</td><td>number of references</td><td></td><td></td><td>meta.bib;meta.number</td><td>0</td><td>0</td><td>0</td></tr>\n",
       "<tr><td>...</td><td>...</td><td>...</td><td>...</td><td>...</td><td>...</td><td>...</td><td>...</td><td>...</td><td>...</td><td>...</td><td>...</td><td>...</td></tr>\n",
       "<tr><td>27</td><td>basic</td><td>pmdec_prec</td><td>SMALLINT</td><td>-1</td><td>-1</td><td>Proper motion in DEC precision</td><td></td><td></td><td></td><td>0</td><td>0</td><td>0</td></tr>\n",
       "<tr><td>29</td><td>basic</td><td>pm_err_maj_prec</td><td>SMALLINT</td><td>-1</td><td>-1</td><td>Proper motion error major axis precision</td><td></td><td></td><td></td><td>0</td><td>0</td><td>0</td></tr>\n",
       "<tr><td>31</td><td>basic</td><td>pm_err_min_prec</td><td>SMALLINT</td><td>-1</td><td>-1</td><td>Proper motion error minor axis precision</td><td></td><td></td><td></td><td>0</td><td>0</td><td>0</td></tr>\n",
       "<tr><td>39</td><td>basic</td><td>plx_err_prec</td><td>SMALLINT</td><td>-1</td><td>-1</td><td>Parallax error precision</td><td></td><td></td><td></td><td>0</td><td>0</td><td>0</td></tr>\n",
       "<tr><td>43</td><td>basic</td><td>rvz_radvel_prec</td><td>SMALLINT</td><td>-1</td><td>-1</td><td>Radial velocity precision</td><td></td><td></td><td></td><td>0</td><td>0</td><td>0</td></tr>\n",
       "<tr><td>45</td><td>basic</td><td>rvz_redshift_prec</td><td>SMALLINT</td><td>-1</td><td>-1</td><td>redshift precision</td><td></td><td></td><td></td><td>0</td><td>0</td><td>0</td></tr>\n",
       "<tr><td>47</td><td>basic</td><td>rvz_err_prec</td><td>SMALLINT</td><td>-1</td><td>-1</td><td>Radial velocity / redshift error precision</td><td></td><td></td><td></td><td>0</td><td>0</td><td>0</td></tr>\n",
       "<tr><td>71</td><td>basic</td><td>galdim_majaxis_prec</td><td>SMALLINT</td><td>-1</td><td>-1</td><td>Angular size major axis precision</td><td></td><td></td><td></td><td>0</td><td>0</td><td>0</td></tr>\n",
       "<tr><td>73</td><td>basic</td><td>galdim_minaxis_prec</td><td>SMALLINT</td><td>-1</td><td>-1</td><td>Angular size minor axis precision</td><td></td><td></td><td></td><td>0</td><td>0</td><td>0</td></tr>\n",
       "<tr><td>77</td><td>basic</td><td>galdim_bibcode</td><td>CHAR</td><td>19</td><td>19</td><td>Galaxy dimension reference</td><td></td><td></td><td>meta.bib.bibcode;phys.angSize</td><td>0</td><td>0</td><td>0</td></tr>\n",
       "</table></div>"
      ],
      "text/plain": [
       "<Table length=67>\n",
       "column_index table_name     column_name     datatype ... indexed principal  std \n",
       "   int32       object          object        object  ...  int32    int32   int32\n",
       "------------ ---------- ------------------- -------- ... ------- --------- -----\n",
       "         999      basic           otype_txt  VARCHAR ...       0         1     0\n",
       "           1      basic             main_id  VARCHAR ...       0         1     0\n",
       "           6      basic                  ra   DOUBLE ...       0         1     0\n",
       "           8      basic                 dec   DOUBLE ...       0         1     0\n",
       "          37      basic            plx_prec SMALLINT ...       0         0     0\n",
       "          76      basic   galdim_wavelength     CHAR ...       0         0     0\n",
       "         999      basic      rvz_wavelength     CHAR ...       0         0     0\n",
       "         900      basic                 oid   BIGINT ...       0         0     0\n",
       "           2      basic               nbref  INTEGER ...       0         0     0\n",
       "         ...        ...                 ...      ... ...     ...       ...   ...\n",
       "          27      basic          pmdec_prec SMALLINT ...       0         0     0\n",
       "          29      basic     pm_err_maj_prec SMALLINT ...       0         0     0\n",
       "          31      basic     pm_err_min_prec SMALLINT ...       0         0     0\n",
       "          39      basic        plx_err_prec SMALLINT ...       0         0     0\n",
       "          43      basic     rvz_radvel_prec SMALLINT ...       0         0     0\n",
       "          45      basic   rvz_redshift_prec SMALLINT ...       0         0     0\n",
       "          47      basic        rvz_err_prec SMALLINT ...       0         0     0\n",
       "          71      basic galdim_majaxis_prec SMALLINT ...       0         0     0\n",
       "          73      basic galdim_minaxis_prec SMALLINT ...       0         0     0\n",
       "          77      basic      galdim_bibcode     CHAR ...       0         0     0"
      ]
     },
     "execution_count": 21,
     "metadata": {},
     "output_type": "execute_result"
    }
   ],
   "source": [
    "tap_simbad.search(\"SELECT * FROM TAP_SCHEMA.columns WHERE table_name = 'basic'\").to_table()"
   ]
  },
  {
   "cell_type": "markdown",
   "metadata": {},
   "source": [
    "The tables that don't start with `TAP_SCHEMA` are specific to each database.\n",
    "\n",
    "Let's go back to our question. How do we find which GRBs are in SIMBAD? First, we'll need to find how GRB's are called. To find which tables of SIMBAD offers a description of the object types, let's add a criteria to our first query:"
   ]
  },
  {
   "cell_type": "code",
   "execution_count": 22,
   "metadata": {},
   "outputs": [
    {
     "data": {
      "text/html": [
       "<div><i>Table length=5</i>\n",
       "<table id=\"table139763665137920\" class=\"table-striped table-bordered table-condensed\">\n",
       "<thead><tr><th>table_index</th><th>schema_name</th><th>table_name</th><th>table_type</th><th>description</th><th>utype</th></tr></thead>\n",
       "<thead><tr><th>int32</th><th>object</th><th>object</th><th>object</th><th>object</th><th>object</th></tr></thead>\n",
       "<tr><td>-1</td><td>public</td><td>alltypes</td><td>view</td><td>all object types concatenated with pipe</td><td></td></tr>\n",
       "<tr><td>-1</td><td>public</td><td>mesVar</td><td>table</td><td>Collection of stellar variability types and periods.</td><td></td></tr>\n",
       "<tr><td>-1</td><td>public</td><td>otypedef</td><td>table</td><td>all names and definitions for the object types</td><td></td></tr>\n",
       "<tr><td>-1</td><td>public</td><td>otypes</td><td>table</td><td>List of all object types associated with an object</td><td></td></tr>\n",
       "<tr><td>-1</td><td>public</td><td>mesSpT</td><td>table</td><td>Collection of spectral types.</td><td></td></tr>\n",
       "</table></div>"
      ],
      "text/plain": [
       "<Table length=5>\n",
       "table_index schema_name ... utype \n",
       "   int32       object   ... object\n",
       "----------- ----------- ... ------\n",
       "         -1      public ...       \n",
       "         -1      public ...       \n",
       "         -1      public ...       \n",
       "         -1      public ...       \n",
       "         -1      public ...       "
      ]
     },
     "execution_count": 22,
     "metadata": {},
     "output_type": "execute_result"
    }
   ],
   "source": [
    "tap_simbad.search(\"SELECT * FROM tables WHERE description LIKE '%type%'\").to_table()"
   ]
  },
  {
   "cell_type": "markdown",
   "metadata": {},
   "source": [
    "In ADQL, `%` means 'any character'. We learn that the definition of the object types in SIMBAD is in the table `otypedef`. Let's look at the first 5 records of the table to see what it looks like."
   ]
  },
  {
   "cell_type": "code",
   "execution_count": 23,
   "metadata": {},
   "outputs": [
    {
     "data": {
      "text/html": [
       "<div><i>Table length=5</i>\n",
       "<table id=\"table139763665127456\" class=\"table-striped table-bordered table-condensed\">\n",
       "<thead><tr><th>otype</th><th>label</th><th>description</th><th>comment</th><th>is_candidate</th><th>otype_shortname</th><th>otype_longname</th><th>path</th></tr></thead>\n",
       "<thead><tr><th>object</th><th>object</th><th>object</th><th>object</th><th>int16</th><th>object</th><th>object</th><th>object</th></tr></thead>\n",
       "<tr><td>XB?</td><td></td><td>X-ray Binary Candidate</td><td></td><td>0</td><td>XB?</td><td>X-ray Binary Candidate</td><td></td></tr>\n",
       "<tr><td>Pl?</td><td></td><td>Extra-solar Planet Candidate</td><td></td><td>0</td><td>Pl?</td><td>Extra-solar Planet Candidate</td><td></td></tr>\n",
       "<tr><td>RNe</td><td>RefNeb</td><td>Reflection Nebula</td><td></td><td>0</td><td>RNe</td><td>Reflection Nebula</td><td>ISM &gt; Cld &gt; GNe &gt; RNe</td></tr>\n",
       "<tr><td>LP?</td><td></td><td>Long-Period Variable Candidate</td><td></td><td>0</td><td>LP?</td><td>Long-Period Variable Candidate</td><td></td></tr>\n",
       "<tr><td>HB?</td><td></td><td>Horizontal Branch Star Candidate</td><td></td><td>0</td><td>HB?</td><td>Horizontal Branch Star Candidate</td><td></td></tr>\n",
       "</table></div>"
      ],
      "text/plain": [
       "<Table length=5>\n",
       "otype  label  ...          otype_longname                   path        \n",
       "object object ...              object                      object       \n",
       "------ ------ ... -------------------------------- ---------------------\n",
       "   XB?        ...           X-ray Binary Candidate                      \n",
       "   Pl?        ...     Extra-solar Planet Candidate                      \n",
       "   RNe RefNeb ...                Reflection Nebula ISM > Cld > GNe > RNe\n",
       "   LP?        ...   Long-Period Variable Candidate                      \n",
       "   HB?        ... Horizontal Branch Star Candidate                      "
      ]
     },
     "execution_count": 23,
     "metadata": {},
     "output_type": "execute_result"
    }
   ],
   "source": [
    "tap_simbad.search(\"SELECT TOP 5 * FROM otypedef\").to_table()"
   ]
  },
  {
   "cell_type": "markdown",
   "metadata": {},
   "source": [
    "We can now build an ADQL query to find the code `otype` (the first column) for Gamma Ray Bursts. Since only the columns `otype`, `description`, and `path` look interesting to us, let's do a query without `*` for the first time:"
   ]
  },
  {
   "cell_type": "code",
   "execution_count": 24,
   "metadata": {},
   "outputs": [
    {
     "data": {
      "text/html": [
       "<div><i>Table length=2</i>\n",
       "<table id=\"table139763665126832\" class=\"table-striped table-bordered table-condensed\">\n",
       "<thead><tr><th>otype</th><th>description</th><th>path</th></tr></thead>\n",
       "<thead><tr><th>object</th><th>object</th><th>object</th></tr></thead>\n",
       "<tr><td>gB</td><td>Gamma-ray Burst</td><td>gam &gt; gB</td></tr>\n",
       "<tr><td>gam</td><td>Gamma-ray Source</td><td>gam</td></tr>\n",
       "</table></div>"
      ],
      "text/plain": [
       "<Table length=2>\n",
       "otype    description      path  \n",
       "object      object       object \n",
       "------ ---------------- --------\n",
       "    gB  Gamma-ray Burst gam > gB\n",
       "   gam Gamma-ray Source      gam"
      ]
     },
     "execution_count": 24,
     "metadata": {},
     "output_type": "execute_result"
    }
   ],
   "source": [
    "tap_simbad.search(\"SELECT otype, description, path FROM otypedef WHERE description LIKE '%Gamma%'\").to_table()"
   ]
  },
  {
   "cell_type": "markdown",
   "metadata": {},
   "source": [
    "We got it. The code is `gB`. \n",
    "\n",
    "This information was extracted from one of SIMBAD's tables. We will use an other one in the next query. If you're interested in learning more about SIMBAD's structure, and how to build more complex ADQL queries for it, you can have a look at [SIMBAD's ADQL documentation](https://cds.unistra.fr/help/documentation/simbad-more/adql-simbad/), or the [documentation of the `astroquery.simbad` module](https://astroquery.readthedocs.io/en/latest/simbad/simbad.html#query-tap) that has a `query_tap` direct access.\n",
    "\n",
    "Let's now do a request on the `basic` table that contains all the basic information about the objects. `basic` has a lot on columns. You can inspect them with an ADQL query (`SELECT * FROM columns WHERE table_name = 'basic'`) but we already selected the coordinates (`ra`, `dec`), the object type (`otype`) and the number of articles that mention the GRB (`nbref`):"
   ]
  },
  {
   "cell_type": "code",
   "execution_count": 25,
   "metadata": {},
   "outputs": [
    {
     "data": {
      "text/html": [
       "<div><i>Table length=12449</i>\n",
       "<table id=\"table139763662225568\" class=\"table-striped table-bordered table-condensed\">\n",
       "<thead><tr><th>main_id</th><th>ra</th><th>dec</th><th>otype</th><th>nbref</th></tr></thead>\n",
       "<thead><tr><th></th><th>deg</th><th>deg</th><th></th><th></th></tr></thead>\n",
       "<thead><tr><th>object</th><th>float64</th><th>float64</th><th>object</th><th>int32</th></tr></thead>\n",
       "<tr><td>Fermi bn170510217</td><td>160.15391666666665</td><td>-39.21250000000001</td><td>gB</td><td>19</td></tr>\n",
       "<tr><td>GRB 060923B</td><td>238.19475</td><td>-30.90313888888888</td><td>gB</td><td>38</td></tr>\n",
       "<tr><td>Fermi bn121011469</td><td>260.2136249999999</td><td>41.11022222222222</td><td>gB</td><td>51</td></tr>\n",
       "<tr><td>GRB 060513</td><td>--</td><td>--</td><td>gB</td><td>2</td></tr>\n",
       "<tr><td>GRB 220103A</td><td>--</td><td>--</td><td>gB</td><td>2</td></tr>\n",
       "<tr><td>GRB 220104A</td><td>--</td><td>--</td><td>gB</td><td>4</td></tr>\n",
       "<tr><td>GRB 220108A</td><td>--</td><td>--</td><td>gB</td><td>1</td></tr>\n",
       "<tr><td>GRB 220107B</td><td>216.40670833333334</td><td>20.170638888888888</td><td>gB</td><td>9</td></tr>\n",
       "<tr><td>GRB 220107A</td><td>169.807</td><td>34.17063888888889</td><td>gB</td><td>22</td></tr>\n",
       "<tr><td>...</td><td>...</td><td>...</td><td>...</td><td>...</td></tr>\n",
       "<tr><td>GRB 051109B</td><td>345.4597083333333</td><td>38.67958611111111</td><td>gB</td><td>89</td></tr>\n",
       "<tr><td>Fermi bn090323002</td><td>190.7095</td><td>17.053305555555557</td><td>gB</td><td>225</td></tr>\n",
       "<tr><td>GRB 090426</td><td>189.08120833333334</td><td>32.984861111111115</td><td>gB</td><td>215</td></tr>\n",
       "<tr><td>Fermi bn121128212</td><td>300.59950000000003</td><td>54.29975</td><td>gB</td><td>110</td></tr>\n",
       "<tr><td>GRB 070714B</td><td>57.842916666666675</td><td>28.297583333333332</td><td>gB</td><td>221</td></tr>\n",
       "<tr><td>GRB 121024A</td><td>70.47212499999999</td><td>-12.290583333333334</td><td>gB</td><td>124</td></tr>\n",
       "<tr><td>Fermi bn151027166</td><td>272.4869583333333</td><td>61.35341666666666</td><td>gB</td><td>118</td></tr>\n",
       "<tr><td>GRB 041219</td><td>6.115416666666667</td><td>62.84277777777778</td><td>gB</td><td>226</td></tr>\n",
       "<tr><td>GRB 221009A</td><td>288.26604166666664</td><td>19.772972222222222</td><td>gB</td><td>271</td></tr>\n",
       "</table></div>"
      ],
      "text/plain": [
       "<Table length=12449>\n",
       "     main_id              ra                 dec         otype  nbref\n",
       "                         deg                 deg                     \n",
       "      object           float64             float64       object int32\n",
       "----------------- ------------------ ------------------- ------ -----\n",
       "Fermi bn170510217 160.15391666666665  -39.21250000000001     gB    19\n",
       "      GRB 060923B          238.19475  -30.90313888888888     gB    38\n",
       "Fermi bn121011469  260.2136249999999   41.11022222222222     gB    51\n",
       "       GRB 060513                 --                  --     gB     2\n",
       "      GRB 220103A                 --                  --     gB     2\n",
       "      GRB 220104A                 --                  --     gB     4\n",
       "      GRB 220108A                 --                  --     gB     1\n",
       "      GRB 220107B 216.40670833333334  20.170638888888888     gB     9\n",
       "      GRB 220107A            169.807   34.17063888888889     gB    22\n",
       "              ...                ...                 ...    ...   ...\n",
       "      GRB 051109B  345.4597083333333   38.67958611111111     gB    89\n",
       "Fermi bn090323002           190.7095  17.053305555555557     gB   225\n",
       "       GRB 090426 189.08120833333334  32.984861111111115     gB   215\n",
       "Fermi bn121128212 300.59950000000003            54.29975     gB   110\n",
       "      GRB 070714B 57.842916666666675  28.297583333333332     gB   221\n",
       "      GRB 121024A  70.47212499999999 -12.290583333333334     gB   124\n",
       "Fermi bn151027166  272.4869583333333   61.35341666666666     gB   118\n",
       "       GRB 041219  6.115416666666667   62.84277777777778     gB   226\n",
       "      GRB 221009A 288.26604166666664  19.772972222222222     gB   271"
      ]
     },
     "execution_count": 25,
     "metadata": {},
     "output_type": "execute_result"
    }
   ],
   "source": [
    "grbs_simbad = tap_simbad.search(\"\"\"SELECT main_id, ra, dec, otype, nbref FROM basic\n",
    "WHERE otype = 'gB'\"\"\").to_table()\n",
    "grbs_simbad"
   ]
  },
  {
   "cell_type": "markdown",
   "metadata": {},
   "source": [
    "There are currently 12449 GRBs in SIMBAD. There could be more when you'll execute the notebook. Some of them have position estimates, some don't. This is because SIMBAD is also a bibliographical database, it does not only map objects onto the sky, it also maps objects mentioned in papers. \n",
    "\n",
    "For example here, let's look at the GRB with the most citations (`nbref`)"
   ]
  },
  {
   "cell_type": "code",
   "execution_count": 26,
   "metadata": {},
   "outputs": [
    {
     "data": {
      "text/html": [
       "<div><i>Table length=12449</i>\n",
       "<table id=\"table139763662225568\" class=\"table-striped table-bordered table-condensed\">\n",
       "<thead><tr><th>main_id</th><th>ra</th><th>dec</th><th>otype</th><th>nbref</th></tr></thead>\n",
       "<thead><tr><th></th><th>deg</th><th>deg</th><th></th><th></th></tr></thead>\n",
       "<thead><tr><th>object</th><th>float64</th><th>float64</th><th>object</th><th>int32</th></tr></thead>\n",
       "<tr><td>GRB 990123</td><td>231.37083333333334</td><td>44.75</td><td>gB</td><td>993</td></tr>\n",
       "<tr><td>GRB 970508</td><td>103.455</td><td>79.27194444444444</td><td>gB</td><td>870</td></tr>\n",
       "<tr><td>GBS 1900+14</td><td>286.804</td><td>9.326</td><td>gB</td><td>866</td></tr>\n",
       "<tr><td>GRB 970228</td><td>75.44458333333334</td><td>11.781388888888888</td><td>gB</td><td>639</td></tr>\n",
       "<tr><td>GRB 060614</td><td>320.88391666666666</td><td>-53.02669444444444</td><td>gB</td><td>629</td></tr>\n",
       "<tr><td>GRB 021004</td><td>6.727833333333334</td><td>18.92822222222222</td><td>gB</td><td>550</td></tr>\n",
       "<tr><td>GRB 090510</td><td>333.5525</td><td>-26.597527777777778</td><td>gB</td><td>504</td></tr>\n",
       "<tr><td>GRB 990510</td><td>204.5318333333333</td><td>-80.49688888888889</td><td>gB</td><td>489</td></tr>\n",
       "<tr><td>GRB 080319B</td><td>217.92099999999994</td><td>36.30255555555555</td><td>gB</td><td>474</td></tr>\n",
       "<tr><td>...</td><td>...</td><td>...</td><td>...</td><td>...</td></tr>\n",
       "<tr><td>[KLK2001] 950510.91</td><td>331.25</td><td>-23.5</td><td>gB</td><td>1</td></tr>\n",
       "<tr><td>[KLK2001] 950713.78</td><td>342.75</td><td>-27.1</td><td>gB</td><td>1</td></tr>\n",
       "<tr><td>[KLK2001] 920510.17</td><td>185.0</td><td>-17.6</td><td>gB</td><td>1</td></tr>\n",
       "<tr><td>GRB 190619A</td><td>--</td><td>--</td><td>gB</td><td>1</td></tr>\n",
       "<tr><td>[STK2001] 11014b</td><td>192.75</td><td>35.9</td><td>gB</td><td>1</td></tr>\n",
       "<tr><td>[KLK2001] 940125.55</td><td>193.75</td><td>2.3</td><td>gB</td><td>1</td></tr>\n",
       "<tr><td>GRB 110201</td><td>--</td><td>--</td><td>gB</td><td>0</td></tr>\n",
       "<tr><td>GRB 811215A</td><td>--</td><td>--</td><td>gB</td><td>0</td></tr>\n",
       "<tr><td>GRB 090408A</td><td>--</td><td>--</td><td>gB</td><td>0</td></tr>\n",
       "</table></div>"
      ],
      "text/plain": [
       "<Table length=12449>\n",
       "      main_id               ra                 dec         otype  nbref\n",
       "                           deg                 deg                     \n",
       "       object            float64             float64       object int32\n",
       "------------------- ------------------ ------------------- ------ -----\n",
       "         GRB 990123 231.37083333333334               44.75     gB   993\n",
       "         GRB 970508            103.455   79.27194444444444     gB   870\n",
       "        GBS 1900+14            286.804               9.326     gB   866\n",
       "         GRB 970228  75.44458333333334  11.781388888888888     gB   639\n",
       "         GRB 060614 320.88391666666666  -53.02669444444444     gB   629\n",
       "         GRB 021004  6.727833333333334   18.92822222222222     gB   550\n",
       "         GRB 090510           333.5525 -26.597527777777778     gB   504\n",
       "         GRB 990510  204.5318333333333  -80.49688888888889     gB   489\n",
       "        GRB 080319B 217.92099999999994   36.30255555555555     gB   474\n",
       "                ...                ...                 ...    ...   ...\n",
       "[KLK2001] 950510.91             331.25               -23.5     gB     1\n",
       "[KLK2001] 950713.78             342.75               -27.1     gB     1\n",
       "[KLK2001] 920510.17              185.0               -17.6     gB     1\n",
       "        GRB 190619A                 --                  --     gB     1\n",
       "   [STK2001] 11014b             192.75                35.9     gB     1\n",
       "[KLK2001] 940125.55             193.75                 2.3     gB     1\n",
       "         GRB 110201                 --                  --     gB     0\n",
       "        GRB 811215A                 --                  --     gB     0\n",
       "        GRB 090408A                 --                  --     gB     0"
      ]
     },
     "execution_count": 26,
     "metadata": {},
     "output_type": "execute_result"
    }
   ],
   "source": [
    "grbs_simbad.sort(\"nbref\", reverse=True)\n",
    "grbs_simbad"
   ]
  },
  {
   "cell_type": "markdown",
   "metadata": {},
   "source": [
    "It looks like the \"most famous\" GRB is `GRB 990123`.\n",
    "\n",
    "And indeed, GRB 990123 is a gamma-ray burst which was detected on January 23, 1999. It was the first GRB for which a simultaneous optical flash was detected. \n",
    "In the dark hours of the morning of January 23, 1999, the Compton satellite recorded a gamma-ray burst that lasted for about a minute and a half. There was a peak of gamma and X-ray emission 25 seconds after the event was first detected, followed by a somewhat smaller peak 40 seconds after the beginning of the event. The emission then fizzled out in a series of small peaks over the next 50 seconds, and eight minutes after the event had faded to a hundredth of its maximum brightness. The burst was so strong that it ranked in the top 2% of all bursts detected.\n",
    "Image by the Keck telescope, and the 2.6 meter Nordic Optical Telescope in the Canary Islands, revealed absorption lines with a redshift of 1.6, implying a distance of 9 billion light-years.\n",
    "\n",
    "The second in the list, GRB 970508, is historically important as the second GRB (after GRB 970228) with a detected afterglow at other wavelengths, the first to have a direct redshift measurement of the afterglow, and the first to be detected at radio wavelengths.\n",
    "Astronomer Mark Metzger determined that GRB 970508 occurred at least 6 billion light years from Earth; this was the first measurement of the distance to a gamma-ray burst. Until this burst, astronomers had not reached a consensus regarding how far away GRBs occur from Earth. Some supported the idea that GRBs occur within the Milky Way, but are visibly faint because they are not highly energetic. Others concluded that GRBs occur in other galaxies at cosmological distances and are extremely energetic. Although the possibility of multiple types of GRBs meant that the two theories were not mutually exclusive, the distance measurement unequivocally placed the source of the GRB outside the Milky Way, effectively ending the debate.\n",
    "GRB 970508 was also the first burst with an observed radio frequency afterglow. By analyzing the fluctuating strength of the radio signals, astronomer Dale Frail calculated that the source of the radio waves had expanded almost at the speed of light. This provided strong evidence that GRBs are relativistically expanding explosions.\n",
    "\n",
    "### Adding tables to the ipyaladin view\n",
    "\n",
    "Let's add the GRBs from SIMBAD with an estimated position to the `ipyaladin` widget."
   ]
  },
  {
   "cell_type": "code",
   "execution_count": 27,
   "metadata": {},
   "outputs": [],
   "source": [
    "aladin.add_table(grbs_simbad, color=\"pink\", shape=\"cross\", name=\"simbad_grbs\")"
   ]
  },
  {
   "cell_type": "markdown",
   "metadata": {},
   "source": [
    "We immediately see that some fall within the XMM observations. This is nice, but GRBs have a short lifetime span and SIMBAD only has space information, not time. \n",
    "\n",
    "We will need to go to more specific data sources. To do so, let's find other TAP services that could have GRBs-specific information.\n",
    "\n",
    "#### But where do we find TAP links?? PyVO\n",
    "\n",
    "For this, we will use one extra-powerful tool: the Virtual Observatory registry. This is where any VO service is... registered! It is accessible through [web access](http://dc.g-vo.org/wirr/q/ui/fixed). It is also what TOPCat uses behind the scenes when you're looking for a resource. Here, we will access it thanks to `PyVO`.\n",
    "\n",
    "The pyVO registry module works with constraints that you can define and then apply to a query. The most common ones are:\n",
    "\n",
    "- `FreeText`\n",
    "- `Waveband`\n",
    "- `ServiceType`\n",
    "- `Author`\n",
    "- `UCD`\n",
    "\n",
    "But you can find a lot of other ones on the [registry module's documentation](https://pyvo.readthedocs.io/en/latest/registry/index.html).\n",
    "\n",
    "#### How do we specifically look for time information?? The UCD standard\n",
    "\n",
    "UCD means Unified Content Descriptor and is a description of the content of the columns of a VO resource.\n",
    "\n",
    "You can get the UCD corresponding to a word on the [UCD Builder page](https://cds.unistra.fr//UCD/cgi-bin/descr2ucd). Here if we enter `time` we get the suggestion to use `time.epoch` as an UCD. Let's try that in the registry. A more complete documentation about UCD can be found on the [VO website](https://ivoa.net/documents/REC/UCD/UCD-20050812.html#ToC9)."
   ]
  },
  {
   "cell_type": "code",
   "execution_count": 28,
   "metadata": {},
   "outputs": [
    {
     "data": {
      "text/plain": [
       "<DALResultsTable length=166>\n",
       "             ivoid              ...\n",
       "                                ...\n",
       "             object             ...\n",
       "------------------------------- ...\n",
       "       ivo://cds.vizier/b/swift ...\n",
       "        ivo://cds.vizier/ix/20a ...\n",
       "         ivo://cds.vizier/ix/36 ...\n",
       "         ivo://cds.vizier/ix/51 ...\n",
       "ivo://cds.vizier/j/a+a/438/1175 ...\n",
       "  ivo://cds.vizier/j/a+a/458/21 ...\n",
       " ivo://cds.vizier/j/a+a/473/347 ...\n",
       " ivo://cds.vizier/j/a+a/530/a21 ...\n",
       " ivo://cds.vizier/j/a+a/535/a57 ...\n",
       "                            ... ...\n",
       "   ivo://nasa.heasarc/fermilgrb ...\n",
       "      ivo://nasa.heasarc/gusbad ...\n",
       "    ivo://nasa.heasarc/hete2gcn ...\n",
       "    ivo://nasa.heasarc/hete2grb ...\n",
       "  ivo://nasa.heasarc/intspiagrb ...\n",
       "      ivo://nasa.heasarc/ipngrb ...\n",
       "      ivo://nasa.heasarc/pvogrb ...\n",
       "    ivo://nasa.heasarc/rssgrbag ...\n",
       "    ivo://nasa.heasarc/sterngrb ..."
      ]
     },
     "execution_count": 28,
     "metadata": {},
     "output_type": "execute_result"
    }
   ],
   "source": [
    "# we first define text, servicetype and UCD constraints\n",
    "text_constraint = pyvo.registry.Freetext(\"Gamma\", \"Ray\", \"Burst\")\n",
    "service_type_constraint = pyvo.registry.Servicetype(\"tap\").include_auxiliary_services()\n",
    "ucd_constraint_time = pyvo.registry.UCD(\"time.epoch\")\n",
    "\n",
    "\n",
    "tap_services_GRBs = pyvo.registry.search(text_constraint, service_type_constraint, ucd_constraint_time)\n",
    "tap_services_GRBs"
   ]
  },
  {
   "cell_type": "code",
   "execution_count": 29,
   "metadata": {},
   "outputs": [
    {
     "data": {
      "text/plain": [
       "('ivoid',\n",
       " 'res_type',\n",
       " 'short_name',\n",
       " 'res_title',\n",
       " 'content_level',\n",
       " 'res_description',\n",
       " 'reference_url',\n",
       " 'creator_seq',\n",
       " 'created',\n",
       " 'updated',\n",
       " 'rights',\n",
       " 'content_type',\n",
       " 'source_format',\n",
       " 'source_value',\n",
       " 'region_of_regard',\n",
       " 'waveband',\n",
       " 'access_urls',\n",
       " 'standard_ids',\n",
       " 'intf_types',\n",
       " 'intf_roles',\n",
       " 'cap_descriptions')"
      ]
     },
     "execution_count": 29,
     "metadata": {},
     "output_type": "execute_result"
    }
   ],
   "source": [
    "tap_services_GRBs.fieldnames"
   ]
  },
  {
   "cell_type": "code",
   "execution_count": 30,
   "metadata": {},
   "outputs": [
    {
     "data": {
      "text/html": [
       "<div><i>Table length=166</i>\n",
       "<table id=\"table139763658429232\" class=\"table-striped table-bordered table-condensed\">\n",
       "<thead><tr><th>res_title</th><th>short_name</th></tr></thead>\n",
       "<thead><tr><th>object</th><th>object</th></tr></thead>\n",
       "<tr><td>Swift Master Catalog</td><td>B/swift</td></tr>\n",
       "<tr><td>The Fourth BATSE Burst Revised Catalog</td><td>IX/20A</td></tr>\n",
       "<tr><td>GRANAT/PHEBUS catalog of cosmic gamma-ray bursts</td><td>IX/36</td></tr>\n",
       "<tr><td>GRB list (1990-2014)</td><td>IX/51</td></tr>\n",
       "<tr><td>First INTEGRAL SPI-ACS Gamma-Ray Burst Catalogue</td><td>J/A+A/438/1175</td></tr>\n",
       "<tr><td>INTEGRAL burst observations of 4U 1728-34</td><td>J/A+A/458/21</td></tr>\n",
       "<tr><td>BeppoSAX complete catalogue of GRBs</td><td>J/A+A/473/347</td></tr>\n",
       "<tr><td>Spectral properties of 438 GRBs</td><td>J/A+A/530/A21</td></tr>\n",
       "<tr><td>g&apos;r&apos;i&apos;z&apos;JH light curves of GRB 091127</td><td>J/A+A/535/A57</td></tr>\n",
       "<tr><td>...</td><td>...</td></tr>\n",
       "<tr><td>Fermi GBM Solar Flare Catalog</td><td>FERMIGSOL</td></tr>\n",
       "<tr><td>Fermi LAT Second Gamma-Ray Burst Catalog</td><td>FERMILGRB</td></tr>\n",
       "<tr><td>GRBs Uniformly Selected from BATSE Archival Data (Version 2.1)</td><td>BATSE/GUSBAD</td></tr>\n",
       "<tr><td>HETE-2 GCN Triggers Catalog</td><td>HETE2GCN</td></tr>\n",
       "<tr><td>HETE-2 Gamma-Ray Bursts</td><td>HETE2GRB</td></tr>\n",
       "<tr><td>INTEGRAL First SPI-ACS Gamma-Ray Burst Catalog</td><td>INTSPIAGRB</td></tr>\n",
       "<tr><td>Gamma-Ray Bursts from the Interplanetary Network</td><td>GRB/IPN</td></tr>\n",
       "<tr><td>PVO Gamma-Ray Bursts</td><td>PVOGRB</td></tr>\n",
       "<tr><td>Radio-Selected Gamma-Ray Burst Afterglow Catalog</td><td>RSSGRBAG</td></tr>\n",
       "<tr><td>Stern et al. (2001) BATSE Gamma-Ray Burst Catalog</td><td>Stern</td></tr>\n",
       "</table></div>"
      ],
      "text/plain": [
       "<Table length=166>\n",
       "                          res_title                              short_name  \n",
       "                            object                                 object    \n",
       "-------------------------------------------------------------- --------------\n",
       "                                          Swift Master Catalog        B/swift\n",
       "                        The Fourth BATSE Burst Revised Catalog         IX/20A\n",
       "              GRANAT/PHEBUS catalog of cosmic gamma-ray bursts          IX/36\n",
       "                                          GRB list (1990-2014)          IX/51\n",
       "              First INTEGRAL SPI-ACS Gamma-Ray Burst Catalogue J/A+A/438/1175\n",
       "                     INTEGRAL burst observations of 4U 1728-34   J/A+A/458/21\n",
       "                           BeppoSAX complete catalogue of GRBs  J/A+A/473/347\n",
       "                               Spectral properties of 438 GRBs  J/A+A/530/A21\n",
       "                         g'r'i'z'JH light curves of GRB 091127  J/A+A/535/A57\n",
       "                                                           ...            ...\n",
       "                                 Fermi GBM Solar Flare Catalog      FERMIGSOL\n",
       "                      Fermi LAT Second Gamma-Ray Burst Catalog      FERMILGRB\n",
       "GRBs Uniformly Selected from BATSE Archival Data (Version 2.1)   BATSE/GUSBAD\n",
       "                                   HETE-2 GCN Triggers Catalog       HETE2GCN\n",
       "                                       HETE-2 Gamma-Ray Bursts       HETE2GRB\n",
       "                INTEGRAL First SPI-ACS Gamma-Ray Burst Catalog     INTSPIAGRB\n",
       "              Gamma-Ray Bursts from the Interplanetary Network        GRB/IPN\n",
       "                                          PVO Gamma-Ray Bursts         PVOGRB\n",
       "              Radio-Selected Gamma-Ray Burst Afterglow Catalog       RSSGRBAG\n",
       "             Stern et al. (2001) BATSE Gamma-Ray Burst Catalog          Stern"
      ]
     },
     "execution_count": 30,
     "metadata": {},
     "output_type": "execute_result"
    }
   ],
   "source": [
    "tap_services_GRBs.to_table()[[\"res_title\", \"short_name\"]]"
   ]
  },
  {
   "cell_type": "markdown",
   "metadata": {},
   "source": [
    "We find more than 160 services that correspond to our criteria. We can inspect them further by reading their descriptions. Let's look at the first one for example:"
   ]
  },
  {
   "cell_type": "code",
   "execution_count": 31,
   "metadata": {},
   "outputs": [
    {
     "name": "stdout",
     "output_type": "stream",
     "text": [
      "Swift Master Catalog\n",
      "Short Name: B/swift\n",
      "IVOA Identifier: ivo://cds.vizier/b/swift\n",
      "Access modes: tap#aux\n",
      "- tap#aux: http://tapvizier.cds.unistra.fr/TAPVizieR/tap\n",
      "- tap#aux: http://tapvizier.cds.unistra.fr/TAPVizieR/tap\n",
      "\n",
      "This table records high-level information for each Swift observation and\n",
      "provides access to the data archive. Each record is associated with a single\n",
      "observation that contains data from all instruments on board Swift. The BAT is\n",
      "the large field of view instrument and operates in the 10-300 keV energy band.\n",
      "The narrow field instruments, XRT and UVOT, operate in the X-ray and\n",
      "UV/optical regime, respectively. An observation is defined as a collection of\n",
      "snapshots, where a snapshot is defined as the time spent observing the same\n",
      "position continuously. Because of observing constraints, the length of a\n",
      "snapshot can be shorter than a single orbit and it can be interrupted because\n",
      "the satellite will point in a different direction of the sky or because the\n",
      "time allocated to that observation ends. The typical Swift observing strategy\n",
      "for a Gamma Ray Burst (GRB) and/or afterglow, consists of a serious of\n",
      "observations aimed at following the GRB and its afterglow evolution. This\n",
      "strategy is achieved with two different type of observations named Automatic\n",
      "Targets and Pre-Planned Targets. The Automatic Target is initiated on board\n",
      "soon after an event is triggered by the BAT. The Figure of Merit (FOM)\n",
      "algorithm, part of the observatory's autonomy, decides if it is worth\n",
      "requesting a slew maneuver to point the narrow field instruments (NFI) on\n",
      "Swift, XRT and UVOT, in the direction of the trigger. If the conditions to\n",
      "slew to the new position are satisfied, the Automatic Target observation takes\n",
      "place; all the instruments have a pre-set standard configuration of operating\n",
      "modes and filters and about 20000 seconds on source will be collected. The\n",
      "Pre-Planned Target observations instead are initiated from the ground once the\n",
      "trigger is known. These observations are planned on ground and uploaded onto\n",
      "the spacecraft.\n",
      "\n",
      "Waveband Coverage: x-ray, uv\n",
      "\n",
      "Source: The High Energy Astrophysics Science Archive Research Center\n",
      "Authors: Nasa,  HEASARC\n",
      "More info: https://cdsarc.cds.unistra.fr/viz-bin/cat/B/swift\n"
     ]
    }
   ],
   "source": [
    "tap_services_GRBs[0].describe(verbose=True)"
   ]
  },
  {
   "cell_type": "markdown",
   "metadata": {},
   "source": [
    "If we were doind our research now, we'd either add more constraints on the words, or wavebands. And then we'd read all these abstracts to select an interresting catalog. We can also retrieve the number of sources in the catalogs by doing (here for the first record that we just printed):"
   ]
  },
  {
   "cell_type": "code",
   "execution_count": 36,
   "metadata": {},
   "outputs": [],
   "source": [
    "tap_vizier = pyvo.dal.tap.TAPService(\"https://tapvizier.cds.unistra.fr/TAPVizieR/tap\")"
   ]
  },
  {
   "cell_type": "code",
   "execution_count": 35,
   "metadata": {},
   "outputs": [
    {
     "data": {
      "text/html": [
       "<div><i>Table length=1</i>\n",
       "<table id=\"table139763629270272\" class=\"table-striped table-bordered table-condensed\">\n",
       "<thead><tr><th>schema_name</th><th>table_name</th><th>table_type</th><th>description</th><th>utype</th><th>nrows</th></tr></thead>\n",
       "<thead><tr><th>object</th><th>object</th><th>object</th><th>object</th><th>object</th><th>object</th></tr></thead>\n",
       "<tr><td>B_extern</td><td>B/swift/swiftlog</td><td>table</td><td>SWIFT logs ( Nasa, HEASARC)</td><td></td><td>393273</td></tr>\n",
       "</table></div>"
      ],
      "text/plain": [
       "<Table length=1>\n",
       "schema_name    table_name    table_type ... utype  nrows \n",
       "   object        object        object   ... object object\n",
       "----------- ---------------- ---------- ... ------ ------\n",
       "   B_extern B/swift/swiftlog      table ...        393273"
      ]
     },
     "execution_count": 35,
     "metadata": {},
     "output_type": "execute_result"
    }
   ],
   "source": [
    "tap_vizier.search(\"SELECT * from tables where table_name like '%B/swift%'\").to_table()"
   ]
  },
  {
   "cell_type": "markdown",
   "metadata": {},
   "source": [
    "And we see that, for example, this swift catalog has 393273 records! Here, let's focus on the catalog `IX/51` which aggregates GRBs from a lot of missions (Fermi, Swift, Agile, ...)"
   ]
  },
  {
   "cell_type": "code",
   "execution_count": 32,
   "metadata": {},
   "outputs": [
    {
     "name": "stdout",
     "output_type": "stream",
     "text": [
      "GRB list (1990-2014)\n",
      "Short Name: IX/51\n",
      "IVOA Identifier: ivo://cds.vizier/ix/51\n",
      "Access modes: tap#aux\n",
      "- tap#aux: http://tapvizier.cds.unistra.fr/TAPVizieR/tap\n",
      "\n",
      "The next generation interferometric radio telescope, the Square Kilometre\n",
      "Array (SKA), which will be the most sensitive and largest radio telescope ever\n",
      "constructed, could greatly contribute to the detection, survey and\n",
      "characterization of Gamma Ray Bursts (GRBs). By the SKA, it will be possible\n",
      "to perform the follow up of GRBs even for several months. This approach would\n",
      "be extremely useful to extend the Spectrum Energetic Distribution (SED) from\n",
      "the gamma to the to radio band and would increase the number of radio\n",
      "detectable GRBs. In principle, the SKA could help to understand the physics of\n",
      "GRBs by setting constraints on theoretical models. This goal could be achieved\n",
      "by taking into account multiple observations at different wavelengths in order\n",
      "to obtain a deeper insight of the sources. Here, we present an estimation of\n",
      "GRB radio detections, showing that the GRBs can really be observed by the SKA.\n",
      "The approach that we present consists in determining blind detection rates\n",
      "derived by a very large sample consisting of merging several GRB catalogues\n",
      "observed by current missions as Swift, Fermi, Agile and INTEGRAL and by\n",
      "previous missions as BeppoSAX, CGRO, GRANAT, HETE-2, Ulysses and Wind. The\n",
      "final catalogue counts 7516 distinct sources. We compute the fraction of GRBs\n",
      "that could be observed by the SKA at high and low frequencies, above its\n",
      "observable sky. Considering the planned SKA sensitivity and through an\n",
      "extrapolation based on previous works and observations, we deduce the minimum\n",
      "fluence in the range 15-150keV. This is the energy interval where a GRB should\n",
      "emit to be detectable in the radio band by the SKA. Results seem consistent\n",
      "with observational capabilities.\n",
      "\n",
      "Waveband Coverage: gamma-ray\n",
      "\n",
      "Source: 2016Ap&SS.361..279R\n",
      "Authors: Ruggeri A.C.,  Capozziello S.\n",
      "Alternative identifier(s): bibcode:2017yCat.9051....0R\n",
      "More info: https://cdsarc.cds.unistra.fr/viz-bin/cat/IX/51\n"
     ]
    }
   ],
   "source": [
    "tap_services_GRBs[\"IX/51\"].describe(verbose=True)"
   ]
  },
  {
   "cell_type": "markdown",
   "metadata": {},
   "source": [
    "We can find the tables of this catalog by using the generic table from `TAP_SCHEMA`"
   ]
  },
  {
   "cell_type": "code",
   "execution_count": 38,
   "metadata": {},
   "outputs": [
    {
     "data": {
      "text/html": [
       "<div><i>Table length=1</i>\n",
       "<table id=\"table139763630551488\" class=\"table-striped table-bordered table-condensed\">\n",
       "<thead><tr><th>schema_name</th><th>table_name</th><th>table_type</th><th>description</th><th>utype</th><th>nrows</th></tr></thead>\n",
       "<thead><tr><th>object</th><th>object</th><th>object</th><th>object</th><th>object</th><th>object</th></tr></thead>\n",
       "<tr><td>IX_HE</td><td>IX/51/table2</td><td>table</td><td>Collection and merging of all catalogues mentioned in the work ( Ruggeri A.C., Capozziello S.)</td><td></td><td>7516</td></tr>\n",
       "</table></div>"
      ],
      "text/plain": [
       "<Table length=1>\n",
       "schema_name  table_name  table_type ... utype  nrows \n",
       "   object      object      object   ... object object\n",
       "----------- ------------ ---------- ... ------ ------\n",
       "      IX_HE IX/51/table2      table ...          7516"
      ]
     },
     "execution_count": 38,
     "metadata": {},
     "output_type": "execute_result"
    }
   ],
   "source": [
    "tap_vizier.search(\"SELECT * FROM tables where table_name LIKE '%IX/51%'\").to_table()"
   ]
  },
  {
   "cell_type": "markdown",
   "metadata": {},
   "source": [
    "We find that the name that we got from the registry was one one the `schema_name` in VizieR. Remember, in SIMBAD there were two schemas, the mandatory `TAP_SCHEMA` and `basic`.\n",
    "\n",
    "The name of the table is `IX/51/table2`.\n",
    "\n",
    "It is usually good practice to check the size of a table before downloading it:"
   ]
  },
  {
   "cell_type": "code",
   "execution_count": 39,
   "metadata": {},
   "outputs": [
    {
     "data": {
      "text/plain": [
       "<DALResultsTable length=1>\n",
       "COUNT_ALL\n",
       "  int64  \n",
       "---------\n",
       "     7516"
      ]
     },
     "execution_count": 39,
     "metadata": {},
     "output_type": "execute_result"
    }
   ],
   "source": [
    "# access to vizier metadata\n",
    "count = tap_vizier.search('SELECT count(*) from \"IX/51/table2\"')\n",
    "count"
   ]
  },
  {
   "cell_type": "markdown",
   "metadata": {},
   "source": [
    "`7516` lines is quite reasonable. Let's download it."
   ]
  },
  {
   "cell_type": "code",
   "execution_count": 103,
   "metadata": {},
   "outputs": [
    {
     "data": {
      "text/html": [
       "<div><i>Table length=7516</i>\n",
       "<table id=\"table139763482378192\" class=\"table-striped table-bordered table-condensed\">\n",
       "<thead><tr><th>recno</th><th>RAJ2000</th><th>DEJ2000</th><th>Date</th><th>Cat</th><th>GRB</th></tr></thead>\n",
       "<thead><tr><th></th><th>deg</th><th>deg</th><th>&apos;Y-M-D,h:m:s&apos;</th><th></th><th></th></tr></thead>\n",
       "<thead><tr><th>int32</th><th>float64</th><th>float64</th><th>float64</th><th>object</th><th>object</th></tr></thead>\n",
       "<tr><td>5223</td><td>47.32</td><td>2.738</td><td>2452641.36367</td><td>K/W</td><td>030101_T74621</td></tr>\n",
       "<tr><td>4393</td><td>42.3</td><td>2.4</td><td>2451347.70331</td><td>BNT</td><td>GRB</td></tr>\n",
       "<tr><td>4440</td><td>45.5</td><td>3.5</td><td>2451372.51611</td><td>BNT</td><td>GRB</td></tr>\n",
       "<tr><td>5153</td><td>46.362</td><td>3.825</td><td>2452243.76361</td><td>HET</td><td>GRB011130</td></tr>\n",
       "<tr><td>2168</td><td>45.72</td><td>6.13</td><td>2449888.53095</td><td>BT</td><td>4B950620</td></tr>\n",
       "<tr><td>3114</td><td>45.63</td><td>8.35</td><td>2450542.16201</td><td>BT</td><td>GRB970403-</td></tr>\n",
       "<tr><td>232</td><td>53.2</td><td>7.0</td><td>2448496.19213</td><td>BNT</td><td>GRB</td></tr>\n",
       "<tr><td>2193</td><td>49.5</td><td>10.0</td><td>2449901.85347</td><td>BNT</td><td>GRB</td></tr>\n",
       "<tr><td>2236</td><td>51.09</td><td>14.06</td><td>2449939.49473</td><td>BT</td><td>4B950809</td></tr>\n",
       "<tr><td>...</td><td>...</td><td>...</td><td>...</td><td>...</td><td>...</td></tr>\n",
       "<tr><td>7442</td><td>315.26</td><td>-8.52</td><td>2456694.77515</td><td>Fer</td><td>GRB140206275</td></tr>\n",
       "<tr><td>3733</td><td>313.6</td><td>-8.1</td><td>2450932.73719</td><td>BNT</td><td>GRB</td></tr>\n",
       "<tr><td>2810</td><td>320.1</td><td>-5.06</td><td>2450333.83235</td><td>BT</td><td>GRB960907-</td></tr>\n",
       "<tr><td>1291</td><td>315.9</td><td>-5.1</td><td>2449267.69</td><td>BNT</td><td>GRB</td></tr>\n",
       "<tr><td>7072</td><td>313.86</td><td>-4.38</td><td>2456223.82242</td><td>Fer</td><td>GRB121023322</td></tr>\n",
       "<tr><td>4733</td><td>312.1</td><td>-3.8</td><td>2451556.13248</td><td>BNT</td><td>GRB</td></tr>\n",
       "<tr><td>523</td><td>315.14</td><td>-4.3</td><td>2448710.38875</td><td>BT</td><td>4B920328</td></tr>\n",
       "<tr><td>4148</td><td>315.85</td><td>-1.78</td><td>2451211.64968</td><td>BeS</td><td>990202A</td></tr>\n",
       "<tr><td>1611</td><td>313.9</td><td>-2.4</td><td>2449486.24132</td><td>BNT</td><td>GRB</td></tr>\n",
       "</table></div>"
      ],
      "text/plain": [
       "<Table length=7516>\n",
       "recno RAJ2000 DEJ2000      Date      Cat        GRB     \n",
       "        deg     deg   'Y-M-D,h:m:s'                     \n",
       "int32 float64 float64    float64    object     object   \n",
       "----- ------- ------- ------------- ------ -------------\n",
       " 5223   47.32   2.738 2452641.36367    K/W 030101_T74621\n",
       " 4393    42.3     2.4 2451347.70331    BNT           GRB\n",
       " 4440    45.5     3.5 2451372.51611    BNT           GRB\n",
       " 5153  46.362   3.825 2452243.76361    HET     GRB011130\n",
       " 2168   45.72    6.13 2449888.53095     BT      4B950620\n",
       " 3114   45.63    8.35 2450542.16201     BT    GRB970403-\n",
       "  232    53.2     7.0 2448496.19213    BNT           GRB\n",
       " 2193    49.5    10.0 2449901.85347    BNT           GRB\n",
       " 2236   51.09   14.06 2449939.49473     BT      4B950809\n",
       "  ...     ...     ...           ...    ...           ...\n",
       " 7442  315.26   -8.52 2456694.77515    Fer  GRB140206275\n",
       " 3733   313.6    -8.1 2450932.73719    BNT           GRB\n",
       " 2810   320.1   -5.06 2450333.83235     BT    GRB960907-\n",
       " 1291   315.9    -5.1    2449267.69    BNT           GRB\n",
       " 7072  313.86   -4.38 2456223.82242    Fer  GRB121023322\n",
       " 4733   312.1    -3.8 2451556.13248    BNT           GRB\n",
       "  523  315.14    -4.3 2448710.38875     BT      4B920328\n",
       " 4148  315.85   -1.78 2451211.64968    BeS       990202A\n",
       " 1611   313.9    -2.4 2449486.24132    BNT           GRB"
      ]
     },
     "execution_count": 103,
     "metadata": {},
     "output_type": "execute_result"
    }
   ],
   "source": [
    "grb_list = tap_vizier.search('SELECT * from \"IX/51/table2\"').to_table()\n",
    "grb_list"
   ]
  },
  {
   "cell_type": "code",
   "execution_count": 104,
   "metadata": {},
   "outputs": [
    {
     "data": {
      "text/html": [
       "<div><i>Table length=7516</i>\n",
       "<table id=\"table139763482378192\" class=\"table-striped table-bordered table-condensed\">\n",
       "<thead><tr><th>recno</th><th>RAJ2000</th><th>DEJ2000</th><th>Date</th><th>Cat</th><th>GRB</th><th>astropy_time</th></tr></thead>\n",
       "<thead><tr><th></th><th>deg</th><th>deg</th><th>&apos;Y-M-D,h:m:s&apos;</th><th></th><th></th><th></th></tr></thead>\n",
       "<thead><tr><th>int32</th><th>float64</th><th>float64</th><th>float64</th><th>object</th><th>object</th><th>object</th></tr></thead>\n",
       "<tr><td>1</td><td>174.68</td><td>-44.32</td><td>2447910.23618</td><td>GRA</td><td>GRB900118</td><td>1990-01-18 17:40:05.952001</td></tr>\n",
       "<tr><td>2</td><td>91.16</td><td>-82.01</td><td>2447912.35941</td><td>GRA</td><td>GRB900120</td><td>1990-01-20 20:37:33.024003</td></tr>\n",
       "<tr><td>3</td><td>113.28</td><td>27.89</td><td>2447914.57098</td><td>GRA</td><td>GRB900123A</td><td>1990-01-23 01:42:12.671987</td></tr>\n",
       "<tr><td>4</td><td>357.19</td><td>-38.56</td><td>2447915.28091</td><td>GRA</td><td>GRB900123B</td><td>1990-01-23 18:44:30.624018</td></tr>\n",
       "<tr><td>5</td><td>131.63</td><td>-38.18</td><td>2447918.25309</td><td>GRA</td><td>GRB900126</td><td>1990-01-26 18:04:26.975981</td></tr>\n",
       "<tr><td>6</td><td>338.04</td><td>35.36</td><td>2447944.99763</td><td>GRA</td><td>GRB900222</td><td>1990-02-22 11:56:35.232010</td></tr>\n",
       "<tr><td>7</td><td>124.58</td><td>38.84</td><td>2447958.89725</td><td>GRA</td><td>GRB900308A</td><td>1990-03-08 09:32:02.399993</td></tr>\n",
       "<tr><td>8</td><td>323.25</td><td>-31.78</td><td>2447977.93366</td><td>GRA</td><td>GRB900327</td><td>1990-03-27 10:24:28.224008</td></tr>\n",
       "<tr><td>9</td><td>206.92</td><td>-12.25</td><td>2447986.24625</td><td>GRA</td><td>GRB900404</td><td>1990-04-04 17:54:35.999987</td></tr>\n",
       "<tr><td>...</td><td>...</td><td>...</td><td>...</td><td>...</td><td>...</td><td>...</td></tr>\n",
       "<tr><td>7508</td><td>319.172</td><td>48.975</td><td>2456779.8544</td><td>Swi</td><td>140502A</td><td>2014-05-02 08:30:20.160006</td></tr>\n",
       "<tr><td>7509</td><td>276.806</td><td>-55.556</td><td>2456784.38028</td><td>Swi</td><td>140506A</td><td>2014-05-06 21:07:36.192014</td></tr>\n",
       "<tr><td>7510</td><td>255.467</td><td>46.78</td><td>2456785.62772</td><td>Fer</td><td>GRB140508128</td><td>2014-05-08 03:03:55.008019</td></tr>\n",
       "<tr><td>7511</td><td>350.53</td><td>-63.78</td><td>2456785.67895</td><td>Fer</td><td>GRB140508179</td><td>2014-05-08 04:17:41.280008</td></tr>\n",
       "<tr><td>7512</td><td>272.1</td><td>72.53</td><td>2456786.12877</td><td>Fer</td><td>GRB140508629</td><td>2014-05-08 15:05:25.727986</td></tr>\n",
       "<tr><td>7513</td><td>46.564</td><td>-62.662</td><td>2456786.59876</td><td>Swi</td><td>140509A</td><td>2014-05-09 02:22:12.863997</td></tr>\n",
       "<tr><td>7514</td><td>329.76</td><td>-30.06</td><td>2456788.59527</td><td>Fer</td><td>GRB140511095</td><td>2014-05-11 02:17:11.327994</td></tr>\n",
       "<tr><td>7515</td><td>26.25</td><td>-24.91</td><td>2456789.49525</td><td>Fer</td><td>GRB140511995</td><td>2014-05-11 23:53:09.600013</td></tr>\n",
       "<tr><td>7516</td><td>289.366</td><td>-15.087</td><td>2456790.31376</td><td>Swi</td><td>140512A</td><td>2014-05-12 19:31:48.863984</td></tr>\n",
       "</table></div>"
      ],
      "text/plain": [
       "<Table length=7516>\n",
       "recno RAJ2000 DEJ2000 ...  Cat       GRB             astropy_time       \n",
       "        deg     deg   ...                                               \n",
       "int32 float64 float64 ... object    object              object          \n",
       "----- ------- ------- ... ------ ------------ --------------------------\n",
       "    1  174.68  -44.32 ...    GRA    GRB900118 1990-01-18 17:40:05.952001\n",
       "    2   91.16  -82.01 ...    GRA    GRB900120 1990-01-20 20:37:33.024003\n",
       "    3  113.28   27.89 ...    GRA   GRB900123A 1990-01-23 01:42:12.671987\n",
       "    4  357.19  -38.56 ...    GRA   GRB900123B 1990-01-23 18:44:30.624018\n",
       "    5  131.63  -38.18 ...    GRA    GRB900126 1990-01-26 18:04:26.975981\n",
       "    6  338.04   35.36 ...    GRA    GRB900222 1990-02-22 11:56:35.232010\n",
       "    7  124.58   38.84 ...    GRA   GRB900308A 1990-03-08 09:32:02.399993\n",
       "    8  323.25  -31.78 ...    GRA    GRB900327 1990-03-27 10:24:28.224008\n",
       "    9  206.92  -12.25 ...    GRA    GRB900404 1990-04-04 17:54:35.999987\n",
       "  ...     ...     ... ...    ...          ...                        ...\n",
       " 7508 319.172  48.975 ...    Swi      140502A 2014-05-02 08:30:20.160006\n",
       " 7509 276.806 -55.556 ...    Swi      140506A 2014-05-06 21:07:36.192014\n",
       " 7510 255.467   46.78 ...    Fer GRB140508128 2014-05-08 03:03:55.008019\n",
       " 7511  350.53  -63.78 ...    Fer GRB140508179 2014-05-08 04:17:41.280008\n",
       " 7512   272.1   72.53 ...    Fer GRB140508629 2014-05-08 15:05:25.727986\n",
       " 7513  46.564 -62.662 ...    Swi      140509A 2014-05-09 02:22:12.863997\n",
       " 7514  329.76  -30.06 ...    Fer GRB140511095 2014-05-11 02:17:11.327994\n",
       " 7515   26.25  -24.91 ...    Fer GRB140511995 2014-05-11 23:53:09.600013\n",
       " 7516 289.366 -15.087 ...    Swi      140512A 2014-05-12 19:31:48.863984"
      ]
     },
     "execution_count": 104,
     "metadata": {},
     "output_type": "execute_result"
    }
   ],
   "source": [
    "grb_list[\"astropy_time\"] = Time(grb_list[\"Date\"], format=\"jd\").to_datetime()\n",
    "grb_list.sort(\"recno\")\n",
    "grb_list"
   ]
  },
  {
   "cell_type": "markdown",
   "metadata": {},
   "source": [
    "We can also add this to `ipyaladin`"
   ]
  },
  {
   "cell_type": "code",
   "execution_count": 105,
   "metadata": {},
   "outputs": [],
   "source": [
    "aladin.add_table(grb_list, color=\"yellow\", shape=\"circle\", source_size=20, name=\"grb_list\")"
   ]
  },
  {
   "cell_type": "markdown",
   "metadata": {},
   "source": [
    "Now, we'd really like to know wether some of these events have been observed by the XMM space telescope.\n",
    "\n",
    "## Finding the XMM observation log on VizieR"
   ]
  },
  {
   "cell_type": "markdown",
   "metadata": {},
   "source": [
    "We can look for the XMM observation log by browing through VizieR's generic `TAP_SCHEMA.tables` and adding a constraint on their descriptions"
   ]
  },
  {
   "cell_type": "code",
   "execution_count": 106,
   "metadata": {},
   "outputs": [
    {
     "data": {
      "text/html": [
       "<div><i>Table length=15</i>\n",
       "<table id=\"table139763664910512\" class=\"table-striped table-bordered table-condensed\">\n",
       "<thead><tr><th>schema_name</th><th>table_name</th><th>table_type</th><th>description</th><th>utype</th><th>nrows</th></tr></thead>\n",
       "<thead><tr><th>object</th><th>object</th><th>object</th><th>object</th><th>object</th><th>object</th></tr></thead>\n",
       "<tr><td>J_ApJS</td><td>J/ApJS/268/36/fullcat</td><td>table</td><td>The XMM-Newton view of the ANdromeda Galaxy as Explored in a Legacy Survey (New-ANGELS) full catalog; updated version (from M31_SourceList_full_v5.fits) ( Huang R., Li J.-T., Cui W., Bregman J.N., Li X.-D., Ponti G., Qu Z., Wang Q.D., Zhang Yi)</td><td></td><td>23211</td></tr>\n",
       "<tr><td>J_AA</td><td>J/A+A/534/A55/table5</td><td>table</td><td>Source catalogue of the Deep XMM-Newton Survey of M31 (XMM LP total catalogue) ( Stiele H., Pietsch W., Haberl F., Hatzidimitriou D., Barnard R., Williams B.F., Kong A.K.H., Kolb U.)</td><td></td><td>1948</td></tr>\n",
       "<tr><td>J_AA</td><td>J/A+A/645/A74/xfcz</td><td>table</td><td>The XMM-Newton spectral-fit Z catalogue ( Ruiz A., Georgantopoulos I., Corral A.)</td><td></td><td>30816</td></tr>\n",
       "<tr><td>J_MNRAS</td><td>J/MNRAS/362/1371/table9</td><td>table</td><td>13^H^ XMM-Newton deep field catalogue ( Loaring N.S., Dwelly T., Page M.J., Mason K., Mchardy I., Gunn K., Moss D., Seymour N., Newsam A.M., Takata T., Sekguchi K., Sasseen T., Cordova F.)</td><td></td><td>225</td></tr>\n",
       "<tr><td>II_photometry</td><td>II/340/xmmom2_1</td><td>table</td><td>The XMM-Newton Optical Monitor Serendipitous Source Survey Catalogue, Version 2.1 (April 2015, XMM-SUSS2.1) ( Page M.J., Brindle C., Talavera A., Still M., Rosen S.R., Yershov V.N., Ziaeepour H., Mason K.O., Cropper M.S., Breeveld A.A., Loiseau N., Mignani R., Smith A., Murdin P.)</td><td></td><td>6246432</td></tr>\n",
       "<tr><td>IX_HE</td><td>IX/53/xmmsl2c</td><td>table</td><td>XMM-Newton slew survey Source Catalogue: XMMSL2 &quot;clean version&quot; (Release 2.0, 14th March 2017) ( XMM-SSC)</td><td></td><td>29393</td></tr>\n",
       "<tr><td>II_photometry</td><td>II/356/xmmom41s</td><td>table</td><td>The XMM-Newton Optical Monitor Serendipitous Source Survey Catalogue, Version 4.1 (XMM-SUSS4.1) &quot;slim&quot; version ( Page M.J., Brindle C., Talavera A., Still M., Rosen S.R., Yershov V.N., Ziaeepour H., Mason K.O., Cropper M.S., Breeveld A.A., Loiseau N., Mignani R., Smith A., Murdin P.)</td><td></td><td>8176156</td></tr>\n",
       "<tr><td>J_AA</td><td>J/A+A/468/379/catalog</td><td>table</td><td>OM (Optical Monitor of XMM-Newton) Catalogue ( Audard M., Briggs K.R., Grosso N., Guedel M., Scelsi L., Bouvier J., Telleschi A.)</td><td></td><td>2148</td></tr>\n",
       "<tr><td>J_MNRAS</td><td>J/MNRAS/362/1371/table5</td><td>table</td><td>Properties of XMM-Newton sources not found in the Chandra catalogue of McHardy et al. (2003, Cat. &lt;J/MNRAS/342/802&gt;) ( Loaring N.S., Dwelly T., Page M.J., Mason K., Mchardy I., Gunn K., Moss D., Seymour N., Newsam A.M., Takata T., Sekguchi K., Sasseen T., Cordova F.)</td><td></td><td>70</td></tr>\n",
       "<tr><td>B_extern</td><td>B/xmm/xmmlog</td><td>table</td><td>The XMM-Newton Observation log (2024-07-01) ( )</td><td></td><td>17783</td></tr>\n",
       "<tr><td>J_AA</td><td>J/A+A/660/A78/cwsamp</td><td>table</td><td>Subgalaxy clusters with Chandra/XMM-Newton data available for which we computed the X-ray morphological parameters (table A2) ( Botteon A., Shimwell T.W., Cassano R., et al.)</td><td></td><td>150</td></tr>\n",
       "<tr><td>II_photometry</td><td>II/378/xmmom6s</td><td>table</td><td>The XMM-Newton Optical Monitor Serendipitous Source Survey Catalogue, Version 6.0 (XMM-SUSS6.0) &quot;slim&quot; version ( Page M.J., Brindle C., Talavera A., Still M., Rosen S.R., Yershov V.N., Ziaeepour H., Mason K.O., Cropper M.S., Breeveld A.A., Loiseau N., Mignani R., Smith A., Murdin P.)</td><td></td><td>9920390</td></tr>\n",
       "<tr><td>II_photometry</td><td>II/370/xmmom5s</td><td>table</td><td>The XMM-Newton Optical Monitor Serendipitous Source Survey Catalogue, Version 5.0 (XMM-SUSS5.0) &quot;slim&quot; version ( Page M.J., Brindle C., Talavera A., Still M., Rosen S.R., Yershov V.N., Ziaeepour H., Mason K.O., Cropper M.S., Breeveld A.A., Loiseau N., Mignani R., Smith A., Murdin P.)</td><td></td><td>8863922</td></tr>\n",
       "<tr><td>J_AA</td><td>J/A+A/493/339/obs</td><td>table</td><td>XMM-Newton observations and exposures included in the 2XMM catalogue (IX/40) (table D1 in the paper) ( Watson M.G., Schroder A.C., Fyfe D., et al.)</td><td></td><td>3491</td></tr>\n",
       "<tr><td>J_MNRAS</td><td>J/MNRAS/478/2132/table2</td><td>table</td><td>*XMM-Newton data used to create the source catalog ( Chen C.-T.J., Brandt W.N., Luo B., et al.)</td><td></td><td>153</td></tr>\n",
       "</table></div>"
      ],
      "text/plain": [
       "<Table length=15>\n",
       " schema_name         table_name       table_type ... utype   nrows \n",
       "    object             object           object   ... object  object\n",
       "------------- ----------------------- ---------- ... ------ -------\n",
       "       J_ApJS   J/ApJS/268/36/fullcat      table ...          23211\n",
       "         J_AA    J/A+A/534/A55/table5      table ...           1948\n",
       "         J_AA      J/A+A/645/A74/xfcz      table ...          30816\n",
       "      J_MNRAS J/MNRAS/362/1371/table9      table ...            225\n",
       "II_photometry         II/340/xmmom2_1      table ...        6246432\n",
       "        IX_HE           IX/53/xmmsl2c      table ...          29393\n",
       "II_photometry         II/356/xmmom41s      table ...        8176156\n",
       "         J_AA   J/A+A/468/379/catalog      table ...           2148\n",
       "      J_MNRAS J/MNRAS/362/1371/table5      table ...             70\n",
       "     B_extern            B/xmm/xmmlog      table ...          17783\n",
       "         J_AA    J/A+A/660/A78/cwsamp      table ...            150\n",
       "II_photometry          II/378/xmmom6s      table ...        9920390\n",
       "II_photometry          II/370/xmmom5s      table ...        8863922\n",
       "         J_AA       J/A+A/493/339/obs      table ...           3491\n",
       "      J_MNRAS J/MNRAS/478/2132/table2      table ...            153"
      ]
     },
     "execution_count": 106,
     "metadata": {},
     "output_type": "execute_result"
    }
   ],
   "source": [
    "tap_vizier.search(\"\"\"select * from tables where description like '%XMM-Newton%log%'\n",
    "                  \"\"\").to_table()"
   ]
  },
  {
   "cell_type": "markdown",
   "metadata": {},
   "source": [
    "Let's look at the size of the log:"
   ]
  },
  {
   "cell_type": "code",
   "execution_count": 107,
   "metadata": {},
   "outputs": [
    {
     "data": {
      "text/html": [
       "<div><i>Table length=1</i>\n",
       "<table id=\"table139763658427792\" class=\"table-striped table-bordered table-condensed\">\n",
       "<thead><tr><th>COUNT_ALL</th></tr></thead>\n",
       "<thead><tr><th>int64</th></tr></thead>\n",
       "<tr><td>17783</td></tr>\n",
       "</table></div>"
      ],
      "text/plain": [
       "<Table length=1>\n",
       "COUNT_ALL\n",
       "  int64  \n",
       "---------\n",
       "    17783"
      ]
     },
     "execution_count": 107,
     "metadata": {},
     "output_type": "execute_result"
    }
   ],
   "source": [
    "tap_vizier.search('select count(*) from \"B/xmm/xmmlog\"').to_table()"
   ]
  },
  {
   "cell_type": "code",
   "execution_count": 108,
   "metadata": {},
   "outputs": [
    {
     "data": {
      "text/html": [
       "<div><i>Table length=17783</i>\n",
       "<table id=\"table139763658879664\" class=\"table-striped table-bordered table-condensed\">\n",
       "<thead><tr><th>recno</th><th>Obsno</th><th>PIname</th><th>PropDate</th><th>Object</th><th>RAJ2000</th><th>DEJ2000</th><th>Obs0</th><th>Obs1</th><th>ObsDur</th><th>SASVersion</th><th>Image</th><th>PPSp</th><th>XSAlink</th></tr></thead>\n",
       "<thead><tr><th></th><th></th><th></th><th>s</th><th></th><th>deg</th><th>deg</th><th>s</th><th>s</th><th>s</th><th></th><th></th><th></th><th></th></tr></thead>\n",
       "<thead><tr><th>int32</th><th>int64</th><th>object</th><th>int32</th><th>object</th><th>float64</th><th>float64</th><th>int32</th><th>int32</th><th>int32</th><th>object</th><th>str1</th><th>object</th><th>str1</th></tr></thead>\n",
       "<tr><td>13939</td><td>820910201</td><td>Schmitt, Juergen</td><td>618624000</td><td>GJ 1057</td><td>48.34583</td><td>4.77483</td><td>585939606</td><td>585956606</td><td>17000</td><td>17.56</td><td>Y</td><td>PPSp</td><td>Y</td></tr>\n",
       "<tr><td>13340</td><td>802200401</td><td>Koss, Michael</td><td>586310400</td><td>2MASX J02420381+0510</td><td>40.51583</td><td>5.16836</td><td>553288727</td><td>553311727</td><td>23000</td><td>17.56</td><td>Y</td><td>PPSp</td><td>Y</td></tr>\n",
       "<tr><td>4412</td><td>300210501</td><td>Reiprich, Thomas</td><td>207964800</td><td>A0400</td><td>44.41521</td><td>6.017</td><td>175327144</td><td>175355253</td><td>28109</td><td>17.56</td><td>Y</td><td>PPSp</td><td>Y</td></tr>\n",
       "<tr><td>5588</td><td>404010101</td><td>Clarke, Tracy</td><td>242179200</td><td>Abell 400</td><td>44.42333</td><td>6.02467</td><td>208161958</td><td>208200870</td><td>38912</td><td>17.56</td><td>Y</td><td>PPSp</td><td>Y</td></tr>\n",
       "<tr><td>2912</td><td>147800201</td><td>Kaastra, Jelle</td><td>148089600</td><td>2A 0335+096</td><td>54.67083</td><td>9.97</td><td>113288721</td><td>113429044</td><td>140323</td><td>17.56</td><td>Y</td><td>PPSp</td><td>Y</td></tr>\n",
       "<tr><td>1332</td><td>109870101</td><td>Brinkman, Albert</td><td>81907200</td><td>2A 0335+096</td><td>54.65129</td><td>9.96625</td><td>35043517</td><td>35074129</td><td>30612</td><td>17.56</td><td>Y</td><td>PPSp</td><td>Y</td></tr>\n",
       "<tr><td>1333</td><td>109870201</td><td>Brinkman, Albert</td><td>81907200</td><td>2A 0335+096</td><td>54.65129</td><td>9.96625</td><td>35032537</td><td>35043143</td><td>10606</td><td>17.56</td><td>N</td><td>PPSp</td><td>Y</td></tr>\n",
       "<tr><td>4214</td><td>205570101</td><td>DE GRANDI, SABRINA</td><td>166924800</td><td>2A 0335+096</td><td>54.825</td><td>10.14167</td><td>129142656</td><td>129170476</td><td>27820</td><td>17.56</td><td>Y</td><td>PPSp</td><td>Y</td></tr>\n",
       "<tr><td>16715</td><td>901580301</td><td>Sun, Ming</td><td>762566400</td><td>CGCG 416-010</td><td>51.60542</td><td>9.67178</td><td>729572941</td><td>729613641</td><td>40700</td><td>20.09</td><td>Y</td><td>PPSp</td><td>Y</td></tr>\n",
       "<tr><td>...</td><td>...</td><td>...</td><td>...</td><td>...</td><td>...</td><td>...</td><td>...</td><td>...</td><td>...</td><td>...</td><td>...</td><td>...</td><td>...</td></tr>\n",
       "<tr><td>9032</td><td>670380301</td><td>Schmitt, Jurgen</td><td>0</td><td></td><td>--</td><td>--</td><td>381355292</td><td>381378692</td><td>23400</td><td>NOPPS</td><td>N</td><td>PPSp</td><td>N</td></tr>\n",
       "<tr><td>9096</td><td>671170201</td><td>Smith, Michael</td><td>0</td><td></td><td>--</td><td>--</td><td>384857961</td><td>384862959</td><td>4998</td><td>NOPPS</td><td>N</td><td>PPSp</td><td>N</td></tr>\n",
       "<tr><td>9367</td><td>673720301</td><td>Motch, Christian</td><td>417744000</td><td></td><td>--</td><td>--</td><td>384589759</td><td>384607759</td><td>18000</td><td>NOPPS</td><td>N</td><td>PPSp</td><td>N</td></tr>\n",
       "<tr><td>9944</td><td>678980101</td><td>Parmar XMM-Newton MM, Arvind</td><td>0</td><td>dummy</td><td>--</td><td>--</td><td>365067603</td><td>365069694</td><td>2091</td><td>NOPPS</td><td>N</td><td>PPSp</td><td>N</td></tr>\n",
       "<tr><td>9945</td><td>678980301</td><td>Parmar XMM-Newton MM, Arvind</td><td>0</td><td>dummy</td><td>--</td><td>--</td><td>373850502</td><td>373852593</td><td>2091</td><td>NOPPS</td><td>N</td><td>PPSp</td><td>N</td></tr>\n",
       "<tr><td>10371</td><td>693760601</td><td>Motch, Christian</td><td>0</td><td>dummy</td><td>--</td><td>--</td><td>390334507</td><td>390335598</td><td>1091</td><td>NOPPS</td><td>N</td><td>PPSp</td><td>N</td></tr>\n",
       "<tr><td>10383</td><td>693782301</td><td>Matt, Giorgio</td><td>0</td><td></td><td>--</td><td>--</td><td>414495831</td><td>414496982</td><td>1151</td><td>NOPPS</td><td>N</td><td>PPSp</td><td>N</td></tr>\n",
       "<tr><td>10536</td><td>701980601</td><td>SCHARTEL (PS), NORBERT</td><td>0</td><td></td><td>--</td><td>--</td><td>413287339</td><td>413288430</td><td>1091</td><td>NOPPS</td><td>N</td><td>PPSp</td><td>N</td></tr>\n",
       "<tr><td>10542</td><td>701981101</td><td>SCHARTEL (PS), NORBERT</td><td>0</td><td>dummy</td><td>--</td><td>--</td><td>413254336</td><td>413255427</td><td>1091</td><td>NOPPS</td><td>N</td><td>PPSp</td><td>N</td></tr>\n",
       "</table></div>"
      ],
      "text/plain": [
       "<Table length=17783>\n",
       "recno   Obsno              PIname             PropDate ... Image  PPSp  XSAlink\n",
       "                                                 s     ...                     \n",
       "int32   int64              object              int32   ...  str1 object   str1 \n",
       "----- --------- ---------------------------- --------- ... ----- ------ -------\n",
       "13939 820910201             Schmitt, Juergen 618624000 ...     Y   PPSp       Y\n",
       "13340 802200401                Koss, Michael 586310400 ...     Y   PPSp       Y\n",
       " 4412 300210501             Reiprich, Thomas 207964800 ...     Y   PPSp       Y\n",
       " 5588 404010101                Clarke, Tracy 242179200 ...     Y   PPSp       Y\n",
       " 2912 147800201               Kaastra, Jelle 148089600 ...     Y   PPSp       Y\n",
       " 1332 109870101             Brinkman, Albert  81907200 ...     Y   PPSp       Y\n",
       " 1333 109870201             Brinkman, Albert  81907200 ...     N   PPSp       Y\n",
       " 4214 205570101           DE GRANDI, SABRINA 166924800 ...     Y   PPSp       Y\n",
       "16715 901580301                    Sun, Ming 762566400 ...     Y   PPSp       Y\n",
       "  ...       ...                          ...       ... ...   ...    ...     ...\n",
       " 9032 670380301              Schmitt, Jurgen         0 ...     N   PPSp       N\n",
       " 9096 671170201               Smith, Michael         0 ...     N   PPSp       N\n",
       " 9367 673720301             Motch, Christian 417744000 ...     N   PPSp       N\n",
       " 9944 678980101 Parmar XMM-Newton MM, Arvind         0 ...     N   PPSp       N\n",
       " 9945 678980301 Parmar XMM-Newton MM, Arvind         0 ...     N   PPSp       N\n",
       "10371 693760601             Motch, Christian         0 ...     N   PPSp       N\n",
       "10383 693782301                Matt, Giorgio         0 ...     N   PPSp       N\n",
       "10536 701980601       SCHARTEL (PS), NORBERT         0 ...     N   PPSp       N\n",
       "10542 701981101       SCHARTEL (PS), NORBERT         0 ...     N   PPSp       N"
      ]
     },
     "execution_count": 108,
     "metadata": {},
     "output_type": "execute_result"
    }
   ],
   "source": [
    "# retrieve the whole xmmlog table\n",
    "xmmlog = tap_vizier.search('select * from \"B/xmm/xmmlog\"').to_table()\n",
    "xmmlog"
   ]
  },
  {
   "cell_type": "code",
   "execution_count": 109,
   "metadata": {},
   "outputs": [
    {
     "name": "stdout",
     "output_type": "stream",
     "text": [
      "recno : Record number assigned by the VizieR team. Should Not be used for identification.\n",
      "Obsno : Observation identifier (1)\n",
      "PIname : PI name (family first)\n",
      "PropDate : Proprietary period expiry date\n",
      "Object : Target as specified in proposal\n",
      "RAJ2000 : ? Median pointing RA (J2000)\n",
      "DEJ2000 : ? Median pointing Declination (J2000)\n",
      "Obs0 : ? Observation start date (UT)\n",
      "Obs1 : ? Observation end date (UT)\n",
      "ObsDur : ? Observation on-time\n",
      "SASVersion : SAS version for PPS products(2)\n",
      "Image : [YN] Epic image of this observation (FITS)\n",
      "PPSp : Retrieve PPS products at XMM for this exposure\n",
      "XSAlink : [YN] XMM-Newton Science Archive link available for this observation (yes/no)\n"
     ]
    }
   ],
   "source": [
    "for column in xmmlog.colnames:\n",
    "    print(column, \":\", xmmlog[column].description)"
   ]
  },
  {
   "cell_type": "markdown",
   "metadata": {},
   "source": [
    "We see that some pointings are dumy pointings and have no coordinates. Let's remove them by selecting the data where it's not (`~`) masked"
   ]
  },
  {
   "cell_type": "code",
   "execution_count": 110,
   "metadata": {
    "scrolled": true
   },
   "outputs": [
    {
     "data": {
      "text/html": [
       "<div><i>Table length=17643</i>\n",
       "<table id=\"table139763473739936\" class=\"table-striped table-bordered table-condensed\">\n",
       "<thead><tr><th>recno</th><th>Obsno</th><th>PIname</th><th>PropDate</th><th>Object</th><th>RAJ2000</th><th>DEJ2000</th><th>Obs0</th><th>Obs1</th><th>ObsDur</th><th>SASVersion</th><th>Image</th><th>PPSp</th><th>XSAlink</th></tr></thead>\n",
       "<thead><tr><th></th><th></th><th></th><th>s</th><th></th><th>deg</th><th>deg</th><th>s</th><th>s</th><th>s</th><th></th><th></th><th></th><th></th></tr></thead>\n",
       "<thead><tr><th>int32</th><th>int64</th><th>object</th><th>int32</th><th>object</th><th>float64</th><th>float64</th><th>int32</th><th>int32</th><th>int32</th><th>object</th><th>str1</th><th>object</th><th>str1</th></tr></thead>\n",
       "<tr><td>13939</td><td>820910201</td><td>Schmitt, Juergen</td><td>618624000</td><td>GJ 1057</td><td>48.34583</td><td>4.77483</td><td>585939606</td><td>585956606</td><td>17000</td><td>17.56</td><td>Y</td><td>PPSp</td><td>Y</td></tr>\n",
       "<tr><td>13340</td><td>802200401</td><td>Koss, Michael</td><td>586310400</td><td>2MASX J02420381+0510</td><td>40.51583</td><td>5.16836</td><td>553288727</td><td>553311727</td><td>23000</td><td>17.56</td><td>Y</td><td>PPSp</td><td>Y</td></tr>\n",
       "<tr><td>4412</td><td>300210501</td><td>Reiprich, Thomas</td><td>207964800</td><td>A0400</td><td>44.41521</td><td>6.017</td><td>175327144</td><td>175355253</td><td>28109</td><td>17.56</td><td>Y</td><td>PPSp</td><td>Y</td></tr>\n",
       "<tr><td>5588</td><td>404010101</td><td>Clarke, Tracy</td><td>242179200</td><td>Abell 400</td><td>44.42333</td><td>6.02467</td><td>208161958</td><td>208200870</td><td>38912</td><td>17.56</td><td>Y</td><td>PPSp</td><td>Y</td></tr>\n",
       "<tr><td>2912</td><td>147800201</td><td>Kaastra, Jelle</td><td>148089600</td><td>2A 0335+096</td><td>54.67083</td><td>9.97</td><td>113288721</td><td>113429044</td><td>140323</td><td>17.56</td><td>Y</td><td>PPSp</td><td>Y</td></tr>\n",
       "<tr><td>1332</td><td>109870101</td><td>Brinkman, Albert</td><td>81907200</td><td>2A 0335+096</td><td>54.65129</td><td>9.96625</td><td>35043517</td><td>35074129</td><td>30612</td><td>17.56</td><td>Y</td><td>PPSp</td><td>Y</td></tr>\n",
       "<tr><td>1333</td><td>109870201</td><td>Brinkman, Albert</td><td>81907200</td><td>2A 0335+096</td><td>54.65129</td><td>9.96625</td><td>35032537</td><td>35043143</td><td>10606</td><td>17.56</td><td>N</td><td>PPSp</td><td>Y</td></tr>\n",
       "<tr><td>4214</td><td>205570101</td><td>DE GRANDI, SABRINA</td><td>166924800</td><td>2A 0335+096</td><td>54.825</td><td>10.14167</td><td>129142656</td><td>129170476</td><td>27820</td><td>17.56</td><td>Y</td><td>PPSp</td><td>Y</td></tr>\n",
       "<tr><td>16715</td><td>901580301</td><td>Sun, Ming</td><td>762566400</td><td>CGCG 416-010</td><td>51.60542</td><td>9.67178</td><td>729572941</td><td>729613641</td><td>40700</td><td>20.09</td><td>Y</td><td>PPSp</td><td>Y</td></tr>\n",
       "<tr><td>...</td><td>...</td><td>...</td><td>...</td><td>...</td><td>...</td><td>...</td><td>...</td><td>...</td><td>...</td><td>...</td><td>...</td><td>...</td><td>...</td></tr>\n",
       "<tr><td>7517</td><td>556210701</td><td>Page, Mathew</td><td>297993600</td><td>SDSS210225.75-055056</td><td>315.60735</td><td>-5.84892</td><td>263114434</td><td>263123353</td><td>8919</td><td>17.56</td><td>Y</td><td>PPSp</td><td>Y</td></tr>\n",
       "<tr><td>12750</td><td>783560201</td><td>Salz, Michael</td><td>563587200</td><td>WASP-69</td><td>315.02592</td><td>-5.09489</td><td>530340752</td><td>530371752</td><td>31000</td><td>17.56</td><td>Y</td><td>PPSp</td><td>Y</td></tr>\n",
       "<tr><td>1404</td><td>110860101</td><td>Watson, Michael</td><td>108432000</td><td>HU Aqr</td><td>316.9929</td><td>-5.29428</td><td>74883061</td><td>74921177</td><td>38116</td><td>17.56</td><td>Y</td><td>PPSp</td><td>Y</td></tr>\n",
       "<tr><td>3211</td><td>153090101</td><td>Schwope, Axel</td><td>154137600</td><td>HU Aqr</td><td>316.9929</td><td>-5.29428</td><td>106740711</td><td>106765395</td><td>24684</td><td>17.56</td><td>Y</td><td>PPSp</td><td>Y</td></tr>\n",
       "<tr><td>3212</td><td>153090201</td><td>Schwope, Axel</td><td>154137600</td><td>HU Aqr</td><td>316.9929</td><td>-5.29428</td><td>120353790</td><td>120365736</td><td>11946</td><td>17.56</td><td>Y</td><td>PPSp</td><td>Y</td></tr>\n",
       "<tr><td>5175</td><td>307400101</td><td>Schwope, Axel</td><td>205545600</td><td>HU Aqr</td><td>316.99292</td><td>-5.29428</td><td>169534222</td><td>169554138</td><td>19916</td><td>17.56</td><td>Y</td><td>PPSp</td><td>Y</td></tr>\n",
       "<tr><td>10928</td><td>724431101</td><td>Schwope, Axel</td><td>469065600</td><td>HU Aqr</td><td>316.99125</td><td>-5.29472</td><td>436033620</td><td>436073620</td><td>40000</td><td>17.56</td><td>Y</td><td>PPSp</td><td>Y</td></tr>\n",
       "<tr><td>3946</td><td>203050501</td><td>SZKODY, PAULA</td><td>185500800</td><td>SDSSJ2050-05</td><td>312.57435</td><td>-5.60744</td><td>151408184</td><td>151421095</td><td>12911</td><td>17.56</td><td>Y</td><td>PPSp</td><td>Y</td></tr>\n",
       "<tr><td>1665</td><td>112190601</td><td>Mason, Keith</td><td>91756800</td><td>MS2053.7-0449</td><td>314.0907</td><td>-4.63083</td><td>59038247</td><td>59055608</td><td>17361</td><td>17.56</td><td>Y</td><td>PPSp</td><td>Y</td></tr>\n",
       "</table></div>"
      ],
      "text/plain": [
       "<Table length=17643>\n",
       "recno   Obsno         PIname        PropDate ... SASVersion Image  PPSp  XSAlink\n",
       "                                       s     ...                                \n",
       "int32   int64         object         int32   ...   object    str1 object   str1 \n",
       "----- --------- ------------------ --------- ... ---------- ----- ------ -------\n",
       "13939 820910201   Schmitt, Juergen 618624000 ...      17.56     Y   PPSp       Y\n",
       "13340 802200401      Koss, Michael 586310400 ...      17.56     Y   PPSp       Y\n",
       " 4412 300210501   Reiprich, Thomas 207964800 ...      17.56     Y   PPSp       Y\n",
       " 5588 404010101      Clarke, Tracy 242179200 ...      17.56     Y   PPSp       Y\n",
       " 2912 147800201     Kaastra, Jelle 148089600 ...      17.56     Y   PPSp       Y\n",
       " 1332 109870101   Brinkman, Albert  81907200 ...      17.56     Y   PPSp       Y\n",
       " 1333 109870201   Brinkman, Albert  81907200 ...      17.56     N   PPSp       Y\n",
       " 4214 205570101 DE GRANDI, SABRINA 166924800 ...      17.56     Y   PPSp       Y\n",
       "16715 901580301          Sun, Ming 762566400 ...      20.09     Y   PPSp       Y\n",
       "  ...       ...                ...       ... ...        ...   ...    ...     ...\n",
       " 7517 556210701       Page, Mathew 297993600 ...      17.56     Y   PPSp       Y\n",
       "12750 783560201      Salz, Michael 563587200 ...      17.56     Y   PPSp       Y\n",
       " 1404 110860101    Watson, Michael 108432000 ...      17.56     Y   PPSp       Y\n",
       " 3211 153090101      Schwope, Axel 154137600 ...      17.56     Y   PPSp       Y\n",
       " 3212 153090201      Schwope, Axel 154137600 ...      17.56     Y   PPSp       Y\n",
       " 5175 307400101      Schwope, Axel 205545600 ...      17.56     Y   PPSp       Y\n",
       "10928 724431101      Schwope, Axel 469065600 ...      17.56     Y   PPSp       Y\n",
       " 3946 203050501      SZKODY, PAULA 185500800 ...      17.56     Y   PPSp       Y\n",
       " 1665 112190601       Mason, Keith  91756800 ...      17.56     Y   PPSp       Y"
      ]
     },
     "execution_count": 110,
     "metadata": {},
     "output_type": "execute_result"
    }
   ],
   "source": [
    "xmmlog = xmmlog[~xmmlog[\"RAJ2000\"].data.mask]\n",
    "xmmlog"
   ]
  },
  {
   "cell_type": "markdown",
   "metadata": {},
   "source": [
    "Let's also remove the observation that did not produce an image (they have \"N\" in their `Image` column)."
   ]
  },
  {
   "cell_type": "code",
   "execution_count": 111,
   "metadata": {},
   "outputs": [],
   "source": [
    "xmmlog = xmmlog[xmmlog[\"Image\"] != \"N\"]"
   ]
  },
  {
   "cell_type": "markdown",
   "metadata": {},
   "source": [
    "We can add the center of the observation to ipyaladin."
   ]
  },
  {
   "cell_type": "code",
   "execution_count": 112,
   "metadata": {},
   "outputs": [],
   "source": [
    "aladin.add_table(xmmlog, name=\"xmmlog_pointings\", color=\"white\")"
   ]
  },
  {
   "cell_type": "markdown",
   "metadata": {},
   "source": [
    "We can already build a MOC from the columns `RAJ2000` and `DEJ2000`. There are the center of the view, and the biggest camera has a field of view of approximatively 0.5°"
   ]
  },
  {
   "cell_type": "code",
   "execution_count": 113,
   "metadata": {},
   "outputs": [],
   "source": [
    "xmmlog[\"lon\"] = Longitude(xmmlog[\"RAJ2000\"].data.data, unit=\"deg\")\n",
    "xmmlog[\"lat\"] = Latitude(xmmlog[\"DEJ2000\"].data.data, unit=\"deg\")"
   ]
  },
  {
   "cell_type": "markdown",
   "metadata": {},
   "source": [
    "Let's also chose a spatial resolution for the MOC that makes sense compared to the camera's field of view:"
   ]
  },
  {
   "cell_type": "code",
   "execution_count": 121,
   "metadata": {},
   "outputs": [
    {
     "data": {
      "text/plain": [
       "11"
      ]
     },
     "execution_count": 121,
     "metadata": {},
     "output_type": "execute_result"
    }
   ],
   "source": [
    "MOC.spatial_resolution_to_order(Angle(0.05 * u.deg))"
   ]
  },
  {
   "cell_type": "markdown",
   "metadata": {},
   "source": [
    "This is what we will use for the `max_depth` argument"
   ]
  },
  {
   "cell_type": "code",
   "execution_count": 114,
   "metadata": {},
   "outputs": [],
   "source": [
    "cones = MOC.from_cones(xmmlog[\"lon\"], xmmlog[\"lat\"], radius=Angle(\"0.23d\"), max_depth=11)"
   ]
  },
  {
   "cell_type": "code",
   "execution_count": 89,
   "metadata": {},
   "outputs": [],
   "source": [
    "sum_cones = sum(cones)"
   ]
  },
  {
   "cell_type": "code",
   "execution_count": 90,
   "metadata": {},
   "outputs": [],
   "source": [
    "aladin.add_moc(sum_cones, fill=True, name=\"xmm_smoc\", alpha=\"0.2http://xmm.esac.esa.int/\", color=\"teal\", edge=True)"
   ]
  },
  {
   "cell_type": "markdown",
   "metadata": {},
   "source": [
    "This MOC highlights the fact that some images are missing from the XMM hips. It is updated less often than the observation log. Also note that here we used a very approximated MOC. We could have done a better job by retrieving which camera was used for each pointing and using `MOC.from_polygon` or `MOC.from_astropy_region` for each of them!\n",
    "\n",
    "However, we can already get some fun information from this. For example, the area covered by XMM from 2001 to today is approximatively: "
   ]
  },
  {
   "cell_type": "code",
   "execution_count": 87,
   "metadata": {},
   "outputs": [
    {
     "data": {
      "text/plain": [
       "0.0324823260307312"
      ]
     },
     "execution_count": 87,
     "metadata": {},
     "output_type": "execute_result"
    }
   ],
   "source": [
    "sum_cones.sky_fraction"
   ]
  },
  {
   "cell_type": "markdown",
   "metadata": {},
   "source": [
    "3% of the sky only! \n",
    "\n",
    "We can also check which of the GRBs in our catalog fall within the observations.\n",
    "\n",
    "![moc contains](moc_contains.png)\n",
    "\n",
    "**Figure:** The contains methods is extremely useful.\n",
    "\n",
    "The `contains_skycoords` method allows to check wether some coordinates are within a MOC. It returns a mask which has a value `True` where the point in in the MOC:"
   ]
  },
  {
   "cell_type": "code",
   "execution_count": 99,
   "metadata": {},
   "outputs": [
    {
     "data": {
      "text/plain": [
       "array([False, False, False, ...,  True, False, False])"
      ]
     },
     "execution_count": 99,
     "metadata": {},
     "output_type": "execute_result"
    }
   ],
   "source": [
    "mask = sum_cones.contains_skycoords(SkyCoord(grb_list[\"RAJ2000\"], grb_list[\"DEJ2000\"], frame=\"icrs\"))\n",
    "mask"
   ]
  },
  {
   "cell_type": "code",
   "execution_count": 115,
   "metadata": {},
   "outputs": [
    {
     "data": {
      "text/html": [
       "<div><i>Table length=324</i>\n",
       "<table id=\"table139763513670912\" class=\"table-striped table-bordered table-condensed\">\n",
       "<thead><tr><th>recno</th><th>RAJ2000</th><th>DEJ2000</th><th>Date</th><th>Cat</th><th>GRB</th><th>astropy_time</th></tr></thead>\n",
       "<thead><tr><th></th><th>deg</th><th>deg</th><th>&apos;Y-M-D,h:m:s&apos;</th><th></th><th></th><th></th></tr></thead>\n",
       "<thead><tr><th>int32</th><th>float64</th><th>float64</th><th>float64</th><th>object</th><th>object</th><th>object</th></tr></thead>\n",
       "<tr><td>36</td><td>96.96</td><td>14.97</td><td>2448328.02997</td><td>GRA</td><td>GRB910312</td><td>1991-03-12 12:43:09.408003</td></tr>\n",
       "<tr><td>137</td><td>117.0</td><td>43.8</td><td>2448439.68644</td><td>BNT</td><td>GRB</td><td>1991-07-02 04:28:28.415987</td></tr>\n",
       "<tr><td>154</td><td>303.63</td><td>-57.09</td><td>2448449.84428</td><td>BT</td><td>4B910712</td><td>1991-07-12 08:15:45.791987</td></tr>\n",
       "<tr><td>158</td><td>348.8</td><td>-42.8</td><td>2448451.94608</td><td>BNT</td><td>GRB</td><td>1991-07-14 10:42:21.312012</td></tr>\n",
       "<tr><td>193</td><td>266.9</td><td>-28.5</td><td>2448471.59449</td><td>BNT</td><td>GRB</td><td>1991-08-03 02:16:03.936004</td></tr>\n",
       "<tr><td>201</td><td>257.8</td><td>-33.6</td><td>2448475.61867</td><td>BNT</td><td>GRB</td><td>1991-08-07 02:50:53.088020</td></tr>\n",
       "<tr><td>207</td><td>79.7</td><td>-72.16</td><td>2448480.10685</td><td>BT</td><td>4B910811</td><td>1991-08-11 14:33:51.840008</td></tr>\n",
       "<tr><td>221</td><td>268.34</td><td>-27.09</td><td>2448487.07275</td><td>BT</td><td>4B910818</td><td>1991-08-18 13:44:45.599984</td></tr>\n",
       "<tr><td>262</td><td>148.3</td><td>61.6</td><td>2448524.58287</td><td>BNT</td><td>GRB</td><td>1991-09-25 01:59:19.968004</td></tr>\n",
       "<tr><td>...</td><td>...</td><td>...</td><td>...</td><td>...</td><td>...</td><td>...</td></tr>\n",
       "<tr><td>7390</td><td>215.43</td><td>53.53</td><td>2456622.66262</td><td>Fer</td><td>GRB131126163</td><td>2013-11-26 03:54:10.368007</td></tr>\n",
       "<tr><td>7396</td><td>344.005</td><td>-21.65</td><td>2456629.13344</td><td>Swi</td><td>131202A</td><td>2013-12-02 15:12:09.216000</td></tr>\n",
       "<tr><td>7397</td><td>169.66</td><td>21.25</td><td>2456629.40649</td><td>Fer</td><td>GRB131202906</td><td>2013-12-02 21:45:20.735997</td></tr>\n",
       "<tr><td>7416</td><td>211.915</td><td>1.332</td><td>2456660.38723</td><td>Swi</td><td>140102A</td><td>2014-01-02 21:17:36.671999</td></tr>\n",
       "<tr><td>7432</td><td>210.03</td><td>-61.41</td><td>2456673.36341</td><td>Fer</td><td>GRB140115863</td><td>2014-01-15 20:43:18.624019</td></tr>\n",
       "<tr><td>7449</td><td>194.04</td><td>31.46</td><td>2456704.83061</td><td>Fer</td><td>GRB140216331</td><td>2014-02-16 07:56:04.704005</td></tr>\n",
       "<tr><td>7502</td><td>194.365</td><td>28.331</td><td>2456776.44502</td><td>Swi</td><td>140428A</td><td>2014-04-28 22:40:49.727999</td></tr>\n",
       "<tr><td>7506</td><td>171.88</td><td>24.64</td><td>2456778.63867</td><td>Fer</td><td>GRB140501139</td><td>2014-05-01 03:19:41.087981</td></tr>\n",
       "<tr><td>7514</td><td>329.76</td><td>-30.06</td><td>2456788.59527</td><td>Fer</td><td>GRB140511095</td><td>2014-05-11 02:17:11.327994</td></tr>\n",
       "</table></div>"
      ],
      "text/plain": [
       "<Table length=324>\n",
       "recno RAJ2000 DEJ2000 ...  Cat       GRB             astropy_time       \n",
       "        deg     deg   ...                                               \n",
       "int32 float64 float64 ... object    object              object          \n",
       "----- ------- ------- ... ------ ------------ --------------------------\n",
       "   36   96.96   14.97 ...    GRA    GRB910312 1991-03-12 12:43:09.408003\n",
       "  137   117.0    43.8 ...    BNT          GRB 1991-07-02 04:28:28.415987\n",
       "  154  303.63  -57.09 ...     BT     4B910712 1991-07-12 08:15:45.791987\n",
       "  158   348.8   -42.8 ...    BNT          GRB 1991-07-14 10:42:21.312012\n",
       "  193   266.9   -28.5 ...    BNT          GRB 1991-08-03 02:16:03.936004\n",
       "  201   257.8   -33.6 ...    BNT          GRB 1991-08-07 02:50:53.088020\n",
       "  207    79.7  -72.16 ...     BT     4B910811 1991-08-11 14:33:51.840008\n",
       "  221  268.34  -27.09 ...     BT     4B910818 1991-08-18 13:44:45.599984\n",
       "  262   148.3    61.6 ...    BNT          GRB 1991-09-25 01:59:19.968004\n",
       "  ...     ...     ... ...    ...          ...                        ...\n",
       " 7390  215.43   53.53 ...    Fer GRB131126163 2013-11-26 03:54:10.368007\n",
       " 7396 344.005  -21.65 ...    Swi      131202A 2013-12-02 15:12:09.216000\n",
       " 7397  169.66   21.25 ...    Fer GRB131202906 2013-12-02 21:45:20.735997\n",
       " 7416 211.915   1.332 ...    Swi      140102A 2014-01-02 21:17:36.671999\n",
       " 7432  210.03  -61.41 ...    Fer GRB140115863 2014-01-15 20:43:18.624019\n",
       " 7449  194.04   31.46 ...    Fer GRB140216331 2014-02-16 07:56:04.704005\n",
       " 7502 194.365  28.331 ...    Swi      140428A 2014-04-28 22:40:49.727999\n",
       " 7506  171.88   24.64 ...    Fer GRB140501139 2014-05-01 03:19:41.087981\n",
       " 7514  329.76  -30.06 ...    Fer GRB140511095 2014-05-11 02:17:11.327994"
      ]
     },
     "execution_count": 115,
     "metadata": {},
     "output_type": "execute_result"
    }
   ],
   "source": [
    "grb_inside = grb_list[mask]\n",
    "grb_inside"
   ]
  },
  {
   "cell_type": "markdown",
   "metadata": {},
   "source": [
    "324 events are in the MOC! Let's add them to ipyaladin"
   ]
  },
  {
   "cell_type": "code",
   "execution_count": 117,
   "metadata": {},
   "outputs": [],
   "source": [
    "aladin.add_table(grb_inside, shape=\"triangle\", color=\"red\", source_size=20)"
   ]
  },
  {
   "cell_type": "markdown",
   "metadata": {},
   "source": [
    "## Adding time into the mix\n",
    "\n",
    "But... Have any of these 324 event been observed by XMM just at the right time? We can also check that programmatically. We already added the `astropy_time` to the grb list in anticipation. Let's do the same for the XMM log.\n",
    "\n"
   ]
  },
  {
   "cell_type": "code",
   "execution_count": 79,
   "metadata": {},
   "outputs": [
    {
     "data": {
      "text/plain": [
       "<DALResultsTable length=14>\n",
       "table_name     column_name     ... indexed  std \n",
       "  object          object       ...  int32  int32\n",
       "---------- ------------------- ... ------- -----\n",
       "  METAtime               catid ...       0     1\n",
       "  METAtime               tabid ...       0     1\n",
       "  METAtime               colid ...       0     1\n",
       "  METAtime        time_syst_id ...       0     1\n",
       "  METAtime          scale_name ...       0     1\n",
       "  METAtime          frame_name ...       0     1\n",
       "  METAtime time_systematic_err ...       0     1\n",
       "  METAtime                name ...       0     1\n",
       "  METAtime         description ...       0     1\n",
       "  METAtime         time_offset ...       0     1\n",
       "  METAtime    time_uncertainty ...       0     1\n",
       "  METAtime time_representation ...       0     1\n",
       "  METAtime                  id ...       0     1\n",
       "  METAtime               flags ...       0     1"
      ]
     },
     "execution_count": 79,
     "metadata": {},
     "output_type": "execute_result"
    }
   ],
   "source": [
    "# information on time is in metatime\n",
    "time_columns = tap_vizier.search(\"select * from columns where table_name='METAtime'\")\n",
    "time_columns"
   ]
  },
  {
   "cell_type": "code",
   "execution_count": 81,
   "metadata": {},
   "outputs": [
    {
     "data": {
      "text/html": [
       "<div><i>Table length=2</i>\n",
       "<table id=\"table140597203827728\" class=\"table-striped table-bordered table-condensed\">\n",
       "<thead><tr><th>catid</th><th>tabid</th><th>colid</th><th>time_syst_id</th><th>scale_name</th><th>frame_name</th><th>time_systematic_err</th><th>name</th><th>description</th><th>time_offset</th><th>time_uncertainty</th><th>time_representation</th><th>id</th><th>name2</th><th>dbname</th><th>catid2</th><th>tabid2</th><th>colid2</th><th>notid</th><th>famid</th><th>ucdid</th><th>type</th><th>dbtype</th><th>length</th><th>flags</th><th>morid</th><th>fmt</th><th>unit</th><th>dbunit</th><th>vounit</th><th>explain</th><th>morexplain</th><th>utype</th></tr></thead>\n",
       "<thead><tr><th>int32</th><th>int16</th><th>int16</th><th>int32</th><th>object</th><th>object</th><th>float64</th><th>object</th><th>object</th><th>float64</th><th>float64</th><th>object</th><th>int16</th><th>object</th><th>object</th><th>int32</th><th>int16</th><th>int16</th><th>int16</th><th>int16</th><th>int32</th><th>int16</th><th>int16</th><th>int32</th><th>int16</th><th>int16</th><th>object</th><th>object</th><th>object</th><th>object</th><th>object</th><th>object</th><th>object</th></tr></thead>\n",
       "<tr><td>9069</td><td>2</td><td>8</td><td>38</td><td>TT</td><td>GEOCENTER</td><td>--</td><td>TT_GEOCENTER</td><td>scale=TT, frame=geocenter</td><td>--</td><td>3600.0</td><td>MJD</td><td>19136</td><td>MJD0</td><td>MJD_START</td><td>9069</td><td>2</td><td>8</td><td>0</td><td>1363</td><td>370</td><td>1</td><td>32</td><td>4</td><td>4104</td><td>0</td><td>%10.4f</td><td>d</td><td>10-4d</td><td>d</td><td>Start observation date (MJD_START)</td><td></td><td></td></tr>\n",
       "<tr><td>9069</td><td>2</td><td>9</td><td>38</td><td>TT</td><td>GEOCENTER</td><td>--</td><td>TT_GEOCENTER</td><td>scale=TT, frame=geocenter</td><td>--</td><td>3600.0</td><td>MJD</td><td>19137</td><td>MJD1</td><td>MJD_STOP</td><td>9069</td><td>2</td><td>9</td><td>0</td><td>1363</td><td>370</td><td>1</td><td>32</td><td>4</td><td>8</td><td>0</td><td>%10.4f</td><td>d</td><td>10-4d</td><td>d</td><td>End observation date (MJD_STOP)</td><td></td><td></td></tr>\n",
       "</table></div>"
      ],
      "text/plain": [
       "<Table length=2>\n",
       "catid tabid colid ...              explain               morexplain utype \n",
       "int32 int16 int16 ...               object                 object   object\n",
       "----- ----- ----- ... ---------------------------------- ---------- ------\n",
       " 9069     2     8 ... Start observation date (MJD_START)                  \n",
       " 9069     2     9 ...    End observation date (MJD_STOP)                  "
      ]
     },
     "execution_count": 81,
     "metadata": {},
     "output_type": "execute_result"
    }
   ],
   "source": [
    "# lets get metatime for the second table (catid=2) of the catalog (catid=9096)\n",
    "xmm_DR13_tables = tap_vizier.search(\n",
    "    \"\"\"select * from METAtime JOIN METAcol\n",
    "    on METAtime.catid = METAcol.catid\n",
    "    and METAcol.colid = METAtime.colid\n",
    "    and METAcol.tabid = METAtime.tabid\n",
    "    where METAcol.catid = 9069 and METAcol.tabid = 2\n",
    "    \"\"\"\n",
    ").to_table()\n",
    "xmm_DR13_tables"
   ]
  },
  {
   "cell_type": "markdown",
   "metadata": {},
   "source": [
    "# \n",
    "STMOCs can handle only specific format of time. Hence, we convert Modified Julian Date (MJD) columns to Astropy Time objects for easier manipulation and consistency."
   ]
  },
  {
   "cell_type": "code",
   "execution_count": 82,
   "metadata": {},
   "outputs": [
    {
     "data": {
      "text/html": [
       "<div><i>Table length=13243</i>\n",
       "<table id=\"table140597206716368\" class=\"table-striped table-bordered table-condensed\">\n",
       "<thead><tr><th>recno</th><th>Rev</th><th>ObsID</th><th>iODF</th><th>RAJ2000</th><th>DEJ2000</th><th>PApnt</th><th>Target</th><th>MJD0</th><th>MJD1</th><th>Q</th><th>Nd</th><th>Ng</th><th>Np</th><th>f_PN</th><th>m_PN</th><th>t_PN</th><th>N1</th><th>f_M1</th><th>m_M1</th><th>t_M1</th><th>N2</th><th>f_M2</th><th>m_M2</th><th>t_M2</th><th>start_obs</th><th>end_obs</th></tr></thead>\n",
       "<thead><tr><th></th><th></th><th></th><th></th><th>deg</th><th>deg</th><th>deg</th><th></th><th>d</th><th>d</th><th></th><th></th><th></th><th></th><th></th><th></th><th>s</th><th></th><th></th><th></th><th>s</th><th></th><th></th><th></th><th>s</th><th></th><th></th></tr></thead>\n",
       "<thead><tr><th>int32</th><th>int16</th><th>int32</th><th>int16</th><th>float64</th><th>float64</th><th>float64</th><th>object</th><th>float32</th><th>float32</th><th>int16</th><th>int16</th><th>int16</th><th>int16</th><th>object</th><th>object</th><th>int32</th><th>int16</th><th>object</th><th>object</th><th>int32</th><th>int16</th><th>object</th><th>object</th><th>int32</th><th>Time</th><th>Time</th></tr></thead>\n",
       "<tr><td>2082</td><td>3412</td><td>820910201</td><td>1</td><td>48.32275</td><td>4.7925</td><td>71.362473</td><td>GJ 1057</td><td>58325.74</td><td>58325.9</td><td>1</td><td>32</td><td>30</td><td>1</td><td>Med</td><td>PFW</td><td>10137</td><td>1</td><td>Med</td><td>PFW</td><td>13638</td><td>1</td><td>Med</td><td>PFW</td><td>13962</td><td>58325.73828125</td><td>58325.8984375</td></tr>\n",
       "<tr><td>1885</td><td>3222</td><td>802200401</td><td>1</td><td>40.491833</td><td>5.185361</td><td>68.754295</td><td>2MASX J02420381+051</td><td>57947.836</td><td>57948.066</td><td>0</td><td>70</td><td>70</td><td>1</td><td>Tn1</td><td>PLW</td><td>19680</td><td>1</td><td>Tn1</td><td>PPW3</td><td>21626</td><td>1</td><td>Tn1</td><td>PFW</td><td>21619</td><td>57947.8359375</td><td>57948.06640625</td></tr>\n",
       "<tr><td>2013</td><td>1029</td><td>300210501</td><td>4</td><td>44.391876</td><td>6.033528</td><td>70.729225</td><td>A0400</td><td>53573.293</td><td>53573.57</td><td>3</td><td>49</td><td>42</td><td>1</td><td>Tn1</td><td>PFWE</td><td>18583</td><td>1</td><td>Tn1</td><td>PFW</td><td>24656</td><td>1</td><td>Tn1</td><td>PFW</td><td>24305</td><td>53573.29296875</td><td>53573.5703125</td></tr>\n",
       "<tr><td>2015</td><td>1219</td><td>404010101</td><td>3</td><td>44.401249</td><td>6.042944</td><td>73.146332</td><td>Abell 400</td><td>53953.344</td><td>53953.727</td><td>2</td><td>84</td><td>70</td><td>1</td><td>Tn1</td><td>PFWE</td><td>23900</td><td>1</td><td>Tn1</td><td>PFW</td><td>31699</td><td>1</td><td>Tn1</td><td>PFW</td><td>32373</td><td>53953.34375</td><td>53953.7265625</td></tr>\n",
       "<tr><td>2458</td><td>215</td><td>109870101</td><td>3</td><td>54.672832</td><td>9.947166</td><td>258.368164</td><td>2A 0335+096</td><td>51949.65</td><td>51949.676</td><td>2</td><td>31</td><td>27</td><td>2</td><td>Tn1</td><td>PFWE</td><td>12878</td><td>2</td><td>Tn1</td><td>PFW</td><td>18434</td><td>2</td><td>Tn1</td><td>PFW</td><td>18850</td><td>51949.6484375</td><td>51949.67578125</td></tr>\n",
       "<tr><td>2455</td><td>669</td><td>147800201</td><td>5</td><td>54.647709</td><td>9.986861</td><td>74.519279</td><td>2A 0335+096</td><td>52855.305</td><td>52856.395</td><td>3</td><td>133</td><td>102</td><td>2</td><td>Tn1</td><td>PFW</td><td>108340</td><td>2</td><td>Tn1</td><td>PFW</td><td>120948</td><td>2</td><td>Tn1</td><td>PFW</td><td>121109</td><td>52855.3046875</td><td>52856.39453125</td></tr>\n",
       "<tr><td>2465</td><td>761</td><td>205570101</td><td>4</td><td>54.846832</td><td>10.122639</td><td>254.982376</td><td>2A 0335+096</td><td>53038.742</td><td>53039.023</td><td>3</td><td>30</td><td>25</td><td>1</td><td>Tn1</td><td>PFWE</td><td>6630</td><td>2</td><td>Tn1</td><td>PFW</td><td>13645</td><td>2</td><td>Tn1</td><td>PFW</td><td>12267</td><td>53038.7421875</td><td>53039.0234375</td></tr>\n",
       "<tr><td>2078</td><td>1960</td><td>656201101</td><td>2</td><td>48.223751</td><td>8.374917</td><td>76.295563</td><td>PLCK G171.9-40.7</td><td>55430.74</td><td>55430.855</td><td>1</td><td>38</td><td>37</td><td>1</td><td>Tn1</td><td>PFWE</td><td>10038</td><td>1</td><td>Tn1</td><td>PFW</td><td>13915</td><td>1</td><td>Tn1</td><td>PFW</td><td>13921</td><td>55430.73828125</td><td>55430.85546875</td></tr>\n",
       "<tr><td>2067</td><td>3324</td><td>810230101</td><td>1</td><td>47.751415</td><td>9.806139</td><td>253.640579</td><td>V-CC-CET</td><td>58150.96</td><td>58151.023</td><td>0</td><td>3</td><td>3</td><td>--</td><td></td><td></td><td>0</td><td>1</td><td>Med</td><td>PPW3</td><td>2648</td><td>1</td><td>Med</td><td>PPW3</td><td>3241</td><td>58150.9609375</td><td>58151.0234375</td></tr>\n",
       "<tr><td>...</td><td>...</td><td>...</td><td>...</td><td>...</td><td>...</td><td>...</td><td>...</td><td>...</td><td>...</td><td>...</td><td>...</td><td>...</td><td>...</td><td>...</td><td>...</td><td>...</td><td>...</td><td>...</td><td>...</td><td>...</td><td>...</td><td>...</td><td>...</td><td>...</td><td>...</td><td>...</td></tr>\n",
       "<tr><td>11953</td><td>1538</td><td>556210701</td><td>3</td><td>315.585297</td><td>-5.831167</td><td>73.809631</td><td>SDSS210225.75-05505</td><td>54589.32</td><td>54589.402</td><td>0</td><td>27</td><td>27</td><td>--</td><td>Tn1</td><td>PFW</td><td>3670</td><td>--</td><td>Tn1</td><td>PFW</td><td>4004</td><td>--</td><td>Tn1</td><td>PFW</td><td>4290</td><td>54589.3203125</td><td>54589.40234375</td></tr>\n",
       "<tr><td>11939</td><td>3089</td><td>783560201</td><td>1</td><td>315.046844</td><td>-5.114555</td><td>256.963013</td><td>WASP-69</td><td>57682.23</td><td>57682.555</td><td>1</td><td>101</td><td>100</td><td>--</td><td>Med</td><td>PFW</td><td>27139</td><td>--</td><td>Med</td><td>PFW</td><td>29066</td><td>--</td><td>Med</td><td>PFW</td><td>29568</td><td>57682.23046875</td><td>57682.5546875</td></tr>\n",
       "<tr><td>12022</td><td>710</td><td>153090201</td><td>4</td><td>317.014801</td><td>-5.313111</td><td>255.822266</td><td>HU Aqr</td><td>52936.99</td><td>52937.12</td><td>0</td><td>4</td><td>4</td><td>--</td><td>Tn1</td><td></td><td>3771</td><td>--</td><td></td><td></td><td>0</td><td>--</td><td>Tn1</td><td>PPW2</td><td>4545</td><td>52936.98828125</td><td>52937.12109375</td></tr>\n",
       "<tr><td>12021</td><td>2542</td><td>724431101</td><td>1</td><td>317.012054</td><td>-5.314028</td><td>255.586884</td><td>HU Aqr</td><td>56590.703</td><td>56591.15</td><td>1</td><td>34</td><td>31</td><td>--</td><td>Tn1</td><td></td><td>23760</td><td>--</td><td>Tn1</td><td>PPW2</td><td>32571</td><td>--</td><td>Tn1</td><td>PPW2</td><td>34290</td><td>56590.703125</td><td>56591.1484375</td></tr>\n",
       "<tr><td>12017</td><td>631</td><td>153090101</td><td>4</td><td>316.970032</td><td>-5.277194</td><td>70.549423</td><td>HU Aqr</td><td>52779.473</td><td>52779.707</td><td>0</td><td>17</td><td>17</td><td>--</td><td></td><td></td><td>0</td><td>--</td><td>Tn1</td><td>FU</td><td>7072</td><td>--</td><td>Tn1</td><td>FU</td><td>7358</td><td>52779.47265625</td><td>52779.70703125</td></tr>\n",
       "<tr><td>12018</td><td>995</td><td>307400101</td><td>7</td><td>316.970093</td><td>-5.277417</td><td>71.38308</td><td>HU Aqr</td><td>53506.203</td><td>53506.43</td><td>0</td><td>37</td><td>37</td><td>--</td><td></td><td></td><td>0</td><td>--</td><td>Tn1</td><td>PPW3</td><td>16708</td><td>--</td><td>Tn1</td><td>PPW3</td><td>17417</td><td>53506.203125</td><td>53506.4296875</td></tr>\n",
       "<tr><td>12016</td><td>446</td><td>110860101</td><td>4</td><td>316.96991</td><td>-5.276028</td><td>71.252747</td><td>HU Aqr</td><td>52410.72</td><td>52411.14</td><td>0</td><td>49</td><td>49</td><td>--</td><td>Tn1</td><td></td><td>28175</td><td>--</td><td>Tn1</td><td>PPW2</td><td>31863</td><td>--</td><td>Tn1</td><td>PPW2</td><td>31899</td><td>52410.71875</td><td>52411.140625</td></tr>\n",
       "<tr><td>11875</td><td>890</td><td>203050501</td><td>3</td><td>312.595367</td><td>-5.626695</td><td>257.751373</td><td>SDSSJ2050-05</td><td>53296.426</td><td>53296.555</td><td>1</td><td>69</td><td>68</td><td>--</td><td>Tn1</td><td>PFW</td><td>9185</td><td>--</td><td>Tn1</td><td>PFW</td><td>11944</td><td>--</td><td>Tn1</td><td>PFW</td><td>12103</td><td>53296.42578125</td><td>53296.5546875</td></tr>\n",
       "<tr><td>11910</td><td>354</td><td>112190601</td><td>4</td><td>314.112823</td><td>-4.64875</td><td>254.184433</td><td>MS2053.7-0449</td><td>52227.387</td><td>52227.508</td><td>0</td><td>86</td><td>86</td><td>--</td><td>Med</td><td>PFWE</td><td>10531</td><td>--</td><td>Med</td><td>PFW</td><td>16500</td><td>--</td><td>Med</td><td>PFW</td><td>16499</td><td>52227.38671875</td><td>52227.5078125</td></tr>\n",
       "</table></div>"
      ],
      "text/plain": [
       "<Table length=13243>\n",
       "recno  Rev    ObsID    iODF ...  m_M2   t_M2    start_obs       end_obs    \n",
       "                            ...          s                                 \n",
       "int32 int16   int32   int16 ... object int32       Time           Time     \n",
       "----- ----- --------- ----- ... ------ ------ -------------- --------------\n",
       " 2082  3412 820910201     1 ...    PFW  13962 58325.73828125  58325.8984375\n",
       " 1885  3222 802200401     1 ...    PFW  21619  57947.8359375 57948.06640625\n",
       " 2013  1029 300210501     4 ...    PFW  24305 53573.29296875  53573.5703125\n",
       " 2015  1219 404010101     3 ...    PFW  32373    53953.34375  53953.7265625\n",
       " 2458   215 109870101     3 ...    PFW  18850  51949.6484375 51949.67578125\n",
       " 2455   669 147800201     5 ...    PFW 121109  52855.3046875 52856.39453125\n",
       " 2465   761 205570101     4 ...    PFW  12267  53038.7421875  53039.0234375\n",
       " 2078  1960 656201101     2 ...    PFW  13921 55430.73828125 55430.85546875\n",
       " 2067  3324 810230101     1 ...   PPW3   3241  58150.9609375  58151.0234375\n",
       "  ...   ...       ...   ... ...    ...    ...            ...            ...\n",
       "11953  1538 556210701     3 ...    PFW   4290  54589.3203125 54589.40234375\n",
       "11939  3089 783560201     1 ...    PFW  29568 57682.23046875  57682.5546875\n",
       "12022   710 153090201     4 ...   PPW2   4545 52936.98828125 52937.12109375\n",
       "12021  2542 724431101     1 ...   PPW2  34290   56590.703125  56591.1484375\n",
       "12017   631 153090101     4 ...     FU   7358 52779.47265625 52779.70703125\n",
       "12018   995 307400101     7 ...   PPW3  17417   53506.203125  53506.4296875\n",
       "12016   446 110860101     4 ...   PPW2  31899    52410.71875   52411.140625\n",
       "11875   890 203050501     3 ...    PFW  12103 53296.42578125  53296.5546875\n",
       "11910   354 112190601     4 ...    PFW  16499 52227.38671875  52227.5078125"
      ]
     },
     "execution_count": 82,
     "metadata": {},
     "output_type": "execute_result"
    }
   ],
   "source": [
    "# TODO here check the time scale in the catalog ('tai', 'tcb', 'tcg', 'tdb', 'tt', 'ut1', 'utc', 'local')\n",
    "# got help from Laurent https://xmm-tools.cosmos.esa.int/external/xmm_user_support/documentation/uhb/reftime.html\n",
    "xmmlog[\"start_obs\"] = Time(xmmlog[\"MJD0\"], format='mjd', scale=\"tt\")\n",
    "xmmlog[\"end_obs\"] = Time(xmmlog[\"MJD1\"], format='mjd', scale=\"tt\")\n",
    "xmmlog"
   ]
  },
  {
   "cell_type": "markdown",
   "metadata": {},
   "source": [
    "STMOCs are useful for identifying temporal and spatial overlaps between different astronomical catalogs, which is particularly useful for studying GRBs. Since GRBs are transient events that can be observed across multiple wavelengths.\n",
    "\n",
    "Using STMOCs can:\n",
    "- Help in identifying overlaps between different observations from different instruments which can aid in confirming GRB detections.\n",
    "- Help in obtain information from different instruments and to perform various physical studies such as GRB light curves, spectra, and afterglows, leading to better modeling of the underlying physical processes.\n",
    "- Help in pinpointing the exact sky regions where GRBs were observed, aiding in follow-up observations with other telescopes.\n",
    "- Help in cross-matching process that can lead to statistical studies of GRB populations.\n",
    "\n",
    "To create STMOCs, it is very important to set the temporal and spatial resolution. \n",
    "We have chosen 0.5 days to account for daily varations in the GRB (???)\n",
    "We have chosen 1 degree as its adequate resoltion for identifying a GRB (???)"
   ]
  },
  {
   "cell_type": "code",
   "execution_count": 83,
   "metadata": {},
   "outputs": [
    {
     "data": {
      "text/plain": [
       "26"
      ]
     },
     "execution_count": 83,
     "metadata": {},
     "output_type": "execute_result"
    }
   ],
   "source": [
    "TimeMOC.time_resolution_to_order(TimeDelta(0.5, format=\"jd\")) # 0.5 days is order 26"
   ]
  },
  {
   "cell_type": "code",
   "execution_count": 106,
   "metadata": {},
   "outputs": [
    {
     "data": {
      "text/plain": [
       "5"
      ]
     },
     "execution_count": 106,
     "metadata": {},
     "output_type": "execute_result"
    }
   ],
   "source": [
    "MOC.spatial_resolution_to_order(Angle(\"2d\")) # 1 degrees is order 6"
   ]
  },
  {
   "cell_type": "code",
   "execution_count": 107,
   "metadata": {},
   "outputs": [],
   "source": [
    "stmoc_xmm = STMOC.from_time_ranges_positions(\n",
    "    times_start=xmmlog[\"start_obs\"],\n",
    "    times_end=xmmlog[\"end_obs\"],\n",
    "    lon = Longitude(xmmlog[\"RAJ2000\"]),\n",
    "    lat = Latitude(xmmlog[\"DEJ2000\"]),\n",
    "    time_depth=26, spatial_depth=5\n",
    ")"
   ]
  },
  {
   "cell_type": "markdown",
   "metadata": {},
   "source": [
    "# \n",
    "Shown below are a series of plots that visualize the STMOCs maps of XMM-Newton observations for different time ranges. The plots show how the partial coverage of XMM-Newton observations changes over time. This is important for understanding the temporal distribution of GRB observations. Such plots can be useful in identifying overlapping observation periods with other instruments."
   ]
  },
  {
   "cell_type": "code",
   "execution_count": 108,
   "metadata": {},
   "outputs": [
    {
     "data": {
      "image/png": "[encoded data removed]",
      "text/plain": [
       "<Figure size 1000x1000 with 4 Axes>"
      ]
     },
     "metadata": {},
     "output_type": "display_data"
    }
   ],
   "source": [
    "def add_to_plot(fig, label, wcs, title, moc):\n",
    "    \"\"\"Add a MOC to a plot.\"\"\"\n",
    "    ax = fig.add_subplot(label, projection=wcs)\n",
    "\n",
    "    ax.grid(color=\"black\", linestyle=\"dotted\")\n",
    "    ax.set_title(title)\n",
    "    ax.set_xlabel(\"lon\")\n",
    "    ax.set_ylabel(\"lat\")\n",
    "\n",
    "    moc.fill(ax=ax, wcs=wcs, alpha=0.9, fill=True, linewidth=0, color=\"#00bb00\")\n",
    "    # moc.border(ax=ax, wcs=wcs, linewidth=1, color=\"green\")\n",
    "\n",
    "\n",
    "fig = plt.figure(figsize=(10, 10))\n",
    "\n",
    "time_ranges = Time(\n",
    "    [\n",
    "        [[\"2000-01-01\", \"2005-01-01\"]],\n",
    "        [[\"2005-01-01\", \"2010-01-01\"]],\n",
    "        [[\"2010-01-01\", \"2015-01-01\"]],\n",
    "        [[\"2015-01-01\", \"2020-01-01\"]],\n",
    "    ],\n",
    "    format=\"iso\",\n",
    "    scale=\"tdb\",\n",
    "    out_subfmt=\"date\",\n",
    ")\n",
    "with WCS(\n",
    "    fig,\n",
    "    fov=330 * u.deg,\n",
    "    center=SkyCoord(0, 0, unit=\"deg\", frame=\"galactic\"),\n",
    "    coordsys=\"galactic\",\n",
    "    rotation=Angle(0, u.degree),\n",
    "    projection=\"AIT\",\n",
    ") as wcs:\n",
    "    for i in range(0, 4):\n",
    "        tmoc = TimeMOC.from_time_ranges(\n",
    "            min_times=time_ranges[i][0, 0],\n",
    "            max_times=time_ranges[i][0, 1],\n",
    "            delta_t=TimeDelta(0.5, scale=\"tdb\", format=\"jd\"),\n",
    "        )\n",
    "\n",
    "        moc_2mass = stmoc_xmm.query_by_time(tmoc)\n",
    "        title = \"XMM observations between \\n{} and {}\".format(\n",
    "            time_ranges[i][0, 0].iso,\n",
    "            time_ranges[i][0, 1].iso,\n",
    "        )\n",
    "        id_subplot = int(\"22\" + str(i + 1))\n",
    "        add_to_plot(fig, id_subplot, wcs, title, moc_2mass)\n",
    "        aladin.add_moc(moc_2mass, fill=True, opacity=0.2, edge=True)\n",
    "\n",
    "plt.show()"
   ]
  },
  {
   "cell_type": "markdown",
   "metadata": {},
   "source": [
    "## Now fermi grb"
   ]
  },
  {
   "cell_type": "markdown",
   "metadata": {},
   "source": [
    "#\n",
    "The same process can be repeated for Fermi "
   ]
  },
  {
   "cell_type": "code",
   "execution_count": 87,
   "metadata": {},
   "outputs": [
    {
     "data": {
      "text/html": [
       "<div><i>Table length=16</i>\n",
       "<table id=\"table140597196231664\" class=\"table-striped table-bordered table-condensed\">\n",
       "<thead><tr><th>catid</th><th>kslot</th><th>status</th><th>catype</th><th>name</th><th>title</th><th>bibcode</th><th>authors</th><th>explain</th><th>popu</th><th>authid</th><th>flags</th><th>doi</th><th>orcid</th><th>artdoi</th></tr></thead>\n",
       "<thead><tr><th>int32</th><th>int16</th><th>int16</th><th>int16</th><th>object</th><th>object</th><th>object</th><th>object</th><th>object</th><th>int32</th><th>int32</th><th>int32</th><th>object</th><th>object</th><th>object</th></tr></thead>\n",
       "<tr><td>18930046</td><td>54</td><td>0</td><td>2</td><td>J/ApJ/893/46</td><td>The fourth Fermi-GBM GRB catalog: 10 years (von Kienlin+, 2020)</td><td>2020ApJ...893...46V</td><td>von Kienlin A., Meegan C.A., Paciesas W.S., et al.</td><td></td><td>-1</td><td>0</td><td>0</td><td>10.26093/cds/vizier.18930046</td><td>0000-0002-0221-5916</td><td>10.3847/1538-4357/ab7a18</td></tr>\n",
       "<tr><td>18730060</td><td>8</td><td>0</td><td>2</td><td>J/ApJ/873/60</td><td>Improved Fermi-GBM GRB localizations using BALROG (Berlato+, 2019)</td><td>2019ApJ...873...60B</td><td>Berlato F., Greiner J., Burgess J.M.</td><td></td><td>-1</td><td>0</td><td>0</td><td></td><td>0000-0001-8747-0627</td><td>10.3847/1538-4357/ab0413</td></tr>\n",
       "<tr><td>35570100</td><td>51</td><td>0</td><td>5</td><td>J/A+A/557/A100</td><td>Fermi and Swift GRBs E_peak_-E_iso_ relation (Heussaff+, 2013)</td><td>2013A&amp;A...557A.100H</td><td>Heussaff V., Atteia J.-L., Zolnierowski Y.</td><td></td><td>1774</td><td>0</td><td>0</td><td>10.26093/cds/vizier.35570100</td><td></td><td>10.1051/0004-6361/201321528</td></tr>\n",
       "<tr><td>19150086</td><td>24</td><td>0</td><td>2</td><td>J/ApJ/915/86</td><td>Swift &amp; Fermi GRBs with LIGO-Virgo run O3a data (Abbott+, 2021)</td><td>2021ApJ...915...86A</td><td>Abbott R., Abbott T.D., Abraham S. et al. The LIGO Scientific Collaboration and the Virgo Collaboration.</td><td></td><td>-1</td><td>0</td><td>0</td><td>10.26093/cds/vizier.19150086</td><td></td><td>10.3847/1538-4357/abee15</td></tr>\n",
       "<tr><td>18650153</td><td>43</td><td>0</td><td>2</td><td>J/ApJ/865/153</td><td>Analysis of Fermi GRB data. IV. Spectral lags (Lu+, 2018)</td><td>2018ApJ...865..153L</td><td>Lu R.-J., Liang Y.-F., Lin D.-B., Lu J., Wang X.-G., Lu H.-J., Liu H.-B., Liang E.-W., Zhang B.</td><td></td><td>293</td><td>0</td><td>0</td><td>10.26093/cds/vizier.18650153</td><td></td><td>10.3847/1538-4357/aada16</td></tr>\n",
       "<tr><td>74900927</td><td>54</td><td>0</td><td>5</td><td>J/MNRAS/490/927</td><td>Bayesian Fermi-GBM short GRB spectral catalogue (Burgess+, 2019)</td><td>2019MNRAS.490..927B</td><td>Burgess J.M., Greiner J., Begue D., Berlato F.</td><td></td><td>-1</td><td>0</td><td>0</td><td></td><td>0000-0003-3345-9515</td><td>10.1093/mnras/stz2589</td></tr>\n",
       "<tr><td>35880135</td><td>54</td><td>0</td><td>2</td><td>J/A+A/588/A135</td><td>Fermi/GBM GRB time-resolved spectral catalog (Yu+, 2016)</td><td>2016A&amp;A...588A.135Y</td><td>Yu H.-F., Preece R.D., Greiner J., et al.</td><td></td><td>43</td><td>0</td><td>0</td><td>10.26093/cds/vizier.35880135</td><td></td><td>10.1051/0004-6361/201527509</td></tr>\n",
       "<tr><td>74313608</td><td>54</td><td>0</td><td>2</td><td>J/MNRAS/431/3608</td><td>BeppoSAX/GRBM and Fermi/GBM long GRBs (Dichiara+, 2013)</td><td>2013MNRAS.431.3608D</td><td>Dichiara S., Guidorzi C., Amati L., Frontera F.</td><td></td><td>1071</td><td>0</td><td>0</td><td>10.26093/cds/vizier.74313608</td><td></td><td>10.1093/mnras/stt445</td></tr>\n",
       "<tr><td>22110013</td><td>54</td><td>0</td><td>2</td><td>J/ApJS/211/13</td><td>The second Fermi/GBM GRB catalog (4yr) (von Kienlin+, 2014)</td><td>2014ApJS..211...13V</td><td>von Kienlin A., Meegan C.A., Paciesas W.S., et al.</td><td></td><td>2205</td><td>0</td><td>0</td><td>10.26093/cds/vizier.22110013</td><td></td><td>10.1088/0067-0049/211/1/13</td></tr>\n",
       "<tr><td>17630015</td><td>54</td><td>0</td><td>5</td><td>J/ApJ/763/15</td><td>Fermi GRB analysis. III. T_90_ distributions (Qin+, 2013)</td><td>2013ApJ...763...15Q</td><td>Qin Y., Liang E.-W., Liang Y.-F., Yi S.-X., Lin L., Zhang B.-B., Zhang J., Lu H.-J., Lu R.-J., Lu L.-Z., Zhang B.</td><td></td><td>2197</td><td>0</td><td>0</td><td>10.26093/cds/vizier.17630015</td><td></td><td>10.1088/0004-637X/763/1/15</td></tr>\n",
       "<tr><td>17560112</td><td>54</td><td>0</td><td>2</td><td>J/ApJ/756/112</td><td>Fermi/GBM GRB time-resolved spectral analysis (Lu+, 2012)</td><td>2012ApJ...756..112L</td><td>Lu R.-J., Wei J.-J., Liang E.-W., Zhang B.-B., Lu H.-J., Lu L.-Z., Lei W.-H., Zhang B.</td><td></td><td>1438</td><td>0</td><td>0</td><td>10.26093/cds/vizier.17560112</td><td></td><td>10.1088/0004-637X/756/2/112</td></tr>\n",
       "<tr><td>18110093</td><td>51</td><td>0</td><td>2</td><td>J/ApJ/811/93</td><td>Fermi/GBM GRB minimum timescales (Golkhou+, 2015)</td><td>2015ApJ...811...93G</td><td>Golkhou V.Z., Butler N.R., Littlejohns O.M.</td><td></td><td>1215</td><td>0</td><td>0</td><td>10.26093/cds/vizier.18110093</td><td></td><td>10.1088/0004-637X/811/2/93</td></tr>\n",
       "<tr><td>22230028</td><td>54</td><td>0</td><td>2</td><td>J/ApJS/223/28</td><td>The third Fermi/GBM GRB catalog (6yr) (Bhat+, 2016)</td><td>2016ApJS..223...28B</td><td>Bhat P.N., Meegan C.A., von Kienlin A., et al.</td><td></td><td>1205</td><td>0</td><td>0</td><td>10.26093/cds/vizier.22230028</td><td></td><td></td></tr>\n",
       "<tr><td>22540035</td><td>54</td><td>0</td><td>5</td><td>J/ApJS/254/35</td><td>Fermi GBM GRBs with multiple pulses (Li+, 2021)</td><td>2021ApJS..254...35L</td><td>Li L., Ryde F., Pe&apos;er A., Yu H.-F., Acuner Z.</td><td></td><td>-1</td><td>0</td><td>0</td><td>10.26093/cds/vizier.22540035</td><td>0000-0002-1343-3089</td><td>10.3847/1538-4365/abee2a</td></tr>\n",
       "<tr><td>18060052</td><td>61</td><td>0</td><td>2</td><td>J/ApJ/806/52</td><td>8 Fermi GRB afterglows follow-up (Singer+, 2015)</td><td>2015ApJ...806...52S</td><td>Singer L.P., Kasliwal M.M., Cenko S.B., et al.</td><td>\\vizContent{timeSerie}</td><td>376</td><td>0</td><td>0</td><td>10.26093/cds/vizier.18060052</td><td></td><td>10.1088/0004-637X/806/1/52</td></tr>\n",
       "<tr><td>18440126</td><td>54</td><td>0</td><td>5</td><td>J/ApJ/844/126</td><td>New spectral lag measurements of 50 Fermi/GBM GRBs (Shao+, 2017)</td><td>2017ApJ...844..126S</td><td>Shao L., Zhang B.-B., Wang F.-R., Wu X.-F., Cheng Y.-H., Zhang Xi, Yu B.-Y., Xi B.-J., Wang X., Feng H.-X., Zhang M., Xu D.</td><td></td><td>510</td><td>0</td><td>0</td><td>10.26093/cds/vizier.18440126</td><td></td><td>10.3847/1538-4357/aa7d01</td></tr>\n",
       "</table></div>"
      ],
      "text/plain": [
       "<Table length=16>\n",
       " catid   kslot status ...        orcid                   artdoi          \n",
       " int32   int16 int16  ...        object                  object          \n",
       "-------- ----- ------ ... ------------------- ---------------------------\n",
       "18930046    54      0 ... 0000-0002-0221-5916    10.3847/1538-4357/ab7a18\n",
       "18730060     8      0 ... 0000-0001-8747-0627    10.3847/1538-4357/ab0413\n",
       "35570100    51      0 ...                     10.1051/0004-6361/201321528\n",
       "19150086    24      0 ...                        10.3847/1538-4357/abee15\n",
       "18650153    43      0 ...                        10.3847/1538-4357/aada16\n",
       "74900927    54      0 ... 0000-0003-3345-9515       10.1093/mnras/stz2589\n",
       "35880135    54      0 ...                     10.1051/0004-6361/201527509\n",
       "74313608    54      0 ...                            10.1093/mnras/stt445\n",
       "22110013    54      0 ...                      10.1088/0067-0049/211/1/13\n",
       "17630015    54      0 ...                      10.1088/0004-637X/763/1/15\n",
       "17560112    54      0 ...                     10.1088/0004-637X/756/2/112\n",
       "18110093    51      0 ...                      10.1088/0004-637X/811/2/93\n",
       "22230028    54      0 ...                                                \n",
       "22540035    54      0 ... 0000-0002-1343-3089    10.3847/1538-4365/abee2a\n",
       "18060052    61      0 ...                      10.1088/0004-637X/806/1/52\n",
       "18440126    54      0 ...                        10.3847/1538-4357/aa7d01"
      ]
     },
     "execution_count": 87,
     "metadata": {},
     "output_type": "execute_result"
    }
   ],
   "source": [
    "fermi_grb_metacat = tap_vizier.search(\"\"\"select * from METAcat\n",
    "                              where title like '%Fermi%GRB%'\n",
    "                              \"\"\").to_table()\n",
    "fermi_grb_metacat\n"
   ]
  },
  {
   "cell_type": "code",
   "execution_count": 88,
   "metadata": {},
   "outputs": [],
   "source": [
    "fermi_grb_catid = 18930046"
   ]
  },
  {
   "cell_type": "code",
   "execution_count": 89,
   "metadata": {},
   "outputs": [
    {
     "data": {
      "text/html": [
       "<div><i>Table length=5</i>\n",
       "<table id=\"table140597248526320\" class=\"table-striped table-bordered table-condensed\">\n",
       "<thead><tr><th>name</th><th>dbname</th><th>dbaid</th><th>catid</th><th>tabid</th><th>notid</th><th>flags</th><th>equinox</th><th>epoch</th><th>cooframe</th><th>status</th><th>explain</th><th>comment</th><th>records</th><th>loadate</th><th>release</th><th>filename</th><th>cooprec</th><th>morexplain</th></tr></thead>\n",
       "<thead><tr><th></th><th></th><th></th><th></th><th></th><th></th><th></th><th>yr</th><th>yr</th><th></th><th></th><th></th><th></th><th></th><th></th><th></th><th></th><th>mas</th><th></th></tr></thead>\n",
       "<thead><tr><th>object</th><th>object</th><th>int16</th><th>int32</th><th>int16</th><th>int16</th><th>int16</th><th>int16</th><th>float64</th><th>int16</th><th>int16</th><th>object</th><th>object</th><th>int64</th><th>int32</th><th>int32</th><th>object</th><th>float32</th><th>object</th></tr></thead>\n",
       "<tr><td>J/ApJ/893/46/table4</td><td>c18930046t4</td><td>44</td><td>18930046</td><td>1</td><td>0</td><td>0</td><td>2000</td><td>--</td><td>5</td><td>0</td><td>GRB triggers: locations and trigger characteristics</td><td></td><td>2360</td><td>673015251</td><td>709226047</td><td>/ftp/cats/J/ApJ/893/46/table4.dat</td><td>1800000.0</td><td></td></tr>\n",
       "<tr><td>J/ApJ/893/46/table5</td><td>c18930046t5</td><td>44</td><td>18930046</td><td>2</td><td>0</td><td>0</td><td>--</td><td>--</td><td>0</td><td>0</td><td>GRB durations (50-300keV)</td><td></td><td>2359</td><td>673015251</td><td>709226047</td><td>/ftp/cats/J/ApJ/893/46/table5.dat</td><td>--</td><td></td></tr>\n",
       "<tr><td>J/ApJ/893/46/table6</td><td>c18930046t6</td><td>44</td><td>18930046</td><td>3</td><td>0</td><td>0</td><td>--</td><td>--</td><td>0</td><td>0</td><td>GRB fluence &amp; peak flux (10-1000keV)</td><td></td><td>2359</td><td>673015251</td><td>709226047</td><td>/ftp/cats/J/ApJ/893/46/table6.dat</td><td>--</td><td></td></tr>\n",
       "<tr><td>J/ApJ/893/46/table7</td><td>c18930046t7</td><td>44</td><td>18930046</td><td>4</td><td>0</td><td>0</td><td>--</td><td>--</td><td>0</td><td>0</td><td>GRB fluence &amp; peak flux (50-300keV)</td><td></td><td>2359</td><td>673015251</td><td>709226047</td><td>/ftp/cats/J/ApJ/893/46/table7.dat</td><td>--</td><td></td></tr>\n",
       "<tr><td>J/ApJ/893/46/table3</td><td>c18930046t3</td><td>44</td><td>18930046</td><td>5</td><td>0</td><td>0</td><td>--</td><td>--</td><td>0</td><td>0</td><td>Trigger modification history</td><td></td><td>995</td><td>673015251</td><td>709226047</td><td>/ftp/cats/J/ApJ/893/46/table3.dat</td><td>--</td><td></td></tr>\n",
       "</table></div>"
      ],
      "text/plain": [
       "<Table length=5>\n",
       "        name           dbname   dbaid ...  cooprec  morexplain\n",
       "                                      ...    mas              \n",
       "       object          object   int16 ...  float32    object  \n",
       "------------------- ----------- ----- ... --------- ----------\n",
       "J/ApJ/893/46/table4 c18930046t4    44 ... 1800000.0           \n",
       "J/ApJ/893/46/table5 c18930046t5    44 ...        --           \n",
       "J/ApJ/893/46/table6 c18930046t6    44 ...        --           \n",
       "J/ApJ/893/46/table7 c18930046t7    44 ...        --           \n",
       "J/ApJ/893/46/table3 c18930046t3    44 ...        --           "
      ]
     },
     "execution_count": 89,
     "metadata": {},
     "output_type": "execute_result"
    }
   ],
   "source": [
    "fermi_grb_tables = tap_vizier.search(f\"\"\"select * from METAtab where catid={fermi_grb_catid}\n",
    "\"\"\").to_table()\n",
    "fermi_grb_tables"
   ]
  },
  {
   "cell_type": "code",
   "execution_count": 90,
   "metadata": {},
   "outputs": [
    {
     "data": {
      "text/html": [
       "<div><i>Table length=13</i>\n",
       "<table id=\"table140597196082720\" class=\"table-striped table-bordered table-condensed\">\n",
       "<thead><tr><th>table_name</th><th>column_name</th><th>description</th><th>unit</th><th>ucd</th><th>utype</th><th>datatype</th><th>size</th><th>principal</th><th>indexed</th><th>std</th></tr></thead>\n",
       "<thead><tr><th>object</th><th>object</th><th>object</th><th>object</th><th>object</th><th>object</th><th>object</th><th>int32</th><th>int32</th><th>int32</th><th>int32</th></tr></thead>\n",
       "<tr><td>J/ApJ/893/46/table4</td><td>recno</td><td>Record number assigned by the VizieR team. Should Not be used for identification.</td><td></td><td>meta.record</td><td></td><td>INTEGER</td><td>-1</td><td>0</td><td>0</td><td>1</td></tr>\n",
       "<tr><td>J/ApJ/893/46/table4</td><td>Fermi</td><td>Trigger identifier (bnYYMMDDddd)</td><td></td><td>meta.id;meta.main</td><td></td><td>CHAR(11)</td><td>11</td><td>0</td><td>0</td><td>1</td></tr>\n",
       "<tr><td>J/ApJ/893/46/table4</td><td>f_Fermi</td><td>[A-Cb-z] Flag on Fermi (1)</td><td></td><td>meta.code</td><td></td><td>CHAR(1)</td><td>1</td><td>0</td><td>0</td><td>1</td></tr>\n",
       "<tr><td>J/ApJ/893/46/table4</td><td>GRB</td><td>Gamma-ray burst identifier (YYMMDDA)</td><td></td><td>meta.id</td><td></td><td>CHAR(7)</td><td>7</td><td>0</td><td>0</td><td>1</td></tr>\n",
       "<tr><td>J/ApJ/893/46/table4</td><td>Obs</td><td>UT date of the observation; date added by CDS</td><td>s</td><td>time.epoch;obs</td><td></td><td>INTEGER</td><td>-1</td><td>0</td><td>0</td><td>1</td></tr>\n",
       "<tr><td>J/ApJ/893/46/table4</td><td>RAJ2000</td><td>Right Ascension in decimal degrees (J2000)</td><td>deg</td><td>pos.eq.ra;meta.main</td><td></td><td>DOUBLE</td><td>-1</td><td>1</td><td>2</td><td>1</td></tr>\n",
       "<tr><td>J/ApJ/893/46/table4</td><td>DEJ2000</td><td>Declination in decimal degrees (J2000)</td><td>deg</td><td>pos.eq.dec;meta.main</td><td></td><td>DOUBLE</td><td>-1</td><td>1</td><td>2</td><td>1</td></tr>\n",
       "<tr><td>J/ApJ/893/46/table4</td><td>Error</td><td>[0/68.1] Position error</td><td>deg</td><td>stat.error;pos</td><td></td><td>DOUBLE</td><td>-1</td><td>0</td><td>0</td><td>1</td></tr>\n",
       "<tr><td>J/ApJ/893/46/table4</td><td>Loc</td><td>Location source</td><td></td><td>meta.note</td><td></td><td>VARCHAR</td><td>-1</td><td>0</td><td>0</td><td>1</td></tr>\n",
       "<tr><td>J/ApJ/893/46/table4</td><td>Al</td><td>[0/56] Algorithm (2)</td><td></td><td>meta.id</td><td></td><td>SMALLINT</td><td>-1</td><td>0</td><td>0</td><td>1</td></tr>\n",
       "<tr><td>J/ApJ/893/46/table4</td><td>Time</td><td>[0/8192] Timescale</td><td>ms</td><td>time.scale</td><td></td><td>SMALLINT</td><td>-1</td><td>0</td><td>0</td><td>1</td></tr>\n",
       "<tr><td>J/ApJ/893/46/table4</td><td>Energy</td><td>Energy range</td><td>keV</td><td>em.energy</td><td></td><td>CHAR(6)</td><td>6</td><td>0</td><td>0</td><td>1</td></tr>\n",
       "<tr><td>J/ApJ/893/46/table4</td><td>Other</td><td>Other detection(s) (3)</td><td></td><td>meta.code</td><td></td><td>VARCHAR</td><td>-1</td><td>0</td><td>0</td><td>1</td></tr>\n",
       "</table></div>"
      ],
      "text/plain": [
       "<Table length=13>\n",
       "     table_name     column_name ... indexed  std \n",
       "       object          object   ...  int32  int32\n",
       "------------------- ----------- ... ------- -----\n",
       "J/ApJ/893/46/table4       recno ...       0     1\n",
       "J/ApJ/893/46/table4       Fermi ...       0     1\n",
       "J/ApJ/893/46/table4     f_Fermi ...       0     1\n",
       "J/ApJ/893/46/table4         GRB ...       0     1\n",
       "J/ApJ/893/46/table4         Obs ...       0     1\n",
       "J/ApJ/893/46/table4     RAJ2000 ...       2     1\n",
       "J/ApJ/893/46/table4     DEJ2000 ...       2     1\n",
       "J/ApJ/893/46/table4       Error ...       0     1\n",
       "J/ApJ/893/46/table4         Loc ...       0     1\n",
       "J/ApJ/893/46/table4          Al ...       0     1\n",
       "J/ApJ/893/46/table4        Time ...       0     1\n",
       "J/ApJ/893/46/table4      Energy ...       0     1\n",
       "J/ApJ/893/46/table4       Other ...       0     1"
      ]
     },
     "execution_count": 90,
     "metadata": {},
     "output_type": "execute_result"
    }
   ],
   "source": [
    "fermi_grb_triggers_columns = tap_vizier.search(\"\"\"select * from columns where table_name='J/ApJ/893/46/table4'\"\"\").to_table()\n",
    "fermi_grb_triggers_columns"
   ]
  },
  {
   "cell_type": "code",
   "execution_count": 91,
   "metadata": {},
   "outputs": [
    {
     "data": {
      "text/html": [
       "<div><i>Table length=10</i>\n",
       "<table id=\"table140597164441360\" class=\"table-striped table-bordered table-condensed\">\n",
       "<thead><tr><th>table_name</th><th>column_name</th><th>description</th><th>unit</th><th>ucd</th><th>utype</th><th>datatype</th><th>size</th><th>principal</th><th>indexed</th><th>std</th></tr></thead>\n",
       "<thead><tr><th>object</th><th>object</th><th>object</th><th>object</th><th>object</th><th>object</th><th>object</th><th>int32</th><th>int32</th><th>int32</th><th>int32</th></tr></thead>\n",
       "<tr><td>J/ApJ/893/46/table5</td><td>recno</td><td>Record number assigned by the VizieR team. Should Not be used for identification.</td><td></td><td>meta.record</td><td></td><td>INTEGER</td><td>-1</td><td>0</td><td>0</td><td>1</td></tr>\n",
       "<tr><td>J/ApJ/893/46/table5</td><td>Fermi</td><td>Trigger identifier</td><td></td><td>meta.id;meta.main</td><td></td><td>CHAR(11)</td><td>11</td><td>0</td><td>0</td><td>1</td></tr>\n",
       "<tr><td>J/ApJ/893/46/table5</td><td>f_Fermi</td><td>Flag on Fermi (1)</td><td></td><td>meta.code</td><td></td><td>CHAR(2)</td><td>2</td><td>0</td><td>0</td><td>1</td></tr>\n",
       "<tr><td>J/ApJ/893/46/table5</td><td>Det</td><td>Detectors Used</td><td></td><td>meta.id;instr</td><td></td><td>VARCHAR</td><td>-1</td><td>0</td><td>0</td><td>1</td></tr>\n",
       "<tr><td>J/ApJ/893/46/table5</td><td>T90</td><td>[0.008/829] Duration between 5% and 95% of maximum fluence</td><td>s</td><td>time.interval</td><td></td><td>DOUBLE</td><td>-1</td><td>0</td><td>0</td><td>1</td></tr>\n",
       "<tr><td>J/ApJ/893/46/table5</td><td>e_T90</td><td>[0.02/54] Uncertainty in T90</td><td>s</td><td>stat.error</td><td></td><td>DOUBLE</td><td>-1</td><td>0</td><td>0</td><td>1</td></tr>\n",
       "<tr><td>J/ApJ/893/46/table5</td><td>T90st</td><td>[-808/189] Start of T_90_ burst duration</td><td>s</td><td>time.start</td><td></td><td>DOUBLE</td><td>-1</td><td>0</td><td>0</td><td>1</td></tr>\n",
       "<tr><td>J/ApJ/893/46/table5</td><td>T50</td><td>[0.008/737] Duration between 25% and 75% of maximum fluence</td><td>s</td><td>time.interval</td><td></td><td>DOUBLE</td><td>-1</td><td>0</td><td>0</td><td>1</td></tr>\n",
       "<tr><td>J/ApJ/893/46/table5</td><td>e_T50</td><td>[0.01/40] Uncertainty in T50</td><td>s</td><td>stat.error</td><td></td><td>DOUBLE</td><td>-1</td><td>0</td><td>0</td><td>1</td></tr>\n",
       "<tr><td>J/ApJ/893/46/table5</td><td>T50st</td><td>[-737/223] Start of T_50_ burst duration</td><td>s</td><td>time.start</td><td></td><td>DOUBLE</td><td>-1</td><td>0</td><td>0</td><td>1</td></tr>\n",
       "</table></div>"
      ],
      "text/plain": [
       "<Table length=10>\n",
       "     table_name     column_name ... indexed  std \n",
       "       object          object   ...  int32  int32\n",
       "------------------- ----------- ... ------- -----\n",
       "J/ApJ/893/46/table5       recno ...       0     1\n",
       "J/ApJ/893/46/table5       Fermi ...       0     1\n",
       "J/ApJ/893/46/table5     f_Fermi ...       0     1\n",
       "J/ApJ/893/46/table5         Det ...       0     1\n",
       "J/ApJ/893/46/table5         T90 ...       0     1\n",
       "J/ApJ/893/46/table5       e_T90 ...       0     1\n",
       "J/ApJ/893/46/table5       T90st ...       0     1\n",
       "J/ApJ/893/46/table5         T50 ...       0     1\n",
       "J/ApJ/893/46/table5       e_T50 ...       0     1\n",
       "J/ApJ/893/46/table5       T50st ...       0     1"
      ]
     },
     "execution_count": 91,
     "metadata": {},
     "output_type": "execute_result"
    }
   ],
   "source": [
    "fermi_grb_durations_columns = tap_vizier.search(\"\"\"select * from columns where table_name='J/ApJ/893/46/table5'\"\"\").to_table()\n",
    "fermi_grb_durations_columns"
   ]
  },
  {
   "cell_type": "code",
   "execution_count": 92,
   "metadata": {},
   "outputs": [
    {
     "data": {
      "text/html": [
       "<div><i>Table length=1</i>\n",
       "<table id=\"table140597164441120\" class=\"table-striped table-bordered table-condensed\">\n",
       "<thead><tr><th>catid</th><th>tabid</th><th>colid</th><th>time_syst_id</th><th>scale_name</th><th>frame_name</th><th>time_systematic_err</th><th>name</th><th>description</th><th>time_offset</th><th>time_uncertainty</th><th>time_representation</th><th>id</th><th>name2</th><th>dbname</th><th>catid2</th><th>tabid2</th><th>colid2</th><th>notid</th><th>famid</th><th>ucdid</th><th>type</th><th>dbtype</th><th>length</th><th>flags</th><th>morid</th><th>fmt</th><th>unit</th><th>dbunit</th><th>vounit</th><th>explain</th><th>morexplain</th><th>utype</th></tr></thead>\n",
       "<thead><tr><th>int32</th><th>int16</th><th>int16</th><th>int32</th><th>object</th><th>object</th><th>float64</th><th>object</th><th>object</th><th>float64</th><th>float64</th><th>object</th><th>int16</th><th>object</th><th>object</th><th>int32</th><th>int16</th><th>int16</th><th>int16</th><th>int16</th><th>int32</th><th>int16</th><th>int16</th><th>int32</th><th>int16</th><th>int16</th><th>object</th><th>object</th><th>object</th><th>object</th><th>object</th><th>object</th><th>object</th></tr></thead>\n",
       "<tr><td>18930046</td><td>1</td><td>4</td><td>14</td><td>UT</td><td></td><td>1000.0</td><td>UT_default</td><td>default UT scale frame</td><td>--</td><td>--</td><td>ISO</td><td>15120</td><td>Obs</td><td>Obs</td><td>18930046</td><td>1</td><td>4</td><td>0</td><td>1363</td><td>92530</td><td>16</td><td>40</td><td>4</td><td>131</td><td>0</td><td>%19T</td><td>s</td><td>s</td><td>s</td><td>UT date of the observation; date added by CDS</td><td></td><td></td></tr>\n",
       "</table></div>"
      ],
      "text/plain": [
       "<Table length=1>\n",
       " catid   tabid colid ... morexplain utype \n",
       " int32   int16 int16 ...   object   object\n",
       "-------- ----- ----- ... ---------- ------\n",
       "18930046     1     4 ...                  "
      ]
     },
     "execution_count": 92,
     "metadata": {},
     "output_type": "execute_result"
    }
   ],
   "source": [
    "# lets get metatime for the trigger table (tabid=1)\n",
    "fermi_triggers_time_info = tap_vizier.search(\n",
    "    f\"\"\"select * from METAtime JOIN METAcol\n",
    "    on METAtime.catid = METAcol.catid\n",
    "    and METAcol.colid = METAtime.colid\n",
    "    and METAcol.tabid = METAtime.tabid\n",
    "    where METAcol.catid = {fermi_grb_catid} and METAcol.tabid = 1\n",
    "    \"\"\"\n",
    ").to_table()\n",
    "fermi_triggers_time_info\n"
   ]
  },
  {
   "cell_type": "code",
   "execution_count": 93,
   "metadata": {},
   "outputs": [
    {
     "data": {
      "text/html": [
       "<div><i>Table length=2359</i>\n",
       "<table id=\"table140597197525328\" class=\"table-striped table-bordered table-condensed\">\n",
       "<thead><tr><th>Fermi</th><th>recno</th><th>f_Fermi</th><th>Det</th><th>T90</th><th>e_T90</th><th>T90st</th><th>T50</th><th>e_T50</th><th>T50st</th><th>recno2</th><th>f_Fermi2</th><th>GRB</th><th>Obs</th><th>RAJ2000</th><th>DEJ2000</th><th>Error</th><th>Loc</th><th>Al</th><th>Time</th><th>Energy</th><th>Other</th></tr></thead>\n",
       "<thead><tr><th></th><th></th><th></th><th></th><th>s</th><th>s</th><th>s</th><th>s</th><th>s</th><th>s</th><th></th><th></th><th></th><th>s</th><th>deg</th><th>deg</th><th>deg</th><th></th><th></th><th>ms</th><th>keV</th><th></th></tr></thead>\n",
       "<thead><tr><th>object</th><th>int32</th><th>object</th><th>object</th><th>float64</th><th>float64</th><th>float64</th><th>float64</th><th>float64</th><th>float64</th><th>int32</th><th>str1</th><th>object</th><th>int32</th><th>float64</th><th>float64</th><th>float64</th><th>object</th><th>int16</th><th>int16</th><th>object</th><th>object</th></tr></thead>\n",
       "<tr><td>bn170110967</td><td>1990</td><td></td><td>3+4+6+7+8</td><td>34.048</td><td>12.554</td><td>-0.256</td><td>25.856</td><td>1.28</td><td>1.024</td><td>1991</td><td></td><td></td><td>537405171</td><td>49.6</td><td>12.1</td><td>7.2</td><td>Fermi, GBM FSW</td><td>11</td><td>512</td><td>47-291</td><td></td></tr>\n",
       "<tr><td>bn120412920</td><td>903</td><td></td><td>2+5</td><td>101.182</td><td>4.871</td><td>0.003</td><td>11.264</td><td>0.572</td><td>71.745</td><td>903</td><td></td><td>120412B</td><td>387583481</td><td>38.9</td><td>7.1</td><td>2.8</td><td>Fermi-GBM</td><td>9</td><td>256</td><td>47-291</td><td>K</td></tr>\n",
       "<tr><td>bn080714086</td><td>1</td><td></td><td>3+4+8</td><td>5.376</td><td>2.36</td><td>-0.768</td><td>2.816</td><td>0.81</td><td>-0.256</td><td>1</td><td></td><td>080714B</td><td>269316252</td><td>41.9</td><td>8.5</td><td>7.5</td><td>Fermi-GBM</td><td>10</td><td>512</td><td>47-291</td><td>K</td></tr>\n",
       "<tr><td>bn170305256</td><td>2038</td><td>b</td><td>0+1+2</td><td>0.448</td><td>0.072</td><td>-0.032</td><td>0.128</td><td>0.045</td><td>0.032</td><td>2039</td><td></td><td>170305A</td><td>542009347</td><td>38.7</td><td>12.1</td><td>3.7</td><td>Fermi, GBM FSW</td><td>1</td><td>16</td><td>47-291</td><td>K, IA, P, ARR</td></tr>\n",
       "<tr><td>bn091005679</td><td>320</td><td></td><td>6+7+8+11</td><td>6.976</td><td>0.572</td><td>-4.672</td><td>3.136</td><td>0.73</td><td>-1.984</td><td>320</td><td></td><td>091005A</td><td>308074650</td><td>43.1</td><td>12.1</td><td>5.1</td><td>Fermi-GBM</td><td>12</td><td>1024</td><td>47-291</td><td></td></tr>\n",
       "<tr><td>bn140414693</td><td>1350</td><td></td><td>0+1+3+4+5</td><td>25.6</td><td>2.202</td><td>-11.776</td><td>7.424</td><td>0.724</td><td>1.28</td><td>1350</td><td></td><td></td><td>450808718</td><td>45.7</td><td>13.8</td><td>2.3</td><td>Fermi-GBM</td><td>8</td><td>256</td><td>47-291</td><td></td></tr>\n",
       "<tr><td>bn100206563</td><td>394</td><td>g</td><td>0+1+2+3+5</td><td>0.176</td><td>0.072</td><td>-0.016</td><td>0.064</td><td>0.023</td><td>0.0</td><td>394</td><td></td><td>100206A</td><td>318778205</td><td>47.2</td><td>13.2</td><td>0.0</td><td>Swift</td><td>1</td><td>16</td><td>47-291</td><td>K, IA, S, W, ARR</td></tr>\n",
       "<tr><td>bn130912358</td><td>1225</td><td></td><td>7+8+11</td><td>0.512</td><td>0.143</td><td>-0.064</td><td>0.256</td><td>0.143</td><td>-0.064</td><td>1225</td><td></td><td>130912A</td><td>432290098</td><td>47.6</td><td>14.0</td><td>0.0</td><td>Swift</td><td>1</td><td>16</td><td>47-291</td><td>S, K</td></tr>\n",
       "<tr><td>bn170722525</td><td>2119</td><td></td><td>0+1+3</td><td>37.376</td><td>3.916</td><td>0.0</td><td>13.056</td><td>1.619</td><td>2.304</td><td>2120</td><td></td><td></td><td>554042174</td><td>50.0</td><td>14.3</td><td>4.5</td><td>Fermi-GBM</td><td>8</td><td>256</td><td>47-291</td><td></td></tr>\n",
       "<tr><td>...</td><td>...</td><td>...</td><td>...</td><td>...</td><td>...</td><td>...</td><td>...</td><td>...</td><td>...</td><td>...</td><td>...</td><td>...</td><td>...</td><td>...</td><td>...</td><td>...</td><td>...</td><td>...</td><td>...</td><td>...</td><td>...</td></tr>\n",
       "<tr><td>bn110923835</td><td>782</td><td></td><td>9+10+11</td><td>46.398</td><td>11.279</td><td>0.003</td><td>12.8</td><td>1.619</td><td>1.344</td><td>782</td><td></td><td>110923A</td><td>370123318</td><td>323.4</td><td>-10.9</td><td>3.7</td><td>Fermi-GBM</td><td>9</td><td>256</td><td>47-291</td><td>Mo, IA</td></tr>\n",
       "<tr><td>bn161230511</td><td>1985</td><td></td><td>0+1+3</td><td>48.896</td><td>4.382</td><td>-0.256</td><td>15.616</td><td>2.318</td><td>1.536</td><td>1986</td><td></td><td>161230A</td><td>536415368</td><td>324.1</td><td>-9.0</td><td>4.0</td><td>Fermi, GBM FSW</td><td>8</td><td>256</td><td>47-291</td><td>P</td></tr>\n",
       "<tr><td>bn140712706</td><td>1412</td><td></td><td>6+7+9+10+11</td><td>28.928</td><td>3.916</td><td>-0.768</td><td>17.152</td><td>1.145</td><td>2.048</td><td>1412</td><td></td><td>140712A</td><td>458499421</td><td>319.3</td><td>-10.7</td><td>9.2</td><td>Fermi-GBM</td><td>10</td><td>512</td><td>47-291</td><td></td></tr>\n",
       "<tr><td>bn121123421</td><td>1037</td><td></td><td>3+4+5</td><td>102.338</td><td>31.849</td><td>3.84</td><td>34.625</td><td>8.155</td><td>18.56</td><td>1037</td><td>d</td><td>121123A</td><td>406980361</td><td>307.3</td><td>-11.9</td><td>0.0</td><td>Swift</td><td>17</td><td>4096</td><td>47-291</td><td>S, W</td></tr>\n",
       "<tr><td>bn160621497</td><td>1862</td><td></td><td>6+7+8+9+11</td><td>251.136</td><td>6.734</td><td>1.024</td><td>194.816</td><td>12.81</td><td>25.6</td><td>1862</td><td></td><td></td><td>519825356</td><td>307.5</td><td>-9.5</td><td>9.1</td><td>Fermi-GBM</td><td>10</td><td>512</td><td>47-291</td><td>Mo</td></tr>\n",
       "<tr><td>bn110717180</td><td>737</td><td>g</td><td>8+11</td><td>0.112</td><td>0.072</td><td>-0.016</td><td>0.032</td><td>0.023</td><td>0.0</td><td>737</td><td></td><td>110717A</td><td>364191591</td><td>308.5</td><td>-7.8</td><td>7.4</td><td>Fermi-GBM</td><td>1</td><td>16</td><td>47-291</td><td>K, IA</td></tr>\n",
       "<tr><td>bn140206275</td><td>1311</td><td></td><td>0+1+2+3+5</td><td>146.69</td><td>4.419</td><td>7.488</td><td>24.576</td><td>0.81</td><td>13.888</td><td>1311</td><td></td><td>140206B</td><td>444983773</td><td>315.3</td><td>-8.5</td><td>0.2</td><td>Fermi-LAT</td><td>7</td><td>128</td><td>47-291</td><td>L, K, ARR</td></tr>\n",
       "<tr><td>bn121023322</td><td>1020</td><td></td><td>9+10</td><td>0.512</td><td>0.181</td><td>-0.128</td><td>0.32</td><td>0.091</td><td>-0.064</td><td>1020</td><td></td><td></td><td>404293457</td><td>313.9</td><td>-4.4</td><td>4.8</td><td>Fermi-GBM</td><td>4</td><td>64</td><td>47-291</td><td></td></tr>\n",
       "<tr><td>bn140724533</td><td>1425</td><td></td><td>7+8+11</td><td>0.896</td><td>0.82</td><td>-0.256</td><td>0.128</td><td>0.264</td><td>-0.064</td><td>1425</td><td></td><td></td><td>459521269</td><td>314.7</td><td>-1.9</td><td>28.7</td><td>Fermi-GBM</td><td>9</td><td>256</td><td>47-291</td><td></td></tr>\n",
       "</table></div>"
      ],
      "text/plain": [
       "<Table length=2359>\n",
       "   Fermi    recno f_Fermi     Det     ...   Al   Time Energy      Other      \n",
       "                                      ...         ms   keV                   \n",
       "   object   int32  object    object   ... int16 int16 object      object     \n",
       "----------- ----- ------- ----------- ... ----- ----- ------ ----------------\n",
       "bn170110967  1990           3+4+6+7+8 ...    11   512 47-291                 \n",
       "bn120412920   903                 2+5 ...     9   256 47-291                K\n",
       "bn080714086     1               3+4+8 ...    10   512 47-291                K\n",
       "bn170305256  2038       b       0+1+2 ...     1    16 47-291    K, IA, P, ARR\n",
       "bn091005679   320            6+7+8+11 ...    12  1024 47-291                 \n",
       "bn140414693  1350           0+1+3+4+5 ...     8   256 47-291                 \n",
       "bn100206563   394       g   0+1+2+3+5 ...     1    16 47-291 K, IA, S, W, ARR\n",
       "bn130912358  1225              7+8+11 ...     1    16 47-291             S, K\n",
       "bn170722525  2119               0+1+3 ...     8   256 47-291                 \n",
       "        ...   ...     ...         ... ...   ...   ...    ...              ...\n",
       "bn110923835   782             9+10+11 ...     9   256 47-291           Mo, IA\n",
       "bn161230511  1985               0+1+3 ...     8   256 47-291                P\n",
       "bn140712706  1412         6+7+9+10+11 ...    10   512 47-291                 \n",
       "bn121123421  1037               3+4+5 ...    17  4096 47-291             S, W\n",
       "bn160621497  1862          6+7+8+9+11 ...    10   512 47-291               Mo\n",
       "bn110717180   737       g        8+11 ...     1    16 47-291            K, IA\n",
       "bn140206275  1311           0+1+2+3+5 ...     7   128 47-291        L, K, ARR\n",
       "bn121023322  1020                9+10 ...     4    64 47-291                 \n",
       "bn140724533  1425              7+8+11 ...     9   256 47-291                 "
      ]
     },
     "execution_count": 93,
     "metadata": {},
     "output_type": "execute_result"
    }
   ],
   "source": [
    "# let's query the joined tables (to get event start time and duration)\n",
    "fermi = tap_vizier.search(\n",
    "    \"\"\"select * from \"J/ApJ/893/46/table5\"\n",
    "    join \"J/ApJ/893/46/table4\" USING(Fermi)\n",
    "    \"\"\"\n",
    ").to_table()\n",
    "fermi"
   ]
  },
  {
   "cell_type": "code",
   "execution_count": 94,
   "metadata": {},
   "outputs": [],
   "source": [
    "# we have to define a specific time for vizier \n",
    "\n",
    "from astropy.time.formats import erfa, TimeFromEpoch\n",
    "class TimeVizier(TimeFromEpoch):\n",
    "    name = \"viztime\"\n",
    "    unit = 1.0 / erfa.DAYSEC  # in days (1 day == 86400 seconds)\n",
    "    epoch_val = \"2000-01-01 00:00:00\"\n",
    "    epoch_val2 = None\n",
    "    epoch_scale = \"utc\"\n",
    "    epoch_format = \"iso\""
   ]
  },
  {
   "cell_type": "code",
   "execution_count": 95,
   "metadata": {},
   "outputs": [
    {
     "data": {
      "text/html": [
       "<div><i>Table length=2359</i>\n",
       "<table id=\"table140597197525328\" class=\"table-striped table-bordered table-condensed\">\n",
       "<thead><tr><th>Fermi</th><th>recno</th><th>f_Fermi</th><th>Det</th><th>T90</th><th>e_T90</th><th>T90st</th><th>T50</th><th>e_T50</th><th>T50st</th><th>recno2</th><th>f_Fermi2</th><th>GRB</th><th>Obs</th><th>RAJ2000</th><th>DEJ2000</th><th>Error</th><th>Loc</th><th>Al</th><th>Time</th><th>Energy</th><th>Other</th><th>start_time</th><th>end_time</th></tr></thead>\n",
       "<thead><tr><th></th><th></th><th></th><th></th><th>s</th><th>s</th><th>s</th><th>s</th><th>s</th><th>s</th><th></th><th></th><th></th><th>s</th><th>deg</th><th>deg</th><th>deg</th><th></th><th></th><th>ms</th><th>keV</th><th></th><th></th><th></th></tr></thead>\n",
       "<thead><tr><th>object</th><th>int32</th><th>object</th><th>object</th><th>float64</th><th>float64</th><th>float64</th><th>float64</th><th>float64</th><th>float64</th><th>int32</th><th>str1</th><th>object</th><th>int32</th><th>float64</th><th>float64</th><th>float64</th><th>object</th><th>int16</th><th>int16</th><th>object</th><th>object</th><th>Time</th><th>Time</th></tr></thead>\n",
       "<tr><td>bn170110967</td><td>1990</td><td></td><td>3+4+6+7+8</td><td>34.048</td><td>12.554</td><td>-0.256</td><td>25.856</td><td>1.28</td><td>1.024</td><td>1991</td><td></td><td></td><td>537405171</td><td>49.6</td><td>12.1</td><td>7.2</td><td>Fermi, GBM FSW</td><td>11</td><td>512</td><td>47-291</td><td></td><td>537361971.0</td><td>537448371.0</td></tr>\n",
       "<tr><td>bn120412920</td><td>903</td><td></td><td>2+5</td><td>101.182</td><td>4.871</td><td>0.003</td><td>11.264</td><td>0.572</td><td>71.745</td><td>903</td><td></td><td>120412B</td><td>387583481</td><td>38.9</td><td>7.1</td><td>2.8</td><td>Fermi-GBM</td><td>9</td><td>256</td><td>47-291</td><td>K</td><td>387540281.0</td><td>387626681.0</td></tr>\n",
       "<tr><td>bn080714086</td><td>1</td><td></td><td>3+4+8</td><td>5.376</td><td>2.36</td><td>-0.768</td><td>2.816</td><td>0.81</td><td>-0.256</td><td>1</td><td></td><td>080714B</td><td>269316252</td><td>41.9</td><td>8.5</td><td>7.5</td><td>Fermi-GBM</td><td>10</td><td>512</td><td>47-291</td><td>K</td><td>269273052.0</td><td>269359452.0</td></tr>\n",
       "<tr><td>bn170305256</td><td>2038</td><td>b</td><td>0+1+2</td><td>0.448</td><td>0.072</td><td>-0.032</td><td>0.128</td><td>0.045</td><td>0.032</td><td>2039</td><td></td><td>170305A</td><td>542009347</td><td>38.7</td><td>12.1</td><td>3.7</td><td>Fermi, GBM FSW</td><td>1</td><td>16</td><td>47-291</td><td>K, IA, P, ARR</td><td>541966147.0</td><td>542052547.0</td></tr>\n",
       "<tr><td>bn091005679</td><td>320</td><td></td><td>6+7+8+11</td><td>6.976</td><td>0.572</td><td>-4.672</td><td>3.136</td><td>0.73</td><td>-1.984</td><td>320</td><td></td><td>091005A</td><td>308074650</td><td>43.1</td><td>12.1</td><td>5.1</td><td>Fermi-GBM</td><td>12</td><td>1024</td><td>47-291</td><td></td><td>308031450.0</td><td>308117850.0</td></tr>\n",
       "<tr><td>bn140414693</td><td>1350</td><td></td><td>0+1+3+4+5</td><td>25.6</td><td>2.202</td><td>-11.776</td><td>7.424</td><td>0.724</td><td>1.28</td><td>1350</td><td></td><td></td><td>450808718</td><td>45.7</td><td>13.8</td><td>2.3</td><td>Fermi-GBM</td><td>8</td><td>256</td><td>47-291</td><td></td><td>450765518.0</td><td>450851918.0</td></tr>\n",
       "<tr><td>bn100206563</td><td>394</td><td>g</td><td>0+1+2+3+5</td><td>0.176</td><td>0.072</td><td>-0.016</td><td>0.064</td><td>0.023</td><td>0.0</td><td>394</td><td></td><td>100206A</td><td>318778205</td><td>47.2</td><td>13.2</td><td>0.0</td><td>Swift</td><td>1</td><td>16</td><td>47-291</td><td>K, IA, S, W, ARR</td><td>318735005.0</td><td>318821405.0</td></tr>\n",
       "<tr><td>bn130912358</td><td>1225</td><td></td><td>7+8+11</td><td>0.512</td><td>0.143</td><td>-0.064</td><td>0.256</td><td>0.143</td><td>-0.064</td><td>1225</td><td></td><td>130912A</td><td>432290098</td><td>47.6</td><td>14.0</td><td>0.0</td><td>Swift</td><td>1</td><td>16</td><td>47-291</td><td>S, K</td><td>432246898.0</td><td>432333298.0</td></tr>\n",
       "<tr><td>bn170722525</td><td>2119</td><td></td><td>0+1+3</td><td>37.376</td><td>3.916</td><td>0.0</td><td>13.056</td><td>1.619</td><td>2.304</td><td>2120</td><td></td><td></td><td>554042174</td><td>50.0</td><td>14.3</td><td>4.5</td><td>Fermi-GBM</td><td>8</td><td>256</td><td>47-291</td><td></td><td>553998974.0</td><td>554085374.0</td></tr>\n",
       "<tr><td>...</td><td>...</td><td>...</td><td>...</td><td>...</td><td>...</td><td>...</td><td>...</td><td>...</td><td>...</td><td>...</td><td>...</td><td>...</td><td>...</td><td>...</td><td>...</td><td>...</td><td>...</td><td>...</td><td>...</td><td>...</td><td>...</td><td>...</td><td>...</td></tr>\n",
       "<tr><td>bn110923835</td><td>782</td><td></td><td>9+10+11</td><td>46.398</td><td>11.279</td><td>0.003</td><td>12.8</td><td>1.619</td><td>1.344</td><td>782</td><td></td><td>110923A</td><td>370123318</td><td>323.4</td><td>-10.9</td><td>3.7</td><td>Fermi-GBM</td><td>9</td><td>256</td><td>47-291</td><td>Mo, IA</td><td>370080118.0</td><td>370166518.0</td></tr>\n",
       "<tr><td>bn161230511</td><td>1985</td><td></td><td>0+1+3</td><td>48.896</td><td>4.382</td><td>-0.256</td><td>15.616</td><td>2.318</td><td>1.536</td><td>1986</td><td></td><td>161230A</td><td>536415368</td><td>324.1</td><td>-9.0</td><td>4.0</td><td>Fermi, GBM FSW</td><td>8</td><td>256</td><td>47-291</td><td>P</td><td>536372168.0</td><td>536458568.0</td></tr>\n",
       "<tr><td>bn140712706</td><td>1412</td><td></td><td>6+7+9+10+11</td><td>28.928</td><td>3.916</td><td>-0.768</td><td>17.152</td><td>1.145</td><td>2.048</td><td>1412</td><td></td><td>140712A</td><td>458499421</td><td>319.3</td><td>-10.7</td><td>9.2</td><td>Fermi-GBM</td><td>10</td><td>512</td><td>47-291</td><td></td><td>458456221.0</td><td>458542621.0</td></tr>\n",
       "<tr><td>bn121123421</td><td>1037</td><td></td><td>3+4+5</td><td>102.338</td><td>31.849</td><td>3.84</td><td>34.625</td><td>8.155</td><td>18.56</td><td>1037</td><td>d</td><td>121123A</td><td>406980361</td><td>307.3</td><td>-11.9</td><td>0.0</td><td>Swift</td><td>17</td><td>4096</td><td>47-291</td><td>S, W</td><td>406937161.0</td><td>407023561.0</td></tr>\n",
       "<tr><td>bn160621497</td><td>1862</td><td></td><td>6+7+8+9+11</td><td>251.136</td><td>6.734</td><td>1.024</td><td>194.816</td><td>12.81</td><td>25.6</td><td>1862</td><td></td><td></td><td>519825356</td><td>307.5</td><td>-9.5</td><td>9.1</td><td>Fermi-GBM</td><td>10</td><td>512</td><td>47-291</td><td>Mo</td><td>519782156.0</td><td>519868556.0</td></tr>\n",
       "<tr><td>bn110717180</td><td>737</td><td>g</td><td>8+11</td><td>0.112</td><td>0.072</td><td>-0.016</td><td>0.032</td><td>0.023</td><td>0.0</td><td>737</td><td></td><td>110717A</td><td>364191591</td><td>308.5</td><td>-7.8</td><td>7.4</td><td>Fermi-GBM</td><td>1</td><td>16</td><td>47-291</td><td>K, IA</td><td>364148391.0</td><td>364234791.0</td></tr>\n",
       "<tr><td>bn140206275</td><td>1311</td><td></td><td>0+1+2+3+5</td><td>146.69</td><td>4.419</td><td>7.488</td><td>24.576</td><td>0.81</td><td>13.888</td><td>1311</td><td></td><td>140206B</td><td>444983773</td><td>315.3</td><td>-8.5</td><td>0.2</td><td>Fermi-LAT</td><td>7</td><td>128</td><td>47-291</td><td>L, K, ARR</td><td>444940573.0</td><td>445026973.0</td></tr>\n",
       "<tr><td>bn121023322</td><td>1020</td><td></td><td>9+10</td><td>0.512</td><td>0.181</td><td>-0.128</td><td>0.32</td><td>0.091</td><td>-0.064</td><td>1020</td><td></td><td></td><td>404293457</td><td>313.9</td><td>-4.4</td><td>4.8</td><td>Fermi-GBM</td><td>4</td><td>64</td><td>47-291</td><td></td><td>404250257.0</td><td>404336657.0</td></tr>\n",
       "<tr><td>bn140724533</td><td>1425</td><td></td><td>7+8+11</td><td>0.896</td><td>0.82</td><td>-0.256</td><td>0.128</td><td>0.264</td><td>-0.064</td><td>1425</td><td></td><td></td><td>459521269</td><td>314.7</td><td>-1.9</td><td>28.7</td><td>Fermi-GBM</td><td>9</td><td>256</td><td>47-291</td><td></td><td>459478069.0</td><td>459564469.0</td></tr>\n",
       "</table></div>"
      ],
      "text/plain": [
       "<Table length=2359>\n",
       "   Fermi    recno f_Fermi ...      Other        start_time   end_time \n",
       "                          ...                                         \n",
       "   object   int32  object ...      object          Time        Time   \n",
       "----------- ----- ------- ... ---------------- ----------- -----------\n",
       "bn170110967  1990         ...                  537361971.0 537448371.0\n",
       "bn120412920   903         ...                K 387540281.0 387626681.0\n",
       "bn080714086     1         ...                K 269273052.0 269359452.0\n",
       "bn170305256  2038       b ...    K, IA, P, ARR 541966147.0 542052547.0\n",
       "bn091005679   320         ...                  308031450.0 308117850.0\n",
       "bn140414693  1350         ...                  450765518.0 450851918.0\n",
       "bn100206563   394       g ... K, IA, S, W, ARR 318735005.0 318821405.0\n",
       "bn130912358  1225         ...             S, K 432246898.0 432333298.0\n",
       "bn170722525  2119         ...                  553998974.0 554085374.0\n",
       "        ...   ...     ... ...              ...         ...         ...\n",
       "bn110923835   782         ...           Mo, IA 370080118.0 370166518.0\n",
       "bn161230511  1985         ...                P 536372168.0 536458568.0\n",
       "bn140712706  1412         ...                  458456221.0 458542621.0\n",
       "bn121123421  1037         ...             S, W 406937161.0 407023561.0\n",
       "bn160621497  1862         ...               Mo 519782156.0 519868556.0\n",
       "bn110717180   737       g ...            K, IA 364148391.0 364234791.0\n",
       "bn140206275  1311         ...        L, K, ARR 444940573.0 445026973.0\n",
       "bn121023322  1020         ...                  404250257.0 404336657.0\n",
       "bn140724533  1425         ...                  459478069.0 459564469.0"
      ]
     },
     "execution_count": 95,
     "metadata": {},
     "output_type": "execute_result"
    }
   ],
   "source": [
    "fermi[\"start_time\"] = Time(fermi[\"Obs\"] - erfa.DAYSEC / 2., format=\"viztime\", scale=\"utc\")\n",
    "fermi[\"end_time\"] = Time(fermi[\"Obs\"] + erfa.DAYSEC / 2., format=\"viztime\", scale=\"utc\")\n",
    "fermi"
   ]
  },
  {
   "cell_type": "code",
   "execution_count": 96,
   "metadata": {},
   "outputs": [],
   "source": [
    "stmoc_fermi = STMOC.from_time_ranges_positions(\n",
    "    times_start=fermi[\"start_time\"],\n",
    "    times_end=fermi[\"end_time\"],\n",
    "    lon = Longitude(fermi[\"RAJ2000\"]),\n",
    "    lat = Latitude(fermi[\"DEJ2000\"]),\n",
    "    time_depth=26, spatial_depth=5  # ask Ada why 5 here\n",
    ")"
   ]
  },
  {
   "cell_type": "markdown",
   "metadata": {},
   "source": [
    "# \n",
    "Now using the STMOC information for both XMM and Fermi, we can use intersection method to identify the common space-time regions covered by both Fermi and XMM-Newton observations. Additionally, all the events, that have been identified, are confirmed by two different telescopes, therefore we can know for certain that the GRBs identified are genuine. These give as output the time when both the telescopes with pointing at the same area of the sky. These come in handy specially for identifing simultaneous observations, which are crucial for multi-wavelength studies of transient events like Gamma-Ray Bursts (GRBs)."
   ]
  },
  {
   "cell_type": "code",
   "execution_count": 97,
   "metadata": {},
   "outputs": [
    {
     "data": {
      "text/plain": [
       "t26/6172445 \n",
       "s6/37910 \n",
       "t26/6173274-6173275 \n",
       "s6/16282 \n",
       "t26/6176320 \n",
       "s6/9576 \n",
       "t26/6177369 \n",
       "s6/17030 \n",
       "t26/6177448 \n",
       "s6/26013 "
      ]
     },
     "execution_count": 97,
     "metadata": {},
     "output_type": "execute_result"
    }
   ],
   "source": [
    "intersection = stmoc_fermi.intersection(stmoc_xmm)\n",
    "intersection"
   ]
  },
  {
   "cell_type": "code",
   "execution_count": 100,
   "metadata": {},
   "outputs": [
    {
     "name": "stderr",
     "output_type": "stream",
     "text": [
      "/home/manon.marchand/.conda/envs/cds-tutos-dev/lib/python3.10/site-packages/erfa/core.py:154: ErfaWarning: ERFA function \"dtf2d\" yielded 1 of \"dubious year (Note 6)\"\n",
      "  warnings.warn('ERFA function \"{}\" yielded {}'.format(func_name, wmsg),\n",
      "/home/manon.marchand/.conda/envs/cds-tutos-dev/lib/python3.10/site-packages/erfa/core.py:154: ErfaWarning: ERFA function \"utctai\" yielded 1 of \"dubious year (Note 3)\"\n",
      "  warnings.warn('ERFA function \"{}\" yielded {}'.format(func_name, wmsg),\n",
      "/home/manon.marchand/.conda/envs/cds-tutos-dev/lib/python3.10/site-packages/erfa/core.py:154: ErfaWarning: ERFA function \"taiutc\" yielded 1 of \"dubious year (Note 4)\"\n",
      "  warnings.warn('ERFA function \"{}\" yielded {}'.format(func_name, wmsg),\n"
     ]
    }
   ],
   "source": [
    "moc = intersection.query_by_time(TimeMOC.from_time_ranges(Time(\"1800-01-01\"), Time(\"2050-01-01\")))"
   ]
  },
  {
   "cell_type": "code",
   "execution_count": 101,
   "metadata": {},
   "outputs": [],
   "source": [
    "aladin.add_moc(moc)"
   ]
  },
  {
   "cell_type": "markdown",
   "metadata": {},
   "source": [
    "By now we have seen the power of using STMOCs to identifying transients events such as GRBs. This method can also be applied for \n",
    "different astrophysical objects such as supernova remnants which emit at different wavelengths. STMOCs is a powerful tool which\n",
    "facilitates the identification of temporal and spatial overlaps, enabling comprehensive multi-wavelength analyses and efficient data management, ultimately advancing our understanding of the object\n",
    "of interest."
   ]
  },
  {
   "cell_type": "code",
   "execution_count": null,
   "metadata": {},
   "outputs": [],
   "source": [
    "hess = \"J/A+A/612/A3\"\n",
    "super_nova_remnant = \"RX J1713.7-3946\""
   ]
  },
  {
   "cell_type": "code",
   "execution_count": null,
   "metadata": {},
   "outputs": [],
   "source": [
    "from astroquery.simbad import Simbad"
   ]
  },
  {
   "cell_type": "code",
   "execution_count": null,
   "metadata": {},
   "outputs": [],
   "source": [
    "Simbad.query_object(\"RX J1713.7-3946\")"
   ]
  },
  {
   "cell_type": "code",
   "execution_count": null,
   "metadata": {},
   "outputs": [],
   "source": [
    "help(intersection.contains)"
   ]
  },
  {
   "cell_type": "code",
   "execution_count": 98,
   "metadata": {},
   "outputs": [],
   "source": [
    "only_space = MOC.from_string(\"6/37910 16282 9576 17030 26013\")"
   ]
  },
  {
   "cell_type": "code",
   "execution_count": null,
   "metadata": {},
   "outputs": [],
   "source": []
  },
  {
   "cell_type": "code",
   "execution_count": null,
   "metadata": {},
   "outputs": [],
   "source": [
    "from astropy.coordinates import Longitude, Latitude"
   ]
  },
  {
   "cell_type": "code",
   "execution_count": null,
   "metadata": {},
   "outputs": [],
   "source": [
    "only_space.contains_lonlat(lon=Longitude(\"17 12 27\", unit=\"deg\"), lat=Latitude(\"-39 41.2\", unit=\"deg\"))"
   ]
  },
  {
   "cell_type": "code",
   "execution_count": null,
   "metadata": {},
   "outputs": [],
   "source": [
    "only_space.query_vizier_table(\"J/A+A/612/A3\")"
   ]
  },
  {
   "cell_type": "code",
   "execution_count": null,
   "metadata": {},
   "outputs": [],
   "source": [
    "fermi_grbs_intersection = only_space.query_vizier_table(\"J/ApJ/893/46\")\n",
    "fermi_grbs_intersection"
   ]
  },
  {
   "cell_type": "code",
   "execution_count": null,
   "metadata": {},
   "outputs": [],
   "source": [
    "aladin.add_table(fermi_grbs_intersection, color=\"hotpink\", shape=\"cross\")"
   ]
  },
  {
   "cell_type": "code",
   "execution_count": null,
   "metadata": {},
   "outputs": [],
   "source": [
    "simbad = Simbad()\n",
    "simbad.add_votable_fields(\"flux\")"
   ]
  },
  {
   "cell_type": "code",
   "execution_count": null,
   "metadata": {},
   "outputs": [],
   "source": [
    "simbad_result = simbad.query_objects([f\"Fermi {id}\" for id in fermi_grbs_intersection[\"Fermi\"]])\n",
    "simbad_result"
   ]
  },
  {
   "cell_type": "code",
   "execution_count": null,
   "metadata": {},
   "outputs": [],
   "source": [
    "only_space.query_vizier_table(\"IX/69\")"
   ]
  },
  {
   "cell_type": "code",
   "execution_count": null,
   "metadata": {},
   "outputs": [],
   "source": []
  }
 ],
 "metadata": {
  "kernelspec": {
   "display_name": "Python 3 (ipykernel)",
   "language": "python",
   "name": "python3"
  },
  "language_info": {
   "codemirror_mode": {
    "name": "ipython",
    "version": 3
   },
   "file_extension": ".py",
   "mimetype": "text/x-python",
   "name": "python",
   "nbconvert_exporter": "python",
   "pygments_lexer": "ipython3",
   "version": "3.10.11"
  },
  "version_major": 2,
  "version_minor": 0,
  "widgets": {
   "application/vnd.jupyter.widget-state+json": {
    "state": {
     "4648607c091741549f682b6f8ade5075": {
      "model_module": "@jupyter-widgets/base",
      "model_module_version": "2.0.0",
      "model_name": "LayoutModel",
      "state": {}
     },
     "47417532c67545a8b878eba3912014d2": {
      "model_module": "anywidget",
      "model_module_version": "0.9.6",
      "model_name": "AnyModel",
      "state": {
       "_anywidget_id": "ipyaladin.widget.Aladin",
       "_css": ".cell-output-ipywidget-background{background:transparent}.jp-OutputArea-output,.aladin-widget{background-color:transparent}.aladin-widget .aladin-measurement-div{max-height:100px}\n",
       "_esm": "function p(s){s.charAt(0)===\"_\"&&(s=s.slice(1));let e=s.split(\"_\");for(let o=1;o<e.length;o++)e[o]=e[o].charAt(0).toUpperCase()+e[o].slice(1);return e.join(\"\")}function h(s){let e={};for(let o in s)e[p(o)]=s[o];return e}var c=class{locked=!1;unlock(){this.locked=!1}lock(){this.locked=!0}};import u from\"https://esm.sh/aladin-lite@3.4.4-beta\";var l=u;var m=class{constructor(e){this.aladin=e}handleChangeFoV(e){this.aladin.setFoV(e.fov)}handleGotoRaDec(e){this.aladin.gotoRaDec(e.ra,e.dec)}handleAddCatalogFromURL(e){let o=h(e.options||{});this.aladin.addCatalog(l.catalogFromURL(e.votable_URL,o))}handleAddMOCFromURL(e){let o=h(e.options||{});this.aladin.addMOC(l.MOCFromURL(e.moc_URL,o))}handleAddMOCFromDict(e){let o=h(e.options||{});this.aladin.addMOC(l.MOCFromJSON(e.moc_dict,o))}handleAddOverlay(e){let o=e.regions_infos,n=h(e.graphic_options||{});n.color||(n.color=\"red\");let i=l.graphicOverlay(n);this.aladin.addOverlay(i);for(let t of o){let a=t.infos;switch(t.region_type){case\"stcs\":i.addFootprints(l.footprintsFromSTCS(a.stcs,t.options));break;case\"circle\":i.add(l.circle(a.ra,a.dec,a.radius,t.options));break;case\"ellipse\":i.add(l.ellipse(a.ra,a.dec,a.a,a.b,a.theta,t.options));break;case\"line\":t.options.lineWidth=t.options.lineWidth||3,i.add(l.vector(a.ra1,a.dec1,a.ra2,a.dec2,t.options));break;case\"polygon\":i.add(l.polygon(a.vertices,t.options));break}}}handleChangeColormap(e){this.aladin.getBaseImageLayer().setColormap(e.colormap)}handleGetJPGThumbnail(){this.aladin.exportAsPNG()}handleTriggerRectangularSelection(){this.aladin.select()}handleAddTable(e,o){let n=h(e.options||{}),i=o[0].buffer,t=new TextDecoder(\"utf-8\"),a=new Blob([t.decode(i)]),r=URL.createObjectURL(a);l.catalogFromURL(r,Object.assign(n,{onClick:\"showTable\"}),d=>{this.aladin.addCatalog(d)},!1),URL.revokeObjectURL(r)}};var g=class{constructor(e,o,n){this.aladin=e,this.aladinDiv=o,this.model=n,this.messageHandler=new m(e)}subscribeAll(){let e=new c,o=new c;this.aladin.on(\"positionChanged\",t=>{if(o.locked){o.unlock();return}e.lock();let a=[t.ra,t.dec];this.model.set(\"_target\",`${a[0]} ${a[1]}`),this.model.save_changes()}),this.model.on(\"change:_target\",()=>{if(e.locked){e.unlock();return}o.lock();let t=this.model.get(\"_target\"),[a,r]=t.split(\" \");this.aladin.gotoRaDec(a,r)});let n=new c,i=new c;this.aladin.on(\"zoomChanged\",t=>{if(i.locked){i.unlock();return}n.lock(),this.model.set(\"_fov\",parseFloat(t.toFixed(5))),this.model.save_changes()}),this.model.on(\"change:_fov\",()=>{if(n.locked){n.unlock();return}i.lock();let t=this.model.get(\"_fov\");this.aladin.setFoV(t)}),this.model.on(\"change:height\",()=>{let t=this.model.get(\"height\");this.aladinDiv.style.height=`${t}px`}),this.aladin.on(\"objectHovered\",t=>{t.data!==void 0&&this.model.send({event_type:\"object_hovered\",content:{ra:t.ra,dec:t.dec}})}),this.aladin.on(\"objectClicked\",t=>{if(t){let a={ra:t.ra,dec:t.dec};t.data!==void 0&&(a.data=t.data),this.model.set(\"clicked_object\",a),this.model.send({event_type:\"object_clicked\",content:a}),this.model.save_changes()}}),this.aladin.on(\"click\",t=>{this.model.send({event_type:\"click\",content:t})}),this.aladin.on(\"select\",t=>{let a=[];t.forEach(r=>{r.forEach(d=>{a.push({ra:d.ra,dec:d.dec,data:d.data,x:d.x,y:d.y})})}),this.model.send({event_type:\"select\",content:a})}),this.model.on(\"change:coo_frame\",()=>{this.aladin.setFrame(this.model.get(\"coo_frame\"))}),this.model.on(\"change:survey\",()=>{this.aladin.setImageSurvey(this.model.get(\"survey\"))}),this.model.on(\"change:overlay_survey\",()=>{this.aladin.setOverlayImageLayer(this.model.get(\"overlay_survey\"))}),this.model.on(\"change:overlay_survey_opacity\",()=>{this.aladin.getOverlayImageLayer().setAlpha(this.model.get(\"overlay_survey_opacity\"))}),this.eventHandlers={change_fov:this.messageHandler.handleChangeFoV,goto_ra_dec:this.messageHandler.handleGotoRaDec,add_catalog_from_URL:this.messageHandler.handleAddCatalogFromURL,add_MOC_from_URL:this.messageHandler.handleAddMOCFromURL,add_MOC_from_dict:this.messageHandler.handleAddMOCFromDict,add_overlay:this.messageHandler.handleAddOverlay,change_colormap:this.messageHandler.handleChangeColormap,get_JPG_thumbnail:this.messageHandler.handleGetJPGThumbnail,trigger_rectangular_selection:this.messageHandler.handleTriggerRectangularSelection,add_table:this.messageHandler.handleAddTable},this.model.on(\"msg:custom\",(t,a)=>{let r=t.event_name,d=this.eventHandlers[r];if(d)d.call(this,t,a);else throw new Error(`Unknown event name: ${r}`)})}unsubscribeAll(){this.model.off(\"change:_target\"),this.model.off(\"change:_fov\"),this.model.off(\"change:height\"),this.model.off(\"change:coo_frame\"),this.model.off(\"change:survey\"),this.model.off(\"change:overlay_survey\"),this.model.off(\"change:overlay_survey_opacity\"),this.model.off(\"change:trigger_event\"),this.model.off(\"msg:custom\")}};var f=0;function v(s,e){let o={};s.get(\"init_options\").forEach(a=>{o[p(a)]=s.get(a)});let n=document.createElement(\"div\");n.classList.add(\"aladin-widget\"),n.style.height=`${o.height}px`,n.id=`aladin-lite-div-${f}`;let i=new l.aladin(n,o);f+=1;let t=o.target.split(\" \");return i.gotoRaDec(t[0],t[1]),e.appendChild(n),{aladin:i,aladinDiv:n}}async function _({model:s}){await l.init}function y({model:s,el:e}){let{aladin:o,aladinDiv:n}=v(s,e),i=new g(o,n,s);return i.subscribeAll(),()=>{i.unsubscribeAll()}}var G={initialize:_,render:y};export{G as default};\n",
       "_fov": 0.71302,
       "_model_module": "anywidget",
       "_model_module_version": "0.9.6",
       "_model_name": "AnyModel",
       "_target": "225.4036750732836 42.338996830865014",
       "_view_module": "anywidget",
       "_view_module_version": "0.9.6",
       "_view_name": "AnyView",
       "background_color": "rgb(60, 60, 60)",
       "clicked_object": {
        "data": {
         "Cat": "BT",
         "DEJ2000": "-63.23",
         "Date": "2450335.08469",
         "GRB": "GRB960908",
         "RAJ2000": "187.19",
         "astropy_time": "1996-09-08 14:01:57.215994",
         "recno": "2814"
        },
        "dec": -63.23,
        "ra": 187.19
       },
       "coo_frame": "galactic",
       "full_screen": false,
       "grid_color": "rgb(178, 50, 178)",
       "grid_opacity": 0.5,
       "grid_options": {
        "color": {
         "b": 0.002737408688965782,
         "g": 0.0007689350249903883,
         "r": 0.002737408688965782
        },
        "enabled": false,
        "labelSize": 15,
        "opacity": 0.5,
        "showLabels": true,
        "thickness": 2
       },
       "height": 400,
       "init_options": [
        "_fov",
        "_target",
        "background_color",
        "coo_frame",
        "full_screen",
        "grid_color",
        "grid_opacity",
        "grid_options",
        "height",
        "overlay_survey",
        "overlay_survey_opacity",
        "projection",
        "reticle_color",
        "reticle_size",
        "samp",
        "show_catalog",
        "show_context_menu",
        "show_coo_grid",
        "show_coo_grid_control",
        "show_coo_location",
        "show_fov",
        "show_frame",
        "show_fullscreen_control",
        "show_layers_control",
        "show_overlay_stack_control",
        "show_projection_control",
        "show_reticle",
        "show_settings_control",
        "show_share_control",
        "show_simbad_pointer_control",
        "show_status_bar",
        "show_zoom_control",
        "survey"
       ],
       "layout": "IPY_MODEL_4648607c091741549f682b6f8ade5075",
       "overlay_survey": "xcatdb/P/XMM/PN/color",
       "overlay_survey_opacity": 0.8,
       "projection": "SIN",
       "reticle_color": "rgb(178, 50, 178)",
       "reticle_size": 20,
       "samp": false,
       "show_catalog": true,
       "show_context_menu": true,
       "show_coo_grid": false,
       "show_coo_grid_control": true,
       "show_coo_location": true,
       "show_fov": true,
       "show_frame": true,
       "show_fullscreen_control": true,
       "show_layers_control": true,
       "show_overlay_stack_control": true,
       "show_projection_control": true,
       "show_reticle": true,
       "show_settings_control": true,
       "show_share_control": false,
       "show_simbad_pointer_control": true,
       "show_status_bar": true,
       "show_zoom_control": false,
       "survey": "CDS/P/Fermi/color"
      }
     }
    },
    "version_major": 2,
    "version_minor": 0
   }
  }
 },
 "nbformat": 4,
 "nbformat_minor": 4
}
