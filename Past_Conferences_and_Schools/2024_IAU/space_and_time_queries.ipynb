{
 "cells": [
  {
   "cell_type": "code",
   "execution_count": 1,
   "metadata": {
    "editable": true,
    "slideshow": {
     "slide_type": ""
    },
    "tags": []
   },
   "outputs": [],
   "source": [
    "# Libraries to access external data\n",
    "# PyVO provides generic access to VO protocols (ex: TAP)\n",
    "import pyvo\n",
    "# astroquery modules are specific to astronomy services, there are not necessarily VO,\n",
    "# but more and more do switch to VO protocols these days\n",
    "# here we import the MOCServer and Vizier modules\n",
    "from astroquery.mocserver import MOCServer \n",
    "from astroquery.vizier import Vizier\n",
    "\n",
    "# The mocpy library is an astropy-affiliated library\n",
    "# It allows to manipulate MOCs\n",
    "from mocpy import STMOC, MOC, TimeMOC, WCS\n",
    "\n",
    "# General astropy utilitary methods and classes\n",
    "from astropy.coordinates import Longitude, Latitude, Angle, SkyCoord\n",
    "from astropy.time import Time, TimeDelta\n",
    "import astropy.units as u\n",
    "\n",
    "# For vizaulisation\n",
    "import matplotlib.pyplot as plt\n",
    "from ipyaladin import Aladin\n"
   ]
  },
  {
   "cell_type": "markdown",
   "metadata": {},
   "source": [
    "# Accessing data through space and time criteria"
   ]
  },
  {
   "cell_type": "markdown",
   "metadata": {},
   "source": [
    "## This notebook focuses on the use of the Multi-Order Coverage (MOC) and Space-Time MOC (STMOC) for querying and analyzing astronomical data. \n",
    "\n",
    "### Key words:\n",
    "\n",
    "**Hierarchical Progressive Survey (HiPS)**: HiPS describes a generic method for packaging, storing, querying, and describing astronomical data. It stores data in a folder structure that mimics the [HEALPix tesselation of the sky](https://healpix.jpl.nasa.gov/pdf/intro.pdf).\n",
    "\n",
    "**Multi-Order Coverage (MOC)**: MOC is a data structure used to describe arbitrary regions of the sky with variable resolution. It is particularly useful for handling large-scale astronomical surveys and for efficiently querying regions of interest.\n",
    "\n",
    "**Space-Time MOC (STMOC)**: STMOC extends the concept of MOC to include the temporal dimension, allowing for the representation of regions of the sky that change over time. This is useful for time-domain astronomy, where the visibility of sources varies.\n",
    "\n",
    "### Scientific Motivation:\n",
    "\n",
    "Gamma-Ray Bursts (GRBs) are among the most energetic and mysterious phenomena in the universe. These brief but intense flashes of gamma rays are believed to originate from cataclysmic events such as the collapse of massive stars or the merger of neutron stars. Observing GRBs across multiple wavelengths and with different telescopes provides crucial insights into their nature and origins. In this study, we focus on GRBs observed by the Fermi Gamma-ray Space Telescope and the XMM-Newton X-ray Observatory, and demonstrate how the use of Space-Time Multi-Order Coverage (STMOC) can help identify and analyze these fascinating events.\n",
    "\n",
    "## The HEALPix grid and its link to HiPS surveys\n",
    "\n",
    "HiPS is a way of storing data sets (it can be catalogs, or images for example) that follows the HEALPix tesselation of the sky. This is particularly optimized for vizualisation.\n",
    "\n",
    "![HiPS_and_the_HEALPix_grid](HiPS_and_the_HEALPix_grid.png)\n",
    "\n",
    "Figure 1: Standards to represent the sky, or parts of the sky. (a) The HEALPix grid (b) The HiPS standard (c) Visualisation in ipyaladin (d), and a MOC.\n",
    "\n",
    "### The HEALPix grid\n",
    "\n",
    "With the HEALPix grid, the sphere is mapped by equal-area tiles. In figure 1a, we see an orthographic representation of the 12 tiles at order zero and of the 768 tiles at order 3. This is extracted from [Gorski *et.al.*](https://iopscience.iop.org/article/10.1086/427976/pdf).\n",
    "\n",
    "`mocpy` is a python library that allows to manipulate MOCs. MOCs are made of HEALPix cells, so mocpy has a few methods that allow to get information about the HEALPix tesselation."
   ]
  },
  {
   "cell_type": "code",
   "execution_count": 2,
   "metadata": {},
   "outputs": [
    {
     "data": {
      "text/plain": [
       "12"
      ]
     },
     "execution_count": 2,
     "metadata": {},
     "output_type": "execute_result"
    }
   ],
   "source": [
    "# we can check the number of cells at order 0 in the HEALPix tesselation\n",
    "MOC.n_cells(0)"
   ]
  },
  {
   "cell_type": "code",
   "execution_count": 3,
   "metadata": {},
   "outputs": [
    {
     "data": {
      "text/plain": [
       "768"
      ]
     },
     "execution_count": 3,
     "metadata": {},
     "output_type": "execute_result"
    }
   ],
   "source": [
    "# or at an other order\n",
    "MOC.n_cells(3)"
   ]
  },
  {
   "cell_type": "code",
   "execution_count": 4,
   "metadata": {},
   "outputs": [
    {
     "data": {
      "text/plain": [
       "768"
      ]
     },
     "execution_count": 4,
     "metadata": {},
     "output_type": "execute_result"
    }
   ],
   "source": [
    "# we could also have calculated the order 3 by knowing that each cell is subdivised in four parts at the next order\n",
    "n_cells_order3 = MOC.n_cells(0) * 4**3\n",
    "n_cells_order3"
   ]
  },
  {
   "cell_type": "markdown",
   "metadata": {},
   "source": [
    "Let's vizualize the HEALPix grid in the ipyaladin widget, see Figure1c to see where to find the parameter. If you zoom in and out and move like crazy (or if you have a slower internet connexion), you'll see the images that appear as they are downloaded by ipyaladin. They have the shape of HEALPix cells. The more you zoom in, the more precise (meaning higher resolution) the printed image will be."
   ]
  },
  {
   "cell_type": "code",
   "execution_count": 12,
   "metadata": {},
   "outputs": [
    {
     "data": {
      "application/vnd.jupyter.widget-view+json": {
       "model_id": "878020e4509e40d38b42435ea8d0d2b4",
       "version_major": 2,
       "version_minor": 0
      },
      "text/plain": [
       "Aladin(init_options=['_fov', '_target', 'background_color', 'coo_frame', 'full_screen', 'grid_color', 'grid_op…"
      ]
     },
     "execution_count": 12,
     "metadata": {},
     "output_type": "execute_result"
    }
   ],
   "source": [
    "aladin = Aladin()\n",
    "aladin"
   ]
  },
  {
   "cell_type": "markdown",
   "metadata": {},
   "source": [
    "We can duplicate this view by right clicking on the cell and selecting `Create new view for cell output`. The view can then be dragged anywhere you prefer. This allows to always have an eye on the widget while exploring the data.\n",
    "\n",
    "If you zoom in **a lot**, you will see that the pixels correspond to the tiles of the HEALPix grid at order 18 for the DSS survey that is displayed by default in `ipyaladin`. You can find out which resolution it corresponds to with an other of `mocpy`'s methods:"
   ]
  },
  {
   "cell_type": "code",
   "execution_count": 5,
   "metadata": {},
   "outputs": [
    {
     "data": {
      "text/latex": [
       "$3.90368e-06\\;\\mathrm{rad}$"
      ],
      "text/plain": [
       "<Angle 3.90368159e-06 rad>"
      ]
     },
     "execution_count": 5,
     "metadata": {},
     "output_type": "execute_result"
    }
   ],
   "source": [
    "MOC.order_to_spatial_resolution(18)"
   ]
  },
  {
   "cell_type": "markdown",
   "metadata": {},
   "source": [
    "Which we can also convert to arcseconds (or any other angle unit, try it out!)"
   ]
  },
  {
   "cell_type": "code",
   "execution_count": 10,
   "metadata": {},
   "outputs": [
    {
     "data": {
      "text/latex": [
       "$0.805192\\mathrm{{}^{\\prime\\prime}}$"
      ],
      "text/plain": [
       "<Angle 0.80519213 arcsec>"
      ]
     },
     "execution_count": 10,
     "metadata": {},
     "output_type": "execute_result"
    }
   ],
   "source": [
    "MOC.order_to_spatial_resolution(18).to(\"arcsec\")"
   ]
  },
  {
   "cell_type": "markdown",
   "metadata": {},
   "source": [
    "### The HiPS standard\n",
    "\n",
    "The images displayed by Aladin follow the HiPS standard, in which a folder corresponds to a HEALPix order, see figure1b. In figure 1b, the example images are from a SDO/AIA observation of the Sun. At all orders, the images have the same number of pixels (here 512*512), but they represent a different sky fraction. We see that the pixel 0 at order 3 contains the pixel 0 and 1 of the more precise order.\n",
    "\n",
    "### Finding HiPS surveys\n",
    "\n",
    "#### Fermi\n",
    "\n",
    "More and more astronomical data centers start to offer HiPS surveys for sky vizualizations.\n",
    "\n",
    "One way of finding HiPS surveys is to use `ipyaladin`'s interface, see Figure2, and follow the steps to get the two MeerKAT HiPS.\n",
    "\n",
    "![findind_HiPS](finding_hips_with_ipyaladin.png)\n",
    "Figure 2: Finding a HiPS with `ipyaladin`'s interface.\n",
    "\n",
    "Nothing appears? Let's move the target to the galactic center and zoom in a bit:"
   ]
  },
  {
   "cell_type": "code",
   "execution_count": 14,
   "metadata": {},
   "outputs": [],
   "source": [
    "aladin.target = \"Galactic Center\"\n",
    "aladin.fov = 3 # this should be expressed in degrees"
   ]
  },
  {
   "cell_type": "markdown",
   "metadata": {},
   "source": [
    "The `Browse HiPS` button calls one of the less known services of the CDS, the MOCServer. The search bar only works if you already know more or less the name of the survey. For more control on search parameters, we will use the module `mocserver` from the `astroquery` library.\n",
    "\n",
    "Here we query the MOC server to find HiPS datasets related to Fermi observations. Fermi cameras are sensitive to sources that emit in gamma-rays. GRBs are the ideal candidate for Fermi."
   ]
  },
  {
   "cell_type": "code",
   "execution_count": 15,
   "metadata": {},
   "outputs": [],
   "source": [
    "fermi_hips = MOCServer.find_datasets(meta_data=\"obs_description=*Fermi*&&hips_*=*\", casesensitive=False)"
   ]
  },
  {
   "cell_type": "code",
   "execution_count": 16,
   "metadata": {},
   "outputs": [
    {
     "data": {
      "text/plain": [
       "9"
      ]
     },
     "execution_count": 16,
     "metadata": {},
     "output_type": "execute_result"
    }
   ],
   "source": [
    "len(fermi_hips)"
   ]
  },
  {
   "cell_type": "markdown",
   "metadata": {},
   "source": [
    "We found nine HiPS surveys with the word `Fermi` in their descriptions. The object that we got from astroquery is a table containing information about the HiPS surveys. Let's inspect its column names to see what it contains."
   ]
  },
  {
   "cell_type": "code",
   "execution_count": 18,
   "metadata": {},
   "outputs": [
    {
     "data": {
      "text/plain": [
       "['client_sort_key',\n",
       " 'hips_initial_ra',\n",
       " 'moc_sky_fraction',\n",
       " 'hipsgen_date_1',\n",
       " 'obs_description',\n",
       " 'TIMESTAMP',\n",
       " 'prov_progenitor',\n",
       " 'hips_version',\n",
       " 'moc_time_range',\n",
       " 'obs_initial_dec',\n",
       " 'hips_initial_fov',\n",
       " 'em_min',\n",
       " 'hips_rgb_blue',\n",
       " 'dataproduct_type',\n",
       " 'hips_service_url_3',\n",
       " 'hipsgen_params_2',\n",
       " 'hipsgen_params_3',\n",
       " 'obs_copyright',\n",
       " 'hips_status_2',\n",
       " 'hips_pixel_bitpix',\n",
       " 'moc_type',\n",
       " 'dataproduct_subtype',\n",
       " 'obs_copyright_url',\n",
       " 'client_application',\n",
       " 'hips_frame',\n",
       " 'hips_copyright',\n",
       " 'hipsgen_date_4',\n",
       " 'moc_access_url',\n",
       " 'hips_status',\n",
       " 'moc_time_order',\n",
       " 'hips_tile_format',\n",
       " 'creator_did',\n",
       " 'hips_service_url',\n",
       " 'em_max',\n",
       " 'moc_order',\n",
       " 'hipsgen_date_2',\n",
       " 'hipsgen_params_4',\n",
       " 'hips_service_url_1',\n",
       " 'hips_pixel_scale',\n",
       " 'hips_rgb_red',\n",
       " 'obs_regime',\n",
       " 'hips_creation_date',\n",
       " 'bib_reference',\n",
       " 'obs_initial_fov',\n",
       " 'obs_collection',\n",
       " 'hipsgen_date_3',\n",
       " 'hips_order_min',\n",
       " 't_min',\n",
       " 'hips_tile_width',\n",
       " 'hips_service_url_2',\n",
       " 'hips_doi',\n",
       " 'hips_estsize',\n",
       " 'obs_title',\n",
       " 'hips_rgb_green',\n",
       " 'hips_status_1',\n",
       " 'hips_order',\n",
       " 'hipsgen_params_1',\n",
       " 'hips_data_range',\n",
       " 'hips_status_3',\n",
       " 'hips_release_date',\n",
       " 'hipsgen_date',\n",
       " 'hips_builder',\n",
       " 'hips_initial_dec',\n",
       " 'obs_initial_ra',\n",
       " 'hips_pixel_cut',\n",
       " 'hips_creator',\n",
       " 'bib_reference_url',\n",
       " 'obs_ack',\n",
       " 'hipsgen_params',\n",
       " 'ID',\n",
       " 't_max',\n",
       " 'client_category']"
      ]
     },
     "execution_count": 18,
     "metadata": {},
     "output_type": "execute_result"
    }
   ],
   "source": [
    "fermi_hips.colnames"
   ]
  },
  {
   "cell_type": "markdown",
   "metadata": {},
   "source": [
    "We can check the descriptions of the surveys, for example"
   ]
  },
  {
   "cell_type": "code",
   "execution_count": 22,
   "metadata": {},
   "outputs": [
    {
     "data": {
      "text/html": [
       "<div><i>Table length=9</i>\n",
       "<table id=\"table140706026406432\" class=\"table-striped table-bordered table-condensed\">\n",
       "<thead><tr><th>obs_description</th><th>ID</th></tr></thead>\n",
       "<thead><tr><th>object</th><th>str20</th></tr></thead>\n",
       "<tr><td>Launched on June 11, 2008, the Fermi Gamma-ray Space Telescope observes the cosmos using the highest-energy form of light. This survey sums all data observed by the Fermi mission up to week 396. This version of the Fermi survey are intensity maps where the summed counts maps are divided by the exposure for each pixel. We anticipate using the HEASARC&apos;s Hera capabilities to update this survey on a roughly quarterly basis. Data is broken into 5 energy bands : 30-100 MeV Band 1, 100-300 MeV Band 2, 300-1000 MeV Band 3, 1-3 GeV Band 4 , 3-300 GeV Band 5. The SkyView data are based upon a Cartesian projection of the counts divided by the exposure maps. In the Cartesian projection pixels near the pole have a much smaller area than pixels on the equator, so these pixels have smaller integrated flux. When creating large scale images in other projections users may wish to make sure to compensate for this effect the flux conserving clip-resampling option.</td><td>CDS/P/Fermi/3</td></tr>\n",
       "<tr><td>Launched on June 11, 2008, the Fermi Gamma-ray Space Telescope observes the cosmos using the highest-energy form of light. This survey sums all data observed by the Fermi mission up to week 396. This version of the Fermi survey are intensity maps where the summed counts maps are divided by the exposure for each pixel. We anticipate using the HEASARC&apos;s Hera capabilities to update this survey on a roughly quarterly basis. Data is broken into 5 energy bands : 30-100 MeV Band 1, 100-300 MeV Band 2, 300-1000 MeV Band 3, 1-3 GeV Band 4 , 3-300 GeV Band 5. The SkyView data are based upon a Cartesian projection of the counts divided by the exposure maps. In the Cartesian projection pixels near the pole have a much smaller area than pixels on the equator, so these pixels have smaller integrated flux. When creating large scale images in other projections users may wish to make sure to compensate for this effect the flux conserving clip-resampling option.</td><td>CDS/P/Fermi/4</td></tr>\n",
       "<tr><td>Launched on June 11, 2008, the Fermi Gamma-ray Space Telescope observes the cosmos using the highest-energy form of light. This survey sums all data observed by the Fermi mission up to week 396. This version of the Fermi survey are intensity maps where the summed counts maps are divided by the exposure for each pixel. We anticipate using the HEASARC&apos;s Hera capabilities to update this survey on a roughly quarterly basis. Data is broken into 5 energy bands : 30-100 MeV Band 1, 100-300 MeV Band 2, 300-1000 MeV Band 3, 1-3 GeV Band 4 , 3-300 GeV Band 5. The SkyView data are based upon a Cartesian projection of the counts divided by the exposure maps. In the Cartesian projection pixels near the pole have a much smaller area than pixels on the equator, so these pixels have smaller integrated flux. When creating large scale images in other projections users may wish to make sure to compensate for this effect the flux conserving clip-resampling option.</td><td>CDS/P/Fermi/5</td></tr>\n",
       "<tr><td>Launched on June 11, 2008, the Fermi Gamma-ray Space Telescope observes the cosmos using the highest-energy form of light. This survey sums all data observed by the Fermi mission up to week 396. This version of the Fermi survey are intensity maps where the summed counts maps are divided by the exposure for each pixel. We anticipate using the HEASARC&apos;s Hera capabilities to update this survey on a roughly quarterly basis. Data is broken into 5 energy bands : 30-100 MeV Band 1, 100-300 MeV Band 2, 300-1000 MeV Band 3, 1-3 GeV Band 4 , 3-300 GeV Band 5. The SkyView data are based upon a Cartesian projection of the counts divided by the exposure maps. In the Cartesian projection pixels near the pole have a much smaller area than pixels on the equator, so these pixels have smaller integrated flux. When creating large scale images in other projections users may wish to make sure to compensate for this effect the flux conserving clip-resampling option.</td><td>CDS/P/Fermi/color</td></tr>\n",
       "<tr><td>Fermi-LAT all-sky survey in Band 1 (30-100 MeV), at an angular resolution of 3 degrees. Units are cnts/s/cm^2/sr. Healpix map built by D. Paradis (IRAP/CADE)</td><td>ov-gso/P/Fermi/Band1</td></tr>\n",
       "<tr><td>Fermi-LAT all-sky survey in Band 2 (100-300 MeV), at an angular resolution of 2 degrees. Units are cnts/s/cm^2/sr. Healpix map built by D. Paradis (IRAP/CADE)</td><td>ov-gso/P/Fermi/Band2</td></tr>\n",
       "<tr><td>Fermi-LAT all-sky survey in Band 3 (300-1000 MeV), at an angular resolution of 1 degree. Units are cnts/s/cm^2/sr. Healpix map built by D. Paradis (IRAP/CADE)</td><td>ov-gso/P/Fermi/Band3</td></tr>\n",
       "<tr><td>[&apos;Fermi-LAT all-sky survey in Band 4 (1-3 GeV), at an angular resolution of 0.4 degrees. Units are cnts/s/cm^2/sr. Healpix map built by D. Paradis (IRAP/CADE)&apos;, &apos;Fermi-LAT all-sky survey in Band 4 (1-3 GeV), at an angular resolution of 0.4 degrees. Units are cnts/s/cm^2/sr. Healpix map built by D. Paradis (IRAP/CADE)&apos;]</td><td>ov-gso/P/Fermi/Band4</td></tr>\n",
       "<tr><td>Fermi-LAT all-sky survey in Band 5 (3-300 GeV), at an angular resolution of 0.2 degrees. Units are cnts/s/cm^2/sr. Healpix map built by D. Paradis (IRAP/CADE)</td><td>ov-gso/P/Fermi/Band5</td></tr>\n",
       "</table></div>"
      ],
      "text/plain": [
       "<Table length=9>\n",
       "                                                                                                                                                                                                                                                                                                                                                                                                                                                                                       obs_description                                                                                                                                                                                                                                                                                                                                                                                                                                                                                         ...\n",
       "                                                                                                                                                                                                                                                                                                                                                                                                                                                                                            object                                                                                                                                                                                                                                                                                                                                                                                                                                                                                             ...\n",
       "---------------------------------------------------------------------------------------------------------------------------------------------------------------------------------------------------------------------------------------------------------------------------------------------------------------------------------------------------------------------------------------------------------------------------------------------------------------------------------------------------------------------------------------------------------------------------------------------------------------------------------------------------------------------------------------------------------------------------------------------------------------------------------------------------------------------------------------------------------------------------------------------------------------------------------------------------------------------------------------------- ...\n",
       "Launched on June 11, 2008, the Fermi Gamma-ray Space Telescope observes the cosmos using the highest-energy form of light. This survey sums all data observed by the Fermi mission up to week 396. This version of the Fermi survey are intensity maps where the summed counts maps are divided by the exposure for each pixel. We anticipate using the HEASARC's Hera capabilities to update this survey on a roughly quarterly basis. Data is broken into 5 energy bands : 30-100 MeV Band 1, 100-300 MeV Band 2, 300-1000 MeV Band 3, 1-3 GeV Band 4 , 3-300 GeV Band 5. The SkyView data are based upon a Cartesian projection of the counts divided by the exposure maps. In the Cartesian projection pixels near the pole have a much smaller area than pixels on the equator, so these pixels have smaller integrated flux. When creating large scale images in other projections users may wish to make sure to compensate for this effect the flux conserving clip-resampling option. ...\n",
       "Launched on June 11, 2008, the Fermi Gamma-ray Space Telescope observes the cosmos using the highest-energy form of light. This survey sums all data observed by the Fermi mission up to week 396. This version of the Fermi survey are intensity maps where the summed counts maps are divided by the exposure for each pixel. We anticipate using the HEASARC's Hera capabilities to update this survey on a roughly quarterly basis. Data is broken into 5 energy bands : 30-100 MeV Band 1, 100-300 MeV Band 2, 300-1000 MeV Band 3, 1-3 GeV Band 4 , 3-300 GeV Band 5. The SkyView data are based upon a Cartesian projection of the counts divided by the exposure maps. In the Cartesian projection pixels near the pole have a much smaller area than pixels on the equator, so these pixels have smaller integrated flux. When creating large scale images in other projections users may wish to make sure to compensate for this effect the flux conserving clip-resampling option. ...\n",
       "Launched on June 11, 2008, the Fermi Gamma-ray Space Telescope observes the cosmos using the highest-energy form of light. This survey sums all data observed by the Fermi mission up to week 396. This version of the Fermi survey are intensity maps where the summed counts maps are divided by the exposure for each pixel. We anticipate using the HEASARC's Hera capabilities to update this survey on a roughly quarterly basis. Data is broken into 5 energy bands : 30-100 MeV Band 1, 100-300 MeV Band 2, 300-1000 MeV Band 3, 1-3 GeV Band 4 , 3-300 GeV Band 5. The SkyView data are based upon a Cartesian projection of the counts divided by the exposure maps. In the Cartesian projection pixels near the pole have a much smaller area than pixels on the equator, so these pixels have smaller integrated flux. When creating large scale images in other projections users may wish to make sure to compensate for this effect the flux conserving clip-resampling option. ...\n",
       "Launched on June 11, 2008, the Fermi Gamma-ray Space Telescope observes the cosmos using the highest-energy form of light. This survey sums all data observed by the Fermi mission up to week 396. This version of the Fermi survey are intensity maps where the summed counts maps are divided by the exposure for each pixel. We anticipate using the HEASARC's Hera capabilities to update this survey on a roughly quarterly basis. Data is broken into 5 energy bands : 30-100 MeV Band 1, 100-300 MeV Band 2, 300-1000 MeV Band 3, 1-3 GeV Band 4 , 3-300 GeV Band 5. The SkyView data are based upon a Cartesian projection of the counts divided by the exposure maps. In the Cartesian projection pixels near the pole have a much smaller area than pixels on the equator, so these pixels have smaller integrated flux. When creating large scale images in other projections users may wish to make sure to compensate for this effect the flux conserving clip-resampling option. ...\n",
       "                                                                                                                                                                                                                                                                                                                                                                                                                                                                                                                                                                                                                                                                                                                                                                                                                                 Fermi-LAT all-sky survey in Band 1 (30-100 MeV), at an angular resolution of 3 degrees. Units are cnts/s/cm^2/sr. Healpix map built by D. Paradis (IRAP/CADE) ...\n",
       "                                                                                                                                                                                                                                                                                                                                                                                                                                                                                                                                                                                                                                                                                                                                                                                                                                Fermi-LAT all-sky survey in Band 2 (100-300 MeV), at an angular resolution of 2 degrees. Units are cnts/s/cm^2/sr. Healpix map built by D. Paradis (IRAP/CADE) ...\n",
       "                                                                                                                                                                                                                                                                                                                                                                                                                                                                                                                                                                                                                                                                                                                                                                                                                                Fermi-LAT all-sky survey in Band 3 (300-1000 MeV), at an angular resolution of 1 degree. Units are cnts/s/cm^2/sr. Healpix map built by D. Paradis (IRAP/CADE) ...\n",
       "                                                                                                                                                                                                                                                                                                                                                                                                                                                                                                                                                                                                                                                              ['Fermi-LAT all-sky survey in Band 4 (1-3 GeV), at an angular resolution of 0.4 degrees. Units are cnts/s/cm^2/sr. Healpix map built by D. Paradis (IRAP/CADE)', 'Fermi-LAT all-sky survey in Band 4 (1-3 GeV), at an angular resolution of 0.4 degrees. Units are cnts/s/cm^2/sr. Healpix map built by D. Paradis (IRAP/CADE)'] ...\n",
       "                                                                                                                                                                                                                                                                                                                                                                                                                                                                                                                                                                                                                                                                                                                                                                                                                                Fermi-LAT all-sky survey in Band 5 (3-300 GeV), at an angular resolution of 0.2 degrees. Units are cnts/s/cm^2/sr. Healpix map built by D. Paradis (IRAP/CADE) ..."
      ]
     },
     "execution_count": 22,
     "metadata": {},
     "output_type": "execute_result"
    }
   ],
   "source": [
    "fermi_hips[[\"obs_description\", \"ID\"]]"
   ]
  },
  {
   "cell_type": "markdown",
   "metadata": {},
   "source": [
    "#### XMM-Newton\n",
    "\n",
    "GRBs can be studied in conjunction with other instruments spanning wide range of wavelengths in order to understand the various properties of the GRB. The bursts of gamma-rays produced by the GRBs collide with each other and also the interstellar medium and produce what we call the \"after glow\". The \"after glow\" contains electromagnetic radiaitons ranging from X-rays to radio. Let's explore the GRBs also detected in X-rays. As shown above, we can obtain HiPs for the XMM-Newton Telescope. XMM-Newton is a powerful telescope that observes the X-ray Universe.\n",
    "\n",
    "We will repeat the process we used to find Fermi HiPS, but for XMM-Newton:"
   ]
  },
  {
   "cell_type": "code",
   "execution_count": 23,
   "metadata": {},
   "outputs": [
    {
     "data": {
      "text/html": [
       "<div><i>Table length=4</i>\n",
       "<table id=\"table140706080877024\" class=\"table-striped table-bordered table-condensed\">\n",
       "<thead><tr><th>hips_initial_ra</th><th>moc_sky_fraction</th><th>hips_progenitor_url</th><th>hips_nb_tiles</th><th>obs_description</th><th>TIMESTAMP</th><th>prov_progenitor</th><th>hips_version</th><th>moc_time_range</th><th>obs_initial_dec</th><th>hips_initial_fov</th><th>em_min</th><th>hips_rgb_blue</th><th>dataproduct_type</th><th>s_pixel_scale</th><th>obs_copyright</th><th>hips_status_2</th><th>hips_pixel_bitpix</th><th>moc_type</th><th>dataproduct_subtype</th><th>obs_copyright_url</th><th>client_application</th><th>hips_frame</th><th>hips_copyright</th><th>hips_status</th><th>moc_time_order</th><th>hips_tile_format</th><th>creator_did</th><th>hips_service_url</th><th>em_max</th><th>moc_order</th><th>hips_overlay</th><th>hips_sampling</th><th>hips_check_code</th><th>hips_service_url_1</th><th>hips_pixel_scale</th><th>hips_rgb_red</th><th>obs_regime</th><th>bib_reference</th><th>hips_creation_date</th><th>obs_initial_fov</th><th>obs_collection</th><th>hips_order_min</th><th>t_min</th><th>hips_tile_width</th><th>hips_hierarchy</th><th>hips_service_url_2</th><th>hips_rgb_green</th><th>hips_estsize</th><th>obs_title</th><th>hips_status_1</th><th>hips_order</th><th>hips_data_range</th><th>hips_release_date</th><th>data_pixel_bitpix</th><th>hipsgen_date</th><th>hips_builder</th><th>hips_initial_dec</th><th>obs_initial_ra</th><th>hips_pixel_cut</th><th>hips_creator</th><th>bib_reference_url</th><th>obs_ack</th><th>hipsgen_params</th><th>ID</th><th>t_max</th><th>client_category</th></tr></thead>\n",
       "<thead><tr><th>float64</th><th>float64</th><th>str43</th><th>float64</th><th>str153</th><th>float64</th><th>str55</th><th>float64</th><th>float64</th><th>float64</th><th>float64</th><th>float64</th><th>str31</th><th>str5</th><th>float64</th><th>str24</th><th>str24</th><th>object</th><th>str5</th><th>str5</th><th>str27</th><th>str10</th><th>str10</th><th>str30</th><th>str26</th><th>float64</th><th>str8</th><th>str27</th><th>str33</th><th>float64</th><th>float64</th><th>object</th><th>object</th><th>str30</th><th>str55</th><th>float64</th><th>str30</th><th>str5</th><th>str19</th><th>str17</th><th>float64</th><th>str14</th><th>float64</th><th>float64</th><th>float64</th><th>str6</th><th>str58</th><th>str32</th><th>float64</th><th>str62</th><th>str24</th><th>float64</th><th>str18</th><th>str17</th><th>object</th><th>str17</th><th>str22</th><th>float64</th><th>float64</th><th>str13</th><th>str38</th><th>str64</th><th>str42</th><th>str214</th><th>str21</th><th>float64</th><th>str15</th></tr></thead>\n",
       "<tr><td>23.4621</td><td>0.09202</td><td>--</td><td>--</td><td>Colored image made with all PN images of the 4xmmdr12: Red=0.5-1Kev Green=1-2Kev  Blue=2-4.5Kev - Healpixilized by Michel L. [Observatoire de Strasbourg]</td><td>1698394027940.0</td><td>XMM-Newton 4XMM PN images and exposure maps</td><td>1.4</td><td>1.0</td><td>30.65994167</td><td>1.0</td><td>2.7552e-10</td><td>test [1.0E-6 NaN 4.0E-4 Linear]</td><td>image</td><td>--</td><td>(c) ESA / SSC XMM-Newton</td><td>public mirror unclonable</td><td>--</td><td>stmoc</td><td>color</td><td>https://xmmssc.irap.omp.eu/</td><td>AladinLite</td><td>equatorial</td><td>(c) Observatoire de Strasbourg</td><td>public master clonableOnce</td><td>25.0</td><td>png</td><td>ivo://xcatdb/P/XMM/PN/color</td><td>https://xcatdb.unistra.fr/PNColor</td><td>6.1992e-10</td><td>7.0</td><td>overlayMean mergeOverwriteTile treeMedian</td><td>--</td><td>--</td><td>https://alasky.cds.unistra.fr/SSC/xcatdb_P_XMM_PN_color</td><td>0.0008946</td><td>red [1.0E-6 NaN 4.0E-4 Linear]</td><td>X-ray</td><td>2020A&amp;A...641A.136W</td><td>2023-06-05T14:24Z</td><td>0.4580648549089874</td><td>XMM PN colored</td><td>0.0</td><td>51577.0</td><td>512.0</td><td>--</td><td>https://alaskybis.cds.unistra.fr/SSC/xcatdb_P_XMM_PN_color</td><td>green [1.0E-6 NaN 4.0E-4 Linear]</td><td>--</td><td>False color X-ray images (Red=0.5-1 Green=1-2 Blue=2-4.5 Kev )</td><td>public mirror unclonable</td><td>7.0</td><td>--</td><td>2023-06-05T14:31Z</td><td>--</td><td>2023-06-05T14:24Z</td><td>Aladin/HipsGen v12.060</td><td>30.65994167</td><td>23.4621</td><td>--</td><td>L. Michel [Observatoire de Strasbourg]</td><td>https://ui.adsabs.harvard.edu/abs/2020A%26A...641A.136W/abstract</td><td>Galhecos-Team (Strasbourg), SSC XMM-Newton</td><td>inRed=/bigarchesbox/michel/xmm_hips/hips_red inGreen=/bigarchesbox/michel/xmm_hips/hips_green/ inBlue=/bigarchesbox/michel/xmm_hips/hips_blue out=/bigarchesbox/michel/xmm_hips/RGB RGB id=ivo://xcatdb/P/XMM/PN/color</td><td>xcatdb/P/XMM/PN/color</td><td>59912.0</td><td>Image/X-ray/XMM</td></tr>\n",
       "<tr><td>23.4621</td><td>0.09202</td><td>https://xcatdb.unistra.fr/PNRed/HpxFinder</td><td>71326.0</td><td>Image made with all PN images of the 4xmmdr13 in band 0.5-1Kev - Healpixilized by L. Michel [Observatoire de Strasbourg]</td><td>1699344392243.0</td><td>XMM-Newton 4XMM PN images, exposure and background maps</td><td>1.4</td><td>1.0</td><td>30.65994167</td><td>1.0</td><td>2.7552e-10</td><td>--</td><td>image</td><td>0.001111</td><td>(c) ESA / SSC XMM-Newton</td><td>public mirror unclonable</td><td>[&apos;-64&apos;, &apos;-64&apos;]</td><td>stmoc</td><td>--</td><td>https://xmmssc.irap.omp.eu/</td><td>--</td><td>equatorial</td><td>(c) Observatoire de Strasbourg</td><td>public master clonableOnce</td><td>25.0</td><td>png fits</td><td>ivo://xcatdb/P/XMM/PN/eb2</td><td>https://xcatdb.unistra.fr/PNRed</td><td>6.1992e-10</td><td>7.0</td><td>[&apos;mean&apos;, &apos;overlayMean mergeOverwriteTile treeMean&apos;]</td><td>[&apos;bilinear&apos;, &apos;bilinear&apos;]</td><td>png:2167619521 fits:1120067023</td><td>https://alasky.cds.unistra.fr/SSC/xcatdb_P_XMM_PN_eb2</td><td>0.0008946</td><td>--</td><td>X-ray</td><td>2020A&amp;A...641A.136W</td><td>2023-06-05T13:26Z</td><td>0.4580648549089874</td><td>4XMM PN eb2</td><td>0.0</td><td>51577.0</td><td>512.0</td><td>median</td><td>https://alaskybis.cds.unistra.fr/SSC/xcatdb_P_XMM_PN_eb2</td><td>--</td><td>73959916.0</td><td>X-ray images on band 0.5-1Kev</td><td>public mirror unclonable</td><td>7.0</td><td>-0.002862 0.008587</td><td>2023-06-05T13:27Z</td><td>[&apos;-64&apos;, &apos;-64&apos;]</td><td>2023-06-05T13:26Z</td><td>Aladin/HipsGen v12.060</td><td>30.65994167</td><td>23.4621</td><td>1.0E-6 4.0E-4</td><td>L. Michel [Observatoire de Strasbourg]</td><td>https://ui.adsabs.harvard.edu/abs/2020A%26A...641A.136W/abstract</td><td>Galhecos-Team (Strasbourg), SSC XMM-Newton</td><td>in=/bigarchesbox/michel/xmm_hips/red out=/bigarchesbox/michel/xmm_hips/hips_red/ blank=-1 id=blue/test &quot;pixelCut=0.000001 0.0004 log&quot;</td><td>xcatdb/P/XMM/PN/eb2</td><td>59912.0</td><td>Image/X-ray/XMM</td></tr>\n",
       "<tr><td>23.4621</td><td>0.09202</td><td>https://xcatdb.unistra.fr/PNGreen/HpxFinder</td><td>71326.0</td><td>Image made with all PN images of the 4xmmdr13 in band 1-2Kev - Healpixilized by L. Michel [Observatoire de Strasbourg]</td><td>1699344392295.0</td><td>XMM-Newton 4XMM PN images, exposure and background maps</td><td>1.4</td><td>1.0</td><td>30.65994167</td><td>1.0</td><td>2.7552e-10</td><td>--</td><td>image</td><td>0.001111</td><td>(c) ESA / SSC XMM-Newton</td><td>--</td><td>[&apos;-64&apos;, &apos;-64&apos;]</td><td>stmoc</td><td>--</td><td>https://xmmssc.irap.omp.eu/</td><td>--</td><td>equatorial</td><td>(c) Observatoire de Strasbourg</td><td>public master clonableOnce</td><td>25.0</td><td>png fits</td><td>ivo://xcatdb/P/XMM/PN/eb3</td><td>https://xcatdb.unistra.fr/PNGreen</td><td>6.1992e-10</td><td>7.0</td><td>[&apos;mean&apos;, &apos;overlayMean mergeOverwriteTile treeMean&apos;]</td><td>[&apos;bilinear&apos;, &apos;bilinear&apos;]</td><td>png:1070156449 fits:1120067023</td><td>--</td><td>0.0008946</td><td>--</td><td>X-ray</td><td>2020A&amp;A...641A.136W</td><td>2023-06-05T10:50Z</td><td>0.4580648549089874</td><td>4XMM PN eb3</td><td>0.0</td><td>51577.0</td><td>512.0</td><td>median</td><td>--</td><td>--</td><td>73976311.0</td><td>X-ray images on band 1-2Kev</td><td>--</td><td>7.0</td><td>-3.069E-4 9.209E-4</td><td>2023-06-05T10:50Z</td><td>[&apos;-64&apos;, &apos;-64&apos;]</td><td>2023-06-05T10:50Z</td><td>Aladin/HipsGen v12.060</td><td>30.65994167</td><td>23.4621</td><td>1.0E-6 4.0E-4</td><td>L. Michel [Observatoire de Strasbourg]</td><td>https://ui.adsabs.harvard.edu/abs/2020A%26A...641A.136W/abstract</td><td>Galhecos-Team (Strasbourg), SSC XMM-Newton</td><td>in=/bigarchesbox/michel/xmm_hips/green out=/bigarchesbox/michel/xmm_hips/hips_green/ blank=-1 id=blue/test &quot;pixelCut=0.000001 0.0004 log&quot;</td><td>xcatdb/P/XMM/PN/eb3</td><td>59912.0</td><td>Image/X-ray/XMM</td></tr>\n",
       "<tr><td>23.4621</td><td>0.09202</td><td>https://xcatdb.unistra.fr/PNBlue/HpxFinder</td><td>71326.0</td><td>Image made with all PN images of the 4xmmdr13 in band 2-4.5Kev - Healpixilized by L. Michel [Observatoire de Strasbourg]</td><td>1699344392343.0</td><td>XMM-Newton 4XMM PN images, exposure and background maps</td><td>1.4</td><td>1.0</td><td>30.65994167</td><td>1.0</td><td>2.7552e-10</td><td>--</td><td>image</td><td>0.001111</td><td>(c) ESA / SSC XMM-Newton</td><td>--</td><td>[&apos;-64&apos;, &apos;-64&apos;]</td><td>stmoc</td><td>--</td><td>https://xmmssc.irap.omp.eu/</td><td>--</td><td>equatorial</td><td>(c) Observatoire de Strasbourg</td><td>public master clonableOnce</td><td>25.0</td><td>png fits</td><td>ivo://xcatdb/P/XMM/PN/eb4</td><td>https://xcatdb.unistra.fr/PNBlue</td><td>6.1992e-10</td><td>7.0</td><td>[&apos;mean&apos;, &apos;overlayMean mergeOverwriteTile treeMean&apos;]</td><td>[&apos;bilinear&apos;, &apos;bilinear&apos;]</td><td>png:3066494227 fits:1120067023</td><td>--</td><td>0.0008946</td><td>--</td><td>X-ray</td><td>2020A&amp;A...641A.136W</td><td>2023-06-05T08:40Z</td><td>0.4580648549089874</td><td>4XMM PN eb4</td><td>0.0</td><td>51577.0</td><td>512.0</td><td>median</td><td>--</td><td>--</td><td>73978459.0</td><td>X-ray images on band 2-4.5Kev</td><td>--</td><td>7.0</td><td>-2.654E-4 7.962E-4</td><td>2023-06-05T08:41Z</td><td>[&apos;-64&apos;, &apos;-64&apos;]</td><td>2023-06-05T08:40Z</td><td>Aladin/HipsGen v12.060</td><td>30.65994167</td><td>23.4621</td><td>1.0E-6 4.0E-4</td><td>L. Michel [Observatoire de Strasbourg]</td><td>https://ui.adsabs.harvard.edu/abs/2020A%26A...641A.136W/abstract</td><td>Galhecos-Team (Strasbourg), SSC XMM-Newton</td><td>in=/bigarchesbox/michel/xmm_hips/blue/ out=/bigarchesbox/michel/xmm_hips/hips_blue/ blank=-1 id=blue/test &quot;pixelCut=0.000001 0.0004 log&quot;</td><td>xcatdb/P/XMM/PN/eb4</td><td>59912.0</td><td>Image/X-ray/XMM</td></tr>\n",
       "</table></div>"
      ],
      "text/plain": [
       "<Table length=4>\n",
       "hips_initial_ra moc_sky_fraction ...  t_max  client_category\n",
       "    float64         float64      ... float64      str15     \n",
       "--------------- ---------------- ... ------- ---------------\n",
       "        23.4621          0.09202 ... 59912.0 Image/X-ray/XMM\n",
       "        23.4621          0.09202 ... 59912.0 Image/X-ray/XMM\n",
       "        23.4621          0.09202 ... 59912.0 Image/X-ray/XMM\n",
       "        23.4621          0.09202 ... 59912.0 Image/X-ray/XMM"
      ]
     },
     "execution_count": 23,
     "metadata": {},
     "output_type": "execute_result"
    }
   ],
   "source": [
    "xmm_hips = MOCServer.find_datasets(meta_data=\"obs_description=*xmm*&&hips_*=*\", casesensitive=False)\n",
    "xmm_hips"
   ]
  },
  {
   "cell_type": "code",
   "execution_count": 24,
   "metadata": {},
   "outputs": [
    {
     "data": {
      "text/html": [
       "&lt;MaskedColumn name=&apos;ID&apos; dtype=&apos;str21&apos; length=4&gt;\n",
       "<table>\n",
       "<tr><td>xcatdb/P/XMM/PN/color</td></tr>\n",
       "<tr><td>xcatdb/P/XMM/PN/eb2</td></tr>\n",
       "<tr><td>xcatdb/P/XMM/PN/eb3</td></tr>\n",
       "<tr><td>xcatdb/P/XMM/PN/eb4</td></tr>\n",
       "</table>"
      ],
      "text/plain": [
       "<MaskedColumn name='ID' dtype='str21' length=4>\n",
       "xcatdb/P/XMM/PN/color\n",
       "  xcatdb/P/XMM/PN/eb2\n",
       "  xcatdb/P/XMM/PN/eb3\n",
       "  xcatdb/P/XMM/PN/eb4"
      ]
     },
     "execution_count": 24,
     "metadata": {},
     "output_type": "execute_result"
    }
   ],
   "source": [
    "xmm_hips[\"ID\"]"
   ]
  },
  {
   "cell_type": "markdown",
   "metadata": {},
   "source": [
    "Let's have a closer look at `CDS/P/Fermi/color`, and `xcatdb/P/XMM/PN/color`"
   ]
  },
  {
   "cell_type": "markdown",
   "metadata": {},
   "source": [
    "#### Setting surveys in ipyaladin from python"
   ]
  },
  {
   "cell_type": "code",
   "execution_count": 25,
   "metadata": {},
   "outputs": [],
   "source": [
    "aladin.survey = \"CDS/P/Fermi/color\""
   ]
  },
  {
   "cell_type": "code",
   "execution_count": 26,
   "metadata": {},
   "outputs": [],
   "source": [
    "aladin.coo_frame = \"galactic\""
   ]
  },
  {
   "cell_type": "code",
   "execution_count": 27,
   "metadata": {},
   "outputs": [],
   "source": [
    "aladin.overlay_survey=\"xcatdb/P/XMM/PN/color\""
   ]
  },
  {
   "cell_type": "code",
   "execution_count": 28,
   "metadata": {},
   "outputs": [],
   "source": [
    "aladin.overlay_survey_opacity = 0.8"
   ]
  },
  {
   "cell_type": "markdown",
   "metadata": {},
   "source": [
    "That's great, we now have superposed two surveys in `ipyaladin`. Let's see how we can retrieve their space-time coverage now."
   ]
  },
  {
   "cell_type": "markdown",
   "metadata": {},
   "source": [
    "## Interacting with VizieR programmatically\n",
    "\n",
    "There are two ways to interact with VizieR from python.\n",
    "- with `pyVO`, the python module that offers Virtual Observatory protocols,\n",
    "- with `astroquery.vizier` that is specifically written for VizieR\n",
    "\n",
    "Here, we will focus on the pyVO approach, to stick to VO protocols. But most tutorials at `https://github.com/cds-astro/tutorials/notebooks` will illustrate the `astroquery.vizier` approach if you are interrested."
   ]
  },
  {
   "cell_type": "markdown",
   "metadata": {},
   "source": [
    "# \n",
    "Now we make use of the \"pyvo\" library which allows us to access the virtual observatory services, such as TAP (Table Access Protocol) service provided by VizieR at CDS. This service allows for querying a wide range of astronomical data stored in VizieR.\n",
    "\n",
    "Using this service, we can easily access the log of observations XMM-NEWTON & Fermi.  This allows us to obtain important information that can find specific observations that match certain criteria, such as time of observation, celestial coordinates, target name, or observation ID. Such observation logs often cantain information about the data quality, data availability, cross-matching catalogues and much more.\n"
   ]
  },
  {
   "cell_type": "code",
   "execution_count": null,
   "metadata": {},
   "outputs": [],
   "source": [
    "# give the address of the service, you can also directly visit the website\n",
    "tap_vizier = pyvo.dal.TAPService(\"https://tapvizier.cds.unistra.fr/TAPVizieR/tap\")"
   ]
  },
  {
   "cell_type": "code",
   "execution_count": null,
   "metadata": {},
   "outputs": [],
   "source": [
    "# access to vizier metadata\n",
    "result = tap_vizier.search(\"select * from TAP_SCHEMA.tables where schema_name = 'metaviz'\").to_table()\n",
    "result.pprint_all()"
   ]
  },
  {
   "cell_type": "code",
   "execution_count": null,
   "metadata": {},
   "outputs": [],
   "source": [
    "metacatcols = tap_vizier.search(\"select * from columns where table_name = 'METAcat'\").to_table()\n",
    "metacatcols"
   ]
  },
  {
   "cell_type": "code",
   "execution_count": null,
   "metadata": {},
   "outputs": [],
   "source": [
    "# catalogs are in metacat\n",
    "xmm_DR13 = tap_vizier.search(\"\"\"select top 1 * from METAcat\n",
    "                  where title like '%XMM%' and title like'%DR13%'\n",
    "                  \"\"\").to_table()\n",
    "xmm_DR13"
   ]
  },
  {
   "cell_type": "code",
   "execution_count": null,
   "metadata": {},
   "outputs": [],
   "source": [
    "#Vizier.find_catalogs([\"xmm\", \"log\"])"
   ]
  },
  {
   "cell_type": "code",
   "execution_count": null,
   "metadata": {},
   "outputs": [],
   "source": [
    "# tables are in metatab\n",
    "xmm_DR13_tables = tap_vizier.search(\n",
    "    \"\"\"select * from METAtab\n",
    "    where catid = 9069\n",
    "    \"\"\"\n",
    ").to_table()\n",
    "xmm_DR13_tables"
   ]
  },
  {
   "cell_type": "code",
   "execution_count": null,
   "metadata": {},
   "outputs": [],
   "source": [
    "# retrieve the whole xmmlog table\n",
    "xmmlog = tap_vizier.search('select * from \"IX/69/summary\"').to_table()\n",
    "xmmlog\n"
   ]
  },
  {
   "cell_type": "code",
   "execution_count": null,
   "metadata": {},
   "outputs": [],
   "source": [
    "len(xmmlog)"
   ]
  },
  {
   "cell_type": "code",
   "execution_count": null,
   "metadata": {},
   "outputs": [],
   "source": [
    "for column in xmmlog.colnames:\n",
    "    print(column, \":\", xmmlog[column].description)"
   ]
  },
  {
   "cell_type": "code",
   "execution_count": null,
   "metadata": {},
   "outputs": [],
   "source": [
    "aladin.add_table(xmmlog, color=\"lightpink\")\n",
    "\n",
    "# I get an error - TypeError: add_table() got an unexpected keyword argument 'color'"
   ]
  },
  {
   "cell_type": "markdown",
   "metadata": {},
   "source": [
    "Now chose a source and use the simbad tool"
   ]
  },
  {
   "cell_type": "markdown",
   "metadata": {},
   "source": [
    "## Now build the STMOC"
   ]
  },
  {
   "cell_type": "markdown",
   "metadata": {},
   "source": [
    "# \n",
    "STMOCs are useful for identifying temporal and spatial overlaps between different astronomical catalogs, which is particularly useful for studying GRBs. Since GRBs are transient events that can be observed across multiple wavelengths.\n",
    "\n",
    "Using STMOCs can:\n",
    "- Help in identifying overlaps between different observations from different instruments which can aid in confirming GRB detections.\n",
    "- Help in obtaing information from different instruments and to perform various physical studies such as GRB light curves, spectra, and afterglows, leading to better modeling of the underlying physical processes.\n",
    "- Help in pinpointing the exact sky regions where GRBs were observed, aiding in follow-up observations with other telescopes.\n",
    "- Help in cross-matching process that can lead to statiscal studies of GRB populations.\n"
   ]
  },
  {
   "cell_type": "markdown",
   "metadata": {},
   "source": [
    "#\n",
    "To proceed we can use tap service to understand the structure and content of time-related data in the catalog."
   ]
  },
  {
   "cell_type": "code",
   "execution_count": null,
   "metadata": {},
   "outputs": [],
   "source": [
    "# information on time is in metatime\n",
    "time_columns = tap_vizier.search(\"select * from columns where table_name='METAtime'\")\n",
    "time_columns"
   ]
  },
  {
   "cell_type": "code",
   "execution_count": null,
   "metadata": {},
   "outputs": [],
   "source": [
    "# lets get metatime for the second table (catid=2) of the catalog (catid=9096)\n",
    "xmm_DR13_tables = tap_vizier.search(\n",
    "    \"\"\"select * from METAtime JOIN METAcol\n",
    "    on METAtime.catid = METAcol.catid\n",
    "    and METAcol.colid = METAtime.colid\n",
    "    and METAcol.tabid = METAtime.tabid\n",
    "    where METAcol.catid = 9069 and METAcol.tabid = 2\n",
    "    \"\"\"\n",
    ").to_table()\n",
    "xmm_DR13_tables"
   ]
  },
  {
   "cell_type": "markdown",
   "metadata": {},
   "source": [
    "# \n",
    "STMOCs can handle only specific format of time. Hence, we convert Modified Julian Date (MJD) columns to Astropy Time objects for easier manipulation and consistency."
   ]
  },
  {
   "cell_type": "code",
   "execution_count": null,
   "metadata": {},
   "outputs": [],
   "source": [
    "# TODO here check the time scale in the catalog ('tai', 'tcb', 'tcg', 'tdb', 'tt', 'ut1', 'utc', 'local')\n",
    "# got help from Laurent https://xmm-tools.cosmos.esa.int/external/xmm_user_support/documentation/uhb/reftime.html\n",
    "xmmlog[\"start_obs\"] = Time(xmmlog[\"MJD0\"], format='mjd', scale=\"tt\")\n",
    "xmmlog[\"end_obs\"] = Time(xmmlog[\"MJD1\"], format='mjd', scale=\"tt\")\n",
    "xmmlog"
   ]
  },
  {
   "cell_type": "markdown",
   "metadata": {},
   "source": [
    "# \n",
    "To create STMOCs, it is very important to set the temporal and spatial resolution. \n",
    "We have chosen 0.5 days to account for daily varations in the GRB (???)\n",
    "We have chosen 1 degree as its adequate resoltion for identifying a GRB (???)"
   ]
  },
  {
   "cell_type": "code",
   "execution_count": null,
   "metadata": {},
   "outputs": [],
   "source": [
    "TimeMOC.time_resolution_to_order(TimeDelta(0.5, format=\"jd\")) # 0.5 days is order 26"
   ]
  },
  {
   "cell_type": "code",
   "execution_count": null,
   "metadata": {},
   "outputs": [],
   "source": [
    "MOC.spatial_resolution_to_order(Angle(\"1d\")) # 1 degrees is order 6"
   ]
  },
  {
   "cell_type": "code",
   "execution_count": null,
   "metadata": {},
   "outputs": [],
   "source": [
    "stmoc_xmm = STMOC.from_time_ranges_positions(\n",
    "    times_start=xmmlog[\"start_obs\"],\n",
    "    times_end=xmmlog[\"end_obs\"],\n",
    "    lon = Longitude(xmmlog[\"RAJ2000\"]),\n",
    "    lat = Latitude(xmmlog[\"DEJ2000\"]),\n",
    "    time_depth=26, spatial_depth=6\n",
    ")"
   ]
  },
  {
   "cell_type": "markdown",
   "metadata": {},
   "source": [
    "# \n",
    "Shown below are a series of plots that visualize the STMOCs maps of XMM-Newton observations for different time ranges. The plots show how the patial coverage of XMM-Newton observations changes over time. This is important for understanding the temporal distribution of GRB observations. Such plots can be useful in identifying overlapping observation periods with other instruments."
   ]
  },
  {
   "cell_type": "code",
   "execution_count": null,
   "metadata": {},
   "outputs": [],
   "source": [
    "def add_to_plot(fig, label, wcs, title, moc):\n",
    "    \"\"\"Add a MOC to a plot.\"\"\"\n",
    "    ax = fig.add_subplot(label, projection=wcs)\n",
    "\n",
    "    ax.grid(color=\"black\", linestyle=\"dotted\")\n",
    "    ax.set_title(title)\n",
    "    ax.set_xlabel(\"lon\")\n",
    "    ax.set_ylabel(\"lat\")\n",
    "\n",
    "    moc.fill(ax=ax, wcs=wcs, alpha=0.9, fill=True, linewidth=0, color=\"#00bb00\")\n",
    "    # moc.border(ax=ax, wcs=wcs, linewidth=1, color=\"green\")\n",
    "\n",
    "\n",
    "fig = plt.figure(figsize=(10, 10))\n",
    "\n",
    "time_ranges = Time(\n",
    "    [\n",
    "        [[\"2000-01-01\", \"2005-01-01\"]],\n",
    "        [[\"2005-01-01\", \"2010-01-01\"]],\n",
    "        [[\"2010-01-01\", \"2015-01-01\"]],\n",
    "        [[\"2015-01-01\", \"2020-01-01\"]],\n",
    "    ],\n",
    "    format=\"iso\",\n",
    "    scale=\"tdb\",\n",
    "    out_subfmt=\"date\",\n",
    ")\n",
    "with WCS(\n",
    "    fig,\n",
    "    fov=330 * u.deg,\n",
    "    center=SkyCoord(0, 0, unit=\"deg\", frame=\"galactic\"),\n",
    "    coordsys=\"galactic\",\n",
    "    rotation=Angle(0, u.degree),\n",
    "    projection=\"AIT\",\n",
    ") as wcs:\n",
    "    for i in range(0, 4):\n",
    "        tmoc = TimeMOC.from_time_ranges(\n",
    "            min_times=time_ranges[i][0, 0],\n",
    "            max_times=time_ranges[i][0, 1],\n",
    "            delta_t=TimeDelta(0.5, scale=\"tdb\", format=\"jd\"),\n",
    "        )\n",
    "\n",
    "        moc_2mass = stmoc_xmm.query_by_time(tmoc)\n",
    "        title = \"XMM observations between \\n{} and {}\".format(\n",
    "            time_ranges[i][0, 0].iso,\n",
    "            time_ranges[i][0, 1].iso,\n",
    "        )\n",
    "        id_subplot = int(\"22\" + str(i + 1))\n",
    "        add_to_plot(fig, id_subplot, wcs, title, moc_2mass)\n",
    "\n",
    "plt.show()"
   ]
  },
  {
   "cell_type": "markdown",
   "metadata": {},
   "source": [
    "## Now fermi grb"
   ]
  },
  {
   "cell_type": "markdown",
   "metadata": {},
   "source": [
    "#\n",
    "The same process can be repeated for Fermi "
   ]
  },
  {
   "cell_type": "code",
   "execution_count": null,
   "metadata": {},
   "outputs": [],
   "source": [
    "fermi_grb_metacat = tap_vizier.search(\"\"\"select * from METAcat\n",
    "                              where title like '%Fermi%GRB%'\n",
    "                              \"\"\").to_table()\n",
    "fermi_grb_metacat\n"
   ]
  },
  {
   "cell_type": "code",
   "execution_count": null,
   "metadata": {},
   "outputs": [],
   "source": [
    "fermi_grb_catid = 18930046"
   ]
  },
  {
   "cell_type": "code",
   "execution_count": null,
   "metadata": {},
   "outputs": [],
   "source": [
    "fermi_grb_tables = tap_vizier.search(f\"\"\"select * from METAtab where catid={fermi_grb_catid}\n",
    "\"\"\").to_table()\n",
    "fermi_grb_tables"
   ]
  },
  {
   "cell_type": "code",
   "execution_count": null,
   "metadata": {},
   "outputs": [],
   "source": [
    "fermi_grb_triggers_columns = tap_vizier.search(\"\"\"select * from columns where table_name='J/ApJ/893/46/table4'\"\"\").to_table()\n",
    "fermi_grb_triggers_columns"
   ]
  },
  {
   "cell_type": "code",
   "execution_count": null,
   "metadata": {},
   "outputs": [],
   "source": [
    "fermi_grb_durations_columns = tap_vizier.search(\"\"\"select * from columns where table_name='J/ApJ/893/46/table5'\"\"\").to_table()\n",
    "fermi_grb_durations_columns"
   ]
  },
  {
   "cell_type": "code",
   "execution_count": null,
   "metadata": {},
   "outputs": [],
   "source": [
    "# lets get metatime for the trigger table (tabid=1)\n",
    "fermi_triggers_time_info = tap_vizier.search(\n",
    "    f\"\"\"select * from METAtime JOIN METAcol\n",
    "    on METAtime.catid = METAcol.catid\n",
    "    and METAcol.colid = METAtime.colid\n",
    "    and METAcol.tabid = METAtime.tabid\n",
    "    where METAcol.catid = {fermi_grb_catid} and METAcol.tabid = 1\n",
    "    \"\"\"\n",
    ").to_table()\n",
    "fermi_triggers_time_info\n"
   ]
  },
  {
   "cell_type": "code",
   "execution_count": null,
   "metadata": {},
   "outputs": [],
   "source": [
    "# let's query the joined tables (to get event start time and duration)\n",
    "fermi = tap_vizier.search(\n",
    "    \"\"\"select * from \"J/ApJ/893/46/table5\"\n",
    "    join \"J/ApJ/893/46/table4\" USING(Fermi)\n",
    "    \"\"\"\n",
    ").to_table()\n",
    "fermi"
   ]
  },
  {
   "cell_type": "code",
   "execution_count": null,
   "metadata": {},
   "outputs": [],
   "source": [
    "# we have to define a specific time for vizier \n",
    "\n",
    "from astropy.time.formats import erfa, TimeFromEpoch\n",
    "class TimeVizier(TimeFromEpoch):\n",
    "    name = \"viztime\"\n",
    "    unit = 1.0 / erfa.DAYSEC  # in days (1 day == 86400 seconds)\n",
    "    epoch_val = \"2000-01-01 00:00:00\"\n",
    "    epoch_val2 = None\n",
    "    epoch_scale = \"utc\"\n",
    "    epoch_format = \"iso\""
   ]
  },
  {
   "cell_type": "code",
   "execution_count": null,
   "metadata": {},
   "outputs": [],
   "source": [
    "fermi[\"start_time\"] = Time(fermi[\"Obs\"] - erfa.DAYSEC / 2., format=\"viztime\", scale=\"utc\")\n",
    "fermi[\"end_time\"] = Time(fermi[\"Obs\"] + erfa.DAYSEC / 2., format=\"viztime\", scale=\"utc\")\n",
    "fermi"
   ]
  },
  {
   "cell_type": "code",
   "execution_count": null,
   "metadata": {},
   "outputs": [],
   "source": [
    "stmoc_fermi = STMOC.from_time_ranges_positions(\n",
    "    times_start=fermi[\"start_time\"],\n",
    "    times_end=fermi[\"end_time\"],\n",
    "    lon = Longitude(fermi[\"RAJ2000\"]),\n",
    "    lat = Latitude(fermi[\"DEJ2000\"]),\n",
    "    time_depth=26, spatial_depth=5  # ask Ada why 5 here\n",
    ")"
   ]
  },
  {
   "cell_type": "markdown",
   "metadata": {},
   "source": [
    "# \n",
    "Now using the STMOC information for both XMM and Fermi, we can use intersection method to identify the common space-time regions covered by both Fermi and XMM-Newton observations. Additionally, all the events, that have been identified, are confirmed by two different telescopes, therefore we can know for certain that the GRBs identified are genuine. These give as output the time when both the telescopes with pointing at the same area of the sky. These come in handy specially for identifing simultaneous observations, which are crucial for multi-wavelength studies of transient events like Gamma-Ray Bursts (GRBs)."
   ]
  },
  {
   "cell_type": "code",
   "execution_count": null,
   "metadata": {},
   "outputs": [],
   "source": [
    "intersection = stmoc_fermi.intersection(stmoc_xmm)\n",
    "intersection"
   ]
  },
  {
   "cell_type": "markdown",
   "metadata": {},
   "source": [
    "# \n",
    "By now we have seen the power of using STMOCs to identifying transcients events such as GRBs. This method can also be applied for \n",
    "different astrophysical objects such as supernova remnants which emit at different wavelengths. STMOCs is a powerful tool which\n",
    "facilitates the identification of temporal and spatial overlaps, enabling comprehensive multi-wavelength analyses and efficient data management, ultimately advancing our understanding of the object\n",
    "of interest."
   ]
  },
  {
   "cell_type": "code",
   "execution_count": null,
   "metadata": {},
   "outputs": [],
   "source": [
    "hess = \"J/A+A/612/A3\"\n",
    "super_nova_remnant = \"RX J1713.7-3946\""
   ]
  },
  {
   "cell_type": "code",
   "execution_count": null,
   "metadata": {},
   "outputs": [],
   "source": [
    "from astroquery.simbad import Simbad"
   ]
  },
  {
   "cell_type": "code",
   "execution_count": null,
   "metadata": {},
   "outputs": [],
   "source": [
    "Simbad.query_object(\"RX J1713.7-3946\")"
   ]
  },
  {
   "cell_type": "code",
   "execution_count": null,
   "metadata": {},
   "outputs": [],
   "source": [
    "help(intersection.contains)"
   ]
  },
  {
   "cell_type": "code",
   "execution_count": null,
   "metadata": {},
   "outputs": [],
   "source": [
    "only_space = MOC.from_string(\"6/37910 16282 9576 17030 26013\")"
   ]
  },
  {
   "cell_type": "code",
   "execution_count": null,
   "metadata": {},
   "outputs": [],
   "source": [
    "from astropy.coordinates import Longitude, Latitude"
   ]
  },
  {
   "cell_type": "code",
   "execution_count": null,
   "metadata": {},
   "outputs": [],
   "source": [
    "only_space.contains_lonlat(lon=Longitude(\"17 12 27\", unit=\"deg\"), lat=Latitude(\"-39 41.2\", unit=\"deg\"))"
   ]
  },
  {
   "cell_type": "code",
   "execution_count": null,
   "metadata": {},
   "outputs": [],
   "source": [
    "only_space.query_vizier_table(\"J/A+A/612/A3\")"
   ]
  },
  {
   "cell_type": "code",
   "execution_count": null,
   "metadata": {},
   "outputs": [],
   "source": [
    "fermi_grbs_intersection = only_space.query_vizier_table(\"J/ApJ/893/46\")\n",
    "fermi_grbs_intersection"
   ]
  },
  {
   "cell_type": "code",
   "execution_count": null,
   "metadata": {},
   "outputs": [],
   "source": [
    "aladin.add_table(fermi_grbs_intersection, color=\"hotpink\", shape=\"cross\")"
   ]
  },
  {
   "cell_type": "code",
   "execution_count": null,
   "metadata": {},
   "outputs": [],
   "source": [
    "simbad = Simbad()\n",
    "simbad.add_votable_fields(\"flux\")"
   ]
  },
  {
   "cell_type": "code",
   "execution_count": null,
   "metadata": {},
   "outputs": [],
   "source": [
    "simbad_result = simbad.query_objects([f\"Fermi {id}\" for id in fermi_grbs_intersection[\"Fermi\"]])\n",
    "simbad_result"
   ]
  },
  {
   "cell_type": "code",
   "execution_count": null,
   "metadata": {},
   "outputs": [],
   "source": [
    "only_space.query_vizier_table(\"IX/69\")"
   ]
  },
  {
   "cell_type": "code",
   "execution_count": null,
   "metadata": {},
   "outputs": [],
   "source": []
  }
 ],
 "metadata": {
  "kernelspec": {
   "display_name": "Python 3 (ipykernel)",
   "language": "python",
   "name": "python3"
  },
  "language_info": {
   "codemirror_mode": {
    "name": "ipython",
    "version": 3
   },
   "file_extension": ".py",
   "mimetype": "text/x-python",
   "name": "python",
   "nbconvert_exporter": "python",
   "pygments_lexer": "ipython3",
   "version": "3.10.11"
  },
  "version_major": 2,
  "version_minor": 0,
  "widgets": {
   "application/vnd.jupyter.widget-state+json": {
    "state": {
     "878020e4509e40d38b42435ea8d0d2b4": {
      "model_module": "anywidget",
      "model_module_version": "0.9.6",
      "model_name": "AnyModel",
      "state": {
       "_anywidget_id": "ipyaladin.widget.Aladin",
       "_css": ".cell-output-ipywidget-background{background:transparent}.jp-OutputArea-output,.aladin-widget{background-color:transparent}.aladin-widget .aladin-measurement-div{max-height:100px}\n/*# sourceMappingURL=data:application/json;base64,ewogICJ2ZXJzaW9uIjogMywKICAic291cmNlcyI6IFsiLi4vLi4vLi4vanMvd2lkZ2V0LmNzcyJdLAogICJzb3VyY2VzQ29udGVudCI6IFsiLmNlbGwtb3V0cHV0LWlweXdpZGdldC1iYWNrZ3JvdW5kIHtcbiAgYmFja2dyb3VuZDogdHJhbnNwYXJlbnQ7XG59XG4uanAtT3V0cHV0QXJlYS1vdXRwdXQge1xuICBiYWNrZ3JvdW5kLWNvbG9yOiB0cmFuc3BhcmVudDtcbn1cbi5hbGFkaW4td2lkZ2V0IHtcbiAgYmFja2dyb3VuZC1jb2xvcjogdHJhbnNwYXJlbnQ7XG59XG4uYWxhZGluLXdpZGdldCAuYWxhZGluLW1lYXN1cmVtZW50LWRpdiB7XG4gIG1heC1oZWlnaHQ6IDEwMHB4O1xufVxuIl0sCiAgIm1hcHBpbmdzIjogIkFBQUEsQ0FBQyxpQ0FDQyxXQUFZLFdBQ2QsQ0FDQSxDQUFDLHFCQUdELENBQUMsY0FGQyxpQkFBa0IsV0FDcEIsQ0FJQSxDQUhDLGNBR2MsQ0FBQyx1QkFDZCxXQUFZLEtBQ2QiLAogICJuYW1lcyI6IFtdCn0K */\n",
       "_esm": "function p(s){s.charAt(0)===\"_\"&&(s=s.slice(1));let e=s.split(\"_\");for(let o=1;o<e.length;o++)e[o]=e[o].charAt(0).toUpperCase()+e[o].slice(1);return e.join(\"\")}function h(s){let e={};for(let o in s)e[p(o)]=s[o];return e}var c=class{locked=!1;unlock(){this.locked=!1}lock(){this.locked=!0}};import u from\"https://esm.sh/aladin-lite@3.4.1-beta\";var l=u;var m=class{constructor(e){this.aladin=e}handleChangeFoV(e){this.aladin.setFoV(e.fov)}handleGotoRaDec(e){this.aladin.gotoRaDec(e.ra,e.dec)}handleAddCatalogFromURL(e){let o=h(e.options||{});this.aladin.addCatalog(l.catalogFromURL(e.votable_URL,o))}handleAddMOCFromURL(e){let o=h(e.options||{});this.aladin.addMOC(l.MOCFromURL(e.moc_URL,o))}handleAddMOCFromDict(e){let o=h(e.options||{});this.aladin.addMOC(l.MOCFromJSON(e.moc_dict,o))}handleAddOverlay(e){let o=e.regions_infos,n=h(e.graphic_options||{});n.color||(n.color=\"red\");let i=l.graphicOverlay(n);this.aladin.addOverlay(i);for(let t of o){let a=t.infos;switch(t.region_type){case\"stcs\":i.addFootprints(l.footprintsFromSTCS(a.stcs,t.options));break;case\"circle\":i.add(l.circle(a.ra,a.dec,a.radius,t.options));break;case\"ellipse\":i.add(l.ellipse(a.ra,a.dec,a.a,a.b,a.theta,t.options));break;case\"line\":i.add(l.line(a.ra1,a.dec1,a.ra2,a.dec2,t.options));break;case\"polygon\":i.add(l.polygon(a.vertices,t.options));break}}}handleChangeColormap(e){this.aladin.getBaseImageLayer().setColormap(e.colormap)}handleGetJPGThumbnail(){this.aladin.exportAsPNG()}handleTriggerRectangularSelection(){this.aladin.select()}handleAddTable(e,o){let n=h(e.options||{}),i=o[0].buffer,t=new TextDecoder(\"utf-8\"),a=new Blob([t.decode(i)]),r=URL.createObjectURL(a);l.catalogFromURL(r,Object.assign(n,{onClick:\"showTable\"}),d=>{this.aladin.addCatalog(d)},!1),URL.revokeObjectURL(r)}};var g=class{constructor(e,o,n){this.aladin=e,this.aladinDiv=o,this.model=n,this.messageHandler=new m(e)}subscribeAll(){let e=new c,o=new c;this.aladin.on(\"positionChanged\",t=>{if(o.locked){o.unlock();return}e.lock();let a=[t.ra,t.dec];this.model.set(\"_target\",`${a[0]} ${a[1]}`),this.model.save_changes()}),this.model.on(\"change:_target\",()=>{if(e.locked){e.unlock();return}o.lock();let t=this.model.get(\"_target\"),[a,r]=t.split(\" \");this.aladin.gotoRaDec(a,r)});let n=new c,i=new c;this.aladin.on(\"zoomChanged\",t=>{if(i.locked){i.unlock();return}n.lock(),this.model.set(\"_fov\",parseFloat(t.toFixed(5))),this.model.save_changes()}),this.model.on(\"change:_fov\",()=>{if(n.locked){n.unlock();return}i.lock();let t=this.model.get(\"_fov\");this.aladin.setFoV(t)}),this.model.on(\"change:height\",()=>{let t=this.model.get(\"height\");this.aladinDiv.style.height=`${t}px`}),this.aladin.on(\"objectHovered\",t=>{t.data!==void 0&&this.model.send({event_type:\"object_hovered\",content:{ra:t.ra,dec:t.dec}})}),this.aladin.on(\"objectClicked\",t=>{if(t){let a={ra:t.ra,dec:t.dec};t.data!==void 0&&(a.data=t.data),this.model.set(\"clicked_object\",a),this.model.send({event_type:\"object_clicked\",content:a}),this.model.save_changes()}}),this.aladin.on(\"click\",t=>{this.model.send({event_type:\"click\",content:t})}),this.aladin.on(\"select\",t=>{let a=[];t.forEach(r=>{r.forEach(d=>{a.push({ra:d.ra,dec:d.dec,data:d.data,x:d.x,y:d.y})})}),this.model.send({event_type:\"select\",content:a})}),this.model.on(\"change:coo_frame\",()=>{this.aladin.setFrame(this.model.get(\"coo_frame\"))}),this.model.on(\"change:survey\",()=>{this.aladin.setImageSurvey(this.model.get(\"survey\"))}),this.model.on(\"change:overlay_survey\",()=>{this.aladin.setOverlayImageLayer(this.model.get(\"overlay_survey\"))}),this.model.on(\"change:overlay_survey_opacity\",()=>{this.aladin.getOverlayImageLayer().setAlpha(this.model.get(\"overlay_survey_opacity\"))}),this.eventHandlers={change_fov:this.messageHandler.handleChangeFoV,goto_ra_dec:this.messageHandler.handleGotoRaDec,add_catalog_from_URL:this.messageHandler.handleAddCatalogFromURL,add_MOC_from_URL:this.messageHandler.handleAddMOCFromURL,add_MOC_from_dict:this.messageHandler.handleAddMOCFromDict,add_overlay:this.messageHandler.handleAddOverlay,change_colormap:this.messageHandler.handleChangeColormap,get_JPG_thumbnail:this.messageHandler.handleGetJPGThumbnail,trigger_rectangular_selection:this.messageHandler.handleTriggerRectangularSelection,add_table:this.messageHandler.handleAddTable},this.model.on(\"msg:custom\",(t,a)=>{let r=t.event_name,d=this.eventHandlers[r];if(d)d.call(this,t,a);else throw new Error(`Unknown event name: ${r}`)})}unsubscribeAll(){this.model.off(\"change:_target\"),this.model.off(\"change:_fov\"),this.model.off(\"change:height\"),this.model.off(\"change:coo_frame\"),this.model.off(\"change:survey\"),this.model.off(\"change:overlay_survey\"),this.model.off(\"change:overlay_survey_opacity\"),this.model.off(\"change:trigger_event\"),this.model.off(\"msg:custom\")}};var f=0;function v(s,e){let o={};s.get(\"init_options\").forEach(a=>{o[p(a)]=s.get(a)});let n=document.createElement(\"div\");n.classList.add(\"aladin-widget\"),n.style.height=`${o.height}px`,n.id=`aladin-lite-div-${f}`;let i=new l.aladin(n,o);f+=1;let t=o.target.split(\" \");return i.gotoRaDec(t[0],t[1]),e.appendChild(n),{aladin:i,aladinDiv:n}}async function _({model:s}){await l.init}function y({model:s,el:e}){let{aladin:o,aladinDiv:n}=v(s,e),i=new g(o,n,s);return i.subscribeAll(),()=>{i.unsubscribeAll()}}var G={initialize:_,render:y};export{G as default};\n//# sourceMappingURL=data:application/json;base64,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\n",
       "_fov": 1.67371,
       "_model_module": "anywidget",
       "_model_module_version": "0.9.6",
       "_model_name": "AnyModel",
       "_target": "266.41194656734393 -29.007787466624666",
       "_view_module": "anywidget",
       "_view_module_version": "0.9.6",
       "_view_name": "AnyView",
       "background_color": "rgb(60, 60, 60)",
       "clicked_object": {},
       "coo_frame": "galactic",
       "full_screen": false,
       "grid_color": "rgb(178, 50, 178)",
       "grid_opacity": 0.5,
       "grid_options": {
        "color": {
         "b": 0.002737408688965782,
         "g": 0.0007689350249903883,
         "r": 0.002737408688965782
        },
        "enabled": false,
        "labelSize": 15,
        "opacity": 0.5,
        "showLabels": true,
        "thickness": 3
       },
       "height": 400,
       "init_options": [
        "_fov",
        "_target",
        "background_color",
        "coo_frame",
        "full_screen",
        "grid_color",
        "grid_opacity",
        "grid_options",
        "height",
        "overlay_survey",
        "overlay_survey_opacity",
        "projection",
        "reticle_color",
        "reticle_size",
        "samp",
        "show_catalog",
        "show_context_menu",
        "show_coo_grid",
        "show_coo_grid_control",
        "show_coo_location",
        "show_fov",
        "show_frame",
        "show_fullscreen_control",
        "show_layers_control",
        "show_overlay_stack_control",
        "show_projection_control",
        "show_reticle",
        "show_settings_control",
        "show_share_control",
        "show_simbad_pointer_control",
        "show_status_bar",
        "show_zoom_control",
        "survey"
       ],
       "layout": "IPY_MODEL_8f5c70121bb742428f9868038ddcdcd4",
       "overlay_survey": "xcatdb/P/XMM/PN/color",
       "overlay_survey_opacity": 0.8,
       "projection": "SIN",
       "reticle_color": "rgb(178, 50, 178)",
       "reticle_size": 20,
       "samp": false,
       "show_catalog": true,
       "show_context_menu": true,
       "show_coo_grid": false,
       "show_coo_grid_control": true,
       "show_coo_location": true,
       "show_fov": true,
       "show_frame": true,
       "show_fullscreen_control": true,
       "show_layers_control": true,
       "show_overlay_stack_control": true,
       "show_projection_control": true,
       "show_reticle": true,
       "show_settings_control": true,
       "show_share_control": false,
       "show_simbad_pointer_control": true,
       "show_status_bar": true,
       "show_zoom_control": false,
       "survey": "CDS/P/Fermi/color"
      }
     },
     "8f5c70121bb742428f9868038ddcdcd4": {
      "model_module": "@jupyter-widgets/base",
      "model_module_version": "2.0.0",
      "model_name": "LayoutModel",
      "state": {}
     }
    },
    "version_major": 2,
    "version_minor": 0
   }
  }
 },
 "nbformat": 4,
 "nbformat_minor": 4
}
