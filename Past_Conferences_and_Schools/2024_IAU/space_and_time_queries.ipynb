{
 "cells": [
  {
   "cell_type": "code",
   "execution_count": 46,
   "metadata": {
    "editable": true,
    "slideshow": {
     "slide_type": ""
    },
    "tags": []
   },
   "outputs": [],
   "source": [
    "# Libraries to access external data\n",
    "# PyVO provides generic access to VO protocols (ex: TAP)\n",
    "import pyvo\n",
    "# astroquery modules are specific to astronomy services, there are not necessarily VO,\n",
    "# but more and more do switch to using VO protocols behind the scenes these days\n",
    "# here we import the MOCServer and Vizier modules\n",
    "from astroquery.mocserver import MOCServer\n",
    "\n",
    "# The mocpy library is an astropy-affiliated library\n",
    "# It allows to manipulate MOCs\n",
    "from mocpy import STMOC, MOC, TimeMOC, WCS\n",
    "\n",
    "# General astropy utilitary methods and classes\n",
    "from astropy.coordinates import Longitude, Latitude, Angle, SkyCoord\n",
    "from astropy.time import Time, TimeDelta\n",
    "import astropy.units as u\n",
    "\n",
    "# For vizaulisation\n",
    "import matplotlib.pyplot as plt\n",
    "from ipyaladin import Aladin\n"
   ]
  },
  {
   "cell_type": "markdown",
   "metadata": {},
   "source": [
    "# Accessing data through space and time criteria"
   ]
  },
  {
   "cell_type": "markdown",
   "metadata": {},
   "source": [
    "## This notebook focuses on the use of the Multi-Order Coverage (MOC) and Space-Time MOC (STMOC) for querying and analyzing astronomical data. \n",
    "\n",
    "### Key words:\n",
    "\n",
    "**Hierarchical Progressive Survey (HiPS)**: HiPS describes a generic method for packaging, storing, querying, and describing astronomical data. It stores data in a folder structure that mimics the [HEALPix tesselation of the sky](https://healpix.jpl.nasa.gov/pdf/intro.pdf).\n",
    "\n",
    "**Multi-Order Coverage (MOC)**: MOC is a data structure used to describe arbitrary regions of the sky with variable resolution. It is particularly useful for handling large-scale astronomical surveys and for efficiently querying regions of interest.\n",
    "\n",
    "**Space-Time MOC (STMOC)**: STMOC extends the concept of MOC to include the temporal dimension, allowing for the representation of regions of the sky that change over time. This is useful for time-domain astronomy, where the visibility of sources varies.\n",
    "\n",
    "### Scientific Motivation:\n",
    "\n",
    "Gamma-Ray Bursts (GRBs) are among the most energetic and mysterious phenomena in the universe. These brief but intense flashes of gamma rays are believed to originate from cataclysmic events such as the collapse of massive stars or the merger of neutron stars. Observing GRBs across multiple wavelengths and with different telescopes provides crucial insights into their nature and origins. In this study, we focus on GRBs observed by the Fermi Gamma-ray Space Telescope and the XMM-Newton X-ray Observatory, and demonstrate how the use of Space-Time Multi-Order Coverage (STMOC) can help identify and analyze these fascinating events.\n",
    "\n",
    "## The HEALPix grid and its link to HiPS surveys\n",
    "\n",
    "HiPS is a way of storing data sets (it can be catalogs, or images for example) that follows the HEALPix tesselation of the sky. This is particularly optimized for vizualisation.\n",
    "\n",
    "![HiPS_and_the_HEALPix_grid](HiPS_and_the_HEALPix_grid.png)\n",
    "\n",
    "Figure 1: Standards to represent the sky, or parts of the sky. (a) The HEALPix grid (b) The HiPS standard (c) Visualisation in ipyaladin (d), and a MOC.\n",
    "\n",
    "### The HEALPix grid\n",
    "\n",
    "With the HEALPix grid, the sphere is mapped by equal-area tiles. In **Figure 1a**, we show an orthographic representation of the 12 tiles at order zero and of the 768 tiles at order 3. This is extracted from [Gorski *et.al.*](https://iopscience.iop.org/article/10.1086/427976/pdf).\n",
    "\n",
    "`mocpy` is a python library that allows to manipulate MOCs. MOCs are made of HEALPix cells (see **Figure 1d** and the next parts where we'll look at MOCs in more details), so mocpy has a few methods that allow to get information about the HEALPix tesselation."
   ]
  },
  {
   "cell_type": "code",
   "execution_count": 2,
   "metadata": {},
   "outputs": [
    {
     "data": {
      "text/plain": [
       "12"
      ]
     },
     "execution_count": 2,
     "metadata": {},
     "output_type": "execute_result"
    }
   ],
   "source": [
    "# we can check the number of cells at order 0 in the HEALPix tesselation\n",
    "MOC.n_cells(0)"
   ]
  },
  {
   "cell_type": "code",
   "execution_count": 3,
   "metadata": {},
   "outputs": [
    {
     "data": {
      "text/plain": [
       "768"
      ]
     },
     "execution_count": 3,
     "metadata": {},
     "output_type": "execute_result"
    }
   ],
   "source": [
    "# or at an other order\n",
    "MOC.n_cells(3)"
   ]
  },
  {
   "cell_type": "code",
   "execution_count": 45,
   "metadata": {},
   "outputs": [
    {
     "data": {
      "text/plain": [
       "768"
      ]
     },
     "execution_count": 45,
     "metadata": {},
     "output_type": "execute_result"
    }
   ],
   "source": [
    "# we could also have calculated the order 3 by knowing that\n",
    "# each cell is subdivised in four parts at the next order\n",
    "n_cells_order3 = MOC.n_cells(0) * 4**3\n",
    "n_cells_order3"
   ]
  },
  {
   "cell_type": "markdown",
   "metadata": {},
   "source": [
    "Let's vizualize the HEALPix grid in the ipyaladin widget, see **Figure 1c** to see where to find the parameter. If you zoom in and out and move like crazy (or if you have a slower internet connexion), you'll see the images that appear as they are downloaded by ipyaladin. They have the shape of HEALPix cells. The more you zoom in, the more precise (meaning higher resolution) the printed image will be."
   ]
  },
  {
   "cell_type": "code",
   "execution_count": 5,
   "metadata": {},
   "outputs": [
    {
     "data": {
      "application/vnd.jupyter.widget-view+json": {
       "model_id": "50f9f8912a3f46daa048c87b573594eb",
       "version_major": 2,
       "version_minor": 0
      },
      "text/plain": [
       "Aladin(init_options=['_fov', '_target', 'background_color', 'coo_frame', 'full_screen', 'grid_color', 'grid_op…"
      ]
     },
     "execution_count": 5,
     "metadata": {},
     "output_type": "execute_result"
    }
   ],
   "source": [
    "aladin = Aladin()\n",
    "aladin"
   ]
  },
  {
   "cell_type": "markdown",
   "metadata": {},
   "source": [
    "We can duplicate this view by right clicking on the cell and selecting `Create new view for cell output`. The view can then be dragged anywhere you prefer. This allows to always have an eye on the widget while exploring the data.\n",
    "In the `Output View`, it is also quite nice to use the `fullscreen` button, the one in the top right corner of the widget.\n",
    "\n",
    "If you zoom in **a lot**, you will see that the pixels correspond to the tiles of the HEALPix grid at order 18 for the DSS survey that is displayed by default in `ipyaladin`. You can find out which resolution it corresponds to with an other of `mocpy`'s methods:"
   ]
  },
  {
   "cell_type": "code",
   "execution_count": 6,
   "metadata": {},
   "outputs": [
    {
     "data": {
      "text/latex": [
       "$3.90368e-06\\;\\mathrm{rad}$"
      ],
      "text/plain": [
       "<Angle 3.90368159e-06 rad>"
      ]
     },
     "execution_count": 6,
     "metadata": {},
     "output_type": "execute_result"
    }
   ],
   "source": [
    "MOC.order_to_spatial_resolution(18)"
   ]
  },
  {
   "cell_type": "markdown",
   "metadata": {},
   "source": [
    "Which we can also convert to arcseconds (or any other angle unit, try it out!)"
   ]
  },
  {
   "cell_type": "code",
   "execution_count": 7,
   "metadata": {},
   "outputs": [
    {
     "data": {
      "text/latex": [
       "$0.805192\\mathrm{{}^{\\prime\\prime}}$"
      ],
      "text/plain": [
       "<Angle 0.80519213 arcsec>"
      ]
     },
     "execution_count": 7,
     "metadata": {},
     "output_type": "execute_result"
    }
   ],
   "source": [
    "MOC.order_to_spatial_resolution(18).to(\"arcsec\")"
   ]
  },
  {
   "cell_type": "markdown",
   "metadata": {},
   "source": [
    "### The HiPS standard\n",
    "\n",
    "The images displayed by Aladin follow the HiPS standard, in which a folder corresponds to a HEALPix order, see figure1b. In figure 1b, the example images are from a SDO/AIA observation of the Sun. At all orders, the images have the same number of pixels (here 512*512), but they represent a different sky fraction. We see that the pixel 0 at order 3 contains the pixel 0 and 1 of the more precise order.\n",
    "\n",
    "### Finding HiPS surveys\n",
    "\n",
    "#### Fermi\n",
    "\n",
    "More and more astronomical data centers start to offer HiPS surveys for sky vizualizations.\n",
    "\n",
    "One way of finding HiPS surveys is to use `ipyaladin`'s interface, see Figure2, and follow the steps to get the two MeerKAT HiPS.\n",
    "\n",
    "![findind_HiPS](finding_hips_with_ipyaladin.png)\n",
    "Figure 2: Finding a HiPS with `ipyaladin`'s interface.\n",
    "\n",
    "Nothing appears? Let's move the target to the galactic center and zoom in a bit:"
   ]
  },
  {
   "cell_type": "code",
   "execution_count": 8,
   "metadata": {},
   "outputs": [],
   "source": [
    "aladin.target = \"Galactic Center\"\n",
    "aladin.fov = 3 # this should be expressed in degrees"
   ]
  },
  {
   "cell_type": "markdown",
   "metadata": {},
   "source": [
    "The `Browse HiPS` button calls one of the less known services of the CDS, the MOCServer. The search bar only works if you already know more or less the name of the survey. For more control on search parameters, we will use the module `mocserver` from the `astroquery` library.\n",
    "\n",
    "Here we query the MOC server to find HiPS datasets related to Fermi observations. Fermi cameras are sensitive to sources that emit in gamma-rays. GRBs are the ideal candidate for Fermi."
   ]
  },
  {
   "cell_type": "code",
   "execution_count": 9,
   "metadata": {},
   "outputs": [],
   "source": [
    "fermi_hips = MOCServer.find_datasets(meta_data=\"obs_description=*Fermi*&&hips_*=*\", casesensitive=False)"
   ]
  },
  {
   "cell_type": "code",
   "execution_count": 10,
   "metadata": {},
   "outputs": [
    {
     "data": {
      "text/plain": [
       "9"
      ]
     },
     "execution_count": 10,
     "metadata": {},
     "output_type": "execute_result"
    }
   ],
   "source": [
    "len(fermi_hips)"
   ]
  },
  {
   "cell_type": "markdown",
   "metadata": {},
   "source": [
    "We found nine HiPS surveys with the word `Fermi` in their descriptions. The object that we got from astroquery is a table containing information about the HiPS surveys. Let's inspect its column names to see what it contains."
   ]
  },
  {
   "cell_type": "code",
   "execution_count": 11,
   "metadata": {},
   "outputs": [
    {
     "data": {
      "text/plain": [
       "['hips_service_url_2',\n",
       " 'hips_tile_width',\n",
       " 'obs_copyright',\n",
       " 'obs_description',\n",
       " 'dataproduct_type',\n",
       " 'bib_reference_url',\n",
       " 'dataproduct_subtype',\n",
       " 'hips_rgb_red',\n",
       " 'hipsgen_params_2',\n",
       " 'hipsgen_params_3',\n",
       " 'hips_version',\n",
       " 'hips_initial_dec',\n",
       " 'hipsgen_date_3',\n",
       " 'hipsgen_date_2',\n",
       " 'obs_copyright_url',\n",
       " 'hips_rgb_green',\n",
       " 'hips_status_2',\n",
       " 'hips_status_1',\n",
       " 'em_min',\n",
       " 'hips_order_min',\n",
       " 'moc_access_url',\n",
       " 'hips_service_url_3',\n",
       " 'obs_ack',\n",
       " 'moc_order',\n",
       " 'client_application',\n",
       " 'em_max',\n",
       " 'hips_frame',\n",
       " 'hipsgen_date_1',\n",
       " 'hips_creation_date',\n",
       " 'client_category',\n",
       " 'hips_status_3',\n",
       " 'hipsgen_date_4',\n",
       " 'obs_collection',\n",
       " 'hips_release_date',\n",
       " 'hips_creator',\n",
       " 'hips_pixel_scale',\n",
       " 'hips_builder',\n",
       " 'prov_progenitor',\n",
       " 'hips_initial_ra',\n",
       " 'obs_initial_ra',\n",
       " 'obs_initial_fov',\n",
       " 'hips_service_url',\n",
       " 'bib_reference',\n",
       " 'ID',\n",
       " 'hips_pixel_bitpix',\n",
       " 'hips_pixel_cut',\n",
       " 'hips_estsize',\n",
       " 'hips_doi',\n",
       " 'moc_time_range',\n",
       " 't_min',\n",
       " 'obs_regime',\n",
       " 'hips_status',\n",
       " 'hipsgen_date',\n",
       " 'hipsgen_params',\n",
       " 'moc_type',\n",
       " 'client_sort_key',\n",
       " 'hips_rgb_blue',\n",
       " 'hips_tile_format',\n",
       " 'obs_initial_dec',\n",
       " 't_max',\n",
       " 'moc_sky_fraction',\n",
       " 'obs_title',\n",
       " 'TIMESTAMP',\n",
       " 'creator_did',\n",
       " 'moc_time_order',\n",
       " 'hips_data_range',\n",
       " 'hips_order',\n",
       " 'hipsgen_params_1',\n",
       " 'hips_initial_fov',\n",
       " 'hips_copyright',\n",
       " 'hips_service_url_1',\n",
       " 'hipsgen_params_4']"
      ]
     },
     "execution_count": 11,
     "metadata": {},
     "output_type": "execute_result"
    }
   ],
   "source": [
    "fermi_hips.colnames"
   ]
  },
  {
   "cell_type": "markdown",
   "metadata": {},
   "source": [
    "We can check the descriptions of the surveys, for example"
   ]
  },
  {
   "cell_type": "code",
   "execution_count": 12,
   "metadata": {},
   "outputs": [
    {
     "data": {
      "text/html": [
       "<div><i>Table length=9</i>\n",
       "<table id=\"table139871642282560\" class=\"table-striped table-bordered table-condensed\">\n",
       "<thead><tr><th>obs_description</th><th>ID</th></tr></thead>\n",
       "<thead><tr><th>object</th><th>str20</th></tr></thead>\n",
       "<tr><td>Launched on June 11, 2008, the Fermi Gamma-ray Space Telescope observes the cosmos using the highest-energy form of light. This survey sums all data observed by the Fermi mission up to week 396. This version of the Fermi survey are intensity maps where the summed counts maps are divided by the exposure for each pixel. We anticipate using the HEASARC&apos;s Hera capabilities to update this survey on a roughly quarterly basis. Data is broken into 5 energy bands : 30-100 MeV Band 1, 100-300 MeV Band 2, 300-1000 MeV Band 3, 1-3 GeV Band 4 , 3-300 GeV Band 5. The SkyView data are based upon a Cartesian projection of the counts divided by the exposure maps. In the Cartesian projection pixels near the pole have a much smaller area than pixels on the equator, so these pixels have smaller integrated flux. When creating large scale images in other projections users may wish to make sure to compensate for this effect the flux conserving clip-resampling option.</td><td>CDS/P/Fermi/3</td></tr>\n",
       "<tr><td>Launched on June 11, 2008, the Fermi Gamma-ray Space Telescope observes the cosmos using the highest-energy form of light. This survey sums all data observed by the Fermi mission up to week 396. This version of the Fermi survey are intensity maps where the summed counts maps are divided by the exposure for each pixel. We anticipate using the HEASARC&apos;s Hera capabilities to update this survey on a roughly quarterly basis. Data is broken into 5 energy bands : 30-100 MeV Band 1, 100-300 MeV Band 2, 300-1000 MeV Band 3, 1-3 GeV Band 4 , 3-300 GeV Band 5. The SkyView data are based upon a Cartesian projection of the counts divided by the exposure maps. In the Cartesian projection pixels near the pole have a much smaller area than pixels on the equator, so these pixels have smaller integrated flux. When creating large scale images in other projections users may wish to make sure to compensate for this effect the flux conserving clip-resampling option.</td><td>CDS/P/Fermi/4</td></tr>\n",
       "<tr><td>Launched on June 11, 2008, the Fermi Gamma-ray Space Telescope observes the cosmos using the highest-energy form of light. This survey sums all data observed by the Fermi mission up to week 396. This version of the Fermi survey are intensity maps where the summed counts maps are divided by the exposure for each pixel. We anticipate using the HEASARC&apos;s Hera capabilities to update this survey on a roughly quarterly basis. Data is broken into 5 energy bands : 30-100 MeV Band 1, 100-300 MeV Band 2, 300-1000 MeV Band 3, 1-3 GeV Band 4 , 3-300 GeV Band 5. The SkyView data are based upon a Cartesian projection of the counts divided by the exposure maps. In the Cartesian projection pixels near the pole have a much smaller area than pixels on the equator, so these pixels have smaller integrated flux. When creating large scale images in other projections users may wish to make sure to compensate for this effect the flux conserving clip-resampling option.</td><td>CDS/P/Fermi/5</td></tr>\n",
       "<tr><td>Launched on June 11, 2008, the Fermi Gamma-ray Space Telescope observes the cosmos using the highest-energy form of light. This survey sums all data observed by the Fermi mission up to week 396. This version of the Fermi survey are intensity maps where the summed counts maps are divided by the exposure for each pixel. We anticipate using the HEASARC&apos;s Hera capabilities to update this survey on a roughly quarterly basis. Data is broken into 5 energy bands : 30-100 MeV Band 1, 100-300 MeV Band 2, 300-1000 MeV Band 3, 1-3 GeV Band 4 , 3-300 GeV Band 5. The SkyView data are based upon a Cartesian projection of the counts divided by the exposure maps. In the Cartesian projection pixels near the pole have a much smaller area than pixels on the equator, so these pixels have smaller integrated flux. When creating large scale images in other projections users may wish to make sure to compensate for this effect the flux conserving clip-resampling option.</td><td>CDS/P/Fermi/color</td></tr>\n",
       "<tr><td>Fermi-LAT all-sky survey in Band 1 (30-100 MeV), at an angular resolution of 3 degrees. Units are cnts/s/cm^2/sr. Healpix map built by D. Paradis (IRAP/CADE)</td><td>ov-gso/P/Fermi/Band1</td></tr>\n",
       "<tr><td>Fermi-LAT all-sky survey in Band 2 (100-300 MeV), at an angular resolution of 2 degrees. Units are cnts/s/cm^2/sr. Healpix map built by D. Paradis (IRAP/CADE)</td><td>ov-gso/P/Fermi/Band2</td></tr>\n",
       "<tr><td>Fermi-LAT all-sky survey in Band 3 (300-1000 MeV), at an angular resolution of 1 degree. Units are cnts/s/cm^2/sr. Healpix map built by D. Paradis (IRAP/CADE)</td><td>ov-gso/P/Fermi/Band3</td></tr>\n",
       "<tr><td>[&apos;Fermi-LAT all-sky survey in Band 4 (1-3 GeV), at an angular resolution of 0.4 degrees. Units are cnts/s/cm^2/sr. Healpix map built by D. Paradis (IRAP/CADE)&apos;, &apos;Fermi-LAT all-sky survey in Band 4 (1-3 GeV), at an angular resolution of 0.4 degrees. Units are cnts/s/cm^2/sr. Healpix map built by D. Paradis (IRAP/CADE)&apos;]</td><td>ov-gso/P/Fermi/Band4</td></tr>\n",
       "<tr><td>Fermi-LAT all-sky survey in Band 5 (3-300 GeV), at an angular resolution of 0.2 degrees. Units are cnts/s/cm^2/sr. Healpix map built by D. Paradis (IRAP/CADE)</td><td>ov-gso/P/Fermi/Band5</td></tr>\n",
       "</table></div>"
      ],
      "text/plain": [
       "<Table length=9>\n",
       "                                                                                                                                                                                                                                                                                                                                                                                                                                                                                       obs_description                                                                                                                                                                                                                                                                                                                                                                                                                                                                                         ...\n",
       "                                                                                                                                                                                                                                                                                                                                                                                                                                                                                            object                                                                                                                                                                                                                                                                                                                                                                                                                                                                                             ...\n",
       "---------------------------------------------------------------------------------------------------------------------------------------------------------------------------------------------------------------------------------------------------------------------------------------------------------------------------------------------------------------------------------------------------------------------------------------------------------------------------------------------------------------------------------------------------------------------------------------------------------------------------------------------------------------------------------------------------------------------------------------------------------------------------------------------------------------------------------------------------------------------------------------------------------------------------------------------------------------------------------------------- ...\n",
       "Launched on June 11, 2008, the Fermi Gamma-ray Space Telescope observes the cosmos using the highest-energy form of light. This survey sums all data observed by the Fermi mission up to week 396. This version of the Fermi survey are intensity maps where the summed counts maps are divided by the exposure for each pixel. We anticipate using the HEASARC's Hera capabilities to update this survey on a roughly quarterly basis. Data is broken into 5 energy bands : 30-100 MeV Band 1, 100-300 MeV Band 2, 300-1000 MeV Band 3, 1-3 GeV Band 4 , 3-300 GeV Band 5. The SkyView data are based upon a Cartesian projection of the counts divided by the exposure maps. In the Cartesian projection pixels near the pole have a much smaller area than pixels on the equator, so these pixels have smaller integrated flux. When creating large scale images in other projections users may wish to make sure to compensate for this effect the flux conserving clip-resampling option. ...\n",
       "Launched on June 11, 2008, the Fermi Gamma-ray Space Telescope observes the cosmos using the highest-energy form of light. This survey sums all data observed by the Fermi mission up to week 396. This version of the Fermi survey are intensity maps where the summed counts maps are divided by the exposure for each pixel. We anticipate using the HEASARC's Hera capabilities to update this survey on a roughly quarterly basis. Data is broken into 5 energy bands : 30-100 MeV Band 1, 100-300 MeV Band 2, 300-1000 MeV Band 3, 1-3 GeV Band 4 , 3-300 GeV Band 5. The SkyView data are based upon a Cartesian projection of the counts divided by the exposure maps. In the Cartesian projection pixels near the pole have a much smaller area than pixels on the equator, so these pixels have smaller integrated flux. When creating large scale images in other projections users may wish to make sure to compensate for this effect the flux conserving clip-resampling option. ...\n",
       "Launched on June 11, 2008, the Fermi Gamma-ray Space Telescope observes the cosmos using the highest-energy form of light. This survey sums all data observed by the Fermi mission up to week 396. This version of the Fermi survey are intensity maps where the summed counts maps are divided by the exposure for each pixel. We anticipate using the HEASARC's Hera capabilities to update this survey on a roughly quarterly basis. Data is broken into 5 energy bands : 30-100 MeV Band 1, 100-300 MeV Band 2, 300-1000 MeV Band 3, 1-3 GeV Band 4 , 3-300 GeV Band 5. The SkyView data are based upon a Cartesian projection of the counts divided by the exposure maps. In the Cartesian projection pixels near the pole have a much smaller area than pixels on the equator, so these pixels have smaller integrated flux. When creating large scale images in other projections users may wish to make sure to compensate for this effect the flux conserving clip-resampling option. ...\n",
       "Launched on June 11, 2008, the Fermi Gamma-ray Space Telescope observes the cosmos using the highest-energy form of light. This survey sums all data observed by the Fermi mission up to week 396. This version of the Fermi survey are intensity maps where the summed counts maps are divided by the exposure for each pixel. We anticipate using the HEASARC's Hera capabilities to update this survey on a roughly quarterly basis. Data is broken into 5 energy bands : 30-100 MeV Band 1, 100-300 MeV Band 2, 300-1000 MeV Band 3, 1-3 GeV Band 4 , 3-300 GeV Band 5. The SkyView data are based upon a Cartesian projection of the counts divided by the exposure maps. In the Cartesian projection pixels near the pole have a much smaller area than pixels on the equator, so these pixels have smaller integrated flux. When creating large scale images in other projections users may wish to make sure to compensate for this effect the flux conserving clip-resampling option. ...\n",
       "                                                                                                                                                                                                                                                                                                                                                                                                                                                                                                                                                                                                                                                                                                                                                                                                                                 Fermi-LAT all-sky survey in Band 1 (30-100 MeV), at an angular resolution of 3 degrees. Units are cnts/s/cm^2/sr. Healpix map built by D. Paradis (IRAP/CADE) ...\n",
       "                                                                                                                                                                                                                                                                                                                                                                                                                                                                                                                                                                                                                                                                                                                                                                                                                                Fermi-LAT all-sky survey in Band 2 (100-300 MeV), at an angular resolution of 2 degrees. Units are cnts/s/cm^2/sr. Healpix map built by D. Paradis (IRAP/CADE) ...\n",
       "                                                                                                                                                                                                                                                                                                                                                                                                                                                                                                                                                                                                                                                                                                                                                                                                                                Fermi-LAT all-sky survey in Band 3 (300-1000 MeV), at an angular resolution of 1 degree. Units are cnts/s/cm^2/sr. Healpix map built by D. Paradis (IRAP/CADE) ...\n",
       "                                                                                                                                                                                                                                                                                                                                                                                                                                                                                                                                                                                                                                                              ['Fermi-LAT all-sky survey in Band 4 (1-3 GeV), at an angular resolution of 0.4 degrees. Units are cnts/s/cm^2/sr. Healpix map built by D. Paradis (IRAP/CADE)', 'Fermi-LAT all-sky survey in Band 4 (1-3 GeV), at an angular resolution of 0.4 degrees. Units are cnts/s/cm^2/sr. Healpix map built by D. Paradis (IRAP/CADE)'] ...\n",
       "                                                                                                                                                                                                                                                                                                                                                                                                                                                                                                                                                                                                                                                                                                                                                                                                                                Fermi-LAT all-sky survey in Band 5 (3-300 GeV), at an angular resolution of 0.2 degrees. Units are cnts/s/cm^2/sr. Healpix map built by D. Paradis (IRAP/CADE) ..."
      ]
     },
     "execution_count": 12,
     "metadata": {},
     "output_type": "execute_result"
    }
   ],
   "source": [
    "fermi_hips[[\"obs_description\", \"ID\"]]"
   ]
  },
  {
   "cell_type": "markdown",
   "metadata": {},
   "source": [
    "#### XMM-Newton\n",
    "\n",
    "GRBs can be studied in conjunction with other instruments spanning wide range of wavelengths in order to understand the various properties of the GRB. The bursts of gamma-rays produced by the GRBs collide with each other and also the interstellar medium and produce what we call the \"after glow\". The \"after glow\" contains electromagnetic radiaitons ranging from X-rays to radio. Let's explore the GRBs also detected in X-rays. As shown above, we can obtain HiPs for the XMM-Newton Telescope. XMM-Newton is a powerful telescope that observes the X-ray Universe.\n",
    "\n",
    "We will repeat the process we used to find Fermi HiPS, but for XMM-Newton:"
   ]
  },
  {
   "cell_type": "code",
   "execution_count": 13,
   "metadata": {},
   "outputs": [
    {
     "data": {
      "text/html": [
       "<div><i>Table length=4</i>\n",
       "<table id=\"table139871642278384\" class=\"table-striped table-bordered table-condensed\">\n",
       "<thead><tr><th>hips_service_url_2</th><th>hips_tile_width</th><th>obs_copyright</th><th>obs_description</th><th>bib_reference_url</th><th>dataproduct_type</th><th>dataproduct_subtype</th><th>hips_rgb_red</th><th>hips_sampling</th><th>hips_progenitor_url</th><th>hips_version</th><th>hips_initial_dec</th><th>obs_copyright_url</th><th>hips_rgb_green</th><th>hips_status_2</th><th>hips_status_1</th><th>em_min</th><th>hips_order_min</th><th>obs_ack</th><th>client_application</th><th>moc_order</th><th>em_max</th><th>hips_frame</th><th>s_pixel_scale</th><th>hips_creation_date</th><th>data_pixel_bitpix</th><th>client_category</th><th>hips_check_code</th><th>obs_collection</th><th>hips_creator</th><th>hips_release_date</th><th>hips_pixel_scale</th><th>hips_initial_ra</th><th>prov_progenitor</th><th>hips_builder</th><th>obs_initial_ra</th><th>obs_initial_fov</th><th>hips_service_url</th><th>bib_reference</th><th>ID</th><th>hips_pixel_bitpix</th><th>hips_pixel_cut</th><th>hips_estsize</th><th>hips_overlay</th><th>moc_time_range</th><th>t_min</th><th>obs_regime</th><th>hips_status</th><th>hipsgen_date</th><th>hipsgen_params</th><th>moc_type</th><th>hips_rgb_blue</th><th>hips_tile_format</th><th>hips_hierarchy</th><th>obs_initial_dec</th><th>t_max</th><th>moc_sky_fraction</th><th>obs_title</th><th>TIMESTAMP</th><th>creator_did</th><th>moc_time_order</th><th>hips_data_range</th><th>hips_order</th><th>hips_nb_tiles</th><th>hips_initial_fov</th><th>hips_copyright</th><th>hips_service_url_1</th></tr></thead>\n",
       "<thead><tr><th>str58</th><th>float64</th><th>str24</th><th>str153</th><th>str64</th><th>str5</th><th>str5</th><th>str30</th><th>object</th><th>str43</th><th>float64</th><th>float64</th><th>str27</th><th>str32</th><th>str24</th><th>str24</th><th>float64</th><th>float64</th><th>str42</th><th>str10</th><th>float64</th><th>float64</th><th>str10</th><th>float64</th><th>str17</th><th>object</th><th>str15</th><th>str30</th><th>str14</th><th>str38</th><th>str17</th><th>float64</th><th>float64</th><th>str55</th><th>str22</th><th>float64</th><th>float64</th><th>str33</th><th>str19</th><th>str21</th><th>object</th><th>str13</th><th>float64</th><th>object</th><th>float64</th><th>float64</th><th>str5</th><th>str26</th><th>str17</th><th>str214</th><th>str5</th><th>str31</th><th>str8</th><th>str6</th><th>float64</th><th>float64</th><th>float64</th><th>str62</th><th>float64</th><th>str27</th><th>float64</th><th>str18</th><th>float64</th><th>float64</th><th>float64</th><th>str30</th><th>str55</th></tr></thead>\n",
       "<tr><td>https://alaskybis.cds.unistra.fr/SSC/xcatdb_P_XMM_PN_color</td><td>512.0</td><td>(c) ESA / SSC XMM-Newton</td><td>Colored image made with all PN images of the 4xmmdr12: Red=0.5-1Kev Green=1-2Kev  Blue=2-4.5Kev - Healpixilized by Michel L. [Observatoire de Strasbourg]</td><td>https://ui.adsabs.harvard.edu/abs/2020A%26A...641A.136W/abstract</td><td>image</td><td>color</td><td>red [1.0E-6 NaN 4.0E-4 Linear]</td><td>--</td><td>--</td><td>1.4</td><td>30.65994167</td><td>https://xmmssc.irap.omp.eu/</td><td>green [1.0E-6 NaN 4.0E-4 Linear]</td><td>public mirror unclonable</td><td>public mirror unclonable</td><td>2.7552e-10</td><td>0.0</td><td>Galhecos-Team (Strasbourg), SSC XMM-Newton</td><td>AladinLite</td><td>7.0</td><td>6.1992e-10</td><td>equatorial</td><td>--</td><td>2023-06-05T14:24Z</td><td>--</td><td>Image/X-ray/XMM</td><td>--</td><td>XMM PN colored</td><td>L. Michel [Observatoire de Strasbourg]</td><td>2023-06-05T14:31Z</td><td>0.0008946</td><td>23.4621</td><td>XMM-Newton 4XMM PN images and exposure maps</td><td>Aladin/HipsGen v12.060</td><td>23.4621</td><td>0.4580648549089874</td><td>https://xcatdb.unistra.fr/PNColor</td><td>2020A&amp;A...641A.136W</td><td>xcatdb/P/XMM/PN/color</td><td>--</td><td>--</td><td>--</td><td>overlayMean mergeOverwriteTile treeMedian</td><td>1.0</td><td>51577.0</td><td>X-ray</td><td>public master clonableOnce</td><td>2023-06-05T14:24Z</td><td>inRed=/bigarchesbox/michel/xmm_hips/hips_red inGreen=/bigarchesbox/michel/xmm_hips/hips_green/ inBlue=/bigarchesbox/michel/xmm_hips/hips_blue out=/bigarchesbox/michel/xmm_hips/RGB RGB id=ivo://xcatdb/P/XMM/PN/color</td><td>stmoc</td><td>test [1.0E-6 NaN 4.0E-4 Linear]</td><td>png</td><td>--</td><td>30.65994167</td><td>59912.0</td><td>0.09202</td><td>False color X-ray images (Red=0.5-1 Green=1-2 Blue=2-4.5 Kev )</td><td>1698394027940.0</td><td>ivo://xcatdb/P/XMM/PN/color</td><td>25.0</td><td>--</td><td>7.0</td><td>--</td><td>1.0</td><td>(c) Observatoire de Strasbourg</td><td>https://alasky.cds.unistra.fr/SSC/xcatdb_P_XMM_PN_color</td></tr>\n",
       "<tr><td>https://alaskybis.cds.unistra.fr/SSC/xcatdb_P_XMM_PN_eb2</td><td>512.0</td><td>(c) ESA / SSC XMM-Newton</td><td>Image made with all PN images of the 4xmmdr13 in band 0.5-1Kev - Healpixilized by L. Michel [Observatoire de Strasbourg]</td><td>https://ui.adsabs.harvard.edu/abs/2020A%26A...641A.136W/abstract</td><td>image</td><td>--</td><td>--</td><td>[&apos;bilinear&apos;, &apos;bilinear&apos;]</td><td>https://xcatdb.unistra.fr/PNRed/HpxFinder</td><td>1.4</td><td>30.65994167</td><td>https://xmmssc.irap.omp.eu/</td><td>--</td><td>public mirror unclonable</td><td>public mirror unclonable</td><td>2.7552e-10</td><td>0.0</td><td>Galhecos-Team (Strasbourg), SSC XMM-Newton</td><td>--</td><td>7.0</td><td>6.1992e-10</td><td>equatorial</td><td>0.001111</td><td>2023-06-05T13:26Z</td><td>[&apos;-64&apos;, &apos;-64&apos;]</td><td>Image/X-ray/XMM</td><td>png:2167619521 fits:1120067023</td><td>4XMM PN eb2</td><td>L. Michel [Observatoire de Strasbourg]</td><td>2023-06-05T13:27Z</td><td>0.0008946</td><td>23.4621</td><td>XMM-Newton 4XMM PN images, exposure and background maps</td><td>Aladin/HipsGen v12.060</td><td>23.4621</td><td>0.4580648549089874</td><td>https://xcatdb.unistra.fr/PNRed</td><td>2020A&amp;A...641A.136W</td><td>xcatdb/P/XMM/PN/eb2</td><td>[&apos;-64&apos;, &apos;-64&apos;]</td><td>1.0E-6 4.0E-4</td><td>73959916.0</td><td>[&apos;mean&apos;, &apos;overlayMean mergeOverwriteTile treeMean&apos;]</td><td>1.0</td><td>51577.0</td><td>X-ray</td><td>public master clonableOnce</td><td>2023-06-05T13:26Z</td><td>in=/bigarchesbox/michel/xmm_hips/red out=/bigarchesbox/michel/xmm_hips/hips_red/ blank=-1 id=blue/test &quot;pixelCut=0.000001 0.0004 log&quot;</td><td>stmoc</td><td>--</td><td>png fits</td><td>median</td><td>30.65994167</td><td>59912.0</td><td>0.09202</td><td>X-ray images on band 0.5-1Kev</td><td>1699344392243.0</td><td>ivo://xcatdb/P/XMM/PN/eb2</td><td>25.0</td><td>-0.002862 0.008587</td><td>7.0</td><td>71326.0</td><td>1.0</td><td>(c) Observatoire de Strasbourg</td><td>https://alasky.cds.unistra.fr/SSC/xcatdb_P_XMM_PN_eb2</td></tr>\n",
       "<tr><td>--</td><td>512.0</td><td>(c) ESA / SSC XMM-Newton</td><td>Image made with all PN images of the 4xmmdr13 in band 1-2Kev - Healpixilized by L. Michel [Observatoire de Strasbourg]</td><td>https://ui.adsabs.harvard.edu/abs/2020A%26A...641A.136W/abstract</td><td>image</td><td>--</td><td>--</td><td>[&apos;bilinear&apos;, &apos;bilinear&apos;]</td><td>https://xcatdb.unistra.fr/PNGreen/HpxFinder</td><td>1.4</td><td>30.65994167</td><td>https://xmmssc.irap.omp.eu/</td><td>--</td><td>--</td><td>--</td><td>2.7552e-10</td><td>0.0</td><td>Galhecos-Team (Strasbourg), SSC XMM-Newton</td><td>--</td><td>7.0</td><td>6.1992e-10</td><td>equatorial</td><td>0.001111</td><td>2023-06-05T10:50Z</td><td>[&apos;-64&apos;, &apos;-64&apos;]</td><td>Image/X-ray/XMM</td><td>png:1070156449 fits:1120067023</td><td>4XMM PN eb3</td><td>L. Michel [Observatoire de Strasbourg]</td><td>2023-06-05T10:50Z</td><td>0.0008946</td><td>23.4621</td><td>XMM-Newton 4XMM PN images, exposure and background maps</td><td>Aladin/HipsGen v12.060</td><td>23.4621</td><td>0.4580648549089874</td><td>https://xcatdb.unistra.fr/PNGreen</td><td>2020A&amp;A...641A.136W</td><td>xcatdb/P/XMM/PN/eb3</td><td>[&apos;-64&apos;, &apos;-64&apos;]</td><td>1.0E-6 4.0E-4</td><td>73976311.0</td><td>[&apos;mean&apos;, &apos;overlayMean mergeOverwriteTile treeMean&apos;]</td><td>1.0</td><td>51577.0</td><td>X-ray</td><td>public master clonableOnce</td><td>2023-06-05T10:50Z</td><td>in=/bigarchesbox/michel/xmm_hips/green out=/bigarchesbox/michel/xmm_hips/hips_green/ blank=-1 id=blue/test &quot;pixelCut=0.000001 0.0004 log&quot;</td><td>stmoc</td><td>--</td><td>png fits</td><td>median</td><td>30.65994167</td><td>59912.0</td><td>0.09202</td><td>X-ray images on band 1-2Kev</td><td>1699344392295.0</td><td>ivo://xcatdb/P/XMM/PN/eb3</td><td>25.0</td><td>-3.069E-4 9.209E-4</td><td>7.0</td><td>71326.0</td><td>1.0</td><td>(c) Observatoire de Strasbourg</td><td>--</td></tr>\n",
       "<tr><td>--</td><td>512.0</td><td>(c) ESA / SSC XMM-Newton</td><td>Image made with all PN images of the 4xmmdr13 in band 2-4.5Kev - Healpixilized by L. Michel [Observatoire de Strasbourg]</td><td>https://ui.adsabs.harvard.edu/abs/2020A%26A...641A.136W/abstract</td><td>image</td><td>--</td><td>--</td><td>[&apos;bilinear&apos;, &apos;bilinear&apos;]</td><td>https://xcatdb.unistra.fr/PNBlue/HpxFinder</td><td>1.4</td><td>30.65994167</td><td>https://xmmssc.irap.omp.eu/</td><td>--</td><td>--</td><td>--</td><td>2.7552e-10</td><td>0.0</td><td>Galhecos-Team (Strasbourg), SSC XMM-Newton</td><td>--</td><td>7.0</td><td>6.1992e-10</td><td>equatorial</td><td>0.001111</td><td>2023-06-05T08:40Z</td><td>[&apos;-64&apos;, &apos;-64&apos;]</td><td>Image/X-ray/XMM</td><td>png:3066494227 fits:1120067023</td><td>4XMM PN eb4</td><td>L. Michel [Observatoire de Strasbourg]</td><td>2023-06-05T08:41Z</td><td>0.0008946</td><td>23.4621</td><td>XMM-Newton 4XMM PN images, exposure and background maps</td><td>Aladin/HipsGen v12.060</td><td>23.4621</td><td>0.4580648549089874</td><td>https://xcatdb.unistra.fr/PNBlue</td><td>2020A&amp;A...641A.136W</td><td>xcatdb/P/XMM/PN/eb4</td><td>[&apos;-64&apos;, &apos;-64&apos;]</td><td>1.0E-6 4.0E-4</td><td>73978459.0</td><td>[&apos;mean&apos;, &apos;overlayMean mergeOverwriteTile treeMean&apos;]</td><td>1.0</td><td>51577.0</td><td>X-ray</td><td>public master clonableOnce</td><td>2023-06-05T08:40Z</td><td>in=/bigarchesbox/michel/xmm_hips/blue/ out=/bigarchesbox/michel/xmm_hips/hips_blue/ blank=-1 id=blue/test &quot;pixelCut=0.000001 0.0004 log&quot;</td><td>stmoc</td><td>--</td><td>png fits</td><td>median</td><td>30.65994167</td><td>59912.0</td><td>0.09202</td><td>X-ray images on band 2-4.5Kev</td><td>1699344392343.0</td><td>ivo://xcatdb/P/XMM/PN/eb4</td><td>25.0</td><td>-2.654E-4 7.962E-4</td><td>7.0</td><td>71326.0</td><td>1.0</td><td>(c) Observatoire de Strasbourg</td><td>--</td></tr>\n",
       "</table></div>"
      ],
      "text/plain": [
       "<Table length=4>\n",
       "                    hips_service_url_2                     ...\n",
       "                          str58                            ...\n",
       "---------------------------------------------------------- ...\n",
       "https://alaskybis.cds.unistra.fr/SSC/xcatdb_P_XMM_PN_color ...\n",
       "  https://alaskybis.cds.unistra.fr/SSC/xcatdb_P_XMM_PN_eb2 ...\n",
       "                                                        -- ...\n",
       "                                                        -- ..."
      ]
     },
     "execution_count": 13,
     "metadata": {},
     "output_type": "execute_result"
    }
   ],
   "source": [
    "xmm_hips = MOCServer.find_datasets(meta_data=\"obs_description=*xmm*&&hips_*=*\", casesensitive=False)\n",
    "xmm_hips"
   ]
  },
  {
   "cell_type": "code",
   "execution_count": 14,
   "metadata": {},
   "outputs": [
    {
     "data": {
      "text/html": [
       "&lt;MaskedColumn name=&apos;ID&apos; dtype=&apos;str21&apos; length=4&gt;\n",
       "<table>\n",
       "<tr><td>xcatdb/P/XMM/PN/color</td></tr>\n",
       "<tr><td>xcatdb/P/XMM/PN/eb2</td></tr>\n",
       "<tr><td>xcatdb/P/XMM/PN/eb3</td></tr>\n",
       "<tr><td>xcatdb/P/XMM/PN/eb4</td></tr>\n",
       "</table>"
      ],
      "text/plain": [
       "<MaskedColumn name='ID' dtype='str21' length=4>\n",
       "xcatdb/P/XMM/PN/color\n",
       "  xcatdb/P/XMM/PN/eb2\n",
       "  xcatdb/P/XMM/PN/eb3\n",
       "  xcatdb/P/XMM/PN/eb4"
      ]
     },
     "execution_count": 14,
     "metadata": {},
     "output_type": "execute_result"
    }
   ],
   "source": [
    "xmm_hips[\"ID\"]"
   ]
  },
  {
   "cell_type": "markdown",
   "metadata": {},
   "source": [
    "Let's have a closer look at `CDS/P/Fermi/color`, and `xcatdb/P/XMM/PN/color`"
   ]
  },
  {
   "cell_type": "markdown",
   "metadata": {},
   "source": [
    "#### Setting surveys in ipyaladin from python"
   ]
  },
  {
   "cell_type": "code",
   "execution_count": 15,
   "metadata": {},
   "outputs": [],
   "source": [
    "aladin.survey = \"CDS/P/Fermi/color\""
   ]
  },
  {
   "cell_type": "code",
   "execution_count": 16,
   "metadata": {},
   "outputs": [],
   "source": [
    "aladin.coo_frame = \"galactic\""
   ]
  },
  {
   "cell_type": "code",
   "execution_count": 17,
   "metadata": {},
   "outputs": [],
   "source": [
    "aladin.overlay_survey=\"xcatdb/P/XMM/PN/color\""
   ]
  },
  {
   "cell_type": "code",
   "execution_count": 18,
   "metadata": {},
   "outputs": [],
   "source": [
    "aladin.overlay_survey_opacity = 0.8"
   ]
  },
  {
   "cell_type": "markdown",
   "metadata": {},
   "source": [
    "That's great, we now have superposed two surveys in `ipyaladin`.\n",
    "HiPS surveys are built out of mosaic images. We see from the XMM example that they do not necessarilly cover the whole sky, but can also be constructed for partial coverages.\n",
    "\n",
    "We will not build a HiPS catalog now, but if one day you'd like to build and publish your own, you can look at [this very nice HiPS building tutorial](https://aladin.cds.unistra.fr/tutorials/OV-France-2024/)\n",
    "\n",
    "Let's now see how we can retrieve GRB events that would have been observed by these telescopes.\n",
    "\n",
    "## Interacting with databases programmatically\n",
    "\n",
    "There are two main ways to interact with astronomical databases from python.\n",
    "- with `pyVO`, the python module that offers Virtual Observatory protocols,\n",
    "- with `astroquery` modules. If there is one that exists for your database, then it is often really nice to use. But **it is less general than pyVO that works for every VO database**. We used this second approach for the MOCServer, `astroquery.mocserver` was an astroquery module specially written for the MOCServer.\n",
    "\n",
    "Here, we will focus on the `pyVO` approach, to stick to VO protocols. But most [CDS's python tutorials](https://github.com/cds-astro/tutorials/notebooks) will illustrate the modules `astroquery.vizier`, `astroquery.xmatch`and `astroquery.simbad`, if you are interrested.\n",
    "\n",
    "### Using the Table Access Protocol (TAP) with pyVO\n",
    "\n",
    "TAP is a VO standard that allows to interogate tables that have relations with each other with the Astronomical Data Query Language (ADQL).\n",
    "\n",
    "A database that offers TAP access always have:\n",
    "- an url that allows to instantiate a TAP service\n",
    "- a description of its content that is always in the same tables with standardized names. Here we will use **tables**, and **columns**.\n",
    "\n",
    "#### SIMBAD\n",
    "\n",
    "![tap_simbad](tap_simbad.png)\n",
    "Figure 3: (a) Finding the SIMBAD TAP URL, (b) The tables `basic` and `otypedef` have a common column: `otype`, (c) Once a TAP result is added to `ipyaladin`, one can click on the symbols or select subsets to inspect the results further.\n",
    "\n",
    "Let's try to find GRBs with SIMBAD's TAP access.\n",
    "First, we need SIMBAD's TAP URL. It can be found on [SIMBAD's webpage](http://simbad.cds.unistra.fr/simbad/), see Figure 3a."
   ]
  },
  {
   "cell_type": "code",
   "execution_count": 20,
   "metadata": {},
   "outputs": [],
   "source": [
    "tap_simbad = pyvo.dal.TAPService(\"https://simbad.cds.unistra.fr/simbad/sim-tap/\")"
   ]
  },
  {
   "cell_type": "markdown",
   "metadata": {},
   "source": [
    "The queries written in ADQL should be written in a string and called with the `search` method. Let's look at the tables available through TAP. `*` means that we want to get everything, and `FROM tables` restricts is to the table named `tables`."
   ]
  },
  {
   "cell_type": "code",
   "execution_count": 21,
   "metadata": {},
   "outputs": [
    {
     "data": {
      "text/html": [
       "<div><i>Table length=35</i>\n",
       "<table id=\"table139871636819632\" class=\"table-striped table-bordered table-condensed\">\n",
       "<thead><tr><th>table_index</th><th>schema_name</th><th>table_name</th><th>table_type</th><th>description</th><th>utype</th></tr></thead>\n",
       "<thead><tr><th>int32</th><th>object</th><th>object</th><th>object</th><th>object</th><th>object</th></tr></thead>\n",
       "<tr><td>-1</td><td>public</td><td>basic</td><td>table</td><td>General data about an astronomical object</td><td></td></tr>\n",
       "<tr><td>-1</td><td>public</td><td>ids</td><td>view</td><td>all names concatenated with pipe</td><td></td></tr>\n",
       "<tr><td>-1</td><td>public</td><td>alltypes</td><td>view</td><td>all object types concatenated with pipe</td><td></td></tr>\n",
       "<tr><td>-1</td><td>public</td><td>ident</td><td>table</td><td>Identifiers of an astronomical object</td><td></td></tr>\n",
       "<tr><td>-1</td><td>public</td><td>cat</td><td>table</td><td>Catalogues name</td><td></td></tr>\n",
       "<tr><td>-1</td><td>public</td><td>flux</td><td>table</td><td>Magnitude/Flux information about an astronomical object</td><td></td></tr>\n",
       "<tr><td>-1</td><td>public</td><td>allfluxes</td><td>view</td><td>all flux/magnitudes U,B,V,I,J,H,K,u_,g_,r_,i_,z_</td><td></td></tr>\n",
       "<tr><td>-1</td><td>public</td><td>filter</td><td>table</td><td>Description of a flux filter</td><td></td></tr>\n",
       "<tr><td>-1</td><td>public</td><td>has_ref</td><td>table</td><td>Associations between astronomical objects and their bibliographic references</td><td></td></tr>\n",
       "<tr><td>...</td><td>...</td><td>...</td><td>...</td><td>...</td><td>...</td></tr>\n",
       "<tr><td>-1</td><td>public</td><td>mesDiameter</td><td>table</td><td>Collection of stellar diameters.</td><td></td></tr>\n",
       "<tr><td>-1</td><td>public</td><td>mesDistance</td><td>table</td><td>Collection of distances (pc, kpc or Mpc) by several means.</td><td></td></tr>\n",
       "<tr><td>29</td><td>TAP_SCHEMA</td><td>TAP_SCHEMA.schemas</td><td>table</td><td>List of schemas published in this TAP service.</td><td></td></tr>\n",
       "<tr><td>30</td><td>TAP_SCHEMA</td><td>TAP_SCHEMA.tables</td><td>table</td><td>List of tables published in this TAP service.</td><td></td></tr>\n",
       "<tr><td>31</td><td>TAP_SCHEMA</td><td>TAP_SCHEMA.columns</td><td>table</td><td>List of columns of all tables listed in TAP_SCHEMA.TABLES and published in this TAP service.</td><td></td></tr>\n",
       "<tr><td>32</td><td>TAP_SCHEMA</td><td>TAP_SCHEMA.keys</td><td>table</td><td>List all foreign keys but provides just the tables linked by the foreign key. To know which columns of these tables are linked, see in TAP_SCHEMA.key_columns using the key_id.</td><td></td></tr>\n",
       "<tr><td>33</td><td>TAP_SCHEMA</td><td>TAP_SCHEMA.key_columns</td><td>table</td><td>List all foreign keys but provides just the columns linked by the foreign key. To know the table of these columns, see in TAP_SCHEMA.keys using the key_id.</td><td></td></tr>\n",
       "<tr><td>-1</td><td>public</td><td>otypes</td><td>table</td><td>List of all object types associated with an object</td><td></td></tr>\n",
       "<tr><td>-1</td><td>public</td><td>mesSpT</td><td>table</td><td>Collection of spectral types.</td><td></td></tr>\n",
       "<tr><td>-1</td><td>public</td><td>journals</td><td>view</td><td>Description of all used journals in the database</td><td></td></tr>\n",
       "</table></div>"
      ],
      "text/plain": [
       "<Table length=35>\n",
       "table_index schema_name ... utype \n",
       "   int32       object   ... object\n",
       "----------- ----------- ... ------\n",
       "         -1      public ...       \n",
       "         -1      public ...       \n",
       "         -1      public ...       \n",
       "         -1      public ...       \n",
       "         -1      public ...       \n",
       "         -1      public ...       \n",
       "         -1      public ...       \n",
       "         -1      public ...       \n",
       "         -1      public ...       \n",
       "        ...         ... ...    ...\n",
       "         -1      public ...       \n",
       "         -1      public ...       \n",
       "         29  TAP_SCHEMA ...       \n",
       "         30  TAP_SCHEMA ...       \n",
       "         31  TAP_SCHEMA ...       \n",
       "         32  TAP_SCHEMA ...       \n",
       "         33  TAP_SCHEMA ...       \n",
       "         -1      public ...       \n",
       "         -1      public ...       \n",
       "         -1      public ...       "
      ]
     },
     "execution_count": 21,
     "metadata": {},
     "output_type": "execute_result"
    }
   ],
   "source": [
    "tap_simbad.search(\"SELECT * FROM tables\").to_table()"
   ]
  },
  {
   "cell_type": "markdown",
   "metadata": {},
   "source": [
    "This ADQL query (`SELECT * FROM tables`) will work in every TAP service, since `tables` is one of the mandatory tables.\n",
    "\n",
    "Here, we find that SIMBAD is actually made of 35 tables. Some of them have a name that start by `TAP_SCHEMA`. These are the mandatory tables that describe the TAP service.\n",
    "\n",
    "An other query that will always work is to count the number of columns in all tables of a TAP service, since `columns` is also one of the mandatory tables."
   ]
  },
  {
   "cell_type": "code",
   "execution_count": 22,
   "metadata": {},
   "outputs": [
    {
     "data": {
      "text/html": [
       "<div><i>Table length=1</i>\n",
       "<table id=\"table139871636736080\" class=\"table-striped table-bordered table-condensed\">\n",
       "<thead><tr><th>COUNT_ALL</th></tr></thead>\n",
       "<thead><tr><th>int64</th></tr></thead>\n",
       "<tr><td>326</td></tr>\n",
       "</table></div>"
      ],
      "text/plain": [
       "<Table length=1>\n",
       "COUNT_ALL\n",
       "  int64  \n",
       "---------\n",
       "      326"
      ]
     },
     "execution_count": 22,
     "metadata": {},
     "output_type": "execute_result"
    }
   ],
   "source": [
    "tap_simbad.search(\"SELECT COUNT(*) FROM columns\").to_table()"
   ]
  },
  {
   "cell_type": "markdown",
   "metadata": {},
   "source": [
    "However, the tables that don't start with `TAP_SCHEMA` are specific to each database.\n",
    "\n",
    "To find which tables of SIMBAD offers a description of the object types, let's add a criteria to our first query:"
   ]
  },
  {
   "cell_type": "code",
   "execution_count": 23,
   "metadata": {},
   "outputs": [
    {
     "data": {
      "text/html": [
       "<div><i>Table length=5</i>\n",
       "<table id=\"table139871637186752\" class=\"table-striped table-bordered table-condensed\">\n",
       "<thead><tr><th>table_index</th><th>schema_name</th><th>table_name</th><th>table_type</th><th>description</th><th>utype</th></tr></thead>\n",
       "<thead><tr><th>int32</th><th>object</th><th>object</th><th>object</th><th>object</th><th>object</th></tr></thead>\n",
       "<tr><td>-1</td><td>public</td><td>alltypes</td><td>view</td><td>all object types concatenated with pipe</td><td></td></tr>\n",
       "<tr><td>-1</td><td>public</td><td>mesVar</td><td>table</td><td>Collection of stellar variability types and periods.</td><td></td></tr>\n",
       "<tr><td>-1</td><td>public</td><td>otypedef</td><td>table</td><td>all names and definitions for the object types</td><td></td></tr>\n",
       "<tr><td>-1</td><td>public</td><td>otypes</td><td>table</td><td>List of all object types associated with an object</td><td></td></tr>\n",
       "<tr><td>-1</td><td>public</td><td>mesSpT</td><td>table</td><td>Collection of spectral types.</td><td></td></tr>\n",
       "</table></div>"
      ],
      "text/plain": [
       "<Table length=5>\n",
       "table_index schema_name ... utype \n",
       "   int32       object   ... object\n",
       "----------- ----------- ... ------\n",
       "         -1      public ...       \n",
       "         -1      public ...       \n",
       "         -1      public ...       \n",
       "         -1      public ...       \n",
       "         -1      public ...       "
      ]
     },
     "execution_count": 23,
     "metadata": {},
     "output_type": "execute_result"
    }
   ],
   "source": [
    "tap_simbad.search(\"SELECT * FROM tables WHERE description LIKE '%type%'\").to_table()"
   ]
  },
  {
   "cell_type": "markdown",
   "metadata": {},
   "source": [
    "In ADQL, `%` means 'any character'. We learn that the definition of the object types in SIMBAD is in `otypedef`. Let's look at the first 5 records of the table to see what it looks like."
   ]
  },
  {
   "cell_type": "code",
   "execution_count": 24,
   "metadata": {},
   "outputs": [
    {
     "data": {
      "text/html": [
       "<div><i>Table length=5</i>\n",
       "<table id=\"table139871637372544\" class=\"table-striped table-bordered table-condensed\">\n",
       "<thead><tr><th>otype</th><th>label</th><th>description</th><th>comment</th><th>is_candidate</th><th>otype_shortname</th><th>otype_longname</th><th>path</th></tr></thead>\n",
       "<thead><tr><th>object</th><th>object</th><th>object</th><th>object</th><th>int16</th><th>object</th><th>object</th><th>object</th></tr></thead>\n",
       "<tr><td>XB?</td><td></td><td>X-ray Binary Candidate</td><td></td><td>0</td><td>XB?</td><td>X-ray Binary Candidate</td><td></td></tr>\n",
       "<tr><td>Pl?</td><td></td><td>Extra-solar Planet Candidate</td><td></td><td>0</td><td>Pl?</td><td>Extra-solar Planet Candidate</td><td></td></tr>\n",
       "<tr><td>RNe</td><td>RefNeb</td><td>Reflection Nebula</td><td></td><td>0</td><td>RNe</td><td>Reflection Nebula</td><td>ISM &gt; Cld &gt; GNe &gt; RNe</td></tr>\n",
       "<tr><td>LP?</td><td></td><td>Long-Period Variable Candidate</td><td></td><td>0</td><td>LP?</td><td>Long-Period Variable Candidate</td><td></td></tr>\n",
       "<tr><td>HB?</td><td></td><td>Horizontal Branch Star Candidate</td><td></td><td>0</td><td>HB?</td><td>Horizontal Branch Star Candidate</td><td></td></tr>\n",
       "</table></div>"
      ],
      "text/plain": [
       "<Table length=5>\n",
       "otype  label  ...          otype_longname                   path        \n",
       "object object ...              object                      object       \n",
       "------ ------ ... -------------------------------- ---------------------\n",
       "   XB?        ...           X-ray Binary Candidate                      \n",
       "   Pl?        ...     Extra-solar Planet Candidate                      \n",
       "   RNe RefNeb ...                Reflection Nebula ISM > Cld > GNe > RNe\n",
       "   LP?        ...   Long-Period Variable Candidate                      \n",
       "   HB?        ... Horizontal Branch Star Candidate                      "
      ]
     },
     "execution_count": 24,
     "metadata": {},
     "output_type": "execute_result"
    }
   ],
   "source": [
    "tap_simbad.search(\"SELECT TOP 5 * FROM otypedef\").to_table()"
   ]
  },
  {
   "cell_type": "markdown",
   "metadata": {},
   "source": [
    "We can now build an ADQL query to find the code `otype` (the first column) for Gamma Ray Bursts. Since only the columns `otype`, `description`, and `path` look insterresting to us, let's do a query without `*` for the first time:"
   ]
  },
  {
   "cell_type": "code",
   "execution_count": 25,
   "metadata": {},
   "outputs": [
    {
     "data": {
      "text/html": [
       "<div><i>Table length=2</i>\n",
       "<table id=\"table139871636552864\" class=\"table-striped table-bordered table-condensed\">\n",
       "<thead><tr><th>otype</th><th>description</th><th>path</th></tr></thead>\n",
       "<thead><tr><th>object</th><th>object</th><th>object</th></tr></thead>\n",
       "<tr><td>gB</td><td>Gamma-ray Burst</td><td>gam &gt; gB</td></tr>\n",
       "<tr><td>gam</td><td>Gamma-ray Source</td><td>gam</td></tr>\n",
       "</table></div>"
      ],
      "text/plain": [
       "<Table length=2>\n",
       "otype    description      path  \n",
       "object      object       object \n",
       "------ ---------------- --------\n",
       "    gB  Gamma-ray Burst gam > gB\n",
       "   gam Gamma-ray Source      gam"
      ]
     },
     "execution_count": 25,
     "metadata": {},
     "output_type": "execute_result"
    }
   ],
   "source": [
    "tap_simbad.search(\"SELECT otype, description, path FROM otypedef WHERE description LIKE '%Gamma%'\").to_table()"
   ]
  },
  {
   "cell_type": "markdown",
   "metadata": {},
   "source": [
    "We got it. The code is `gB`. \n",
    "\n",
    "This information was extracted from one of SIMBAD's tables. We will use an other one in the next query. If you're interested in learning more about SIMBAD's structure, and how to build more complex ADQL queries for it, you can have a look at [SIMBAD's ADQL documentation](https://cds.unistra.fr/help/documentation/simbad-more/adql-simbad/), or the [documentation of the `astroquery.simbad` module](https://astroquery.readthedocs.io/en/latest/simbad/simbad.html#query-tap) that has a `query_tap` direct access.\n",
    "\n",
    "Let's now do a request on the `basic` table that contains all the basic information about the objects. `basic` has a lot on columns. You can inspect them with an ADQL query (`SELECT * FROM columns WHERE table_name = 'basic'`) but we already selected the coordinates (`ra`, `dec`), the object type (`otype`) and the number of articles that mention the GRB (`nbref`):"
   ]
  },
  {
   "cell_type": "code",
   "execution_count": 26,
   "metadata": {},
   "outputs": [
    {
     "data": {
      "text/html": [
       "<div><i>Table length=12449</i>\n",
       "<table id=\"table139871636341952\" class=\"table-striped table-bordered table-condensed\">\n",
       "<thead><tr><th>main_id</th><th>ra</th><th>dec</th><th>otype</th><th>nbref</th></tr></thead>\n",
       "<thead><tr><th></th><th>deg</th><th>deg</th><th></th><th></th></tr></thead>\n",
       "<thead><tr><th>object</th><th>float64</th><th>float64</th><th>object</th><th>int32</th></tr></thead>\n",
       "<tr><td>Fermi bn170510217</td><td>160.15391666666665</td><td>-39.21250000000001</td><td>gB</td><td>19</td></tr>\n",
       "<tr><td>GRB 060923B</td><td>238.19475</td><td>-30.90313888888888</td><td>gB</td><td>38</td></tr>\n",
       "<tr><td>Fermi bn121011469</td><td>260.2136249999999</td><td>41.11022222222222</td><td>gB</td><td>51</td></tr>\n",
       "<tr><td>GRB 060513</td><td>--</td><td>--</td><td>gB</td><td>2</td></tr>\n",
       "<tr><td>GRB 220103A</td><td>--</td><td>--</td><td>gB</td><td>2</td></tr>\n",
       "<tr><td>GRB 220104A</td><td>--</td><td>--</td><td>gB</td><td>4</td></tr>\n",
       "<tr><td>GRB 220108A</td><td>--</td><td>--</td><td>gB</td><td>1</td></tr>\n",
       "<tr><td>GRB 220107A</td><td>169.807</td><td>34.17063888888889</td><td>gB</td><td>21</td></tr>\n",
       "<tr><td>GRB 220107B</td><td>216.40670833333334</td><td>20.170638888888888</td><td>gB</td><td>9</td></tr>\n",
       "<tr><td>...</td><td>...</td><td>...</td><td>...</td><td>...</td></tr>\n",
       "<tr><td>GRB 051109B</td><td>345.4597083333333</td><td>38.67958611111111</td><td>gB</td><td>89</td></tr>\n",
       "<tr><td>Fermi bn090323002</td><td>190.7095</td><td>17.053305555555557</td><td>gB</td><td>225</td></tr>\n",
       "<tr><td>GRB 090426</td><td>189.08120833333334</td><td>32.984861111111115</td><td>gB</td><td>213</td></tr>\n",
       "<tr><td>GRB 070714B</td><td>57.842916666666675</td><td>28.297583333333332</td><td>gB</td><td>221</td></tr>\n",
       "<tr><td>Fermi bn121128212</td><td>300.59950000000003</td><td>54.29975</td><td>gB</td><td>109</td></tr>\n",
       "<tr><td>GRB 121024A</td><td>70.47212499999999</td><td>-12.290583333333334</td><td>gB</td><td>124</td></tr>\n",
       "<tr><td>Fermi bn151027166</td><td>272.4869583333333</td><td>61.35341666666666</td><td>gB</td><td>118</td></tr>\n",
       "<tr><td>GRB 041219</td><td>6.115416666666667</td><td>62.84277777777778</td><td>gB</td><td>226</td></tr>\n",
       "<tr><td>GRB 221009A</td><td>288.26604166666664</td><td>19.772972222222222</td><td>gB</td><td>266</td></tr>\n",
       "</table></div>"
      ],
      "text/plain": [
       "<Table length=12449>\n",
       "     main_id              ra                 dec         otype  nbref\n",
       "                         deg                 deg                     \n",
       "      object           float64             float64       object int32\n",
       "----------------- ------------------ ------------------- ------ -----\n",
       "Fermi bn170510217 160.15391666666665  -39.21250000000001     gB    19\n",
       "      GRB 060923B          238.19475  -30.90313888888888     gB    38\n",
       "Fermi bn121011469  260.2136249999999   41.11022222222222     gB    51\n",
       "       GRB 060513                 --                  --     gB     2\n",
       "      GRB 220103A                 --                  --     gB     2\n",
       "      GRB 220104A                 --                  --     gB     4\n",
       "      GRB 220108A                 --                  --     gB     1\n",
       "      GRB 220107A            169.807   34.17063888888889     gB    21\n",
       "      GRB 220107B 216.40670833333334  20.170638888888888     gB     9\n",
       "              ...                ...                 ...    ...   ...\n",
       "      GRB 051109B  345.4597083333333   38.67958611111111     gB    89\n",
       "Fermi bn090323002           190.7095  17.053305555555557     gB   225\n",
       "       GRB 090426 189.08120833333334  32.984861111111115     gB   213\n",
       "      GRB 070714B 57.842916666666675  28.297583333333332     gB   221\n",
       "Fermi bn121128212 300.59950000000003            54.29975     gB   109\n",
       "      GRB 121024A  70.47212499999999 -12.290583333333334     gB   124\n",
       "Fermi bn151027166  272.4869583333333   61.35341666666666     gB   118\n",
       "       GRB 041219  6.115416666666667   62.84277777777778     gB   226\n",
       "      GRB 221009A 288.26604166666664  19.772972222222222     gB   266"
      ]
     },
     "execution_count": 26,
     "metadata": {},
     "output_type": "execute_result"
    }
   ],
   "source": [
    "grbs_simbad = tap_simbad.search(\"\"\"SELECT main_id, ra, dec, otype, nbref FROM basic\n",
    "WHERE otype = 'gB'\"\"\").to_table()\n",
    "grbs_simbad"
   ]
  },
  {
   "cell_type": "markdown",
   "metadata": {},
   "source": [
    "There are currently 12449 GRBs in SIMBAD. There could be more when you'll execute the notebook. Some of them have position estimates, some don't. This is because SIMBAD is also a bibliographical database, it does not only map objects onto the sky, it also maps objects mentionned in papers. \n",
    "\n",
    "For example here, let's look at the GRB with the most citations (`nbref`)"
   ]
  },
  {
   "cell_type": "code",
   "execution_count": 27,
   "metadata": {},
   "outputs": [
    {
     "data": {
      "text/html": [
       "<div><i>Table length=12449</i>\n",
       "<table id=\"table139871636341952\" class=\"table-striped table-bordered table-condensed\">\n",
       "<thead><tr><th>main_id</th><th>ra</th><th>dec</th><th>otype</th><th>nbref</th></tr></thead>\n",
       "<thead><tr><th></th><th>deg</th><th>deg</th><th></th><th></th></tr></thead>\n",
       "<thead><tr><th>object</th><th>float64</th><th>float64</th><th>object</th><th>int32</th></tr></thead>\n",
       "<tr><td>GRB 990123</td><td>231.37083333333334</td><td>44.75</td><td>gB</td><td>993</td></tr>\n",
       "<tr><td>GRB 970508</td><td>103.455</td><td>79.27194444444444</td><td>gB</td><td>870</td></tr>\n",
       "<tr><td>GBS 1900+14</td><td>286.804</td><td>9.326</td><td>gB</td><td>865</td></tr>\n",
       "<tr><td>GRB 970228</td><td>75.44458333333334</td><td>11.781388888888888</td><td>gB</td><td>638</td></tr>\n",
       "<tr><td>GRB 060614</td><td>320.88391666666666</td><td>-53.02669444444444</td><td>gB</td><td>626</td></tr>\n",
       "<tr><td>GRB 021004</td><td>6.727833333333334</td><td>18.92822222222222</td><td>gB</td><td>550</td></tr>\n",
       "<tr><td>GRB 090510</td><td>333.5525</td><td>-26.597527777777778</td><td>gB</td><td>503</td></tr>\n",
       "<tr><td>GRB 990510</td><td>204.5318333333333</td><td>-80.49688888888889</td><td>gB</td><td>489</td></tr>\n",
       "<tr><td>GRB 050904</td><td>13.711641666666667</td><td>14.08595</td><td>gB</td><td>474</td></tr>\n",
       "<tr><td>...</td><td>...</td><td>...</td><td>...</td><td>...</td></tr>\n",
       "<tr><td>[STK2001] 11271c</td><td>355.25</td><td>-19.4</td><td>gB</td><td>1</td></tr>\n",
       "<tr><td>[KLK2001] 950510.91</td><td>331.25</td><td>-23.5</td><td>gB</td><td>1</td></tr>\n",
       "<tr><td>GRB 190619A</td><td>--</td><td>--</td><td>gB</td><td>1</td></tr>\n",
       "<tr><td>[KLK2001] 940125.55</td><td>193.75</td><td>2.3</td><td>gB</td><td>1</td></tr>\n",
       "<tr><td>[STK2001] 08711a</td><td>8.0</td><td>30.3</td><td>gB</td><td>1</td></tr>\n",
       "<tr><td>GRB 121231A</td><td>--</td><td>--</td><td>gB</td><td>1</td></tr>\n",
       "<tr><td>GRB 110201</td><td>--</td><td>--</td><td>gB</td><td>0</td></tr>\n",
       "<tr><td>GRB 811215A</td><td>--</td><td>--</td><td>gB</td><td>0</td></tr>\n",
       "<tr><td>GRB 090408A</td><td>--</td><td>--</td><td>gB</td><td>0</td></tr>\n",
       "</table></div>"
      ],
      "text/plain": [
       "<Table length=12449>\n",
       "      main_id               ra                 dec         otype  nbref\n",
       "                           deg                 deg                     \n",
       "       object            float64             float64       object int32\n",
       "------------------- ------------------ ------------------- ------ -----\n",
       "         GRB 990123 231.37083333333334               44.75     gB   993\n",
       "         GRB 970508            103.455   79.27194444444444     gB   870\n",
       "        GBS 1900+14            286.804               9.326     gB   865\n",
       "         GRB 970228  75.44458333333334  11.781388888888888     gB   638\n",
       "         GRB 060614 320.88391666666666  -53.02669444444444     gB   626\n",
       "         GRB 021004  6.727833333333334   18.92822222222222     gB   550\n",
       "         GRB 090510           333.5525 -26.597527777777778     gB   503\n",
       "         GRB 990510  204.5318333333333  -80.49688888888889     gB   489\n",
       "         GRB 050904 13.711641666666667            14.08595     gB   474\n",
       "                ...                ...                 ...    ...   ...\n",
       "   [STK2001] 11271c             355.25               -19.4     gB     1\n",
       "[KLK2001] 950510.91             331.25               -23.5     gB     1\n",
       "        GRB 190619A                 --                  --     gB     1\n",
       "[KLK2001] 940125.55             193.75                 2.3     gB     1\n",
       "   [STK2001] 08711a                8.0                30.3     gB     1\n",
       "        GRB 121231A                 --                  --     gB     1\n",
       "         GRB 110201                 --                  --     gB     0\n",
       "        GRB 811215A                 --                  --     gB     0\n",
       "        GRB 090408A                 --                  --     gB     0"
      ]
     },
     "execution_count": 27,
     "metadata": {},
     "output_type": "execute_result"
    }
   ],
   "source": [
    "grbs_simbad.sort(\"nbref\", reverse=True)\n",
    "grbs_simbad"
   ]
  },
  {
   "cell_type": "markdown",
   "metadata": {},
   "source": [
    "It looks like the \"most famous\" GRB is `GRB 990123`.\n",
    "\n",
    "# Pooja can you add fun stuff about it here?\n",
    "\n",
    "Let's add the ones with an estimated position to the `ipyaladin` widget."
   ]
  },
  {
   "cell_type": "code",
   "execution_count": 28,
   "metadata": {},
   "outputs": [],
   "source": [
    "aladin.add_table(grbs_simbad, color=\"pink\", shape=\"cross\")"
   ]
  },
  {
   "cell_type": "markdown",
   "metadata": {},
   "source": [
    "We immediately see that some fall within the XMM observations. This is nice, but GRBs have a short lifetime span and SIMBAD only has space information, not time. \n",
    "\n",
    "We will need to go to more specific data sources. To do so, let's find other TAP services that could have GRBs-specific information.\n",
    "\n",
    "#### But where do we find TAP URLs??\n",
    "\n",
    "For this, we will use one extra-powerful tool: the Virtual Observatory registry. This is where any VO service is... registered! It is accessible through [web access](http://dc.g-vo.org/wirr/q/ui/fixed). It is also what TOPCat uses behind the scenes when you're looking for a resource. Here, we will access it thanks to `PyVO`."
   ]
  },
  {
   "cell_type": "code",
   "execution_count": 29,
   "metadata": {},
   "outputs": [
    {
     "data": {
      "text/plain": [
       "<DALResultsTable length=26>\n",
       "                ivoid                      res_type     ... cap_descriptions\n",
       "                                                        ...                 \n",
       "                object                      object      ...      object     \n",
       "------------------------------------- ----------------- ... ----------------\n",
       "       ivo://cds.vizier/j/a+a/562/a70 vs:catalogservice ...                 \n",
       "      ivo://cds.vizier/j/a+a/618/a104 vs:catalogservice ...                 \n",
       "      ivo://cds.vizier/j/a+a/627/a106 vs:catalogservice ...                 \n",
       "      ivo://cds.vizier/j/a+a/671/a116 vs:catalogservice ...                 \n",
       "       ivo://cds.vizier/j/a+a/675/a99 vs:catalogservice ...                 \n",
       "      ivo://cds.vizier/j/a+a/684/a211 vs:catalogservice ...                 \n",
       "       ivo://cds.vizier/j/apj/746/156 vs:catalogservice ...                 \n",
       "        ivo://cds.vizier/j/apj/806/52 vs:catalogservice ...                 \n",
       "         ivo://cds.vizier/j/apj/814/1 vs:catalogservice ...                 \n",
       "                                  ...               ... ...              ...\n",
       "        ivo://cds.vizier/j/apj/925/15 vs:catalogservice ...                 \n",
       "       ivo://cds.vizier/j/apjs/206/17 vs:catalogservice ...                 \n",
       "       ivo://cds.vizier/j/apjs/218/11 vs:catalogservice ...                 \n",
       "       ivo://cds.vizier/j/apjs/232/17 vs:catalogservice ...                 \n",
       "    ivo://cds.vizier/j/mnras/473/1512 vs:catalogservice ...                 \n",
       "    ivo://cds.vizier/j/mnras/495/2342 vs:catalogservice ...                 \n",
       " ivo://cds.vizier/j/other/nat/463.513 vs:catalogservice ...                 \n",
       "ivo://cds.vizier/j/other/sci/338.1445 vs:catalogservice ...                 \n",
       "          ivo://nasa.heasarc/rssgrbag vs:catalogservice ...                 "
      ]
     },
     "execution_count": 29,
     "metadata": {},
     "output_type": "execute_result"
    }
   ],
   "source": [
    "# we first define text, servicetype and wavebands constraints\n",
    "text_constraint = pyvo.registry.Freetext(\"Gamma\", \"Ray\", \"Burst\")\n",
    "service_type_constrains = pyvo.registry.Servicetype(\"tap\").include_auxiliary_services()\n",
    "waveband_constraint = pyvo.registry.Waveband(\"radio\")\n",
    "\n",
    "tap_services_GRBs_radio = pyvo.registry.search(text_constraint, service_type_constrains, waveband_constraint)\n",
    "tap_services_GRBs_radio"
   ]
  },
  {
   "cell_type": "code",
   "execution_count": 42,
   "metadata": {},
   "outputs": [
    {
     "data": {
      "text/html": [
       "<div><i>Table length=26</i>\n",
       "<table id=\"table139871601425328\" class=\"table-striped table-bordered table-condensed\">\n",
       "<thead><tr><th>res_title</th><th>ivoid</th></tr></thead>\n",
       "<thead><tr><th>object</th><th>object</th></tr></thead>\n",
       "<tr><td>Imaging GRB 980425 in millimetric and submm</td><td>ivo://cds.vizier/j/a+a/562/a70</td></tr>\n",
       "<tr><td>NGC3278, SN2009bb host, ATCA and MUSE data</td><td>ivo://cds.vizier/j/a+a/618/a104</td></tr>\n",
       "<tr><td>HI observations of AT 2018cow</td><td>ivo://cds.vizier/j/a+a/627/a106</td></tr>\n",
       "<tr><td>GRB 210731A flux measurements</td><td>ivo://cds.vizier/j/a+a/671/a116</td></tr>\n",
       "<tr><td>FRBs search with Fermi-LAT</td><td>ivo://cds.vizier/j/a+a/675/a99</td></tr>\n",
       "<tr><td>Gaussian model fit components for 3C345</td><td>ivo://cds.vizier/j/a+a/684/a211</td></tr>\n",
       "<tr><td>Radio afterglow observations of GRBs</td><td>ivo://cds.vizier/j/apj/746/156</td></tr>\n",
       "<tr><td>8 Fermi GRB afterglows follow-up</td><td>ivo://cds.vizier/j/apj/806/52</td></tr>\n",
       "<tr><td>GRB 120326A, 100418A &amp; 100901A multi-wavelength obs.</td><td>ivo://cds.vizier/j/apj/814/1</td></tr>\n",
       "<tr><td>...</td><td>...</td></tr>\n",
       "<tr><td>X-Ray, optical &amp; radio obs. of GRB 160625B</td><td>ivo://cds.vizier/j/apj/904/166</td></tr>\n",
       "<tr><td>Radio afterglow emission of GRBs</td><td>ivo://cds.vizier/j/apj/925/15</td></tr>\n",
       "<tr><td>New gamma-ray blazar candidates in the 3PBC</td><td>ivo://cds.vizier/j/apjs/206/17</td></tr>\n",
       "<tr><td>The five year Fermi/GBM magnetar burst catalog</td><td>ivo://cds.vizier/j/apjs/218/11</td></tr>\n",
       "<tr><td>Spectral properties of magnetar bursts</td><td>ivo://cds.vizier/j/apjs/232/17</td></tr>\n",
       "<tr><td>AMI 15.7GHz GRB catalogue</td><td>ivo://cds.vizier/j/mnras/473/1512</td></tr>\n",
       "<tr><td>GRB hydrogen column densities</td><td>ivo://cds.vizier/j/mnras/495/2342</td></tr>\n",
       "<tr><td>Radio observations of SN 2009bb</td><td>ivo://cds.vizier/j/other/nat/463.513</td></tr>\n",
       "<tr><td>Relativistic jets from black hole systems</td><td>ivo://cds.vizier/j/other/sci/338.1445</td></tr>\n",
       "<tr><td>Radio-Selected Gamma-Ray Burst Afterglow Catalog</td><td>ivo://nasa.heasarc/rssgrbag</td></tr>\n",
       "</table></div>"
      ],
      "text/plain": [
       "<Table length=26>\n",
       "                     res_title                       ...\n",
       "                       object                        ...\n",
       "---------------------------------------------------- ...\n",
       "         Imaging GRB 980425 in millimetric and submm ...\n",
       "          NGC3278, SN2009bb host, ATCA and MUSE data ...\n",
       "                       HI observations of AT 2018cow ...\n",
       "                       GRB 210731A flux measurements ...\n",
       "                          FRBs search with Fermi-LAT ...\n",
       "             Gaussian model fit components for 3C345 ...\n",
       "                Radio afterglow observations of GRBs ...\n",
       "                    8 Fermi GRB afterglows follow-up ...\n",
       "GRB 120326A, 100418A & 100901A multi-wavelength obs. ...\n",
       "                                                 ... ...\n",
       "          X-Ray, optical & radio obs. of GRB 160625B ...\n",
       "                    Radio afterglow emission of GRBs ...\n",
       "         New gamma-ray blazar candidates in the 3PBC ...\n",
       "      The five year Fermi/GBM magnetar burst catalog ...\n",
       "              Spectral properties of magnetar bursts ...\n",
       "                           AMI 15.7GHz GRB catalogue ...\n",
       "                       GRB hydrogen column densities ...\n",
       "                     Radio observations of SN 2009bb ...\n",
       "           Relativistic jets from black hole systems ...\n",
       "    Radio-Selected Gamma-Ray Burst Afterglow Catalog ..."
      ]
     },
     "execution_count": 42,
     "metadata": {},
     "output_type": "execute_result"
    }
   ],
   "source": [
    "tap_services_GRBs_radio.to_table()[[\"res_title\", \"ivoid\"]]"
   ]
  },
  {
   "cell_type": "markdown",
   "metadata": {},
   "source": [
    "We find 26 TAP services that mention gamma ray burst in the radio waveband! Most, but not all of them, are VizieR catalogs. Let's inspect the first and last ones in more detail."
   ]
  },
  {
   "cell_type": "code",
   "execution_count": 31,
   "metadata": {},
   "outputs": [
    {
     "name": "stdout",
     "output_type": "stream",
     "text": [
      "Imaging GRB 980425 in millimetric and submm\n",
      "Short Name: J/A+A/562/A70\n",
      "IVOA Identifier: ivo://cds.vizier/j/a+a/562/a70\n",
      "Access modes: tap#aux\n",
      "- tap#aux: http://tapvizier.cds.unistra.fr/TAPVizieR/tap\n",
      "\n",
      "Gamma-ray bursts (GRBs) have been proposed as a tool to study star formation\n",
      "in the Universe, so it is crucial to investigate whether their host galaxies\n",
      "and immediate environments are in any way special compared with other star-\n",
      "forming galaxies. Here we present spatially resolved maps of dust emission of\n",
      "the host galaxy of the closest known GRB 980425 at z=0.0085 using our new\n",
      "high-resolution observations from Herschel, APEX, ALMA and ATCA. We modeled\n",
      "the spectral energy distributions of the host and of the star-forming region\n",
      "displaying the Wolf-Rayet signatures in the spectrum (WR region), located\n",
      "800pc away from the GRB position. The host is characterised by low dust\n",
      "content and high fraction of UV-visible star-formation, similar to other dwarf\n",
      "galaxies. Such galaxies are abundant in the local universe, so it is not\n",
      "surprising to find a GRB in one of them, assuming the correspondence between\n",
      "the GRB rate and star-formation. The WR region contributes substantially to\n",
      "the host emission at the far-infrared, millimeter and radio wavelengths and we\n",
      "propose this to be a consequence of its high gas density. If dense\n",
      "environments are also found close to the positions of other GRBs, then the ISM\n",
      "density should also be considered as an important factor influencing whether a\n",
      "given stellar population can produce a GRB, in a similar way as metallicity.\n",
      "\n",
      "Waveband Coverage: gamma-ray, uv, millimeter, radio\n"
     ]
    }
   ],
   "source": [
    "tap_services_GRBs_radio[0].describe()"
   ]
  },
  {
   "cell_type": "code",
   "execution_count": 32,
   "metadata": {},
   "outputs": [
    {
     "name": "stdout",
     "output_type": "stream",
     "text": [
      "Radio-Selected Gamma-Ray Burst Afterglow Catalog\n",
      "Short Name: RSSGRBAG\n",
      "IVOA Identifier: ivo://nasa.heasarc/rssgrbag\n",
      "Access modes: tap#aux\n",
      "- tap#aux: https://heasarc.gsfc.nasa.gov/xamin/vo/tap\n",
      "\n",
      "This table contains a catalog of radio afterglow observations of gamma-ray\n",
      "bursts (GRBs) over a 14 year period from 1997 to 2011. This sample of 304\n",
      "afterglows consists of 2,995 flux density measurements (including upper\n",
      "limits) at frequencies between 0.6 GHz and 660 GHz, with the majority of data\n",
      "taken in the 8.5-GHz frequency band (1,539 measurements). The authors use this\n",
      "dataset to carry out a statistical analysis of the radio-selected sample. The\n",
      "detection rate of radio afterglows stayed unchanged almost at 31% before and\n",
      "after the launch of the Swift satellite. The canonical long-duration GRB radio\n",
      "light curve at 8.5 GHz peaks at three to six days in the source rest frame,\n",
      "with a median peak luminosity of 10<sup>31</sup> erg/s/Hz. The peak radio\n",
      "luminosities for short-hard bursts, X-ray flashes, and the supernova-GRB\n",
      "classes are an order of magnitude or more fainter than this value. There are\n",
      "clear relationships between the detectability of a radio afterglow and the\n",
      "fluence or energy of a GRB, and the X-ray or optical brightness of the\n",
      "afterglow. However, the authors find few significant correlations between\n",
      "these same GRB and afterglow properties and the peak radio flux density. In\n",
      "their paper, they also produce synthetic light curves at centimeter and\n",
      "millimeter bands using a range of blast wave and microphysics parameters\n",
      "derived from multi-wavelength afterglow modeling, and use them to compare with\n",
      "the radio sample. Finding agreement, the authors extrapolate this behavior to\n",
      "predict the centimeter and millimeter behavior of GRBs which will observed by\n",
      "the Expanded Very Large Array and the Atacama Large Millimeter Array. The\n",
      "compiled sample consists of 304 GRBs observed with radio telescopes between\n",
      "1997 January and 2011 January, along with the 2011 April 28 Fermi burst, GRB\n",
      "110428A. The sample consists of a total of 2,995 flux density measurements\n",
      "taken in the frequency range from 0.6 to 660 GHz and spanning a time range\n",
      "from 0.026 to 1,339 days. Most of the afterglows (270 in total) in this sample\n",
      "were observed as part of VLA radio afterglow programs, whereas 15 bursts were\n",
      "observed by the Expanded VLA (EVLA), and 19 southern bursts with the Australia\n",
      "Telescope Compact Array (ATCA). This catalog describes the radio, optical and\n",
      "X-ray afterglow detections (see Section 2.2 of the reference paper): out of\n",
      "the 304 bursts, 123 bursts were observed in the pre-Swift epoch from 1997\n",
      "until 2004. The remaining 181 bursts were observed between 2005 and 2011 April\n",
      "(the post-Swift epoch). Out of the 95 radio-detected afterglows (see Section\n",
      "2.2 of the reference paper), 63 had radio lightcurves (i.e., three or more\n",
      "detections in a single radio band), whereas 32 bursts had less than three\n",
      "detections. For the GRBs for which the light curves were available, the\n",
      "authors determined the peak flux density and the time of the peak in the VLA\n",
      "frequency bands (i.e., 1.4 GHz, 4.9 GHz, 8.5 GHz, 15 GHz, and 22.5 GHz bands)\n",
      "by fitting the data with forward shock formula of the form (Frail 2005, IAU\n",
      "Coll. 192, p. 451) given in equation (1) of the reference paper. This formula\n",
      "may not accurately represent the full complexity of the radio lightcurve\n",
      "evolution. However, it is good enough to determine the approximate values for\n",
      "the peak flux density F<sub>m</sub> and the time of the peak t<sub>m</sub>.\n",
      "See the discussion in Section 3.5 of the reference paper for more details and\n",
      "some caveats. For the remaining bursts, the flux density values were taken\n",
      "directly from the data, and hence do not have the best-fit errors for the peak\n",
      "flux, peak time and rest-frame peak time parameters F<sub>m</sub>,\n",
      "t<sub>m</sub> and t<sub>m</sub>/(1+z), respectively. This table was created by\n",
      "the HEASARC in November 2013 based on CDS catalog J/ApJ/746/156 files\n",
      "table1.dat and table4.dat. This is a service provided by NASA HEASARC .\n",
      "\n",
      "Waveband Coverage: gamma-ray, radio, x-ray\n"
     ]
    }
   ],
   "source": [
    "tap_services_GRBs_radio[-1].describe()"
   ]
  },
  {
   "cell_type": "markdown",
   "metadata": {},
   "source": [
    "While doing your own research, you'll surely read all of them with care. Here, let's look at the `Radio-Selected Gamma-Ray Burst Afterglow Catalog`, that we got from the previous research. We read from the description that it is built from a VizieR catalog (`J/ApJ/746/156`).\n",
    "\n",
    "We can use the HEASARC TAP service  and find its URL like this:"
   ]
  },
  {
   "cell_type": "code",
   "execution_count": 33,
   "metadata": {},
   "outputs": [
    {
     "data": {
      "text/plain": [
       "'https://heasarc.gsfc.nasa.gov/xamin/vo/tap'"
      ]
     },
     "execution_count": 33,
     "metadata": {},
     "output_type": "execute_result"
    }
   ],
   "source": [
    "tap_heasarc = tap_services_GRBs_radio[\"ivo://nasa.heasarc/rssgrbag\"].get_service(\"tap\")\n",
    "tap_heasarc.baseurl"
   ]
  },
  {
   "cell_type": "markdown",
   "metadata": {},
   "source": [
    "And we can use the exact same ADQL syntax than with SIMBAD! Let's look at the first 10 tables from the generic `tables` table."
   ]
  },
  {
   "cell_type": "code",
   "execution_count": 34,
   "metadata": {},
   "outputs": [
    {
     "data": {
      "text/html": [
       "<div><i>Table length=10</i>\n",
       "<table id=\"table139871632692640\" class=\"table-striped table-bordered table-condensed\">\n",
       "<thead><tr><th>table_name</th></tr></thead>\n",
       "<thead><tr><th>object</th></tr></thead>\n",
       "<tr><td>xmmcfrscat</td></tr>\n",
       "<tr><td>a2point</td></tr>\n",
       "<tr><td>pccs857ghz</td></tr>\n",
       "<tr><td>hmxbcat2</td></tr>\n",
       "<tr><td>pccs070ghz</td></tr>\n",
       "<tr><td>tycho2</td></tr>\n",
       "<tr><td>vvds20cm</td></tr>\n",
       "<tr><td>sdsss82xmm</td></tr>\n",
       "<tr><td>a2pic</td></tr>\n",
       "<tr><td>rospspcf</td></tr>\n",
       "</table></div>"
      ],
      "text/plain": [
       "<Table length=10>\n",
       "table_name\n",
       "  object  \n",
       "----------\n",
       "xmmcfrscat\n",
       "   a2point\n",
       "pccs857ghz\n",
       "  hmxbcat2\n",
       "pccs070ghz\n",
       "    tycho2\n",
       "  vvds20cm\n",
       "sdsss82xmm\n",
       "     a2pic\n",
       "  rospspcf"
      ]
     },
     "execution_count": 34,
     "metadata": {},
     "output_type": "execute_result"
    }
   ],
   "source": [
    "tap_heasarc.search(\"SELECT TOP 10 table_name from TAP_SCHEMA.tables\").to_table()"
   ]
  },
  {
   "cell_type": "markdown",
   "metadata": {},
   "source": [
    "It's usually good prectice to check the size of a table before dowloading it."
   ]
  },
  {
   "cell_type": "code",
   "execution_count": 43,
   "metadata": {},
   "outputs": [
    {
     "data": {
      "text/plain": [
       "<DALResultsTable length=1>\n",
       "count\n",
       "int64\n",
       "-----\n",
       "  304"
      ]
     },
     "execution_count": 43,
     "metadata": {},
     "output_type": "execute_result"
    }
   ],
   "source": [
    "len_rssgrbag = tap_heasarc.search(\"SELECT COUNT(*) from rssgrbag\")\n",
    "len_rssgrbag"
   ]
  },
  {
   "cell_type": "markdown",
   "metadata": {},
   "source": [
    "304 lines is quite reasonable, let's download the `Radio-Selected Gamma-Ray Burst Afterglow Catalog`."
   ]
  },
  {
   "cell_type": "code",
   "execution_count": 39,
   "metadata": {},
   "outputs": [
    {
     "data": {
      "text/html": [
       "<div><i>Table length=10</i>\n",
       "<table id=\"table139871601150848\" class=\"table-striped table-bordered table-condensed\">\n",
       "<thead><tr><th>__row</th><th>name</th><th>source_flag</th><th>instrument_code</th><th>ra</th><th>dec</th><th>lii</th><th>bii</th><th>xray_ag_flag</th><th>opt_ag_flag</th><th>radio_ag_flag</th><th>radio_telescope</th><th>radio_telescope_flag</th><th>t90</th><th>redshift_limit</th><th>redshift</th><th>redshift_max</th><th>fluence_15_150_kev</th><th>iso_bol_energy</th><th>xray_flux_11h_limit</th><th>xray_flux_11h</th><th>opt_flux_11h_limit</th><th>opt_flux_11h</th><th>jet_break_time_limit</th><th>jet_break_time</th><th>jet_break_time_flag</th><th>cbm_number_density</th><th>cbm_number_density_flag</th><th>coll_angle_limit</th><th>coll_angle</th><th>true_bol_energy_limit</th><th>true_bol_energy</th><th>ref_codes</th><th>radio_freq_1</th><th>peak_flux_freq_1</th><th>peak_flux_freq_1_error</th><th>peak_time_1</th><th>peak_time_1_error</th><th>rf_peak_time_1</th><th>rf_peak_time_1_error</th><th>radio_freq_2</th><th>peak_flux_freq_2</th><th>peak_flux_freq_2_error</th><th>peak_time_2</th><th>peak_time_2_error</th><th>rf_peak_time_2</th><th>rf_peak_time_2_error</th><th>radio_freq_3</th><th>peak_flux_freq_3</th><th>peak_flux_freq_3_error</th><th>peak_time_3</th><th>peak_time_3_error</th><th>rf_peak_time_3</th><th>rf_peak_time_3_error</th><th>radio_freq_4</th><th>peak_flux_freq_4</th><th>peak_flux_freq_4_error</th><th>peak_time_4</th><th>peak_time_4_error</th><th>rf_peak_time_4</th><th>rf_peak_time_4_error</th><th>radio_freq_5</th><th>peak_flux_freq_5</th><th>peak_flux_freq_5_error</th><th>peak_time_5</th><th>peak_time_5_error</th><th>rf_peak_time_5</th><th>rf_peak_time_5_error</th><th>radio_freq_6</th><th>peak_flux_freq_6</th><th>peak_flux_freq_6_error</th><th>peak_time_6</th><th>peak_time_6_error</th><th>rf_peak_time_6</th><th>rf_peak_time_6_error</th><th>__x_ra_dec</th><th>__y_ra_dec</th><th>__z_ra_dec</th></tr></thead>\n",
       "<thead><tr><th></th><th></th><th></th><th></th><th>deg</th><th>deg</th><th>deg</th><th>deg</th><th></th><th></th><th></th><th></th><th></th><th>s</th><th></th><th></th><th></th><th>erg / cm2</th><th>erg</th><th></th><th>erg/s/cm^2</th><th></th><th>microJy</th><th></th><th>d</th><th></th><th>1 / cm3</th><th></th><th></th><th>deg</th><th></th><th>erg</th><th></th><th>GHz</th><th>microJy</th><th>microJy</th><th>d</th><th>d</th><th>d</th><th>d</th><th>GHz</th><th>microJy</th><th>microJy</th><th>d</th><th>d</th><th>d</th><th>d</th><th>GHz</th><th>microJy</th><th>microJy</th><th>d</th><th>d</th><th>d</th><th>d</th><th>GHz</th><th>microJy</th><th>microJy</th><th>d</th><th>d</th><th>d</th><th>d</th><th>GHz</th><th>microJy</th><th>microJy</th><th>d</th><th>d</th><th>d</th><th>d</th><th>GHz</th><th>microJy</th><th>microJy</th><th>d</th><th>d</th><th>d</th><th>d</th><th></th><th></th><th></th></tr></thead>\n",
       "<thead><tr><th>object</th><th>object</th><th>object</th><th>object</th><th>float64</th><th>float64</th><th>float64</th><th>float64</th><th>object</th><th>object</th><th>object</th><th>object</th><th>object</th><th>float64</th><th>object</th><th>float64</th><th>float64</th><th>float64</th><th>float64</th><th>object</th><th>float64</th><th>object</th><th>float64</th><th>object</th><th>float64</th><th>object</th><th>float64</th><th>object</th><th>object</th><th>float64</th><th>object</th><th>float64</th><th>object</th><th>float64</th><th>int32</th><th>int16</th><th>float64</th><th>float64</th><th>float64</th><th>float64</th><th>float64</th><th>int32</th><th>int16</th><th>float64</th><th>float64</th><th>float64</th><th>float64</th><th>float64</th><th>int32</th><th>int16</th><th>float64</th><th>float64</th><th>float64</th><th>float64</th><th>float64</th><th>int32</th><th>int16</th><th>float64</th><th>float64</th><th>float64</th><th>float64</th><th>float64</th><th>int32</th><th>int16</th><th>float64</th><th>float64</th><th>float64</th><th>float64</th><th>float64</th><th>int32</th><th>int16</th><th>float64</th><th>float64</th><th>float64</th><th>float64</th><th>float64</th><th>float64</th><th>float64</th></tr></thead>\n",
       "<tr><td>1</td><td>GRB 020410</td><td></td><td>B</td><td>331.63279</td><td>-83.82453</td><td>307.71129</td><td>-31.69141</td><td>Y</td><td>Y</td><td>N</td><td>ATCA</td><td></td><td>1800.00</td><td></td><td>--</td><td>--</td><td>4.8e-06</td><td>--</td><td></td><td>7.78e-12</td><td>&lt;</td><td>34.30</td><td></td><td>--</td><td></td><td>--</td><td></td><td></td><td>--</td><td></td><td>--</td><td>13,[],[],[],37,37,[],[]</td><td>--</td><td>--</td><td>--</td><td>--</td><td>--</td><td>--</td><td>--</td><td>--</td><td>--</td><td>--</td><td>--</td><td>--</td><td>--</td><td>--</td><td>--</td><td>--</td><td>--</td><td>--</td><td>--</td><td>--</td><td>--</td><td>--</td><td>--</td><td>--</td><td>--</td><td>--</td><td>--</td><td>--</td><td>--</td><td>--</td><td>--</td><td>--</td><td>--</td><td>--</td><td>--</td><td>--</td><td>--</td><td>--</td><td>--</td><td>--</td><td>--</td><td>--</td><td>-0.0511105185385163</td><td>0.0946563709825235</td><td>-0.994197106376368</td></tr>\n",
       "<tr><td>2</td><td>GRB 020321</td><td></td><td>B</td><td>242.98642</td><td>-83.66592</td><td>308.20847</td><td>-22.97023</td><td>N</td><td>Y</td><td>N</td><td>ATCA</td><td></td><td>70.00</td><td></td><td>--</td><td>--</td><td>2e-06</td><td>--</td><td></td><td>--</td><td>&lt;</td><td>38.50</td><td></td><td>--</td><td></td><td>--</td><td></td><td></td><td>--</td><td></td><td>--</td><td>13,[],[],[],[],37,[],[]</td><td>--</td><td>--</td><td>--</td><td>--</td><td>--</td><td>--</td><td>--</td><td>--</td><td>--</td><td>--</td><td>--</td><td>--</td><td>--</td><td>--</td><td>--</td><td>--</td><td>--</td><td>--</td><td>--</td><td>--</td><td>--</td><td>--</td><td>--</td><td>--</td><td>--</td><td>--</td><td>--</td><td>--</td><td>--</td><td>--</td><td>--</td><td>--</td><td>--</td><td>--</td><td>--</td><td>--</td><td>--</td><td>--</td><td>--</td><td>--</td><td>--</td><td>--</td><td>-0.0982889216630923</td><td>-0.0501100617750167</td><td>-0.993895502347812</td></tr>\n",
       "<tr><td>3</td><td>GRB 071112B</td><td>o</td><td>S</td><td>260.21300</td><td>-80.88400</td><td>312.09416</td><td>-23.32409</td><td>N</td><td>N</td><td>N</td><td>ATCA</td><td></td><td>0.30</td><td></td><td>--</td><td>--</td><td>4.8e-08</td><td>--</td><td></td><td>--</td><td></td><td>--</td><td></td><td>--</td><td></td><td>--</td><td></td><td></td><td>--</td><td></td><td>--</td><td>32,[],46,32,[],[],[],[]</td><td>--</td><td>--</td><td>--</td><td>--</td><td>--</td><td>--</td><td>--</td><td>--</td><td>--</td><td>--</td><td>--</td><td>--</td><td>--</td><td>--</td><td>--</td><td>--</td><td>--</td><td>--</td><td>--</td><td>--</td><td>--</td><td>--</td><td>--</td><td>--</td><td>--</td><td>--</td><td>--</td><td>--</td><td>--</td><td>--</td><td>--</td><td>--</td><td>--</td><td>--</td><td>--</td><td>--</td><td>--</td><td>--</td><td>--</td><td>--</td><td>--</td><td>--</td><td>-0.156128031542483</td><td>-0.0269315139517957</td><td>-0.98736960218701</td></tr>\n",
       "<tr><td>4</td><td>GRB 990510</td><td></td><td>B</td><td>204.52958</td><td>-80.49667</td><td>304.94212</td><td>-17.80762</td><td>Y</td><td>Y</td><td>Y</td><td>ATCA</td><td></td><td>75.00</td><td></td><td>1.619</td><td>--</td><td>1.2e-05</td><td>1.78e+53</td><td></td><td>3.47e-12</td><td></td><td>181.90</td><td></td><td>1.200</td><td></td><td>0.290</td><td></td><td></td><td>3.36</td><td></td><td>3.06e+50</td><td>20,7,[],22,37,37,17,61</td><td>8.46</td><td>255</td><td>34</td><td>4.2</td><td>0.5</td><td>1.6</td><td>0.2</td><td>4.86</td><td>177</td><td>--</td><td>9.2</td><td>--</td><td>3.5</td><td>--</td><td>--</td><td>--</td><td>--</td><td>--</td><td>--</td><td>--</td><td>--</td><td>--</td><td>--</td><td>--</td><td>--</td><td>--</td><td>--</td><td>--</td><td>--</td><td>--</td><td>--</td><td>--</td><td>--</td><td>--</td><td>--</td><td>--</td><td>--</td><td>--</td><td>--</td><td>--</td><td>--</td><td>--</td><td>-0.0685454850527441</td><td>-0.150203770418467</td><td>-0.98627599779725</td></tr>\n",
       "<tr><td>5</td><td>GRB 990627</td><td></td><td>B</td><td>27.10583</td><td>-77.07722</td><td>298.83631</td><td>-39.59440</td><td>Y</td><td>N</td><td>N</td><td>ATCA</td><td></td><td>59.00</td><td></td><td>--</td><td>--</td><td>2.1e-06</td><td>--</td><td></td><td>3e-14</td><td></td><td>--</td><td></td><td>--</td><td></td><td>--</td><td></td><td></td><td>--</td><td></td><td>--</td><td>19,[],[],[],13,[],[],[]</td><td>--</td><td>--</td><td>--</td><td>--</td><td>--</td><td>--</td><td>--</td><td>--</td><td>--</td><td>--</td><td>--</td><td>--</td><td>--</td><td>--</td><td>--</td><td>--</td><td>--</td><td>--</td><td>--</td><td>--</td><td>--</td><td>--</td><td>--</td><td>--</td><td>--</td><td>--</td><td>--</td><td>--</td><td>--</td><td>--</td><td>--</td><td>--</td><td>--</td><td>--</td><td>--</td><td>--</td><td>--</td><td>--</td><td>--</td><td>--</td><td>--</td><td>--</td><td>0.101897243696458</td><td>0.199074692583951</td><td>-0.974672364694757</td></tr>\n",
       "<tr><td>6</td><td>GRB 011121</td><td>n</td><td>B</td><td>173.62375</td><td>-76.02833</td><td>298.23234</td><td>-13.86350</td><td>X</td><td>Y</td><td>Y</td><td>ATCA</td><td></td><td>105.00</td><td></td><td>0.362</td><td>--</td><td>6.7e-05</td><td>4.55e+52</td><td></td><td>--</td><td></td><td>261.10</td><td></td><td>1.300</td><td></td><td>1.000</td><td>i</td><td></td><td>6.12</td><td></td><td>2.6e+50</td><td>13,33,[],22,[],37,66,[]</td><td>8.70</td><td>655</td><td>40</td><td>8.1</td><td>0.7</td><td>5.9</td><td>0.5</td><td>4.80</td><td>510</td><td>--</td><td>6.9</td><td>--</td><td>5.1</td><td>--</td><td>--</td><td>--</td><td>--</td><td>--</td><td>--</td><td>--</td><td>--</td><td>--</td><td>--</td><td>--</td><td>--</td><td>--</td><td>--</td><td>--</td><td>--</td><td>--</td><td>--</td><td>--</td><td>--</td><td>--</td><td>--</td><td>--</td><td>--</td><td>--</td><td>--</td><td>--</td><td>--</td><td>--</td><td>0.0268138268572353</td><td>-0.23994849422267</td><td>-0.970415240404613</td></tr>\n",
       "<tr><td>7</td><td>GRB 990712</td><td>n</td><td>B</td><td>337.97083</td><td>-73.40778</td><td>315.27980</td><td>-40.20034</td><td>X</td><td>Y</td><td>N</td><td>ATCA</td><td></td><td>30.00</td><td></td><td>0.433</td><td>--</td><td>4.4e-06</td><td>6.72e+51</td><td></td><td>--</td><td></td><td>26.20</td><td>&gt;</td><td>47.700</td><td></td><td>1.000</td><td>i</td><td>&gt;</td><td>29.46</td><td>&gt;</td><td>8.89e+50</td><td>13,14,[],22,[],37,17,[]</td><td>--</td><td>--</td><td>--</td><td>--</td><td>--</td><td>--</td><td>--</td><td>--</td><td>--</td><td>--</td><td>--</td><td>--</td><td>--</td><td>--</td><td>--</td><td>--</td><td>--</td><td>--</td><td>--</td><td>--</td><td>--</td><td>--</td><td>--</td><td>--</td><td>--</td><td>--</td><td>--</td><td>--</td><td>--</td><td>--</td><td>--</td><td>--</td><td>--</td><td>--</td><td>--</td><td>--</td><td>--</td><td>--</td><td>--</td><td>--</td><td>--</td><td>--</td><td>-0.107106778381103</td><td>0.264710532798964</td><td>-0.958361347222492</td></tr>\n",
       "<tr><td>8</td><td>GRB 990705</td><td></td><td>B</td><td>77.47708</td><td>-72.13139</td><td>283.52934</td><td>-33.43881</td><td>Y</td><td>Y</td><td>N</td><td>ATCA</td><td></td><td>42.00</td><td></td><td>0.840</td><td>--</td><td>0.00028</td><td>1.82e+53</td><td></td><td>1.9e-13</td><td></td><td>13.00</td><td></td><td>1.000</td><td></td><td>1.000</td><td>i</td><td></td><td>4.17</td><td></td><td>4.82e+50</td><td>20,9,[],22,35,37,17,[]</td><td>--</td><td>--</td><td>--</td><td>--</td><td>--</td><td>--</td><td>--</td><td>--</td><td>--</td><td>--</td><td>--</td><td>--</td><td>--</td><td>--</td><td>--</td><td>--</td><td>--</td><td>--</td><td>--</td><td>--</td><td>--</td><td>--</td><td>--</td><td>--</td><td>--</td><td>--</td><td>--</td><td>--</td><td>--</td><td>--</td><td>--</td><td>--</td><td>--</td><td>--</td><td>--</td><td>--</td><td>--</td><td>--</td><td>--</td><td>--</td><td>--</td><td>--</td><td>0.299535443542703</td><td>0.066531114121275</td><td>-0.951762643160288</td></tr>\n",
       "<tr><td>9</td><td>GRB 970402</td><td></td><td>B</td><td>222.52500</td><td>-69.33333</td><td>313.11410</td><td>-8.84180</td><td>Y</td><td>N</td><td>N</td><td>ATCA</td><td></td><td>105.00</td><td></td><td>--</td><td>--</td><td>4.8e-06</td><td>--</td><td></td><td>1.4e-13</td><td></td><td>--</td><td></td><td>--</td><td></td><td>--</td><td></td><td></td><td>--</td><td></td><td>--</td><td>19,[],[],[],37,[],[],[]</td><td>--</td><td>--</td><td>--</td><td>--</td><td>--</td><td>--</td><td>--</td><td>--</td><td>--</td><td>--</td><td>--</td><td>--</td><td>--</td><td>--</td><td>--</td><td>--</td><td>--</td><td>--</td><td>--</td><td>--</td><td>--</td><td>--</td><td>--</td><td>--</td><td>--</td><td>--</td><td>--</td><td>--</td><td>--</td><td>--</td><td>--</td><td>--</td><td>--</td><td>--</td><td>--</td><td>--</td><td>--</td><td>--</td><td>--</td><td>--</td><td>--</td><td>--</td><td>-0.238549947855261</td><td>-0.260103644584088</td><td>-0.935649515818999</td></tr>\n",
       "<tr><td>10</td><td>GRB 980515</td><td></td><td>B</td><td>319.20417</td><td>-67.19667</td><td>326.49800</td><td>-38.66497</td><td>Y</td><td>N</td><td>N</td><td>ATCA</td><td></td><td>15.00</td><td></td><td>--</td><td>--</td><td>1.5e-06</td><td>--</td><td></td><td>5.6e-13</td><td></td><td>--</td><td></td><td>--</td><td></td><td>--</td><td></td><td></td><td>--</td><td></td><td>--</td><td>13,[],[],[],37,[],[],[]</td><td>--</td><td>--</td><td>--</td><td>--</td><td>--</td><td>--</td><td>--</td><td>--</td><td>--</td><td>--</td><td>--</td><td>--</td><td>--</td><td>--</td><td>--</td><td>--</td><td>--</td><td>--</td><td>--</td><td>--</td><td>--</td><td>--</td><td>--</td><td>--</td><td>--</td><td>--</td><td>--</td><td>--</td><td>--</td><td>--</td><td>--</td><td>--</td><td>--</td><td>--</td><td>--</td><td>--</td><td>--</td><td>--</td><td>--</td><td>--</td><td>--</td><td>--</td><td>-0.253224375767687</td><td>0.29340639720771</td><td>-0.92184060530802</td></tr>\n",
       "</table></div>"
      ],
      "text/plain": [
       "<Table length=10>\n",
       "__row      name    source_flag ...      __y_ra_dec         __z_ra_dec    \n",
       "                               ...                                       \n",
       "object    object      object   ...       float64            float64      \n",
       "------ ----------- ----------- ... ------------------- ------------------\n",
       "     1  GRB 020410             ...  0.0946563709825235 -0.994197106376368\n",
       "     2  GRB 020321             ... -0.0501100617750167 -0.993895502347812\n",
       "     3 GRB 071112B           o ... -0.0269315139517957  -0.98736960218701\n",
       "     4  GRB 990510             ...  -0.150203770418467  -0.98627599779725\n",
       "     5  GRB 990627             ...   0.199074692583951 -0.974672364694757\n",
       "     6  GRB 011121           n ...   -0.23994849422267 -0.970415240404613\n",
       "     7  GRB 990712           n ...   0.264710532798964 -0.958361347222492\n",
       "     8  GRB 990705             ...   0.066531114121275 -0.951762643160288\n",
       "     9  GRB 970402             ...  -0.260103644584088 -0.935649515818999\n",
       "    10  GRB 980515             ...    0.29340639720771  -0.92184060530802"
      ]
     },
     "execution_count": 39,
     "metadata": {},
     "output_type": "execute_result"
    }
   ],
   "source": [
    "rssgrbag = tap_heasarc.search(\"select * from rssgrbag\").to_table()\n",
    "rssgrbag"
   ]
  },
  {
   "cell_type": "markdown",
   "metadata": {},
   "source": [
    "Let's inspect the result. We find that the is no time information about when the burst was observed. What a pain! Let's still add it to the `ipyaladin` view to compare it to SIMBAD's result and we'll make a more precise query to the VO registry in the next part."
   ]
  },
  {
   "cell_type": "code",
   "execution_count": 44,
   "metadata": {},
   "outputs": [],
   "source": [
    "aladin.add_table(rssgrbag, color=\"blue\", shape=\"circle\", source_size=17)"
   ]
  },
  {
   "cell_type": "markdown",
   "metadata": {},
   "source": [
    "#### The UCD standard\n",
    "\n",
    "We can actually add a constraint on the content of the columns in a registry search. This uses an other VO standard: the Unified Content Descriptor (UCD). You can get the UCD corresponding to a word on the [UCD Builder page](https://cds.unistra.fr//UCD/cgi-bin/descr2ucd). Here if we enter `time` we get the suggestion to use `time.epoch` as an UCD. Let's try that in the registry.\n",
    "\n",
    "We already had constraints `waveband_constraint`, ``"
   ]
  },
  {
   "cell_type": "markdown",
   "metadata": {},
   "source": [
    "To know wether some of these events have been observed at the time the XMM telescope was observing, let's use a Space-Time MOC (STMOC).\n",
    "\n",
    "## Space-Time MOCs\n",
    "\n",
    "# Explain MOCs and STMOCs here"
   ]
  },
  {
   "cell_type": "markdown",
   "metadata": {},
   "source": [
    " Let's see how we can filter them automatically.\n",
    "\n",
    "To do so, we will use VizieR's TAP service.\n",
    "\n",
    "#### VizieR's TAP service\n",
    "\n",
    "The URL can be found on [VizieR's pages](https://vizier.unistra.fr/) under `Other related services` in the middle of the page. "
   ]
  },
  {
   "cell_type": "code",
   "execution_count": null,
   "metadata": {},
   "outputs": [],
   "source": [
    "tap_vizier = pyvo.dal.TAPService(\"https://tapvizier.cds.unistra.fr/TAPVizieR/tap\")"
   ]
  },
  {
   "cell_type": "markdown",
   "metadata": {},
   "source": [
    "VizieR is **huge**. Let's count its tables with the generic table `tables`"
   ]
  },
  {
   "cell_type": "code",
   "execution_count": null,
   "metadata": {},
   "outputs": [],
   "source": [
    "tap_vizier.search(\"SELECT COUNT(*) FROM tables\").to_table()"
   ]
  },
  {
   "cell_type": "markdown",
   "metadata": {},
   "source": [
    "There are currently 57893 tables in VizieR. Wait wait... This is way bigger than the number of cataloges that is printed under `key numbers` in [CDS's webpages](https://cds.unistra.fr/).\n",
    "\n",
    "This is because VizieR counts `catalogs` that correspond to published articles, while the `tables` that we just counted thanks to TAP are *comprised* in these catalogs.\n",
    "\n",
    "To help navigate its tables, VizieR has more meta data tables than what is mandatory in TAP services. These additional descriptive tables are called `metaviz` and can be retrieved with:"
   ]
  },
  {
   "cell_type": "code",
   "execution_count": null,
   "metadata": {},
   "outputs": [],
   "source": [
    "# access to vizier metadata\n",
    "result = tap_vizier.search(\"select * from TAP_SCHEMA.tables where schema_name = 'metaviz'\").to_table()\n",
    "result.pprint_all()"
   ]
  },
  {
   "cell_type": "code",
   "execution_count": null,
   "metadata": {},
   "outputs": [],
   "source": [
    "Here, we can read that one of the tables describes "
   ]
  },
  {
   "cell_type": "code",
   "execution_count": null,
   "metadata": {},
   "outputs": [],
   "source": [
    "metacatcols = tap_vizier.search(\"select * from columns where table_name = 'METAcat'\").to_table()\n",
    "metacatcols"
   ]
  },
  {
   "cell_type": "code",
   "execution_count": null,
   "metadata": {},
   "outputs": [],
   "source": [
    "To do \n",
    "\n",
    "Using this service, we can easily access the log of observations XMM-NEWTON & Fermi.  This allows us to obtain important information that can find specific observations that match certain criteria, such as time of observation, celestial coordinates, target name, or observation ID. Such observation logs often contain information about the data quality, data availability, cross-matching catalogues and much more."
   ]
  },
  {
   "cell_type": "code",
   "execution_count": null,
   "metadata": {},
   "outputs": [],
   "source": [
    "# catalogs are in metacat\n",
    "xmm_DR13 = tap_vizier.search(\"\"\"select top 1 * from METAcat\n",
    "                  where title like '%XMM%' and title like'%DR13%'\n",
    "                  \"\"\").to_table()\n",
    "xmm_DR13"
   ]
  },
  {
   "cell_type": "code",
   "execution_count": null,
   "metadata": {},
   "outputs": [],
   "source": [
    "#Vizier.find_catalogs([\"xmm\", \"log\"])"
   ]
  },
  {
   "cell_type": "code",
   "execution_count": null,
   "metadata": {},
   "outputs": [],
   "source": [
    "# tables are in metatab\n",
    "xmm_DR13_tables = tap_vizier.search(\n",
    "    \"\"\"select * from METAtab\n",
    "    where catid = 9069\n",
    "    \"\"\"\n",
    ").to_table()\n",
    "xmm_DR13_tables"
   ]
  },
  {
   "cell_type": "code",
   "execution_count": null,
   "metadata": {},
   "outputs": [],
   "source": [
    "# retrieve the whole xmmlog table\n",
    "xmmlog = tap_vizier.search('select * from \"IX/69/summary\"').to_table()\n",
    "xmmlog\n"
   ]
  },
  {
   "cell_type": "code",
   "execution_count": null,
   "metadata": {},
   "outputs": [],
   "source": [
    "len(xmmlog)"
   ]
  },
  {
   "cell_type": "code",
   "execution_count": null,
   "metadata": {},
   "outputs": [],
   "source": [
    "for column in xmmlog.colnames:\n",
    "    print(column, \":\", xmmlog[column].description)"
   ]
  },
  {
   "cell_type": "code",
   "execution_count": null,
   "metadata": {},
   "outputs": [],
   "source": [
    "aladin.add_table(xmmlog, color=\"lightpink\")\n",
    "\n",
    "# I get an error - TypeError: add_table() got an unexpected keyword argument 'color'"
   ]
  },
  {
   "cell_type": "markdown",
   "metadata": {},
   "source": [
    "Now chose a source and use the simbad tool"
   ]
  },
  {
   "cell_type": "markdown",
   "metadata": {},
   "source": [
    "## Now build the STMOC"
   ]
  },
  {
   "cell_type": "markdown",
   "metadata": {},
   "source": [
    "# \n",
    "STMOCs are useful for identifying temporal and spatial overlaps between different astronomical catalogs, which is particularly useful for studying GRBs. Since GRBs are transient events that can be observed across multiple wavelengths.\n",
    "\n",
    "Using STMOCs can:\n",
    "- Help in identifying overlaps between different observations from different instruments which can aid in confirming GRB detections.\n",
    "- Help in obtaing information from different instruments and to perform various physical studies such as GRB light curves, spectra, and afterglows, leading to better modeling of the underlying physical processes.\n",
    "- Help in pinpointing the exact sky regions where GRBs were observed, aiding in follow-up observations with other telescopes.\n",
    "- Help in cross-matching process that can lead to statiscal studies of GRB populations.\n"
   ]
  },
  {
   "cell_type": "markdown",
   "metadata": {},
   "source": [
    "#\n",
    "To proceed we can use tap service to understand the structure and content of time-related data in the catalog."
   ]
  },
  {
   "cell_type": "code",
   "execution_count": null,
   "metadata": {},
   "outputs": [],
   "source": [
    "# information on time is in metatime\n",
    "time_columns = tap_vizier.search(\"select * from columns where table_name='METAtime'\")\n",
    "time_columns"
   ]
  },
  {
   "cell_type": "code",
   "execution_count": null,
   "metadata": {},
   "outputs": [],
   "source": [
    "# lets get metatime for the second table (catid=2) of the catalog (catid=9096)\n",
    "xmm_DR13_tables = tap_vizier.search(\n",
    "    \"\"\"select * from METAtime JOIN METAcol\n",
    "    on METAtime.catid = METAcol.catid\n",
    "    and METAcol.colid = METAtime.colid\n",
    "    and METAcol.tabid = METAtime.tabid\n",
    "    where METAcol.catid = 9069 and METAcol.tabid = 2\n",
    "    \"\"\"\n",
    ").to_table()\n",
    "xmm_DR13_tables"
   ]
  },
  {
   "cell_type": "markdown",
   "metadata": {},
   "source": [
    "# \n",
    "STMOCs can handle only specific format of time. Hence, we convert Modified Julian Date (MJD) columns to Astropy Time objects for easier manipulation and consistency."
   ]
  },
  {
   "cell_type": "code",
   "execution_count": null,
   "metadata": {},
   "outputs": [],
   "source": [
    "# TODO here check the time scale in the catalog ('tai', 'tcb', 'tcg', 'tdb', 'tt', 'ut1', 'utc', 'local')\n",
    "# got help from Laurent https://xmm-tools.cosmos.esa.int/external/xmm_user_support/documentation/uhb/reftime.html\n",
    "xmmlog[\"start_obs\"] = Time(xmmlog[\"MJD0\"], format='mjd', scale=\"tt\")\n",
    "xmmlog[\"end_obs\"] = Time(xmmlog[\"MJD1\"], format='mjd', scale=\"tt\")\n",
    "xmmlog"
   ]
  },
  {
   "cell_type": "markdown",
   "metadata": {},
   "source": [
    "# \n",
    "To create STMOCs, it is very important to set the temporal and spatial resolution. \n",
    "We have chosen 0.5 days to account for daily varations in the GRB (???)\n",
    "We have chosen 1 degree as its adequate resoltion for identifying a GRB (???)"
   ]
  },
  {
   "cell_type": "code",
   "execution_count": null,
   "metadata": {},
   "outputs": [],
   "source": [
    "TimeMOC.time_resolution_to_order(TimeDelta(0.5, format=\"jd\")) # 0.5 days is order 26"
   ]
  },
  {
   "cell_type": "code",
   "execution_count": null,
   "metadata": {},
   "outputs": [],
   "source": [
    "MOC.spatial_resolution_to_order(Angle(\"1d\")) # 1 degrees is order 6"
   ]
  },
  {
   "cell_type": "code",
   "execution_count": null,
   "metadata": {},
   "outputs": [],
   "source": [
    "stmoc_xmm = STMOC.from_time_ranges_positions(\n",
    "    times_start=xmmlog[\"start_obs\"],\n",
    "    times_end=xmmlog[\"end_obs\"],\n",
    "    lon = Longitude(xmmlog[\"RAJ2000\"]),\n",
    "    lat = Latitude(xmmlog[\"DEJ2000\"]),\n",
    "    time_depth=26, spatial_depth=6\n",
    ")"
   ]
  },
  {
   "cell_type": "markdown",
   "metadata": {},
   "source": [
    "# \n",
    "Shown below are a series of plots that visualize the STMOCs maps of XMM-Newton observations for different time ranges. The plots show how the patial coverage of XMM-Newton observations changes over time. This is important for understanding the temporal distribution of GRB observations. Such plots can be useful in identifying overlapping observation periods with other instruments."
   ]
  },
  {
   "cell_type": "code",
   "execution_count": null,
   "metadata": {},
   "outputs": [],
   "source": [
    "def add_to_plot(fig, label, wcs, title, moc):\n",
    "    \"\"\"Add a MOC to a plot.\"\"\"\n",
    "    ax = fig.add_subplot(label, projection=wcs)\n",
    "\n",
    "    ax.grid(color=\"black\", linestyle=\"dotted\")\n",
    "    ax.set_title(title)\n",
    "    ax.set_xlabel(\"lon\")\n",
    "    ax.set_ylabel(\"lat\")\n",
    "\n",
    "    moc.fill(ax=ax, wcs=wcs, alpha=0.9, fill=True, linewidth=0, color=\"#00bb00\")\n",
    "    # moc.border(ax=ax, wcs=wcs, linewidth=1, color=\"green\")\n",
    "\n",
    "\n",
    "fig = plt.figure(figsize=(10, 10))\n",
    "\n",
    "time_ranges = Time(\n",
    "    [\n",
    "        [[\"2000-01-01\", \"2005-01-01\"]],\n",
    "        [[\"2005-01-01\", \"2010-01-01\"]],\n",
    "        [[\"2010-01-01\", \"2015-01-01\"]],\n",
    "        [[\"2015-01-01\", \"2020-01-01\"]],\n",
    "    ],\n",
    "    format=\"iso\",\n",
    "    scale=\"tdb\",\n",
    "    out_subfmt=\"date\",\n",
    ")\n",
    "with WCS(\n",
    "    fig,\n",
    "    fov=330 * u.deg,\n",
    "    center=SkyCoord(0, 0, unit=\"deg\", frame=\"galactic\"),\n",
    "    coordsys=\"galactic\",\n",
    "    rotation=Angle(0, u.degree),\n",
    "    projection=\"AIT\",\n",
    ") as wcs:\n",
    "    for i in range(0, 4):\n",
    "        tmoc = TimeMOC.from_time_ranges(\n",
    "            min_times=time_ranges[i][0, 0],\n",
    "            max_times=time_ranges[i][0, 1],\n",
    "            delta_t=TimeDelta(0.5, scale=\"tdb\", format=\"jd\"),\n",
    "        )\n",
    "\n",
    "        moc_2mass = stmoc_xmm.query_by_time(tmoc)\n",
    "        title = \"XMM observations between \\n{} and {}\".format(\n",
    "            time_ranges[i][0, 0].iso,\n",
    "            time_ranges[i][0, 1].iso,\n",
    "        )\n",
    "        id_subplot = int(\"22\" + str(i + 1))\n",
    "        add_to_plot(fig, id_subplot, wcs, title, moc_2mass)\n",
    "\n",
    "plt.show()"
   ]
  },
  {
   "cell_type": "markdown",
   "metadata": {},
   "source": [
    "## Now fermi grb"
   ]
  },
  {
   "cell_type": "markdown",
   "metadata": {},
   "source": [
    "#\n",
    "The same process can be repeated for Fermi "
   ]
  },
  {
   "cell_type": "code",
   "execution_count": null,
   "metadata": {},
   "outputs": [],
   "source": [
    "fermi_grb_metacat = tap_vizier.search(\"\"\"select * from METAcat\n",
    "                              where title like '%Fermi%GRB%'\n",
    "                              \"\"\").to_table()\n",
    "fermi_grb_metacat\n"
   ]
  },
  {
   "cell_type": "code",
   "execution_count": null,
   "metadata": {},
   "outputs": [],
   "source": [
    "fermi_grb_catid = 18930046"
   ]
  },
  {
   "cell_type": "code",
   "execution_count": null,
   "metadata": {},
   "outputs": [],
   "source": [
    "fermi_grb_tables = tap_vizier.search(f\"\"\"select * from METAtab where catid={fermi_grb_catid}\n",
    "\"\"\").to_table()\n",
    "fermi_grb_tables"
   ]
  },
  {
   "cell_type": "code",
   "execution_count": null,
   "metadata": {},
   "outputs": [],
   "source": [
    "fermi_grb_triggers_columns = tap_vizier.search(\"\"\"select * from columns where table_name='J/ApJ/893/46/table4'\"\"\").to_table()\n",
    "fermi_grb_triggers_columns"
   ]
  },
  {
   "cell_type": "code",
   "execution_count": null,
   "metadata": {},
   "outputs": [],
   "source": [
    "fermi_grb_durations_columns = tap_vizier.search(\"\"\"select * from columns where table_name='J/ApJ/893/46/table5'\"\"\").to_table()\n",
    "fermi_grb_durations_columns"
   ]
  },
  {
   "cell_type": "code",
   "execution_count": null,
   "metadata": {},
   "outputs": [],
   "source": [
    "# lets get metatime for the trigger table (tabid=1)\n",
    "fermi_triggers_time_info = tap_vizier.search(\n",
    "    f\"\"\"select * from METAtime JOIN METAcol\n",
    "    on METAtime.catid = METAcol.catid\n",
    "    and METAcol.colid = METAtime.colid\n",
    "    and METAcol.tabid = METAtime.tabid\n",
    "    where METAcol.catid = {fermi_grb_catid} and METAcol.tabid = 1\n",
    "    \"\"\"\n",
    ").to_table()\n",
    "fermi_triggers_time_info\n"
   ]
  },
  {
   "cell_type": "code",
   "execution_count": null,
   "metadata": {},
   "outputs": [],
   "source": [
    "# let's query the joined tables (to get event start time and duration)\n",
    "fermi = tap_vizier.search(\n",
    "    \"\"\"select * from \"J/ApJ/893/46/table5\"\n",
    "    join \"J/ApJ/893/46/table4\" USING(Fermi)\n",
    "    \"\"\"\n",
    ").to_table()\n",
    "fermi"
   ]
  },
  {
   "cell_type": "code",
   "execution_count": null,
   "metadata": {},
   "outputs": [],
   "source": [
    "# we have to define a specific time for vizier \n",
    "\n",
    "from astropy.time.formats import erfa, TimeFromEpoch\n",
    "class TimeVizier(TimeFromEpoch):\n",
    "    name = \"viztime\"\n",
    "    unit = 1.0 / erfa.DAYSEC  # in days (1 day == 86400 seconds)\n",
    "    epoch_val = \"2000-01-01 00:00:00\"\n",
    "    epoch_val2 = None\n",
    "    epoch_scale = \"utc\"\n",
    "    epoch_format = \"iso\""
   ]
  },
  {
   "cell_type": "code",
   "execution_count": null,
   "metadata": {},
   "outputs": [],
   "source": [
    "fermi[\"start_time\"] = Time(fermi[\"Obs\"] - erfa.DAYSEC / 2., format=\"viztime\", scale=\"utc\")\n",
    "fermi[\"end_time\"] = Time(fermi[\"Obs\"] + erfa.DAYSEC / 2., format=\"viztime\", scale=\"utc\")\n",
    "fermi"
   ]
  },
  {
   "cell_type": "code",
   "execution_count": null,
   "metadata": {},
   "outputs": [],
   "source": [
    "stmoc_fermi = STMOC.from_time_ranges_positions(\n",
    "    times_start=fermi[\"start_time\"],\n",
    "    times_end=fermi[\"end_time\"],\n",
    "    lon = Longitude(fermi[\"RAJ2000\"]),\n",
    "    lat = Latitude(fermi[\"DEJ2000\"]),\n",
    "    time_depth=26, spatial_depth=5  # ask Ada why 5 here\n",
    ")"
   ]
  },
  {
   "cell_type": "markdown",
   "metadata": {},
   "source": [
    "# \n",
    "Now using the STMOC information for both XMM and Fermi, we can use intersection method to identify the common space-time regions covered by both Fermi and XMM-Newton observations. Additionally, all the events, that have been identified, are confirmed by two different telescopes, therefore we can know for certain that the GRBs identified are genuine. These give as output the time when both the telescopes with pointing at the same area of the sky. These come in handy specially for identifing simultaneous observations, which are crucial for multi-wavelength studies of transient events like Gamma-Ray Bursts (GRBs)."
   ]
  },
  {
   "cell_type": "code",
   "execution_count": null,
   "metadata": {},
   "outputs": [],
   "source": [
    "intersection = stmoc_fermi.intersection(stmoc_xmm)\n",
    "intersection"
   ]
  },
  {
   "cell_type": "markdown",
   "metadata": {},
   "source": [
    "# \n",
    "By now we have seen the power of using STMOCs to identifying transcients events such as GRBs. This method can also be applied for \n",
    "different astrophysical objects such as supernova remnants which emit at different wavelengths. STMOCs is a powerful tool which\n",
    "facilitates the identification of temporal and spatial overlaps, enabling comprehensive multi-wavelength analyses and efficient data management, ultimately advancing our understanding of the object\n",
    "of interest."
   ]
  },
  {
   "cell_type": "code",
   "execution_count": null,
   "metadata": {},
   "outputs": [],
   "source": [
    "hess = \"J/A+A/612/A3\"\n",
    "super_nova_remnant = \"RX J1713.7-3946\""
   ]
  },
  {
   "cell_type": "code",
   "execution_count": null,
   "metadata": {},
   "outputs": [],
   "source": [
    "from astroquery.simbad import Simbad"
   ]
  },
  {
   "cell_type": "code",
   "execution_count": null,
   "metadata": {},
   "outputs": [],
   "source": [
    "Simbad.query_object(\"RX J1713.7-3946\")"
   ]
  },
  {
   "cell_type": "code",
   "execution_count": null,
   "metadata": {},
   "outputs": [],
   "source": [
    "help(intersection.contains)"
   ]
  },
  {
   "cell_type": "code",
   "execution_count": null,
   "metadata": {},
   "outputs": [],
   "source": [
    "only_space = MOC.from_string(\"6/37910 16282 9576 17030 26013\")"
   ]
  },
  {
   "cell_type": "code",
   "execution_count": null,
   "metadata": {},
   "outputs": [],
   "source": [
    "from astropy.coordinates import Longitude, Latitude"
   ]
  },
  {
   "cell_type": "code",
   "execution_count": null,
   "metadata": {},
   "outputs": [],
   "source": [
    "only_space.contains_lonlat(lon=Longitude(\"17 12 27\", unit=\"deg\"), lat=Latitude(\"-39 41.2\", unit=\"deg\"))"
   ]
  },
  {
   "cell_type": "code",
   "execution_count": null,
   "metadata": {},
   "outputs": [],
   "source": [
    "only_space.query_vizier_table(\"J/A+A/612/A3\")"
   ]
  },
  {
   "cell_type": "code",
   "execution_count": null,
   "metadata": {},
   "outputs": [],
   "source": [
    "fermi_grbs_intersection = only_space.query_vizier_table(\"J/ApJ/893/46\")\n",
    "fermi_grbs_intersection"
   ]
  },
  {
   "cell_type": "code",
   "execution_count": null,
   "metadata": {},
   "outputs": [],
   "source": [
    "aladin.add_table(fermi_grbs_intersection, color=\"hotpink\", shape=\"cross\")"
   ]
  },
  {
   "cell_type": "code",
   "execution_count": null,
   "metadata": {},
   "outputs": [],
   "source": [
    "simbad = Simbad()\n",
    "simbad.add_votable_fields(\"flux\")"
   ]
  },
  {
   "cell_type": "code",
   "execution_count": null,
   "metadata": {},
   "outputs": [],
   "source": [
    "simbad_result = simbad.query_objects([f\"Fermi {id}\" for id in fermi_grbs_intersection[\"Fermi\"]])\n",
    "simbad_result"
   ]
  },
  {
   "cell_type": "code",
   "execution_count": null,
   "metadata": {},
   "outputs": [],
   "source": [
    "only_space.query_vizier_table(\"IX/69\")"
   ]
  },
  {
   "cell_type": "code",
   "execution_count": null,
   "metadata": {},
   "outputs": [],
   "source": []
  }
 ],
 "metadata": {
  "kernelspec": {
   "display_name": "Python 3 (ipykernel)",
   "language": "python",
   "name": "python3"
  },
  "language_info": {
   "codemirror_mode": {
    "name": "ipython",
    "version": 3
   },
   "file_extension": ".py",
   "mimetype": "text/x-python",
   "name": "python",
   "nbconvert_exporter": "python",
   "pygments_lexer": "ipython3",
   "version": "3.10.11"
  },
  "version_major": 2,
  "version_minor": 0,
  "widgets": {
   "application/vnd.jupyter.widget-state+json": {
    "state": {
     "50f9f8912a3f46daa048c87b573594eb": {
      "model_module": "anywidget",
      "model_module_version": "0.9.6",
      "model_name": "AnyModel",
      "state": {
       "_anywidget_id": "ipyaladin.widget.Aladin",
       "_css": ".cell-output-ipywidget-background{background:transparent}.jp-OutputArea-output,.aladin-widget{background-color:transparent}.aladin-widget .aladin-measurement-div{max-height:100px}\n/*# sourceMappingURL=data:application/json;base64,ewogICJ2ZXJzaW9uIjogMywKICAic291cmNlcyI6IFsiLi4vLi4vLi4vanMvd2lkZ2V0LmNzcyJdLAogICJzb3VyY2VzQ29udGVudCI6IFsiLmNlbGwtb3V0cHV0LWlweXdpZGdldC1iYWNrZ3JvdW5kIHtcbiAgYmFja2dyb3VuZDogdHJhbnNwYXJlbnQ7XG59XG4uanAtT3V0cHV0QXJlYS1vdXRwdXQge1xuICBiYWNrZ3JvdW5kLWNvbG9yOiB0cmFuc3BhcmVudDtcbn1cbi5hbGFkaW4td2lkZ2V0IHtcbiAgYmFja2dyb3VuZC1jb2xvcjogdHJhbnNwYXJlbnQ7XG59XG4uYWxhZGluLXdpZGdldCAuYWxhZGluLW1lYXN1cmVtZW50LWRpdiB7XG4gIG1heC1oZWlnaHQ6IDEwMHB4O1xufVxuIl0sCiAgIm1hcHBpbmdzIjogIkFBQUEsQ0FBQyxpQ0FDQyxXQUFZLFdBQ2QsQ0FDQSxDQUFDLHFCQUdELENBQUMsY0FGQyxpQkFBa0IsV0FDcEIsQ0FJQSxDQUhDLGNBR2MsQ0FBQyx1QkFDZCxXQUFZLEtBQ2QiLAogICJuYW1lcyI6IFtdCn0K */\n",
       "_esm": "function p(s){s.charAt(0)===\"_\"&&(s=s.slice(1));let e=s.split(\"_\");for(let o=1;o<e.length;o++)e[o]=e[o].charAt(0).toUpperCase()+e[o].slice(1);return e.join(\"\")}function h(s){let e={};for(let o in s)e[p(o)]=s[o];return e}var c=class{locked=!1;unlock(){this.locked=!1}lock(){this.locked=!0}};import u from\"https://esm.sh/aladin-lite@3.4.1-beta\";var l=u;var m=class{constructor(e){this.aladin=e}handleChangeFoV(e){this.aladin.setFoV(e.fov)}handleGotoRaDec(e){this.aladin.gotoRaDec(e.ra,e.dec)}handleAddCatalogFromURL(e){let o=h(e.options||{});this.aladin.addCatalog(l.catalogFromURL(e.votable_URL,o))}handleAddMOCFromURL(e){let o=h(e.options||{});this.aladin.addMOC(l.MOCFromURL(e.moc_URL,o))}handleAddMOCFromDict(e){let o=h(e.options||{});this.aladin.addMOC(l.MOCFromJSON(e.moc_dict,o))}handleAddOverlay(e){let o=e.regions_infos,n=h(e.graphic_options||{});n.color||(n.color=\"red\");let i=l.graphicOverlay(n);this.aladin.addOverlay(i);for(let t of o){let a=t.infos;switch(t.region_type){case\"stcs\":i.addFootprints(l.footprintsFromSTCS(a.stcs,t.options));break;case\"circle\":i.add(l.circle(a.ra,a.dec,a.radius,t.options));break;case\"ellipse\":i.add(l.ellipse(a.ra,a.dec,a.a,a.b,a.theta,t.options));break;case\"line\":i.add(l.line(a.ra1,a.dec1,a.ra2,a.dec2,t.options));break;case\"polygon\":i.add(l.polygon(a.vertices,t.options));break}}}handleChangeColormap(e){this.aladin.getBaseImageLayer().setColormap(e.colormap)}handleGetJPGThumbnail(){this.aladin.exportAsPNG()}handleTriggerRectangularSelection(){this.aladin.select()}handleAddTable(e,o){let n=h(e.options||{}),i=o[0].buffer,t=new TextDecoder(\"utf-8\"),a=new Blob([t.decode(i)]),r=URL.createObjectURL(a);l.catalogFromURL(r,Object.assign(n,{onClick:\"showTable\"}),d=>{this.aladin.addCatalog(d)},!1),URL.revokeObjectURL(r)}};var g=class{constructor(e,o,n){this.aladin=e,this.aladinDiv=o,this.model=n,this.messageHandler=new m(e)}subscribeAll(){let e=new c,o=new c;this.aladin.on(\"positionChanged\",t=>{if(o.locked){o.unlock();return}e.lock();let a=[t.ra,t.dec];this.model.set(\"_target\",`${a[0]} ${a[1]}`),this.model.save_changes()}),this.model.on(\"change:_target\",()=>{if(e.locked){e.unlock();return}o.lock();let t=this.model.get(\"_target\"),[a,r]=t.split(\" \");this.aladin.gotoRaDec(a,r)});let n=new c,i=new c;this.aladin.on(\"zoomChanged\",t=>{if(i.locked){i.unlock();return}n.lock(),this.model.set(\"_fov\",parseFloat(t.toFixed(5))),this.model.save_changes()}),this.model.on(\"change:_fov\",()=>{if(n.locked){n.unlock();return}i.lock();let t=this.model.get(\"_fov\");this.aladin.setFoV(t)}),this.model.on(\"change:height\",()=>{let t=this.model.get(\"height\");this.aladinDiv.style.height=`${t}px`}),this.aladin.on(\"objectHovered\",t=>{t.data!==void 0&&this.model.send({event_type:\"object_hovered\",content:{ra:t.ra,dec:t.dec}})}),this.aladin.on(\"objectClicked\",t=>{if(t){let a={ra:t.ra,dec:t.dec};t.data!==void 0&&(a.data=t.data),this.model.set(\"clicked_object\",a),this.model.send({event_type:\"object_clicked\",content:a}),this.model.save_changes()}}),this.aladin.on(\"click\",t=>{this.model.send({event_type:\"click\",content:t})}),this.aladin.on(\"select\",t=>{let a=[];t.forEach(r=>{r.forEach(d=>{a.push({ra:d.ra,dec:d.dec,data:d.data,x:d.x,y:d.y})})}),this.model.send({event_type:\"select\",content:a})}),this.model.on(\"change:coo_frame\",()=>{this.aladin.setFrame(this.model.get(\"coo_frame\"))}),this.model.on(\"change:survey\",()=>{this.aladin.setImageSurvey(this.model.get(\"survey\"))}),this.model.on(\"change:overlay_survey\",()=>{this.aladin.setOverlayImageLayer(this.model.get(\"overlay_survey\"))}),this.model.on(\"change:overlay_survey_opacity\",()=>{this.aladin.getOverlayImageLayer().setAlpha(this.model.get(\"overlay_survey_opacity\"))}),this.eventHandlers={change_fov:this.messageHandler.handleChangeFoV,goto_ra_dec:this.messageHandler.handleGotoRaDec,add_catalog_from_URL:this.messageHandler.handleAddCatalogFromURL,add_MOC_from_URL:this.messageHandler.handleAddMOCFromURL,add_MOC_from_dict:this.messageHandler.handleAddMOCFromDict,add_overlay:this.messageHandler.handleAddOverlay,change_colormap:this.messageHandler.handleChangeColormap,get_JPG_thumbnail:this.messageHandler.handleGetJPGThumbnail,trigger_rectangular_selection:this.messageHandler.handleTriggerRectangularSelection,add_table:this.messageHandler.handleAddTable},this.model.on(\"msg:custom\",(t,a)=>{let r=t.event_name,d=this.eventHandlers[r];if(d)d.call(this,t,a);else throw new Error(`Unknown event name: ${r}`)})}unsubscribeAll(){this.model.off(\"change:_target\"),this.model.off(\"change:_fov\"),this.model.off(\"change:height\"),this.model.off(\"change:coo_frame\"),this.model.off(\"change:survey\"),this.model.off(\"change:overlay_survey\"),this.model.off(\"change:overlay_survey_opacity\"),this.model.off(\"change:trigger_event\"),this.model.off(\"msg:custom\")}};var f=0;function v(s,e){let o={};s.get(\"init_options\").forEach(a=>{o[p(a)]=s.get(a)});let n=document.createElement(\"div\");n.classList.add(\"aladin-widget\"),n.style.height=`${o.height}px`,n.id=`aladin-lite-div-${f}`;let i=new l.aladin(n,o);f+=1;let t=o.target.split(\" \");return i.gotoRaDec(t[0],t[1]),e.appendChild(n),{aladin:i,aladinDiv:n}}async function _({model:s}){await l.init}function y({model:s,el:e}){let{aladin:o,aladinDiv:n}=v(s,e),i=new g(o,n,s);return i.subscribeAll(),()=>{i.unsubscribeAll()}}var G={initialize:_,render:y};export{G as default};\n//# sourceMappingURL=data:application/json;base64,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\n",
       "_fov": 131.55149,
       "_model_module": "anywidget",
       "_model_module_version": "0.9.6",
       "_model_name": "AnyModel",
       "_target": "56.91559427015197 62.450466030233365",
       "_view_module": "anywidget",
       "_view_module_version": "0.9.6",
       "_view_name": "AnyView",
       "background_color": "rgb(60, 60, 60)",
       "clicked_object": {},
       "coo_frame": "galactic",
       "full_screen": false,
       "grid_color": "rgb(178, 50, 178)",
       "grid_opacity": 0.5,
       "grid_options": {
        "color": {
         "b": 0.002737408688965782,
         "g": 0.0007689350249903883,
         "r": 0.002737408688965782
        },
        "enabled": false,
        "labelSize": 15,
        "opacity": 0.5,
        "showLabels": true,
        "thickness": 3
       },
       "height": 400,
       "init_options": [
        "_fov",
        "_target",
        "background_color",
        "coo_frame",
        "full_screen",
        "grid_color",
        "grid_opacity",
        "grid_options",
        "height",
        "overlay_survey",
        "overlay_survey_opacity",
        "projection",
        "reticle_color",
        "reticle_size",
        "samp",
        "show_catalog",
        "show_context_menu",
        "show_coo_grid",
        "show_coo_grid_control",
        "show_coo_location",
        "show_fov",
        "show_frame",
        "show_fullscreen_control",
        "show_layers_control",
        "show_overlay_stack_control",
        "show_projection_control",
        "show_reticle",
        "show_settings_control",
        "show_share_control",
        "show_simbad_pointer_control",
        "show_status_bar",
        "show_zoom_control",
        "survey"
       ],
       "layout": "IPY_MODEL_cfe23fa363af46749d555d26c6c2503a",
       "overlay_survey": "xcatdb/P/XMM/PN/color",
       "overlay_survey_opacity": 0.8,
       "projection": "SIN",
       "reticle_color": "rgb(178, 50, 178)",
       "reticle_size": 20,
       "samp": false,
       "show_catalog": true,
       "show_context_menu": true,
       "show_coo_grid": false,
       "show_coo_grid_control": true,
       "show_coo_location": true,
       "show_fov": true,
       "show_frame": true,
       "show_fullscreen_control": true,
       "show_layers_control": true,
       "show_overlay_stack_control": true,
       "show_projection_control": true,
       "show_reticle": true,
       "show_settings_control": true,
       "show_share_control": false,
       "show_simbad_pointer_control": true,
       "show_status_bar": true,
       "show_zoom_control": false,
       "survey": "CDS/P/Fermi/color"
      }
     },
     "cfe23fa363af46749d555d26c6c2503a": {
      "model_module": "@jupyter-widgets/base",
      "model_module_version": "2.0.0",
      "model_name": "LayoutModel",
      "state": {}
     }
    },
    "version_major": 2,
    "version_minor": 0
   }
  }
 },
 "nbformat": 4,
 "nbformat_minor": 4
}
