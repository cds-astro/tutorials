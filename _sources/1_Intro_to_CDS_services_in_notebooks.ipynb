{
 "cells": [
  {
   "attachments": {},
   "cell_type": "markdown",
   "id": "785ff88e",
   "metadata": {},
   "source": [
    "# CDS services in Jupyter notebooks\n",
    "\n",
    "Katarina A. Lutz¹, Manon Marchand¹\n",
    "\n",
    "1. Université de Strasbourg, CNRS, Observatoire Astronomique de Strasbourg, UMR 7550, F-67000, Strasbourg, France\n",
    "\n",
    "***\n",
    "\n",
    "\n",
    "\n",
    "## Introduction\n",
    "\n",
    "Welcome to a Jupyter notebook demonstrating how to access some of the services provided by the Strasbourg astronomical Data Center ([CDS](https://cdsweb.u-strasbg.fr/)) with Python.  \n",
    "\n",
    "In this tutorial, we will:\n",
    "1. gather information on a specific object using [![Simbad](https://custom-icon-badges.demolab.com/badge/Simbad-gray.svg?logo=simbad&logoColor=lightblue&logoWidth=20)](https://simbad.u-strasbg.fr/simbad/ \"https://simbad.u-strasbg.fr/simbad/\"), \n",
    "2. visualise it through survey images using the [![Aladin](https://custom-icon-badges.demolab.com/badge/Aladin-gray.svg?logo=aladin&logoColor=purple&logoWidth=20)](https://aladin.cds.unistra.fr/aladin.gml \"https://aladin.cds.unistra.fr/aladin.gml\") Lite widget, \n",
    "3. find and download a catalogue from [![Vizier](https://custom-icon-badges.demolab.com/badge/Vizier-gray.svg?logo=vizier&logoColor=orange&logoWidth=20)](https://vizier.cds.unistra.fr/viz-bin/VizieR \"https://vizier.cds.unistra.fr/viz-bin/VizieR\"),\n",
    "4. overlay the sources of this catalog on the sky view in the Aladin Lite widget, \n",
    "5. cross-match the sources with a large catalogue using [![Xmatch](https://custom-icon-badges.demolab.com/badge/Xmatch-gray.svg?logo=xmatch&logoColor=blue&logoWidth=20)](http://cdsxmatch.u-strasbg.fr/ \"http://cdsxmatch.u-strasbg.fr/\"). "
   ]
  },
  {
   "cell_type": "code",
   "execution_count": 1,
   "id": "614dd358",
   "metadata": {
    "tags": []
   },
   "outputs": [],
   "source": [
    "# Astronomy tools\n",
    "import astropy.units as u\n",
    "\n",
    "# Access astronomical databases\n",
    "from astroquery.simbad import Simbad\n",
    "from astroquery.vizier import Vizier\n",
    "from astroquery.xmatch import XMatch\n",
    "\n",
    "# Sky visualization\n",
    "from ipyaladin import Aladin"
   ]
  },
  {
   "cell_type": "markdown",
   "id": "8c88bd5c",
   "metadata": {},
   "source": [
    "## Step #1: Gather information on NGC4038 \n",
    "\n",
    "\n",
    "[![Simbad](https://custom-icon-badges.demolab.com/badge/Simbad-gray.svg?logo=simbad&logoColor=lightblue&logoWidth=20)](https://simbad.u-strasbg.fr/simbad/ \"https://simbad.u-strasbg.fr/simbad/\")\n",
    "\n",
    "\n",
    "As a first step, we check what information is directly available from the <ins>Simbad</ins> python module. Let's use the method `query_object` to gather information. Note that you can look at the methods available for the `Simbad` class with the `help(Simbad)` command:"
   ]
  },
  {
   "cell_type": "code",
   "execution_count": 2,
   "id": "73a813b7",
   "metadata": {
    "tags": [
     "output_scroll"
    ]
   },
   "outputs": [
    {
     "data": {
      "text/html": [
       "<div><i>Table length=1</i>\n",
       "<table id=\"table140352724770912\" class=\"table-striped table-bordered table-condensed\">\n",
       "<thead><tr><th>main_id</th><th>ra</th><th>dec</th><th>coo_err_maj</th><th>coo_err_min</th><th>coo_err_angle</th><th>coo_wavelength</th><th>coo_bibcode</th><th>matched_id</th></tr></thead>\n",
       "<thead><tr><th></th><th>deg</th><th>deg</th><th>mas</th><th>mas</th><th>deg</th><th></th><th></th><th></th></tr></thead>\n",
       "<thead><tr><th>object</th><th>float64</th><th>float64</th><th>float32</th><th>float32</th><th>int16</th><th>str1</th><th>object</th><th>object</th></tr></thead>\n",
       "<tr><td>NGC  4038</td><td>180.47084166666667</td><td>-18.86758888888889</td><td>--</td><td>--</td><td>--</td><td>I</td><td>2006AJ....131.1163S</td><td>NGC  4038</td></tr>\n",
       "</table></div>"
      ],
      "text/plain": [
       "<Table length=1>\n",
       " main_id          ra         ...     coo_bibcode     matched_id\n",
       "                 deg         ...                               \n",
       "  object       float64       ...        object         object  \n",
       "--------- ------------------ ... ------------------- ----------\n",
       "NGC  4038 180.47084166666667 ... 2006AJ....131.1163S  NGC  4038"
      ]
     },
     "execution_count": 2,
     "metadata": {},
     "output_type": "execute_result"
    }
   ],
   "source": [
    "Simbad.query_object(\"NGC4038\")"
   ]
  },
  {
   "cell_type": "markdown",
   "id": "9b5a4508",
   "metadata": {},
   "source": [
    "We get basic information, like the position of `NCG4038`. This search function can be personalized by adding fields to the response. Let's list the possible fields:"
   ]
  },
  {
   "cell_type": "code",
   "execution_count": 3,
   "id": "27b9aed4",
   "metadata": {
    "scrolled": true,
    "tags": [
     "output_scroll"
    ]
   },
   "outputs": [
    {
     "data": {
      "text/html": [
       "<div><i>Table length=116</i>\n",
       "<table id=\"table140352713521728\" class=\"table-striped table-bordered table-condensed\">\n",
       "<thead><tr><th>name</th><th>description</th><th>type</th></tr></thead>\n",
       "<thead><tr><th>object</th><th>object</th><th>object</th></tr></thead>\n",
       "<tr><td>mesDiameter</td><td>Collection of stellar diameters.</td><td>table</td></tr>\n",
       "<tr><td>mesPM</td><td>Collection of proper motions.</td><td>table</td></tr>\n",
       "<tr><td>mesISO</td><td>Infrared Space Observatory (ISO) observing log.</td><td>table</td></tr>\n",
       "<tr><td>mesSpT</td><td>Collection of spectral types.</td><td>table</td></tr>\n",
       "<tr><td>allfluxes</td><td>all flux/magnitudes U,B,V,I,J,H,K,u_,g_,r_,i_,z_</td><td>table</td></tr>\n",
       "<tr><td>ident</td><td>Identifiers of an astronomical object</td><td>table</td></tr>\n",
       "<tr><td>flux</td><td>Magnitude/Flux information about an astronomical object</td><td>table</td></tr>\n",
       "<tr><td>mesPLX</td><td>Collection of trigonometric parallaxes.</td><td>table</td></tr>\n",
       "<tr><td>otypedef</td><td>all names and definitions for the object types</td><td>table</td></tr>\n",
       "<tr><td>...</td><td>...</td><td>...</td></tr>\n",
       "<tr><td>K</td><td>Magnitude K</td><td>filter name</td></tr>\n",
       "<tr><td>u</td><td>Magnitude SDSS u</td><td>filter name</td></tr>\n",
       "<tr><td>g</td><td>Magnitude SDSS g</td><td>filter name</td></tr>\n",
       "<tr><td>r</td><td>Magnitude SDSS r</td><td>filter name</td></tr>\n",
       "<tr><td>i</td><td>Magnitude SDSS i</td><td>filter name</td></tr>\n",
       "<tr><td>z</td><td>Magnitude SDSS z</td><td>filter name</td></tr>\n",
       "<tr><td>G</td><td>Magnitude Gaia G</td><td>filter name</td></tr>\n",
       "<tr><td>F150W</td><td>JWST NIRCam F150W</td><td>filter name</td></tr>\n",
       "<tr><td>F200W</td><td>JWST NIRCam F200W</td><td>filter name</td></tr>\n",
       "<tr><td>F444W</td><td>JWST NIRCan F444W</td><td>filter name</td></tr>\n",
       "</table></div>"
      ],
      "text/plain": [
       "<Table length=116>\n",
       "    name                          description                           type   \n",
       "   object                            object                            object  \n",
       "----------- ------------------------------------------------------- -----------\n",
       "mesDiameter                        Collection of stellar diameters.       table\n",
       "      mesPM                           Collection of proper motions.       table\n",
       "     mesISO         Infrared Space Observatory (ISO) observing log.       table\n",
       "     mesSpT                           Collection of spectral types.       table\n",
       "  allfluxes        all flux/magnitudes U,B,V,I,J,H,K,u_,g_,r_,i_,z_       table\n",
       "      ident                   Identifiers of an astronomical object       table\n",
       "       flux Magnitude/Flux information about an astronomical object       table\n",
       "     mesPLX                 Collection of trigonometric parallaxes.       table\n",
       "   otypedef          all names and definitions for the object types       table\n",
       "        ...                                                     ...         ...\n",
       "          K                                             Magnitude K filter name\n",
       "          u                                        Magnitude SDSS u filter name\n",
       "          g                                        Magnitude SDSS g filter name\n",
       "          r                                        Magnitude SDSS r filter name\n",
       "          i                                        Magnitude SDSS i filter name\n",
       "          z                                        Magnitude SDSS z filter name\n",
       "          G                                        Magnitude Gaia G filter name\n",
       "      F150W                                       JWST NIRCam F150W filter name\n",
       "      F200W                                       JWST NIRCam F200W filter name\n",
       "      F444W                                       JWST NIRCan F444W filter name"
      ]
     },
     "execution_count": 3,
     "metadata": {},
     "output_type": "execute_result"
    }
   ],
   "source": [
    "fields = Simbad.list_votable_fields()\n",
    "fields"
   ]
  },
  {
   "cell_type": "markdown",
   "id": "6d515ef1",
   "metadata": {},
   "source": [
    "We get a list of the available fields we could add to the SIMBAD response."
   ]
  },
  {
   "cell_type": "code",
   "execution_count": 4,
   "id": "5d99af87",
   "metadata": {
    "tags": [
     "output_scroll"
    ]
   },
   "outputs": [
    {
     "data": {
      "text/html": [
       "<div><i>Table length=1</i>\n",
       "<table id=\"table140351959906352\" class=\"table-striped table-bordered table-condensed\">\n",
       "<thead><tr><th>main_id</th><th>ra</th><th>dec</th><th>coo_err_maj</th><th>coo_err_min</th><th>coo_err_angle</th><th>coo_wavelength</th><th>coo_bibcode</th><th>otype</th><th>otypes</th><th>galdim_majaxis_prec</th><th>galdim_majaxis</th><th>galdim_minaxis</th><th>galdim_qual</th><th>galdim_bibcode</th><th>galdim_wavelength</th><th>galdim_angle</th><th>galdim_minaxis_prec</th><th>matched_id</th></tr></thead>\n",
       "<thead><tr><th></th><th>deg</th><th>deg</th><th>mas</th><th>mas</th><th>deg</th><th></th><th></th><th></th><th></th><th></th><th>arcmin</th><th>arcmin</th><th></th><th></th><th></th><th>deg</th><th></th><th></th></tr></thead>\n",
       "<thead><tr><th>object</th><th>float64</th><th>float64</th><th>float32</th><th>float32</th><th>int16</th><th>str1</th><th>object</th><th>object</th><th>object</th><th>int16</th><th>float32</th><th>float32</th><th>str1</th><th>object</th><th>str1</th><th>int16</th><th>int16</th><th>object</th></tr></thead>\n",
       "<tr><td>NGC  4038</td><td>180.47084166666667</td><td>-18.86758888888889</td><td>--</td><td>--</td><td>--</td><td>I</td><td>2006AJ....131.1163S</td><td>EmG</td><td>AG?|EmG|G|GiP|HI|IG|PaG|Rad</td><td>1</td><td>5.2</td><td>3.1</td><td>D</td><td>2007ApJS..173..185G</td><td></td><td>80</td><td>1</td><td>NGC  4038</td></tr>\n",
       "</table></div>"
      ],
      "text/plain": [
       "<Table length=1>\n",
       " main_id          ra         ... galdim_minaxis_prec matched_id\n",
       "                 deg         ...                               \n",
       "  object       float64       ...        int16          object  \n",
       "--------- ------------------ ... ------------------- ----------\n",
       "NGC  4038 180.47084166666667 ...                   1  NGC  4038"
      ]
     },
     "execution_count": 4,
     "metadata": {},
     "output_type": "execute_result"
    }
   ],
   "source": [
    "simbad = Simbad()  # we create an instance that we can personalize\n",
    "simbad.add_votable_fields(\"otype\", \"alltypes\", \"dim\")\n",
    "info_simbad = simbad.query_object(\"NGC4038\")\n",
    "info_simbad"
   ]
  },
  {
   "cell_type": "markdown",
   "id": "e14c3821",
   "metadata": {},
   "source": [
    "We added the object type with the field `otype`. We now know the main object type of NGC4038: \"Emission line Galaxy\" `EmG`.\n",
    "\n",
    "We can also read the object dimensions, that we added with the field `dim`. (major axis `galdim_majaxis`, minor axis `galdim_minaxis`, inclination angle `galdim_angle`..., and the related bibliographic reference `galdim_bibcode` where the dimension information was extracted).\n",
    "\n",
    "We can also see the full list of object types attributed to NGC4038 in the past (ex: `HI` HI (21cm) Source, `G` Galaxy, `GiP` Galaxy in Pair, `Rad` Radio Source...). This comes from the fact that an object can have a lot of descriptions, a galaxy can very well also be a radio source. Sometimes, our understanding evolved with time and some of these former types won't be compatible. The descriptions and relations between object types can be explored on [Simbad's webpages](https://simbad.cds.unistra.fr/guide/otypes.htx).\n",
    "\n",
    "As we saw that NGC4038 is a galaxy in a pair, let's search for the second galaxy in the pair. Let's first identify the pair by looking into `NGC4038`'s parents:"
   ]
  },
  {
   "cell_type": "code",
   "execution_count": 5,
   "id": "ecf42ee9",
   "metadata": {
    "scrolled": true,
    "tags": [
     "output_scroll"
    ]
   },
   "outputs": [
    {
     "data": {
      "text/html": [
       "<div><i>Table length=4</i>\n",
       "<table id=\"table140351960084320\" class=\"table-striped table-bordered table-condensed\">\n",
       "<thead><tr><th>main_id</th><th>ra</th><th>dec</th><th>coo_err_maj</th><th>coo_err_min</th><th>coo_err_angle</th><th>coo_wavelength</th><th>coo_bibcode</th><th>otype</th></tr></thead>\n",
       "<thead><tr><th></th><th>deg</th><th>deg</th><th>mas</th><th>mas</th><th>deg</th><th></th><th></th><th></th></tr></thead>\n",
       "<thead><tr><th>object</th><th>float64</th><th>float64</th><th>float32</th><th>float32</th><th>int16</th><th>str1</th><th>object</th><th>object</th></tr></thead>\n",
       "<tr><td>NAME Antennae</td><td>180.47154166666667</td><td>-18.8772</td><td>--</td><td>--</td><td>--</td><td>I</td><td>2006AJ....131.1163S</td><td>IG</td></tr>\n",
       "<tr><td>NAME NGC 4038 Group</td><td>179.98833333333332</td><td>-19.2725</td><td>--</td><td>--</td><td>--</td><td>O</td><td>1993A&amp;AS..100...47G</td><td>GrG</td></tr>\n",
       "<tr><td>[T2015] nest 100219</td><td>179.8429</td><td>-18.9931</td><td>--</td><td>--</td><td>--</td><td>O</td><td>2015AJ....149..171T</td><td>GrG</td></tr>\n",
       "<tr><td>[TSK2008] 409</td><td>179.85802908705062</td><td>-19.40075160642234</td><td>--</td><td>--</td><td>--</td><td>O</td><td>2013AJ....146...86T</td><td>GrG</td></tr>\n",
       "</table></div>"
      ],
      "text/plain": [
       "<Table length=4>\n",
       "      main_id               ra         ...     coo_bibcode     otype \n",
       "                           deg         ...                           \n",
       "       object            float64       ...        object       object\n",
       "------------------- ------------------ ... ------------------- ------\n",
       "      NAME Antennae 180.47154166666667 ... 2006AJ....131.1163S     IG\n",
       "NAME NGC 4038 Group 179.98833333333332 ... 1993A&AS..100...47G    GrG\n",
       "[T2015] nest 100219           179.8429 ... 2015AJ....149..171T    GrG\n",
       "      [TSK2008] 409 179.85802908705062 ... 2013AJ....146...86T    GrG"
      ]
     },
     "execution_count": 5,
     "metadata": {},
     "output_type": "execute_result"
    }
   ],
   "source": [
    "simbad.reset_votable_fields()\n",
    "simbad.add_votable_fields(\"otype\")\n",
    "siblings = simbad.query_hierarchy(\"NGC4038\", hierarchy=\"parents\")\n",
    "siblings"
   ]
  },
  {
   "cell_type": "markdown",
   "id": "b274faa9",
   "metadata": {},
   "source": [
    "The Antennae Interacting Galaxies (of object type `IG`) ais the parent. Let's now look at its children. We also add a filter on the type of objects with the `criteria` argument in which we select any type of galaxies (that's the notation `G..`)"
   ]
  },
  {
   "cell_type": "code",
   "execution_count": 6,
   "id": "39549929",
   "metadata": {
    "tags": [
     "output_scroll"
    ]
   },
   "outputs": [
    {
     "data": {
      "text/html": [
       "<div><i>Table length=2</i>\n",
       "<table id=\"table140351960231104\" class=\"table-striped table-bordered table-condensed\">\n",
       "<thead><tr><th>main_id</th><th>ra</th><th>dec</th><th>coo_err_maj</th><th>coo_err_min</th><th>coo_err_angle</th><th>coo_wavelength</th><th>coo_bibcode</th><th>otype</th></tr></thead>\n",
       "<thead><tr><th></th><th>deg</th><th>deg</th><th>mas</th><th>mas</th><th>deg</th><th></th><th></th><th></th></tr></thead>\n",
       "<thead><tr><th>object</th><th>float64</th><th>float64</th><th>float32</th><th>float32</th><th>int16</th><th>str1</th><th>object</th><th>object</th></tr></thead>\n",
       "<tr><td>NGC  4038</td><td>180.47084166666667</td><td>-18.86758888888889</td><td>--</td><td>--</td><td>--</td><td>I</td><td>2006AJ....131.1163S</td><td>EmG</td></tr>\n",
       "<tr><td>NGC  4039</td><td>180.47295999999997</td><td>-18.88619</td><td>--</td><td>--</td><td>--</td><td>O</td><td>2020MNRAS.494.1784A</td><td>GiP</td></tr>\n",
       "</table></div>"
      ],
      "text/plain": [
       "<Table length=2>\n",
       " main_id          ra                dec         ...     coo_bibcode     otype \n",
       "                 deg                deg         ...                           \n",
       "  object       float64            float64       ...        object       object\n",
       "--------- ------------------ ------------------ ... ------------------- ------\n",
       "NGC  4038 180.47084166666667 -18.86758888888889 ... 2006AJ....131.1163S    EmG\n",
       "NGC  4039 180.47295999999997          -18.88619 ... 2020MNRAS.494.1784A    GiP"
      ]
     },
     "execution_count": 6,
     "metadata": {},
     "output_type": "execute_result"
    }
   ],
   "source": [
    "siblings = simbad.query_hierarchy(\n",
    "    \"Antennae\", hierarchy=\"children\", criteria=\"otype='G..'\"\n",
    ")\n",
    "siblings"
   ]
  },
  {
   "cell_type": "markdown",
   "id": "8fd74788",
   "metadata": {},
   "source": [
    "You can learn more on the features of the Simbad python module here: https://astroquery.readthedocs.io/en/latest/simbad/simbad.html\n",
    "\n",
    "and on the Simbad query criteria: http://simbad.cds.unistra.fr/simbad/sim-fsam"
   ]
  },
  {
   "cell_type": "markdown",
   "id": "83dcdad2",
   "metadata": {},
   "source": [
    "## Step #2: Visualise the source on a sky map\n",
    "\n",
    "[![Aladin](https://custom-icon-badges.demolab.com/badge/Aladin-gray.svg?logo=aladin&logoColor=purple&logoWidth=20)](https://aladin.cds.unistra.fr/aladin.gml \"https://aladin.cds.unistra.fr/aladin.gml\")\n",
    "\n",
    "We now open the [Aladin Lite widget](https://github.com/cds-astro/ipyaladin \"https://github.com/cds-astro/ipyaladin\"). We set it first to center on the Antennae galaxies, have a **field of view** of 0.5 $^\\circ$ and show color images from the Digitized Sky Survey ([DSS](https://archive.stsci.edu/cgi-bin/dss_form)). Typing `aladin` in the second line of code tells the notebook to display the widget. "
   ]
  },
  {
   "cell_type": "code",
   "execution_count": 7,
   "id": "1aa25b5d",
   "metadata": {},
   "outputs": [
    {
     "data": {
      "application/vnd.jupyter.widget-view+json": {
       "model_id": "3471285f69a3450a81b07e103f1582c9",
       "version_major": 2,
       "version_minor": 1
      },
      "text/plain": [
       "Aladin(survey='P/DSS2/color')"
      ]
     },
     "execution_count": 7,
     "metadata": {},
     "output_type": "execute_result"
    }
   ],
   "source": [
    "aladin = Aladin(target=\"Antennae\", fov=0.5, survey=\"P/DSS2/color\", height=600)\n",
    "aladin"
   ]
  },
  {
   "attachments": {},
   "cell_type": "markdown",
   "id": "e9b90cc9",
   "metadata": {},
   "source": [
    "As with any Aladin Lite implementation, you can interact with this widget. Try to:\n",
    " - scroll with your mouse pointer on the image to zoom in and out,  \n",
    " - select other image surveys and manage the current view with <img src=\"Data/images/ipyaladin_layer.png\" width=\"30\">\n",
    " - look at another target using the search field <img src=\"Data/images/ipyaladin_search.png\" width=\"30\">\n",
    " - find more information on something with the target tool <img src=\"Data/images/target.png\" width=\"30\">\n",
    " - do a right click to discover more tools\n",
    "\n",
    "You can also directly change the properties of the variable `aladin`. For example, to focus on M101 instead of the Antennae galaxies:"
   ]
  },
  {
   "cell_type": "code",
   "execution_count": 8,
   "id": "b554a762",
   "metadata": {},
   "outputs": [],
   "source": [
    "aladin.target = \"M101\""
   ]
  },
  {
   "cell_type": "markdown",
   "id": "497c34fe",
   "metadata": {},
   "source": [
    "Feel free to explore other targets and methods available for the Aladin widget."
   ]
  },
  {
   "cell_type": "markdown",
   "id": "c79ed516",
   "metadata": {},
   "source": [
    "## Step #3: Find and visualize additional data\n",
    "\n",
    "[![Aladin](https://custom-icon-badges.demolab.com/badge/Aladin-gray.svg?logo=aladin&logoColor=purple&logoWidth=20)](https://aladin.cds.unistra.fr/aladin.gml \"https://aladin.cds.unistra.fr/aladin.gml\")\n",
    "[![Simbad](https://custom-icon-badges.demolab.com/badge/Simbad-gray.svg?logo=simbad&logoColor=lightblue&logoWidth=20)](https://simbad.u-strasbg.fr/simbad/ \"https://simbad.u-strasbg.fr/simbad/\")\n",
    "[![Vizier](https://custom-icon-badges.demolab.com/badge/Vizier-gray.svg?logo=vizier&logoColor=orange&logoWidth=20)](https://vizier.cds.unistra.fr/viz-bin/VizieR \"https://vizier.cds.unistra.fr/viz-bin/VizieR\")\n",
    "\n",
    "We want to look for data related to HII regions in these interacting galaxies. We make a query in <ins>Simbad</ins> for HII regions within 14 arcmins around the Antennae galaxies. "
   ]
  },
  {
   "cell_type": "code",
   "execution_count": 9,
   "id": "5a32296b",
   "metadata": {
    "tags": [
     "output_scroll"
    ]
   },
   "outputs": [
    {
     "data": {
      "text/html": [
       "<div><i>Table length=317</i>\n",
       "<table id=\"table140351970719648\" class=\"table-striped table-bordered table-condensed\">\n",
       "<thead><tr><th>main_id</th><th>ra</th><th>dec</th><th>coo_err_maj</th><th>coo_err_min</th><th>coo_err_angle</th><th>coo_wavelength</th><th>coo_bibcode</th><th>otype</th><th>biblio</th></tr></thead>\n",
       "<thead><tr><th></th><th>deg</th><th>deg</th><th>mas</th><th>mas</th><th>deg</th><th></th><th></th><th></th><th></th></tr></thead>\n",
       "<thead><tr><th>object</th><th>float64</th><th>float64</th><th>float32</th><th>float32</th><th>int16</th><th>str1</th><th>object</th><th>object</th><th>object</th></tr></thead>\n",
       "<tr><td>[ZBF2015] Arp244  37</td><td>180.46375</td><td>-18.861833333333333</td><td>--</td><td>--</td><td>--</td><td>O</td><td>2014MNRAS.445.1412Z</td><td>HII</td><td>2014MNRAS.445.1412Z|2015MNRAS.451.1307Z</td></tr>\n",
       "<tr><td>[ZBF2015] Arp244 219</td><td>180.47833333333335</td><td>-18.878833333333336</td><td>--</td><td>--</td><td>--</td><td>O</td><td>2014MNRAS.445.1412Z</td><td>HII</td><td>2014MNRAS.445.1412Z|2015MNRAS.451.1307Z</td></tr>\n",
       "<tr><td>[ZBF2015] Arp244  80</td><td>180.47083333333333</td><td>-18.867638888888887</td><td>--</td><td>--</td><td>--</td><td>O</td><td>2014MNRAS.445.1412Z</td><td>HII</td><td>2014MNRAS.445.1412Z|2015MNRAS.451.1307Z</td></tr>\n",
       "<tr><td>[ZBF2015] Arp244  38</td><td>180.45875</td><td>-18.86958333333333</td><td>--</td><td>--</td><td>--</td><td>O</td><td>2014MNRAS.445.1412Z</td><td>HII</td><td>2014MNRAS.445.1412Z|2015MNRAS.451.1307Z</td></tr>\n",
       "<tr><td>[ZBF2015] Arp244 196</td><td>180.47625000000002</td><td>-18.86675</td><td>--</td><td>--</td><td>--</td><td>O</td><td>2014MNRAS.445.1412Z</td><td>HII</td><td>2014MNRAS.445.1412Z|2015MNRAS.451.1307Z</td></tr>\n",
       "<tr><td>[ZBF2015] Arp244 126</td><td>180.47750000000002</td><td>-18.86788888888889</td><td>--</td><td>--</td><td>--</td><td>O</td><td>2014MNRAS.445.1412Z</td><td>HII</td><td>2014MNRAS.445.1412Z|2015MNRAS.451.1307Z</td></tr>\n",
       "<tr><td>[ZBF2015] Arp244 149</td><td>180.46958333333336</td><td>-18.87183333333333</td><td>--</td><td>--</td><td>--</td><td>O</td><td>2014MNRAS.445.1412Z</td><td>HII</td><td>2014MNRAS.445.1412Z|2015MNRAS.451.1307Z</td></tr>\n",
       "<tr><td>[ZBF2015] Arp244 130</td><td>180.48250000000002</td><td>-18.885194444444444</td><td>--</td><td>--</td><td>--</td><td>O</td><td>2014MNRAS.445.1412Z</td><td>HII</td><td>2014MNRAS.445.1412Z|2015MNRAS.451.1307Z</td></tr>\n",
       "<tr><td>[ZBF2015] Arp244 232</td><td>180.4729166666667</td><td>-18.88447222222222</td><td>--</td><td>--</td><td>--</td><td>O</td><td>2014MNRAS.445.1412Z</td><td>HII</td><td>2014MNRAS.445.1412Z|2015MNRAS.451.1307Z</td></tr>\n",
       "<tr><td>...</td><td>...</td><td>...</td><td>...</td><td>...</td><td>...</td><td>...</td><td>...</td><td>...</td><td>...</td></tr>\n",
       "<tr><td>[ZFB2014] HII 230</td><td>180.48291666666665</td><td>-18.871583333333337</td><td>--</td><td>--</td><td>--</td><td>O</td><td>2014MNRAS.445.1412Z</td><td>HII</td><td>2014MNRAS.445.1412Z</td></tr>\n",
       "<tr><td>[ZBF2015] Arp244  48</td><td>180.48291666666665</td><td>-18.881277777777775</td><td>--</td><td>--</td><td>--</td><td>O</td><td>2014MNRAS.445.1412Z</td><td>HII</td><td>2014MNRAS.445.1412Z|2015MNRAS.451.1307Z</td></tr>\n",
       "<tr><td>[ZFB2014] HII  89</td><td>180.465</td><td>-18.863111111111113</td><td>--</td><td>--</td><td>--</td><td>O</td><td>2014MNRAS.445.1412Z</td><td>HII</td><td>2014MNRAS.445.1412Z</td></tr>\n",
       "<tr><td>[ZBF2015] Arp244 174</td><td>180.4779166666667</td><td>-18.882</td><td>--</td><td>--</td><td>--</td><td>O</td><td>2014MNRAS.445.1412Z</td><td>HII</td><td>2014MNRAS.445.1412Z|2015MNRAS.451.1307Z</td></tr>\n",
       "<tr><td>[ZBF2015] Arp244 218</td><td>180.48041666666666</td><td>-18.88122222222222</td><td>--</td><td>--</td><td>--</td><td>O</td><td>2014MNRAS.445.1412Z</td><td>HII</td><td>2014MNRAS.445.1412Z|2015MNRAS.451.1307Z</td></tr>\n",
       "<tr><td>[ZBF2015] Arp244 251</td><td>180.47583333333336</td><td>-18.863777777777777</td><td>--</td><td>--</td><td>--</td><td>O</td><td>2014MNRAS.445.1412Z</td><td>HII</td><td>2014MNRAS.445.1412Z|2015MNRAS.451.1307Z</td></tr>\n",
       "<tr><td>[ZBF2015] Arp244 102</td><td>180.46375</td><td>-18.873944444444444</td><td>--</td><td>--</td><td>--</td><td>O</td><td>2014MNRAS.445.1412Z</td><td>HII</td><td>2014MNRAS.445.1412Z|2015MNRAS.451.1307Z</td></tr>\n",
       "<tr><td>[ZFB2014] HII 122</td><td>180.48333333333335</td><td>-18.87580555555556</td><td>--</td><td>--</td><td>--</td><td>O</td><td>2014MNRAS.445.1412Z</td><td>HII</td><td>2014MNRAS.445.1412Z</td></tr>\n",
       "<tr><td>[ZBF2015] Arp244 257</td><td>180.47416666666666</td><td>-18.885833333333334</td><td>--</td><td>--</td><td>--</td><td>O</td><td>2014MNRAS.445.1412Z</td><td>HII</td><td>2014MNRAS.445.1412Z|2015MNRAS.451.1307Z</td></tr>\n",
       "</table></div>"
      ],
      "text/plain": [
       "<Table length=317>\n",
       "      main_id        ...                  biblio                \n",
       "                     ...                                        \n",
       "       object        ...                  object                \n",
       "-------------------- ... ---------------------------------------\n",
       "[ZBF2015] Arp244  37 ... 2014MNRAS.445.1412Z|2015MNRAS.451.1307Z\n",
       "[ZBF2015] Arp244 219 ... 2014MNRAS.445.1412Z|2015MNRAS.451.1307Z\n",
       "[ZBF2015] Arp244  80 ... 2014MNRAS.445.1412Z|2015MNRAS.451.1307Z\n",
       "[ZBF2015] Arp244  38 ... 2014MNRAS.445.1412Z|2015MNRAS.451.1307Z\n",
       "[ZBF2015] Arp244 196 ... 2014MNRAS.445.1412Z|2015MNRAS.451.1307Z\n",
       "[ZBF2015] Arp244 126 ... 2014MNRAS.445.1412Z|2015MNRAS.451.1307Z\n",
       "[ZBF2015] Arp244 149 ... 2014MNRAS.445.1412Z|2015MNRAS.451.1307Z\n",
       "[ZBF2015] Arp244 130 ... 2014MNRAS.445.1412Z|2015MNRAS.451.1307Z\n",
       "[ZBF2015] Arp244 232 ... 2014MNRAS.445.1412Z|2015MNRAS.451.1307Z\n",
       "                 ... ...                                     ...\n",
       "   [ZFB2014] HII 230 ...                     2014MNRAS.445.1412Z\n",
       "[ZBF2015] Arp244  48 ... 2014MNRAS.445.1412Z|2015MNRAS.451.1307Z\n",
       "   [ZFB2014] HII  89 ...                     2014MNRAS.445.1412Z\n",
       "[ZBF2015] Arp244 174 ... 2014MNRAS.445.1412Z|2015MNRAS.451.1307Z\n",
       "[ZBF2015] Arp244 218 ... 2014MNRAS.445.1412Z|2015MNRAS.451.1307Z\n",
       "[ZBF2015] Arp244 251 ... 2014MNRAS.445.1412Z|2015MNRAS.451.1307Z\n",
       "[ZBF2015] Arp244 102 ... 2014MNRAS.445.1412Z|2015MNRAS.451.1307Z\n",
       "   [ZFB2014] HII 122 ...                     2014MNRAS.445.1412Z\n",
       "[ZBF2015] Arp244 257 ... 2014MNRAS.445.1412Z|2015MNRAS.451.1307Z"
      ]
     },
     "execution_count": 9,
     "metadata": {},
     "output_type": "execute_result"
    }
   ],
   "source": [
    "simbad.reset_votable_fields()\n",
    "# biblio contains the bibcodes of all papers where the SIMBAD team found the object\n",
    "simbad.add_votable_fields(\"otype\", \"biblio\")\n",
    "table_simbad = simbad.query_region(\"Antennae\", radius=\"14m\", criteria=\"otype='HII'\")\n",
    "table_simbad"
   ]
  },
  {
   "cell_type": "markdown",
   "id": "61958f83",
   "metadata": {},
   "source": [
    "Once we have identified a bibliographic reference of interest, we can search the corresponding catalogs on <ins>VizieR</ins>. Here, the Biblio column has quite some occurrences of the reference `'2015MNRAS.451.1307Z'`.\n",
    "\n",
    "Note that by default VizieR will only return 50 entries (as in the web interface). To get all sources, set `ROW_LIMIT=-1`.\n",
    "\n",
    "A good practice is to check first what data are available by querying only a subsample, then customize your Vizier query with the useful rows and columns before downloading the entire catalog."
   ]
  },
  {
   "cell_type": "code",
   "execution_count": 10,
   "id": "81ddc455",
   "metadata": {},
   "outputs": [
    {
     "data": {
      "text/plain": [
       "TableList with 2 tables:\n",
       "\t'0:J/MNRAS/451/1307/HIIreg' with 15 column(s) and 10 row(s) \n",
       "\t'1:J/MNRAS/451/1307/list' with 13 column(s) and 10 row(s) "
      ]
     },
     "execution_count": 10,
     "metadata": {},
     "output_type": "execute_result"
    }
   ],
   "source": [
    "cat_viz = Vizier(row_limit=10).get_catalogs(\"2015MNRAS.451.1307Z\")\n",
    "cat_viz"
   ]
  },
  {
   "attachments": {},
   "cell_type": "markdown",
   "id": "4b881442",
   "metadata": {},
   "source": [
    "In the example above, we see that 2 tables are associated with the reference `2015MNRAS.451.1307Z`: a table called 'HIIreg' accessible by the index [0] and a table called 'list' accessible by the index [1]. The number of rows has been fixed by the parameter `row_limit=10`.\n",
    "\n",
    "Let's check the 'HIIreg' table:"
   ]
  },
  {
   "cell_type": "code",
   "execution_count": 11,
   "id": "6a3b42d3",
   "metadata": {},
   "outputs": [
    {
     "data": {
      "text/plain": [
       "{'ID': 'J_MNRAS_451_1307_HIIreg',\n",
       " 'name': 'J/MNRAS/451/1307/HIIreg',\n",
       " 'description': 'Physical properties of the brightest HII regions in interacting galaxies (table A1) and isolated galaxies (table A2)'}"
      ]
     },
     "execution_count": 11,
     "metadata": {},
     "output_type": "execute_result"
    }
   ],
   "source": [
    "# print the metadata\n",
    "cat_viz[0].meta"
   ]
  },
  {
   "cell_type": "code",
   "execution_count": 12,
   "id": "f68b359a",
   "metadata": {
    "scrolled": true,
    "tags": [
     "output_scroll"
    ]
   },
   "outputs": [
    {
     "data": {
      "text/html": [
       "<div><i>Table length=10</i>\n",
       "<table id=\"table140352713521632\" class=\"table-striped table-bordered table-condensed\">\n",
       "<thead><tr><th>Seq</th><th>n_Name</th><th>Name</th><th>Nf</th><th>RAJ2000</th><th>DEJ2000</th><th>logLHa</th><th>R</th><th>logMHII</th><th>rhoHII</th><th>sigma</th><th>alpVir</th><th>EWHa</th><th>logAge</th><th>Simbad</th></tr></thead>\n",
       "<thead><tr><th></th><th></th><th></th><th></th><th></th><th></th><th>log(1e-07W)</th><th>pc</th><th>log(solMass)</th><th>solMass / pc3</th><th>km / s</th><th></th><th>0.1 nm</th><th>log(yr)</th><th></th></tr></thead>\n",
       "<thead><tr><th>int16</th><th>str3</th><th>str7</th><th>int16</th><th>str10</th><th>str11</th><th>float32</th><th>int16</th><th>float32</th><th>float32</th><th>float32</th><th>float32</th><th>float32</th><th>float32</th><th>str6</th></tr></thead>\n",
       "<tr><td>1</td><td>int</td><td>NGC2146</td><td>3</td><td>06 18 39.4</td><td>+78 21 18.2</td><td>39.040</td><td>114</td><td>5.90</td><td>0.1270</td><td>15.0</td><td>40.0</td><td>159.79</td><td>6.770</td><td>Simbad</td></tr>\n",
       "<tr><td>2</td><td>int</td><td>NGC2146</td><td>3</td><td>06 18 38.1</td><td>+78 21 26.8</td><td>38.830</td><td>116</td><td>5.80</td><td>0.0970</td><td>17.0</td><td>60.0</td><td>54.70</td><td>6.810</td><td>Simbad</td></tr>\n",
       "<tr><td>3</td><td>int</td><td>NGC2146</td><td>3</td><td>06 18 44.6</td><td>+78 21 50.6</td><td>38.590</td><td>142</td><td>5.80</td><td>0.0550</td><td>11.0</td><td>30.0</td><td>125.30</td><td>6.780</td><td>Simbad</td></tr>\n",
       "<tr><td>4</td><td>int</td><td>NGC2146</td><td>3</td><td>06 18 27.7</td><td>+78 22 21.0</td><td>38.470</td><td>155</td><td>5.81</td><td>0.0410</td><td>8.6</td><td>20.0</td><td>119.64</td><td>6.780</td><td>Simbad</td></tr>\n",
       "<tr><td>5</td><td>int</td><td>NGC2146</td><td>3</td><td>06 18 35.0</td><td>+78 21 28.0</td><td>38.440</td><td>124</td><td>5.65</td><td>0.0560</td><td>15.0</td><td>80.0</td><td>103.35</td><td>6.790</td><td>Simbad</td></tr>\n",
       "<tr><td>6</td><td>int</td><td>NGC2146</td><td>3</td><td>06 18 42.8</td><td>+78 21 58.1</td><td>38.410</td><td>136</td><td>5.70</td><td>0.0470</td><td>4.0</td><td>--</td><td>155.86</td><td>6.770</td><td>Simbad</td></tr>\n",
       "<tr><td>7</td><td>int</td><td>NGC2146</td><td>3</td><td>06 18 39.8</td><td>+78 21 22.5</td><td>38.350</td><td>81</td><td>5.30</td><td>0.0960</td><td>15.0</td><td>100.0</td><td>109.47</td><td>6.790</td><td>Simbad</td></tr>\n",
       "<tr><td>8</td><td>int</td><td>NGC2146</td><td>3</td><td>06 18 48.0</td><td>+78 21 43.3</td><td>38.320</td><td>144</td><td>5.69</td><td>0.0390</td><td>4.0</td><td>--</td><td>81.89</td><td>6.800</td><td>Simbad</td></tr>\n",
       "<tr><td>9</td><td>int</td><td>NGC2146</td><td>3</td><td>06 18 42.1</td><td>+78 21 12.0</td><td>38.310</td><td>94</td><td>5.40</td><td>0.0730</td><td>4.0</td><td>--</td><td>103.95</td><td>6.790</td><td>Simbad</td></tr>\n",
       "<tr><td>10</td><td>int</td><td>NGC2146</td><td>3</td><td>06 18 44.2</td><td>+78 21 00.9</td><td>38.300</td><td>96</td><td>5.40</td><td>0.0700</td><td>4.0</td><td>--</td><td>67.87</td><td>6.800</td><td>Simbad</td></tr>\n",
       "</table></div>"
      ],
      "text/plain": [
       "<Table length=10>\n",
       " Seq  n_Name   Name    Nf   RAJ2000   ...  sigma   alpVir   EWHa   logAge Simbad\n",
       "                                      ...  km / s          0.1 nm log(yr)       \n",
       "int16  str3    str7  int16   str10    ... float32 float32 float32 float32  str6 \n",
       "----- ------ ------- ----- ---------- ... ------- ------- ------- ------- ------\n",
       "    1    int NGC2146     3 06 18 39.4 ...    15.0    40.0  159.79   6.770 Simbad\n",
       "    2    int NGC2146     3 06 18 38.1 ...    17.0    60.0   54.70   6.810 Simbad\n",
       "    3    int NGC2146     3 06 18 44.6 ...    11.0    30.0  125.30   6.780 Simbad\n",
       "    4    int NGC2146     3 06 18 27.7 ...     8.6    20.0  119.64   6.780 Simbad\n",
       "    5    int NGC2146     3 06 18 35.0 ...    15.0    80.0  103.35   6.790 Simbad\n",
       "    6    int NGC2146     3 06 18 42.8 ...     4.0      --  155.86   6.770 Simbad\n",
       "    7    int NGC2146     3 06 18 39.8 ...    15.0   100.0  109.47   6.790 Simbad\n",
       "    8    int NGC2146     3 06 18 48.0 ...     4.0      --   81.89   6.800 Simbad\n",
       "    9    int NGC2146     3 06 18 42.1 ...     4.0      --  103.95   6.790 Simbad\n",
       "   10    int NGC2146     3 06 18 44.2 ...     4.0      --   67.87   6.800 Simbad"
      ]
     },
     "execution_count": 12,
     "metadata": {},
     "output_type": "execute_result"
    }
   ],
   "source": [
    "# print the table itself\n",
    "cat_viz[0]"
   ]
  },
  {
   "attachments": {},
   "cell_type": "markdown",
   "id": "a001606b",
   "metadata": {},
   "source": [
    "As for every function in python, we can call `help(Vizier)` in a code cell and run it to print the documentation. \n",
    "\n",
    "We won't do it here as it is quite long, but if we did, we could have read that `columns` should be a list, `column_filters` a dictionary, and `row_limits` is an int for which -1 means infinity. Now we can customize our VizieR query by selecting columns, filtering to keep only the interacting galaxies (`n_Name='int'`), and keeping only the first region for each galaxy (`Seq=1`, for visualization purposes)."
   ]
  },
  {
   "cell_type": "code",
   "execution_count": 13,
   "id": "8d3308b8",
   "metadata": {
    "tags": [
     "output_scroll"
    ]
   },
   "outputs": [
    {
     "data": {
      "text/html": [
       "<div><i>Table length=12</i>\n",
       "<table id=\"table140351959137024\" class=\"table-striped table-bordered table-condensed\">\n",
       "<thead><tr><th>Name</th><th>RAJ2000</th><th>DEJ2000</th><th>logLHa</th><th>R</th><th>sigma</th></tr></thead>\n",
       "<thead><tr><th></th><th></th><th></th><th>log(1e-07W)</th><th>pc</th><th>km / s</th></tr></thead>\n",
       "<thead><tr><th>str7</th><th>str10</th><th>str11</th><th>float32</th><th>int16</th><th>float32</th></tr></thead>\n",
       "<tr><td>NGC2146</td><td>06 18 39.4</td><td>+78 21 18.2</td><td>39.040</td><td>114</td><td>15.0</td></tr>\n",
       "<tr><td>Arp244</td><td>12 01 54.6</td><td>-18 53 03.1</td><td>40.200</td><td>280</td><td>32.8</td></tr>\n",
       "<tr><td>NGC520</td><td>01 24 33.3</td><td>+03 48 04.6</td><td>39.120</td><td>255</td><td>14.1</td></tr>\n",
       "<tr><td>UGC3995</td><td>07 44 09.2</td><td>+29 14 51.3</td><td>40.290</td><td>270</td><td>43.0</td></tr>\n",
       "<tr><td>NGC3788</td><td>11 39 41.4</td><td>+31 54 23.3</td><td>39.700</td><td>280</td><td>11.9</td></tr>\n",
       "<tr><td>NGC3786</td><td>11 39 45.1</td><td>+31 55 46.3</td><td>39.860</td><td>300</td><td>16.5</td></tr>\n",
       "<tr><td>NGC2782</td><td>09 14 05.3</td><td>+40 06 50.4</td><td>39.800</td><td>166</td><td>28.0</td></tr>\n",
       "<tr><td>NGC2993</td><td>09 45 48.3</td><td>-14 22 05.9</td><td>40.070</td><td>258</td><td>12.0</td></tr>\n",
       "<tr><td>NGC2992</td><td>09 45 41.9</td><td>-14 19 33.4</td><td>39.180</td><td>100</td><td>16.0</td></tr>\n",
       "<tr><td>NGC3991</td><td>11 57 31.7</td><td>+32 20 29.6</td><td>40.440</td><td>470</td><td>20.9</td></tr>\n",
       "<tr><td>Arp270</td><td>10 49 55.8</td><td>+32 59 28.0</td><td>40.220</td><td>229</td><td>20.4</td></tr>\n",
       "<tr><td>NGC3769</td><td>11 37 43.7</td><td>+47 53 24.4</td><td>38.310</td><td>66</td><td>4.0</td></tr>\n",
       "</table></div>"
      ],
      "text/plain": [
       "<Table length=12>\n",
       "  Name   RAJ2000     DEJ2000      logLHa     R    sigma \n",
       "                               log(1e-07W)   pc   km / s\n",
       "  str7    str10       str11      float32   int16 float32\n",
       "------- ---------- ----------- ----------- ----- -------\n",
       "NGC2146 06 18 39.4 +78 21 18.2      39.040   114    15.0\n",
       " Arp244 12 01 54.6 -18 53 03.1      40.200   280    32.8\n",
       " NGC520 01 24 33.3 +03 48 04.6      39.120   255    14.1\n",
       "UGC3995 07 44 09.2 +29 14 51.3      40.290   270    43.0\n",
       "NGC3788 11 39 41.4 +31 54 23.3      39.700   280    11.9\n",
       "NGC3786 11 39 45.1 +31 55 46.3      39.860   300    16.5\n",
       "NGC2782 09 14 05.3 +40 06 50.4      39.800   166    28.0\n",
       "NGC2993 09 45 48.3 -14 22 05.9      40.070   258    12.0\n",
       "NGC2992 09 45 41.9 -14 19 33.4      39.180   100    16.0\n",
       "NGC3991 11 57 31.7 +32 20 29.6      40.440   470    20.9\n",
       " Arp270 10 49 55.8 +32 59 28.0      40.220   229    20.4\n",
       "NGC3769 11 37 43.7 +47 53 24.4      38.310    66     4.0"
      ]
     },
     "execution_count": 13,
     "metadata": {},
     "output_type": "execute_result"
    }
   ],
   "source": [
    "cat_hii = Vizier(\n",
    "    columns=[\"Name\", \"RAJ2000\", \"DEJ2000\", \"logLHa\", \"R\", \"sigma\"],\n",
    "    column_filters={\"Seq\": \"==1\", \"n_Name\": \"int\"},\n",
    "    row_limit=-1,\n",
    ").get_catalogs(\"2015MNRAS.451.1307Z\")[0]\n",
    "cat_hii"
   ]
  },
  {
   "cell_type": "markdown",
   "id": "91e09bd7",
   "metadata": {},
   "source": [
    "We can also display the table on <ins>Aladin</ins>. \n",
    "We use `aladin.add_table`"
   ]
  },
  {
   "cell_type": "code",
   "execution_count": 14,
   "id": "b1649a7a",
   "metadata": {},
   "outputs": [],
   "source": [
    "aladin.add_table(cat_hii)"
   ]
  },
  {
   "cell_type": "markdown",
   "id": "cd7b2fb8",
   "metadata": {},
   "source": [
    "Go up to the <ins>Aladin Lite</ins> widget, zoom out to see all the sources, then rotate and zoom in to see the interacting galaxies. You can click on one source to display the information in the table. \n",
    "\n",
    "Change the view to the AllWISE Infrared survey, either in the widget:\n",
    "\n",
    "`Base image layer -> The Wide-field Infrared Survey Explorer` \n",
    "\n",
    "or in the command line below.\n",
    "\n",
    "You can find the list of available sky maps at https://aladin.u-strasbg.fr/hips/list"
   ]
  },
  {
   "cell_type": "code",
   "execution_count": 15,
   "id": "bef37a4f",
   "metadata": {},
   "outputs": [],
   "source": [
    "aladin.survey = \"P/allWISE/color\""
   ]
  },
  {
   "cell_type": "markdown",
   "id": "2f035030",
   "metadata": {},
   "source": [
    "If you want to overlay the survey instead of replacing it:\n",
    "\n",
    "`aladin.overlay_survey= 'P/allWISE/color'`\n",
    "\n",
    "`aladin.overlay_survey_opacity = 0.5`"
   ]
  },
  {
   "cell_type": "markdown",
   "id": "dc6c20f2",
   "metadata": {},
   "source": [
    "**Exercise:**\n",
    "\n",
    "Retrieve the second table from Zaragoza-Cardiel+, 2015 (2015MNRAS.451.1307Z) containing data related to the image fits files and try to answer the questions:\n",
    "- What are the typical sizes of the fits images?\n",
    "- What is the approximate resolution of the images? [arcsec/pix]"
   ]
  },
  {
   "cell_type": "code",
   "execution_count": 16,
   "id": "9c82126a",
   "metadata": {},
   "outputs": [],
   "source": [
    "# write your code here"
   ]
  },
  {
   "cell_type": "markdown",
   "id": "2395d384",
   "metadata": {},
   "source": [
    "## Step #5: Cross-match tables\n",
    "\n",
    "[![Vizier](https://custom-icon-badges.demolab.com/badge/Vizier-gray.svg?logo=vizier&logoColor=orange&logoWidth=20)](https://vizier.cds.unistra.fr/viz-bin/VizieR \"https://vizier.cds.unistra.fr/viz-bin/VizieR\")\n",
    "[![Xmatch](https://custom-icon-badges.demolab.com/badge/Xmatch-gray.svg?logo=xmatch&logoColor=blue&logoWidth=20)](http://cdsxmatch.u-strasbg.fr/ \"http://cdsxmatch.u-strasbg.fr/\")\n",
    "\n",
    "We have HII data for a sample of interacting galaxies. Since we are also interested in the infrared fluxes we search for the Wide-field Infrared Survey Explorer ([AllWISE](https://wise2.ipac.caltech.edu/docs/release/allwise/)) data release. \n",
    "\n",
    "We want to match the sources in J/MNRAS/451/1307/HIIreg with the AllWISE source catalog that contains 747 million objects!\n",
    "\n",
    "We use the <ins>X-Match</ins> python module for cross-identification of objects. It is particularly efficient and fast with very large catalogs, like AllWISE. All we need are the names of the catalogs, the names of the columns containing the coordinates of the sources, and the desired maximum distance for the match (optionally the area as well, otherwise all-sky is the default)."
   ]
  },
  {
   "cell_type": "code",
   "execution_count": 17,
   "id": "0c628188",
   "metadata": {},
   "outputs": [
    {
     "data": {
      "text/plain": [
       "TableList with 1 tables:\n",
       "\t'0:II/328/allwise' with 28 column(s) and 50 row(s) "
      ]
     },
     "execution_count": 17,
     "metadata": {},
     "output_type": "execute_result"
    }
   ],
   "source": [
    "# What is the AllWISE catalogue reference in VizieR?\n",
    "cat_allwise = Vizier.get_catalogs(\"AllWISE\")\n",
    "cat_allwise"
   ]
  },
  {
   "cell_type": "code",
   "execution_count": 18,
   "id": "01e608f6",
   "metadata": {
    "tags": [
     "output_scroll"
    ]
   },
   "outputs": [
    {
     "data": {
      "text/html": [
       "<div><i>Table length=1314</i>\n",
       "<table id=\"table140351960482016\" class=\"table-striped table-bordered table-condensed\">\n",
       "<thead><tr><th>angDist</th><th>_RAJ2000</th><th>_DEJ2000</th><th>recno</th><th>Seq</th><th>n_Name</th><th>Name</th><th>Nf</th><th>RAJ2000</th><th>DEJ2000</th><th>logLHa</th><th>R</th><th>logMHII</th><th>rhoHII</th><th>sigma</th><th>alpVir</th><th>EWHa</th><th>logAge</th><th>Simbad</th><th>AllWISE</th><th>RAJ20002</th><th>DEJ20002</th><th>eeMaj</th><th>eeMin</th><th>eePA</th><th>W1mag</th><th>W2mag</th><th>W3mag</th><th>W4mag</th><th>Jmag</th><th>Hmag</th><th>Kmag</th><th>e_W1mag</th><th>e_W2mag</th><th>e_W3mag</th><th>e_W4mag</th><th>e_Jmag</th><th>e_Hmag</th><th>e_Kmag</th><th>ID</th><th>ccf</th><th>ex</th><th>var</th><th>qph</th><th>pmRA</th><th>e_pmRA</th><th>pmDE</th><th>e_pmDE</th><th>d2M</th></tr></thead>\n",
       "<thead><tr><th>arcsec</th><th>deg</th><th>deg</th><th></th><th></th><th></th><th></th><th></th><th></th><th></th><th>log(1e-07W)</th><th>pc</th><th>log(solMass)</th><th>solMass.pc**-3</th><th>km / s</th><th></th><th>0.1 nm</th><th>log(yr)</th><th></th><th></th><th>deg</th><th>deg</th><th>arcsec</th><th>arcsec</th><th>deg</th><th>mag</th><th>mag</th><th>mag</th><th>mag</th><th>mag</th><th>mag</th><th>mag</th><th>mag</th><th>mag</th><th>mag</th><th>mag</th><th>mag</th><th>mag</th><th>mag</th><th></th><th></th><th></th><th></th><th></th><th></th><th></th><th></th><th></th><th></th></tr></thead>\n",
       "<thead><tr><th>float64</th><th>float64</th><th>float64</th><th>int32</th><th>int16</th><th>str3</th><th>str7</th><th>int16</th><th>str10</th><th>str11</th><th>float32</th><th>int16</th><th>float32</th><th>float32</th><th>float32</th><th>float32</th><th>float32</th><th>float32</th><th>object</th><th>str19</th><th>float64</th><th>float64</th><th>float32</th><th>float32</th><th>float32</th><th>float32</th><th>float32</th><th>float32</th><th>float32</th><th>float32</th><th>float32</th><th>float32</th><th>float32</th><th>float32</th><th>float32</th><th>float32</th><th>float32</th><th>float32</th><th>float32</th><th>int64</th><th>str4</th><th>str1</th><th>str4</th><th>str4</th><th>int32</th><th>int32</th><th>int32</th><th>int32</th><th>float32</th></tr></thead>\n",
       "<tr><td>9.439952</td><td>250.775</td><td>36.839056</td><td>1820</td><td>27</td><td>iso</td><td>NGC6207</td><td>0</td><td>16 43 06.0</td><td>+36 50 20.6</td><td>37.69</td><td>66</td><td>4.9</td><td>0.06</td><td>4.0</td><td>--</td><td>134.26</td><td>6.78</td><td>Simbad</td><td>J164305.83+365029.8</td><td>250.7743217</td><td>36.8416214</td><td>0.0374</td><td>0.0369</td><td>67.0</td><td>12.87</td><td>12.918</td><td>8.29</td><td>5.588</td><td>--</td><td>--</td><td>--</td><td>0.073</td><td>0.025</td><td>0.022</td><td>0.037</td><td>--</td><td>--</td><td>--</td><td>2499136301351044678</td><td>0000</td><td>3</td><td>3000</td><td>AAAA</td><td>10</td><td>40</td><td>359</td><td>42</td><td>--</td></tr>\n",
       "<tr><td>6.754932</td><td>250.767917</td><td>36.834944</td><td>1821</td><td>28</td><td>iso</td><td>NGC6207</td><td>0</td><td>16 43 04.3</td><td>+36 50 05.8</td><td>37.66</td><td>101</td><td>5.1</td><td>0.031</td><td>4.0</td><td>--</td><td>22.27</td><td>6.91</td><td>Simbad</td><td>J164303.76+365003.8</td><td>250.7656686</td><td>36.8344125</td><td>0.0212</td><td>0.0201</td><td>135.0</td><td>10.792</td><td>11.24</td><td>7.028</td><td>4.232</td><td>12.866</td><td>12.603</td><td>12.523</td><td>0.03</td><td>0.019</td><td>0.013</td><td>0.021</td><td>0.043</td><td>0.056</td><td>0.058</td><td>2499136301351044679</td><td>hd00</td><td>3</td><td>n9n3</td><td>AAAA</td><td>-929</td><td>25</td><td>-1205</td><td>26</td><td>0.458</td></tr>\n",
       "<tr><td>8.575258</td><td>250.767917</td><td>36.834944</td><td>1821</td><td>28</td><td>iso</td><td>NGC6207</td><td>0</td><td>16 43 04.3</td><td>+36 50 05.8</td><td>37.66</td><td>101</td><td>5.1</td><td>0.031</td><td>4.0</td><td>--</td><td>22.27</td><td>6.91</td><td>Simbad</td><td>J164303.79+364959.7</td><td>250.7658199</td><td>36.8332538</td><td>0.0379</td><td>0.0338</td><td>158.6</td><td>10.953</td><td>10.936</td><td>7.758</td><td>5.483</td><td>--</td><td>--</td><td>--</td><td>0.023</td><td>0.022</td><td>0.024</td><td>0.066</td><td>--</td><td>--</td><td>--</td><td>2499136301351044647</td><td>d0d0</td><td>5</td><td>3200</td><td>AAAA</td><td>113</td><td>31</td><td>484</td><td>32</td><td>--</td></tr>\n",
       "<tr><td>5.99581</td><td>250.76375</td><td>36.833083</td><td>1822</td><td>29</td><td>iso</td><td>NGC6207</td><td>0</td><td>16 43 03.3</td><td>+36 49 59.1</td><td>37.66</td><td>87</td><td>5.0</td><td>0.039</td><td>4.0</td><td>--</td><td>20.6</td><td>6.93</td><td>Simbad</td><td>J164303.79+364959.7</td><td>250.7658199</td><td>36.8332538</td><td>0.0379</td><td>0.0338</td><td>158.6</td><td>10.953</td><td>10.936</td><td>7.758</td><td>5.483</td><td>--</td><td>--</td><td>--</td><td>0.023</td><td>0.022</td><td>0.024</td><td>0.066</td><td>--</td><td>--</td><td>--</td><td>2499136301351044647</td><td>d0d0</td><td>5</td><td>3200</td><td>AAAA</td><td>113</td><td>31</td><td>484</td><td>32</td><td>--</td></tr>\n",
       "<tr><td>7.312318</td><td>250.76375</td><td>36.833083</td><td>1822</td><td>29</td><td>iso</td><td>NGC6207</td><td>0</td><td>16 43 03.3</td><td>+36 49 59.1</td><td>37.66</td><td>87</td><td>5.0</td><td>0.039</td><td>4.0</td><td>--</td><td>20.6</td><td>6.93</td><td>Simbad</td><td>J164303.76+365003.8</td><td>250.7656686</td><td>36.8344125</td><td>0.0212</td><td>0.0201</td><td>135.0</td><td>10.792</td><td>11.24</td><td>7.028</td><td>4.232</td><td>12.866</td><td>12.603</td><td>12.523</td><td>0.03</td><td>0.019</td><td>0.013</td><td>0.021</td><td>0.043</td><td>0.056</td><td>0.058</td><td>2499136301351044679</td><td>hd00</td><td>3</td><td>n9n3</td><td>AAAA</td><td>-929</td><td>25</td><td>-1205</td><td>26</td><td>0.458</td></tr>\n",
       "<tr><td>3.802161</td><td>250.766667</td><td>36.832444</td><td>1823</td><td>30</td><td>iso</td><td>NGC6207</td><td>0</td><td>16 43 04.0</td><td>+36 49 56.8</td><td>37.66</td><td>91</td><td>5.1</td><td>0.036</td><td>4.0</td><td>--</td><td>8.9</td><td>7.09</td><td>Simbad</td><td>J164303.79+364959.7</td><td>250.7658199</td><td>36.8332538</td><td>0.0379</td><td>0.0338</td><td>158.6</td><td>10.953</td><td>10.936</td><td>7.758</td><td>5.483</td><td>--</td><td>--</td><td>--</td><td>0.023</td><td>0.022</td><td>0.024</td><td>0.066</td><td>--</td><td>--</td><td>--</td><td>2499136301351044647</td><td>d0d0</td><td>5</td><td>3200</td><td>AAAA</td><td>113</td><td>31</td><td>484</td><td>32</td><td>--</td></tr>\n",
       "<tr><td>7.648264</td><td>250.766667</td><td>36.832444</td><td>1823</td><td>30</td><td>iso</td><td>NGC6207</td><td>0</td><td>16 43 04.0</td><td>+36 49 56.8</td><td>37.66</td><td>91</td><td>5.1</td><td>0.036</td><td>4.0</td><td>--</td><td>8.9</td><td>7.09</td><td>Simbad</td><td>J164303.76+365003.8</td><td>250.7656686</td><td>36.8344125</td><td>0.0212</td><td>0.0201</td><td>135.0</td><td>10.792</td><td>11.24</td><td>7.028</td><td>4.232</td><td>12.866</td><td>12.603</td><td>12.523</td><td>0.03</td><td>0.019</td><td>0.013</td><td>0.021</td><td>0.043</td><td>0.056</td><td>0.058</td><td>2499136301351044679</td><td>hd00</td><td>3</td><td>n9n3</td><td>AAAA</td><td>-929</td><td>25</td><td>-1205</td><td>26</td><td>0.458</td></tr>\n",
       "<tr><td>9.762527</td><td>250.769167</td><td>36.832833</td><td>1825</td><td>34</td><td>iso</td><td>NGC6207</td><td>0</td><td>16 43 04.6</td><td>+36 49 58.2</td><td>37.49</td><td>57</td><td>4.7</td><td>0.06</td><td>4.0</td><td>--</td><td>18.26</td><td>6.98</td><td>Simbad</td><td>J164303.79+364959.7</td><td>250.7658199</td><td>36.8332538</td><td>0.0379</td><td>0.0338</td><td>158.6</td><td>10.953</td><td>10.936</td><td>7.758</td><td>5.483</td><td>--</td><td>--</td><td>--</td><td>0.023</td><td>0.022</td><td>0.024</td><td>0.066</td><td>--</td><td>--</td><td>--</td><td>2499136301351044647</td><td>d0d0</td><td>5</td><td>3200</td><td>AAAA</td><td>113</td><td>31</td><td>484</td><td>32</td><td>--</td></tr>\n",
       "<tr><td>4.218263</td><td>250.775</td><td>36.840583</td><td>1830</td><td>41</td><td>iso</td><td>NGC6207</td><td>0</td><td>16 43 06.0</td><td>+36 50 26.1</td><td>37.26</td><td>33</td><td>4.2</td><td>0.1</td><td>4.0</td><td>--</td><td>255.83</td><td>6.75</td><td>Simbad</td><td>J164305.83+365029.8</td><td>250.7743217</td><td>36.8416214</td><td>0.0374</td><td>0.0369</td><td>67.0</td><td>12.87</td><td>12.918</td><td>8.29</td><td>5.588</td><td>--</td><td>--</td><td>--</td><td>0.073</td><td>0.025</td><td>0.022</td><td>0.037</td><td>--</td><td>--</td><td>--</td><td>2499136301351044678</td><td>0000</td><td>3</td><td>3000</td><td>AAAA</td><td>10</td><td>40</td><td>359</td><td>42</td><td>--</td></tr>\n",
       "<tr><td>...</td><td>...</td><td>...</td><td>...</td><td>...</td><td>...</td><td>...</td><td>...</td><td>...</td><td>...</td><td>...</td><td>...</td><td>...</td><td>...</td><td>...</td><td>...</td><td>...</td><td>...</td><td>...</td><td>...</td><td>...</td><td>...</td><td>...</td><td>...</td><td>...</td><td>...</td><td>...</td><td>...</td><td>...</td><td>...</td><td>...</td><td>...</td><td>...</td><td>...</td><td>...</td><td>...</td><td>...</td><td>...</td><td>...</td><td>...</td><td>...</td><td>...</td><td>...</td><td>...</td><td>...</td><td>...</td><td>...</td><td>...</td><td>...</td></tr>\n",
       "<tr><td>6.198088</td><td>262.36375</td><td>75.690333</td><td>1792</td><td>78</td><td>iso</td><td>NGC6412</td><td>0</td><td>17 29 27.3</td><td>+75 41 25.2</td><td>37.3</td><td>80</td><td>4.8</td><td>0.03</td><td>4.0</td><td>--</td><td>1.43</td><td>7.25</td><td>Simbad</td><td>J172925.67+754123.7</td><td>262.3569903</td><td>75.6899173</td><td>0.3268</td><td>0.1897</td><td>101.4</td><td>16.104</td><td>16.518</td><td>12.619</td><td>9.184</td><td>--</td><td>--</td><td>--</td><td>0.126</td><td>0.248</td><td>--</td><td>--</td><td>--</td><td>--</td><td>--</td><td>2613175701351029820</td><td>0000</td><td>2</td><td>3nnn</td><td>BBUU</td><td>-253</td><td>460</td><td>362</td><td>559</td><td>--</td></tr>\n",
       "<tr><td>2.619531</td><td>262.364167</td><td>75.690389</td><td>1794</td><td>80</td><td>iso</td><td>NGC6412</td><td>0</td><td>17 29 27.4</td><td>+75 41 25.4</td><td>36.9</td><td>60</td><td>4.4</td><td>0.03</td><td>4.0</td><td>--</td><td>3.33</td><td>7.12</td><td>Simbad</td><td>J172927.37+754122.7</td><td>262.3640507</td><td>75.6896619</td><td>0.0403</td><td>0.0374</td><td>77.5</td><td>12.05</td><td>12.097</td><td>12.917</td><td>9.369</td><td>12.52</td><td>12.177</td><td>12.107</td><td>0.023</td><td>0.021</td><td>--</td><td>--</td><td>0.022</td><td>0.019</td><td>0.025</td><td>2613175701351028212</td><td>0000</td><td>2</td><td>11nn</td><td>AAUU</td><td>-48</td><td>34</td><td>26</td><td>34</td><td>0.157</td></tr>\n",
       "<tr><td>6.607669</td><td>262.364167</td><td>75.690389</td><td>1794</td><td>80</td><td>iso</td><td>NGC6412</td><td>0</td><td>17 29 27.4</td><td>+75 41 25.4</td><td>36.9</td><td>60</td><td>4.4</td><td>0.03</td><td>4.0</td><td>--</td><td>3.33</td><td>7.12</td><td>Simbad</td><td>J172925.67+754123.7</td><td>262.3569903</td><td>75.6899173</td><td>0.3268</td><td>0.1897</td><td>101.4</td><td>16.104</td><td>16.518</td><td>12.619</td><td>9.184</td><td>--</td><td>--</td><td>--</td><td>0.126</td><td>0.248</td><td>--</td><td>--</td><td>--</td><td>--</td><td>--</td><td>2613175701351029820</td><td>0000</td><td>2</td><td>3nnn</td><td>BBUU</td><td>-253</td><td>460</td><td>362</td><td>559</td><td>--</td></tr>\n",
       "<tr><td>5.639364</td><td>250.76375</td><td>36.834722</td><td>1795</td><td>1</td><td>iso</td><td>NGC6207</td><td>0</td><td>16 43 03.3</td><td>+36 50 05.0</td><td>39.51</td><td>154</td><td>6.33</td><td>0.14</td><td>18.0</td><td>27.0</td><td>68.4</td><td>6.8</td><td>Simbad</td><td>J164303.76+365003.8</td><td>250.7656686</td><td>36.8344125</td><td>0.0212</td><td>0.0201</td><td>135.0</td><td>10.792</td><td>11.24</td><td>7.028</td><td>4.232</td><td>12.866</td><td>12.603</td><td>12.523</td><td>0.03</td><td>0.019</td><td>0.013</td><td>0.021</td><td>0.043</td><td>0.056</td><td>0.058</td><td>2499136301351044679</td><td>hd00</td><td>3</td><td>n9n3</td><td>AAAA</td><td>-929</td><td>25</td><td>-1205</td><td>26</td><td>0.458</td></tr>\n",
       "<tr><td>7.969164</td><td>250.76375</td><td>36.834722</td><td>1795</td><td>1</td><td>iso</td><td>NGC6207</td><td>0</td><td>16 43 03.3</td><td>+36 50 05.0</td><td>39.51</td><td>154</td><td>6.33</td><td>0.14</td><td>18.0</td><td>27.0</td><td>68.4</td><td>6.8</td><td>Simbad</td><td>J164303.79+364959.7</td><td>250.7658199</td><td>36.8332538</td><td>0.0379</td><td>0.0338</td><td>158.6</td><td>10.953</td><td>10.936</td><td>7.758</td><td>5.483</td><td>--</td><td>--</td><td>--</td><td>0.023</td><td>0.022</td><td>0.024</td><td>0.066</td><td>--</td><td>--</td><td>--</td><td>2499136301351044647</td><td>d0d0</td><td>5</td><td>3200</td><td>AAAA</td><td>113</td><td>31</td><td>484</td><td>32</td><td>--</td></tr>\n",
       "<tr><td>7.499991</td><td>250.764583</td><td>36.836306</td><td>1796</td><td>2</td><td>iso</td><td>NGC6207</td><td>0</td><td>16 43 03.5</td><td>+36 50 10.7</td><td>39.36</td><td>131</td><td>6.15</td><td>0.148</td><td>13.9</td><td>21.0</td><td>138.94</td><td>6.78</td><td>Simbad</td><td>J164303.76+365003.8</td><td>250.7656686</td><td>36.8344125</td><td>0.0212</td><td>0.0201</td><td>135.0</td><td>10.792</td><td>11.24</td><td>7.028</td><td>4.232</td><td>12.866</td><td>12.603</td><td>12.523</td><td>0.03</td><td>0.019</td><td>0.013</td><td>0.021</td><td>0.043</td><td>0.056</td><td>0.058</td><td>2499136301351044679</td><td>hd00</td><td>3</td><td>n9n3</td><td>AAAA</td><td>-929</td><td>25</td><td>-1205</td><td>26</td><td>0.458</td></tr>\n",
       "<tr><td>3.3028</td><td>250.775</td><td>36.842361</td><td>1797</td><td>3</td><td>iso</td><td>NGC6207</td><td>0</td><td>16 43 06.0</td><td>+36 50 32.5</td><td>38.88</td><td>138</td><td>5.94</td><td>0.079</td><td>6.0</td><td>7.0</td><td>264.23</td><td>6.75</td><td>Simbad</td><td>J164305.83+365029.8</td><td>250.7743217</td><td>36.8416214</td><td>0.0374</td><td>0.0369</td><td>67.0</td><td>12.87</td><td>12.918</td><td>8.29</td><td>5.588</td><td>--</td><td>--</td><td>--</td><td>0.073</td><td>0.025</td><td>0.022</td><td>0.037</td><td>--</td><td>--</td><td>--</td><td>2499136301351044678</td><td>0000</td><td>3</td><td>3000</td><td>AAAA</td><td>10</td><td>40</td><td>359</td><td>42</td><td>--</td></tr>\n",
       "<tr><td>2.552215</td><td>250.774583</td><td>36.840944</td><td>1806</td><td>12</td><td>iso</td><td>NGC6207</td><td>0</td><td>16 43 05.9</td><td>+36 50 27.4</td><td>38.26</td><td>72</td><td>5.2</td><td>0.1</td><td>4.0</td><td>--</td><td>264.14</td><td>6.75</td><td>Simbad</td><td>J164305.83+365029.8</td><td>250.7743217</td><td>36.8416214</td><td>0.0374</td><td>0.0369</td><td>67.0</td><td>12.87</td><td>12.918</td><td>8.29</td><td>5.588</td><td>--</td><td>--</td><td>--</td><td>0.073</td><td>0.025</td><td>0.022</td><td>0.037</td><td>--</td><td>--</td><td>--</td><td>2499136301351044678</td><td>0000</td><td>3</td><td>3000</td><td>AAAA</td><td>10</td><td>40</td><td>359</td><td>42</td><td>--</td></tr>\n",
       "<tr><td>7.317245</td><td>250.764583</td><td>36.83625</td><td>1817</td><td>24</td><td>iso</td><td>NGC6207</td><td>0</td><td>16 43 03.5</td><td>+36 50 10.5</td><td>37.73</td><td>72</td><td>4.9</td><td>0.056</td><td>4.0</td><td>--</td><td>200.19</td><td>6.76</td><td>Simbad</td><td>J164303.76+365003.8</td><td>250.7656686</td><td>36.8344125</td><td>0.0212</td><td>0.0201</td><td>135.0</td><td>10.792</td><td>11.24</td><td>7.028</td><td>4.232</td><td>12.866</td><td>12.603</td><td>12.523</td><td>0.03</td><td>0.019</td><td>0.013</td><td>0.021</td><td>0.043</td><td>0.056</td><td>0.058</td><td>2499136301351044679</td><td>hd00</td><td>3</td><td>n9n3</td><td>AAAA</td><td>-929</td><td>25</td><td>-1205</td><td>26</td><td>0.458</td></tr>\n",
       "</table></div>"
      ],
      "text/plain": [
       "<Table length=1314>\n",
       "angDist   _RAJ2000   _DEJ2000 recno  Seq  ...  pmRA e_pmRA  pmDE e_pmDE   d2M  \n",
       " arcsec     deg        deg                ...                                  \n",
       "float64   float64    float64  int32 int16 ... int32 int32  int32 int32  float32\n",
       "-------- ---------- --------- ----- ----- ... ----- ------ ----- ------ -------\n",
       "9.439952    250.775 36.839056  1820    27 ...    10     40   359     42      --\n",
       "6.754932 250.767917 36.834944  1821    28 ...  -929     25 -1205     26   0.458\n",
       "8.575258 250.767917 36.834944  1821    28 ...   113     31   484     32      --\n",
       " 5.99581  250.76375 36.833083  1822    29 ...   113     31   484     32      --\n",
       "7.312318  250.76375 36.833083  1822    29 ...  -929     25 -1205     26   0.458\n",
       "3.802161 250.766667 36.832444  1823    30 ...   113     31   484     32      --\n",
       "7.648264 250.766667 36.832444  1823    30 ...  -929     25 -1205     26   0.458\n",
       "9.762527 250.769167 36.832833  1825    34 ...   113     31   484     32      --\n",
       "4.218263    250.775 36.840583  1830    41 ...    10     40   359     42      --\n",
       "     ...        ...       ...   ...   ... ...   ...    ...   ...    ...     ...\n",
       "6.198088  262.36375 75.690333  1792    78 ...  -253    460   362    559      --\n",
       "2.619531 262.364167 75.690389  1794    80 ...   -48     34    26     34   0.157\n",
       "6.607669 262.364167 75.690389  1794    80 ...  -253    460   362    559      --\n",
       "5.639364  250.76375 36.834722  1795     1 ...  -929     25 -1205     26   0.458\n",
       "7.969164  250.76375 36.834722  1795     1 ...   113     31   484     32      --\n",
       "7.499991 250.764583 36.836306  1796     2 ...  -929     25 -1205     26   0.458\n",
       "  3.3028    250.775 36.842361  1797     3 ...    10     40   359     42      --\n",
       "2.552215 250.774583 36.840944  1806    12 ...    10     40   359     42      --\n",
       "7.317245 250.764583  36.83625  1817    24 ...  -929     25 -1205     26   0.458"
      ]
     },
     "execution_count": 18,
     "metadata": {},
     "output_type": "execute_result"
    }
   ],
   "source": [
    "xmatch_zbf_wise = XMatch.query(\n",
    "    cat1=\"vizier:J/MNRAS/451/1307/HIIreg\",\n",
    "    cat2=\"vizier:II/328/allwise\",\n",
    "    max_distance=10 * u.arcsec,\n",
    "    colRA1=\"RAJ2000\",\n",
    "    colDec1=\"DEJ2000\",\n",
    "    colRA2=\"RAJ2000\",\n",
    "    colDec2=\"DEJ2000\",\n",
    ")\n",
    "xmatch_zbf_wise"
   ]
  },
  {
   "cell_type": "markdown",
   "id": "f8ce7eeb",
   "metadata": {},
   "source": [
    "<h4 align=\"center\">This is the end of the tutorial.</h4> \n",
    "\n",
    "<h4 align=\"center\">Try to apply what you have learned here to your data sets and science cases! </h4>"
   ]
  }
 ],
 "metadata": {
  "kernelspec": {
   "display_name": "cds-tutos-dev",
   "language": "python",
   "name": "python3"
  },
  "language_info": {
   "codemirror_mode": {
    "name": "ipython",
    "version": 3
   },
   "file_extension": ".py",
   "mimetype": "text/x-python",
   "name": "python",
   "nbconvert_exporter": "python",
   "pygments_lexer": "ipython3",
   "version": "3.12.7"
  },
  "widgets": {
   "application/vnd.jupyter.widget-state+json": {
    "state": {
     "2b66bae31c0547cb8a34d7dad1fa774e": {
      "model_module": "ipyaladin",
      "model_module_version": "^0.2.5",
      "model_name": "AladinModel",
      "state": {
       "_model_module_version": "^0.2.5",
       "_view_module_version": "^0.2.5",
       "allow_full_zoomout": false,
       "color_map_flag": true,
       "color_map_name": "",
       "coo_frame": "J2000",
       "fov": 0.5,
       "full_screen": false,
       "height": 600,
       "layout": "IPY_MODEL_e8e6fdc1920b48a5a4776d728114ce22",
       "listener_flag": true,
       "listener_type": "",
       "log": true,
       "moc_URL": "",
       "moc_dict": {},
       "moc_from_URL_flag": true,
       "moc_from_dict_flag": true,
       "moc_options": {},
       "options": [
        "allow_full_zoomout",
        "coo_frame",
        "fov",
        "full_screen",
        "log",
        "overlay_survey",
        "overlay_survey_opacity",
        "reticle_color",
        "reticle_size",
        "show_catalog",
        "show_context_menu",
        "show_coo_grid",
        "show_frame",
        "show_fullscreen_control",
        "show_goto_control",
        "show_layers_control",
        "show_reticle",
        "show_share_control",
        "show_simbad_pointer_control",
        "show_zoom_control",
        "survey",
        "target"
       ],
       "overlay_from_stcs_flag": true,
       "overlay_options": {},
       "overlay_survey": "",
       "overlay_survey_opacity": 0,
       "rectangular_selection_flag": true,
       "reticle_color": "rgb(178, 50, 178)",
       "reticle_size": 22,
       "show_catalog": true,
       "show_context_menu": true,
       "show_coo_grid": false,
       "show_frame": true,
       "show_fullscreen_control": false,
       "show_goto_control": true,
       "show_layers_control": true,
       "show_reticle": true,
       "show_share_control": false,
       "show_simbad_pointer_control": true,
       "show_zoom_control": true,
       "stc_string": "",
       "survey": "P/allWISE/color",
       "table_columns": [
        [
         "NGC2146",
         "06 18 39.4",
         "+78 21 18.2"
        ],
        [
         "Arp244",
         "12 01 54.6",
         "-18 53 03.1"
        ],
        [
         "NGC520",
         "01 24 33.3",
         "+03 48 04.6"
        ],
        [
         "UGC3995",
         "07 44 09.2",
         "+29 14 51.3"
        ],
        [
         "NGC3788",
         "11 39 41.4",
         "+31 54 23.3"
        ],
        [
         "NGC3786",
         "11 39 45.1",
         "+31 55 46.3"
        ],
        [
         "NGC2782",
         "09 14 05.3",
         "+40 06 50.4"
        ],
        [
         "NGC2993",
         "09 45 48.3",
         "-14 22 05.9"
        ],
        [
         "NGC2992",
         "09 45 41.9",
         "-14 19 33.4"
        ],
        [
         "NGC3991",
         "11 57 31.7",
         "+32 20 29.6"
        ],
        [
         "Arp270",
         "10 49 55.8",
         "+32 59 28.0"
        ],
        [
         "NGC3769",
         "11 37 43.7",
         "+47 53 24.4"
        ]
       ],
       "table_flag": false,
       "table_keys": [
        "Name",
        "RAJ2000",
        "DEJ2000"
       ],
       "target": "M101",
       "thumbnail_flag": true,
       "votable_URL": "",
       "votable_from_URL_flag": true,
       "votable_options": {}
      }
     },
     "e8e6fdc1920b48a5a4776d728114ce22": {
      "model_module": "@jupyter-widgets/base",
      "model_module_version": "2.0.0",
      "model_name": "LayoutModel",
      "state": {}
     }
    },
    "version_major": 2,
    "version_minor": 0
   }
  }
 },
 "nbformat": 4,
 "nbformat_minor": 5
}
